{
 "cells": [
  {
   "cell_type": "code",
   "execution_count": 6,
   "metadata": {},
   "outputs": [],
   "source": [
    "using JSON\n",
    "using Plots\n",
    "using ProgressBars\n",
    "\n",
    "using LogisticBootstrapStateEvolution"
   ]
  },
  {
   "cell_type": "code",
   "execution_count": 7,
   "metadata": {},
   "outputs": [
    {
     "data": {
      "text/plain": [
       "50"
      ]
     },
     "metadata": {},
     "output_type": "display_data"
    }
   ],
   "source": [
    "alpha_range   = 0.5:0.25:10.0\n",
    "lambda        = 1e-1\n",
    "max_iteration = 50"
   ]
  },
  {
   "cell_type": "code",
   "execution_count": 6,
   "metadata": {},
   "outputs": [
    {
     "name": "stdout",
     "output_type": "stream",
     "text": [
      "alpha = 0.5, lambda = 0.1\n"
     ]
    },
    {
     "name": "stdout",
     "output_type": "stream",
     "text": [
      "Converged in 3 iterations, last relative difference is 0.00026877291964756976\n"
     ]
    },
    {
     "name": "stdout",
     "output_type": "stream",
     "text": [
      "alpha = 0.75, lambda = 0.1\n"
     ]
    },
    {
     "name": "stdout",
     "output_type": "stream",
     "text": [
      "Converged in 3 iterations, last relative difference is 0.0007152226164495313\n",
      "alpha = 1.0, lambda = 0.1\n"
     ]
    },
    {
     "name": "stdout",
     "output_type": "stream",
     "text": [
      "Converged in 4 iterations, last relative difference is 0.0001429088890346727\n",
      "alpha = 1.25, lambda = 0.1\n"
     ]
    },
    {
     "name": "stdout",
     "output_type": "stream",
     "text": [
      "Converged in 4 iterations, last relative difference is 0.00024771527536637653\n",
      "alpha = 1.5, lambda = 0.1\n"
     ]
    },
    {
     "name": "stdout",
     "output_type": "stream",
     "text": [
      "Converged in 4 iterations, last relative difference is 0.0003626508175528589\n",
      "alpha = 1.75, lambda = 0.1\n"
     ]
    },
    {
     "name": "stdout",
     "output_type": "stream",
     "text": [
      "Converged in 4 iterations, last relative difference is 0.0004788317818096158\n",
      "alpha = 2.0, lambda = 0.1\n"
     ]
    },
    {
     "name": "stdout",
     "output_type": "stream",
     "text": [
      "Converged in 4 iterations, last relative difference is 0.0005768689800949181\n",
      "alpha = 2.25, lambda = 0.1\n"
     ]
    },
    {
     "name": "stdout",
     "output_type": "stream",
     "text": [
      "Converged in 7 iterations, last relative difference is 0.0004346947688573516\n",
      "alpha = 2.5, lambda = 0.1\n"
     ]
    },
    {
     "name": "stdout",
     "output_type": "stream",
     "text": [
      "Warning: state evolution did not converge after 50 iterations\n",
      "alpha = 2.75, lambda = 0.1\n"
     ]
    },
    {
     "name": "stdout",
     "output_type": "stream",
     "text": [
      "Converged in 4 iterations, last relative difference is 0.0008335705446950536\n",
      "alpha = 3.0, lambda = 0.1\n"
     ]
    },
    {
     "name": "stdout",
     "output_type": "stream",
     "text": [
      "Converged in 4 iterations, last relative difference is 0.000711869813961748\n",
      "alpha = 3.25, lambda = 0.1\n"
     ]
    },
    {
     "name": "stdout",
     "output_type": "stream",
     "text": [
      "Converged in 5 iterations, last relative difference is 0.0005031140652470396\n",
      "alpha = 3.5, lambda = 0.1\n"
     ]
    },
    {
     "name": "stdout",
     "output_type": "stream",
     "text": [
      "Converged in 4 iterations, last relative difference is 0.0007014444472884858\n",
      "alpha = 3.75, lambda = 0.1\n"
     ]
    },
    {
     "name": "stdout",
     "output_type": "stream",
     "text": [
      "Warning: state evolution did not converge after 50 iterations\n",
      "alpha = 4.0, lambda = 0.1\n"
     ]
    },
    {
     "name": "stdout",
     "output_type": "stream",
     "text": [
      "Converged in 4 iterations, last relative difference is 0.0005811496965006694\n",
      "alpha = 4.25, lambda = 0.1\n"
     ]
    },
    {
     "name": "stdout",
     "output_type": "stream",
     "text": [
      "Converged in 4 iterations, last relative difference is 0.0005506130126012806\n",
      "alpha = 4.5, lambda = 0.1\n"
     ]
    },
    {
     "name": "stdout",
     "output_type": "stream",
     "text": [
      "Converged in 4 iterations, last relative difference is 0.0005060267394736576\n",
      "alpha = 4.75, lambda = 0.1\n"
     ]
    },
    {
     "name": "stdout",
     "output_type": "stream",
     "text": [
      "Converged in 4 iterations, last relative difference is 0.00046270369960698223\n",
      "alpha = 5.0, lambda = 0.1\n"
     ]
    },
    {
     "name": "stdout",
     "output_type": "stream",
     "text": [
      "Converged in 4 iterations, last relative difference is 0.0004230501354441177\n",
      "alpha = 5.25, lambda = 0.1\n"
     ]
    },
    {
     "name": "stdout",
     "output_type": "stream",
     "text": [
      "Converged in 4 iterations, last relative difference is 0.00038044390687789944\n",
      "alpha = 5.5, lambda = 0.1\n"
     ]
    },
    {
     "name": "stdout",
     "output_type": "stream",
     "text": [
      "Converged in 4 iterations, last relative difference is 0.00034421476525129947\n",
      "alpha = 5.75, lambda = 0.1\n"
     ]
    },
    {
     "name": "stdout",
     "output_type": "stream",
     "text": [
      "Converged in 3 iterations, last relative difference is 4.321386668927617e-5\n",
      "alpha = 6.0, lambda = 0.1\n"
     ]
    },
    {
     "name": "stdout",
     "output_type": "stream",
     "text": [
      "Converged in 4 iterations, last relative difference is 0.00028345834071283327\n",
      "alpha = 6.25, lambda = 0.1\n"
     ]
    },
    {
     "name": "stdout",
     "output_type": "stream",
     "text": [
      "Converged in 4 iterations, last relative difference is 0.0001408181755446675\n",
      "alpha = 6.5, lambda = 0.1\n"
     ]
    },
    {
     "name": "stdout",
     "output_type": "stream",
     "text": [
      "Converged in 4 iterations, last relative difference is 0.00023333631975135203\n",
      "alpha = 6.75, lambda = 0.1\n"
     ]
    },
    {
     "name": "stdout",
     "output_type": "stream",
     "text": [
      "Converged in 4 iterations, last relative difference is 0.00021050802004382935\n",
      "alpha = 7.0, lambda = 0.1\n"
     ]
    },
    {
     "name": "stdout",
     "output_type": "stream",
     "text": [
      "Converged in 4 iterations, last relative difference is 0.00019096551720143215\n",
      "alpha = 7.25, lambda = 0.1\n"
     ]
    },
    {
     "name": "stdout",
     "output_type": "stream",
     "text": [
      "Converged in 4 iterations, last relative difference is 0.0001735260726057079\n",
      "alpha = 7.5, lambda = 0.1\n"
     ]
    },
    {
     "name": "stdout",
     "output_type": "stream",
     "text": [
      "Converged in 4 iterations, last relative difference is 0.0001577632046799597\n",
      "alpha = 7.75, lambda = 0.1\n"
     ]
    },
    {
     "name": "stdout",
     "output_type": "stream",
     "text": [
      "Converged in 4 iterations, last relative difference is 0.0001436167613301935\n",
      "alpha = 8.0, lambda = 0.1\n"
     ]
    },
    {
     "name": "stdout",
     "output_type": "stream",
     "text": [
      "Converged in 4 iterations, last relative difference is 0.00013090649481569888\n",
      "alpha = 8.25, lambda = 0.1\n"
     ]
    },
    {
     "name": "stdout",
     "output_type": "stream",
     "text": [
      "Converged in 4 iterations, last relative difference is 0.00011970016965694306\n",
      "alpha = 8.5, lambda = 0.1\n"
     ]
    },
    {
     "name": "stdout",
     "output_type": "stream",
     "text": [
      "Converged in 4 iterations, last relative difference is 0.00010977965892924759\n",
      "alpha = 8.75, lambda = 0.1\n"
     ]
    },
    {
     "name": "stdout",
     "output_type": "stream",
     "text": [
      "Converged in 3 iterations, last relative difference is 0.0009618348866319585\n",
      "alpha = 9.0, lambda = 0.1\n"
     ]
    },
    {
     "name": "stdout",
     "output_type": "stream",
     "text": [
      "Converged in 3 iterations, last relative difference is 0.0009013484626743644\n",
      "alpha = 9.25, lambda = 0.1\n"
     ]
    },
    {
     "name": "stdout",
     "output_type": "stream",
     "text": [
      "Converged in 3 iterations, last relative difference is 0.0008485476589846203\n",
      "alpha = 9.5, lambda = 0.1\n"
     ]
    },
    {
     "name": "stdout",
     "output_type": "stream",
     "text": [
      "Converged in 3 iterations, last relative difference is 0.0007941884936186912\n",
      "alpha = 9.75, lambda = 0.1\n"
     ]
    },
    {
     "name": "stdout",
     "output_type": "stream",
     "text": [
      "Converged in 3 iterations, last relative difference is 0.0007463832180008088\n",
      "alpha = 10.0, lambda = 0.1\n"
     ]
    },
    {
     "name": "stdout",
     "output_type": "stream",
     "text": [
      "Converged in 3 iterations, last relative difference is 0.0007022459083900459\n"
     ]
    }
   ],
   "source": [
    "bootstrap_bootstrap_overlaps    = []\n",
    "\n",
    "m_prev, q_prev, v_prev = nothing, nothing, nothing\n",
    "\n",
    "for alpha in alpha_range\n",
    "    println(\"alpha = $alpha, lambda = $lambda\")\n",
    "    result = LogisticBootstrapStateEvolution.state_evolution_bootstrap_bootstrap(alpha, lambda; max_weight=8, reltol=1e-3,\n",
    "                    bootstrap_minit=m_prev, bootstrap_qinit=q_prev, bootstrap_vinit=v_prev, max_iteration=max_iteration, verbose = true)\n",
    "    m_prev, q_prev, v_prev = result[\"m\"][1], result[\"q\"][1, 1], result[\"v\"][1]\n",
    "    # add the dictionnary result to the list \"overlaps\"\n",
    "    push!(bootstrap_bootstrap_overlaps, result)\n",
    "end"
   ]
  },
  {
   "cell_type": "code",
   "execution_count": 7,
   "metadata": {},
   "outputs": [
    {
     "data": {
      "text/plain": [
       "6168"
      ]
     },
     "metadata": {},
     "output_type": "display_data"
    }
   ],
   "source": [
    "# save the overlaps into a file\n",
    "filename::String = \"../data/logistic/bootstrap_bootstrap_overlaps_lambda=$lambda.json\"\n",
    "\n",
    "dict_to_save::Dict = Dict(\"alpha\" => alpha_range,\n",
    "                          \"m\"   => [o[\"m\"][1] for o in bootstrap_bootstrap_overlaps],\n",
    "                          \"q_diag\"   => [o[\"q\"][1, 1] for o in bootstrap_bootstrap_overlaps],\n",
    "                          \"q_off_diag\"   => [o[\"q\"][1, 2] for o in bootstrap_bootstrap_overlaps],\n",
    "                          \"v\"   => [o[\"v\"][1] for o in bootstrap_bootstrap_overlaps],\n",
    "                          \"mhat\"=> [o[\"mhat\"][1] for o in bootstrap_bootstrap_overlaps],\n",
    "                          \"qhat_diag\"=> [o[\"qhat\"][1, 1] for o in bootstrap_bootstrap_overlaps],\n",
    "                          \"qhat_off_diag\"=> [o[\"qhat\"][1, 2] for o in bootstrap_bootstrap_overlaps],\n",
    "                          \"vhat\"=> [o[\"vhat\"][1] for o in bootstrap_bootstrap_overlaps],\n",
    "                          )\n",
    "\n",
    "open(filename, \"w\") do f\n",
    "    write(f, JSON.json(dict_to_save))\n",
    "end"
   ]
  },
  {
   "cell_type": "markdown",
   "metadata": {},
   "source": [
    "--- \n",
    "\n",
    "Compute the correlation between Bootstrap and ERM on full data"
   ]
  },
  {
   "cell_type": "code",
   "execution_count": 3,
   "metadata": {},
   "outputs": [
    {
     "name": "stdout",
     "output_type": "stream",
     "text": [
      "alpha = 0.5, lambda = 0.1\n"
     ]
    },
    {
     "name": "stdout",
     "output_type": "stream",
     "text": [
      "alpha = 0.75, lambda = 0.1\n"
     ]
    },
    {
     "name": "stdout",
     "output_type": "stream",
     "text": [
      "alpha = 1.0, lambda = 0.1\n"
     ]
    },
    {
     "name": "stdout",
     "output_type": "stream",
     "text": [
      "alpha = 1.25, lambda = 0.1\n"
     ]
    },
    {
     "name": "stdout",
     "output_type": "stream",
     "text": [
      "alpha = 1.5, lambda = 0.1\n"
     ]
    },
    {
     "name": "stdout",
     "output_type": "stream",
     "text": [
      "alpha = 1.75, lambda = 0.1\n"
     ]
    },
    {
     "name": "stdout",
     "output_type": "stream",
     "text": [
      "alpha = 2.0, lambda = 0.1\n"
     ]
    },
    {
     "name": "stdout",
     "output_type": "stream",
     "text": [
      "alpha = 2.25, lambda = 0.1\n"
     ]
    },
    {
     "name": "stdout",
     "output_type": "stream",
     "text": [
      "alpha = 2.5, lambda = 0.1\n"
     ]
    },
    {
     "name": "stdout",
     "output_type": "stream",
     "text": [
      "alpha = 2.75, lambda = 0.1\n"
     ]
    },
    {
     "name": "stdout",
     "output_type": "stream",
     "text": [
      "alpha = 3.0, lambda = 0.1\n"
     ]
    },
    {
     "name": "stdout",
     "output_type": "stream",
     "text": [
      "alpha = 3.25, lambda = 0.1\n"
     ]
    },
    {
     "name": "stdout",
     "output_type": "stream",
     "text": [
      "alpha = 3.5, lambda = 0.1\n"
     ]
    },
    {
     "name": "stdout",
     "output_type": "stream",
     "text": [
      "alpha = 3.75, lambda = 0.1\n"
     ]
    },
    {
     "name": "stdout",
     "output_type": "stream",
     "text": [
      "alpha = 4.0, lambda = 0.1\n"
     ]
    },
    {
     "name": "stdout",
     "output_type": "stream",
     "text": [
      "alpha = 4.25, lambda = 0.1\n"
     ]
    },
    {
     "name": "stdout",
     "output_type": "stream",
     "text": [
      "alpha = 4.5, lambda = 0.1\n"
     ]
    },
    {
     "name": "stdout",
     "output_type": "stream",
     "text": [
      "Warning: state evolution did not converge after 100 iterations\n",
      "alpha = 4.75, lambda = 0.1\n"
     ]
    },
    {
     "name": "stdout",
     "output_type": "stream",
     "text": [
      "alpha = 5.0, lambda = 0.1\n"
     ]
    },
    {
     "name": "stdout",
     "output_type": "stream",
     "text": [
      "alpha = 5.25, lambda = 0.1\n"
     ]
    },
    {
     "name": "stdout",
     "output_type": "stream",
     "text": [
      "alpha = 5.5, lambda = 0.1\n"
     ]
    },
    {
     "name": "stdout",
     "output_type": "stream",
     "text": [
      "alpha = 5.75, lambda = 0.1\n"
     ]
    },
    {
     "name": "stdout",
     "output_type": "stream",
     "text": [
      "alpha = 6.0, lambda = 0.1\n"
     ]
    },
    {
     "name": "stdout",
     "output_type": "stream",
     "text": [
      "alpha = 6.25, lambda = 0.1\n"
     ]
    },
    {
     "name": "stdout",
     "output_type": "stream",
     "text": [
      "alpha = 6.5, lambda = 0.1\n"
     ]
    },
    {
     "name": "stdout",
     "output_type": "stream",
     "text": [
      "alpha = 6.75, lambda = 0.1\n"
     ]
    },
    {
     "name": "stdout",
     "output_type": "stream",
     "text": [
      "alpha = 7.0, lambda = 0.1\n"
     ]
    },
    {
     "name": "stdout",
     "output_type": "stream",
     "text": [
      "alpha = 7.25, lambda = 0.1\n"
     ]
    },
    {
     "name": "stdout",
     "output_type": "stream",
     "text": [
      "alpha = 7.5, lambda = 0.1\n"
     ]
    },
    {
     "name": "stdout",
     "output_type": "stream",
     "text": [
      "alpha = 7.75, lambda = 0.1\n"
     ]
    },
    {
     "name": "stdout",
     "output_type": "stream",
     "text": [
      "alpha = 8.0, lambda = 0.1\n"
     ]
    },
    {
     "name": "stdout",
     "output_type": "stream",
     "text": [
      "alpha = 8.25, lambda = 0.1\n"
     ]
    },
    {
     "name": "stdout",
     "output_type": "stream",
     "text": [
      "alpha = 8.5, lambda = 0.1\n"
     ]
    },
    {
     "name": "stdout",
     "output_type": "stream",
     "text": [
      "alpha = 8.75, lambda = 0.1\n"
     ]
    },
    {
     "name": "stdout",
     "output_type": "stream",
     "text": [
      "alpha = 9.0, lambda = 0.1\n"
     ]
    },
    {
     "name": "stdout",
     "output_type": "stream",
     "text": [
      "alpha = 9.25, lambda = 0.1\n"
     ]
    },
    {
     "name": "stdout",
     "output_type": "stream",
     "text": [
      "alpha = 9.5, lambda = 0.1\n"
     ]
    },
    {
     "name": "stdout",
     "output_type": "stream",
     "text": [
      "alpha = 9.75, lambda = 0.1\n"
     ]
    },
    {
     "name": "stdout",
     "output_type": "stream",
     "text": [
      "alpha = 10.0, lambda = 0.1\n"
     ]
    }
   ],
   "source": [
    "bootstrap_full_overlaps    = []\n",
    "\n",
    "m_prev, q_prev, v_prev = nothing, nothing, nothing\n",
    "\n",
    "for alpha in alpha_range\n",
    "    println(\"alpha = $alpha, lambda = $lambda\")\n",
    "    result = LogisticBootstrapStateEvolution.state_evolution_bootstrap_full(alpha, lambda; max_weight=10, reltol=1e-10,\n",
    "                    bootstrap_minit=m_prev, bootstrap_qinit=q_prev, bootstrap_vinit=v_prev)\n",
    "    # m_prev = result[\"m\"][1]\n",
    "    # q_prev = result[\"q\"][1]\n",
    "    # v_prev = result[\"v\"][1]\n",
    "    # add the dictionnary result to the list \"overlaps\"\n",
    "    push!(bootstrap_full_overlaps, result)\n",
    "end"
   ]
  },
  {
   "cell_type": "code",
   "execution_count": 4,
   "metadata": {},
   "outputs": [
    {
     "data": {
      "text/plain": [
       "6153"
      ]
     },
     "metadata": {},
     "output_type": "display_data"
    }
   ],
   "source": [
    "# save the overlaps into a file\n",
    "filename::String = \"../data/logistic/bootstrap_full_overlaps_lambda=$lambda.json\"\n",
    "\n",
    "dict_to_save::Dict = Dict(\"alpha\" => alpha_range,\n",
    "                          \"m\"   => [o[\"m\"][1] for o in bootstrap_full_overlaps],\n",
    "                          \"q_diag\"   => [o[\"q\"][1, 1] for o in bootstrap_full_overlaps],\n",
    "                          \"q_off_diag\"   => [o[\"q\"][1, 2] for o in bootstrap_full_overlaps],\n",
    "                          \"v\"   => [o[\"v\"][1] for o in bootstrap_full_overlaps],\n",
    "                          \"mhat\"=> [o[\"mhat\"][1] for o in bootstrap_full_overlaps],\n",
    "                          \"qhat_diag\"=> [o[\"qhat\"][1, 1] for o in bootstrap_full_overlaps],\n",
    "                          \"qhat_off_diag\"=> [o[\"qhat\"][1, 2] for o in bootstrap_full_overlaps],\n",
    "                          \"vhat\"=> [o[\"vhat\"][1] for o in bootstrap_full_overlaps],\n",
    "                          )\n",
    "\n",
    "open(filename, \"w\") do f\n",
    "    write(f, JSON.json(dict_to_save))\n",
    "end"
   ]
  },
  {
   "cell_type": "markdown",
   "metadata": {},
   "source": [
    "--- \n",
    "\n",
    "Compute the correlation between two resample of the full dataset"
   ]
  },
  {
   "cell_type": "code",
   "execution_count": 9,
   "metadata": {},
   "outputs": [
    {
     "name": "stdout",
     "output_type": "stream",
     "text": [
      "alpha = 0.5, lambda = 0.1\n"
     ]
    },
    {
     "name": "stdout",
     "output_type": "stream",
     "text": [
      "Converged in 1 iterations, last relative difference is 0.0\n",
      "alpha = 0.75, lambda = 0.1\n",
      "Converged in 1 iterations, last relative difference is 0.0\n",
      "alpha = 1.0, lambda = 0.1\n",
      "Converged in 1 iterations, last relative difference is 0.0\n",
      "alpha = 1.25, lambda = 0.1\n"
     ]
    },
    {
     "name": "stdout",
     "output_type": "stream",
     "text": [
      "Converged in 1 iterations, last relative difference is 0.0\n",
      "alpha = 1.5, lambda = 0.1\n",
      "Converged in 1 iterations, last relative difference is 0.0\n",
      "alpha = 1.75, lambda = 0.1\n"
     ]
    },
    {
     "name": "stdout",
     "output_type": "stream",
     "text": [
      "Converged in 1 iterations, last relative difference is 0.0\n",
      "alpha = 2.0, lambda = 0.1\n",
      "Converged in 1 iterations, last relative difference is 0.0\n",
      "alpha = 2.25, lambda = 0.1\n"
     ]
    },
    {
     "name": "stdout",
     "output_type": "stream",
     "text": [
      "Converged in 1 iterations, last relative difference is 0.0\n",
      "alpha = 2.5, lambda = 0.1\n",
      "Converged in 1 iterations, last relative difference is 0.0\n",
      "alpha = 2.75, lambda = 0.1\n"
     ]
    },
    {
     "name": "stdout",
     "output_type": "stream",
     "text": [
      "Converged in 1 iterations, last relative difference is 0.0\n",
      "alpha = 3.0, lambda = 0.1\n",
      "Converged in 1 iterations, last relative difference is 0.0\n",
      "alpha = 3.25, lambda = 0.1\n"
     ]
    },
    {
     "name": "stdout",
     "output_type": "stream",
     "text": [
      "Converged in 1 iterations, last relative difference is 0.0\n",
      "alpha = 3.5, lambda = 0.1\n",
      "Converged in 1 iterations, last relative difference is 0.0\n",
      "alpha = 3.75, lambda = 0.1\n"
     ]
    },
    {
     "name": "stdout",
     "output_type": "stream",
     "text": [
      "Converged in 1 iterations, last relative difference is 0.0\n",
      "alpha = 4.0, lambda = 0.1\n",
      "Converged in 1 iterations, last relative difference is 0.0\n",
      "alpha = 4.25, lambda = 0.1\n"
     ]
    },
    {
     "name": "stdout",
     "output_type": "stream",
     "text": [
      "Converged in 1 iterations, last relative difference is 0.0\n",
      "alpha = 4.5, lambda = 0.1\n",
      "Converged in 1 iterations, last relative difference is 0.0\n",
      "alpha = 4.75, lambda = 0.1\n"
     ]
    },
    {
     "name": "stdout",
     "output_type": "stream",
     "text": [
      "Converged in 1 iterations, last relative difference is 0.0\n",
      "alpha = 5.0, lambda = 0.1\n",
      "Converged in 1 iterations, last relative difference is 0.0\n",
      "alpha = 5.25, lambda = 0.1\n"
     ]
    },
    {
     "name": "stdout",
     "output_type": "stream",
     "text": [
      "Converged in 1 iterations, last relative difference is 0.0\n",
      "alpha = 5.5, lambda = 0.1\n",
      "Converged in 1 iterations, last relative difference is 0.0\n",
      "alpha = 5.75, lambda = 0.1\n"
     ]
    },
    {
     "ename": "DomainError",
     "evalue": "DomainError with -0.008055995021411855:\nsqrt was called with a negative real argument but will only return a complex result if called with a complex argument. Try sqrt(Complex(x)).\nDomainError detected in the user `f` function. This occurs when the domain of a function is violated.\nFor example, `log(-1.0)` is undefined because `log` of a real number is defined to only output real\nnumbers, but `log` of a negative number is complex valued and therefore Julia throws a DomainError\nby default. Cases to be aware of include:\n\n* `log(x)`, `sqrt(x)`, `cbrt(x)`, etc. where `x<0`\n* `x^y` for `x<0` floating point `y` (example: `(-1.0)^(1/2) == im`)\n\nWithin the context of SciML, this error can occur within the solver process even if the domain constraint\nwould not be violated in the solution due to adaptivity. For example, an ODE solver or optimization\nroutine may check a step at `new_u` which violates the domain constraint, and if violated reject the\nstep and use a smaller `dt`. However, the throwing of this error will have halted the solving process.\n\nThus the recommended fix is to replace this function with the equivalent ones from NaNMath.jl\n(https://github.com/JuliaMath/NaNMath.jl) which returns a NaN instead of an error. The solver will then\neffectively use the NaN within the error control routines to reject the out of bounds step. Additionally,\none could perform a domain transformation on the variables so that such an issue does not occur in the\ndefinition of `f`.\n\nFor more information, check out the following FAQ page:\nhttps://docs.sciml.ai/Optimization/stable/API/FAQ/#The-Solver-Seems-to-Violate-Constraints-During-the-Optimization,-Causing-DomainErrors,-What-Can-I-Do-About-That?\n",
     "output_type": "error",
     "traceback": [
      "DomainError with -0.008055995021411855:\n",
      "sqrt was called with a negative real argument but will only return a complex result if called with a complex argument. Try sqrt(Complex(x)).\n",
      "DomainError detected in the user `f` function. This occurs when the domain of a function is violated.\n",
      "For example, `log(-1.0)` is undefined because `log` of a real number is defined to only output real\n",
      "numbers, but `log` of a negative number is complex valued and therefore Julia throws a DomainError\n",
      "by default. Cases to be aware of include:\n",
      "\n",
      "* `log(x)`, `sqrt(x)`, `cbrt(x)`, etc. where `x<0`\n",
      "* `x^y` for `x<0` floating point `y` (example: `(-1.0)^(1/2) == im`)\n",
      "\n",
      "Within the context of SciML, this error can occur within the solver process even if the domain constraint\n",
      "would not be violated in the solution due to adaptivity. For example, an ODE solver or optimization\n",
      "routine may check a step at `new_u` which violates the domain constraint, and if violated reject the\n",
      "step and use a smaller `dt`. However, the throwing of this error will have halted the solving process.\n",
      "\n",
      "Thus the recommended fix is to replace this function with the equivalent ones from NaNMath.jl\n",
      "(https://github.com/JuliaMath/NaNMath.jl) which returns a NaN instead of an error. The solver will then\n",
      "effectively use the NaN within the error control routines to reject the out of bounds step. Additionally,\n",
      "one could perform a domain transformation on the variables so that such an issue does not occur in the\n",
      "definition of `f`.\n",
      "\n",
      "For more information, check out the following FAQ page:\n",
      "https://docs.sciml.ai/Optimization/stable/API/FAQ/#The-Solver-Seems-to-Violate-Constraints-During-the-Optimization,-Causing-DomainErrors,-What-Can-I-Do-About-That?\n",
      "\n",
      "\n",
      "Stacktrace:\n",
      "  [1] throw_complex_domainerror(f::Symbol, x::Float64)\n",
      "    @ Base.Math ./math.jl:33\n",
      "  [2] sqrt\n",
      "    @ ./math.jl:686 [inlined]\n",
      "  [3] (::LogisticBootstrapStateEvolution.MultipleLogisticStateEvolution.LogisticChannel.var\"#f#6\"{Int64, Float64, Float64})(x::Float64)\n",
      "    @ LogisticBootstrapStateEvolution.MultipleLogisticStateEvolution.LogisticChannel ~/Code/LogisticBootstrapStateEvolution/src/LogisticChannel.jl:84\n",
      "  [4] evalrule(f::LogisticBootstrapStateEvolution.MultipleLogisticStateEvolution.LogisticChannel.var\"#f#6\"{Int64, Float64, Float64}, a::Float64, b::Float64, x::Vector{Float64}, w::Vector{Float64}, gw::Vector{Float64}, nrm::typeof(LinearAlgebra.norm))\n",
      "    @ QuadGK ~/.julia/packages/QuadGK/ZWSGN/src/evalrule.jl:0\n",
      "  [5] #6\n",
      "    @ ~/.julia/packages/QuadGK/ZWSGN/src/adapt.jl:13 [inlined]\n",
      "  [6] ntuple(f::QuadGK.var\"#6#9\"{LogisticBootstrapStateEvolution.SingleLogisticStateEvolution.var\"#2#3\"{Float64, Float64, Float64, Float64, Int64, Int64}, Tuple{Float64, Float64}, typeof(LinearAlgebra.norm), Vector{Float64}, Vector{Float64}, Vector{Float64}}, ::Val{1})\n",
      "    @ Base ./ntuple.jl:48 [inlined]\n",
      "  [7] do_quadgk(f::LogisticBootstrapStateEvolution.MultipleLogisticStateEvolution.LogisticChannel.var\"#f#6\"{Int64, Float64, Float64}, s::Tuple{Float64, Float64}, n::Int64, atol::Nothing, rtol::Nothing, maxevals::Int64, nrm::typeof(LinearAlgebra.norm), segbuf::Nothing)\n",
      "    @ QuadGK ~/.julia/packages/QuadGK/ZWSGN/src/adapt.jl:13\n",
      "  [8] (::QuadGK.var\"#50#51\"{Nothing, Nothing, Int64, Int64, typeof(LinearAlgebra.norm), Nothing})(f::Function, s::Tuple{Float64, Float64}, ::Function)\n",
      "    @ QuadGK ~/.julia/packages/QuadGK/ZWSGN/src/adapt.jl:235 [inlined]\n",
      "  [9] handle_infinities(workfunc::QuadGK.var\"#50#51\"{Nothing, Nothing, Int64, Int64, typeof(LinearAlgebra.norm), Nothing}, f::LogisticBootstrapStateEvolution.MultipleLogisticStateEvolution.LogisticChannel.var\"#f#6\"{Int64, Float64, Float64}, s::Tuple{Float64, Float64})\n",
      "    @ QuadGK ~/.julia/packages/QuadGK/ZWSGN/src/adapt.jl:134\n",
      " [10] #quadgk#49\n",
      "    @ ~/.julia/packages/QuadGK/ZWSGN/src/adapt.jl:234 [inlined]\n",
      " [11] quadgk\n",
      "    @ ~/.julia/packages/QuadGK/ZWSGN/src/adapt.jl:232 [inlined]\n",
      " [12] logistic_z0\n",
      "    @ ~/Code/LogisticBootstrapStateEvolution/src/LogisticChannel.jl:85 [inlined]\n",
      " [13] integrand_qhat(x::StaticArraysCore.SVector{2, Float64}, y::Int64, m::StaticArraysCore.SVector{2, Float64}, q_sqrt::StaticArraysCore.MMatrix{2, 2, Float64, 4}, q_inv::StaticArraysCore.MMatrix{2, 2, Float64, 4}, v::StaticArraysCore.SVector{2, Float64}, v_star_float::Float64, weights::StaticArraysCore.SVector{2, Int64})\n",
      "    @ LogisticBootstrapStateEvolution.MultipleLogisticStateEvolution ~/Code/LogisticBootstrapStateEvolution/src/MultipleLogisticStateEvolution.jl:32\n",
      " [14] (::LogisticBootstrapStateEvolution.MultipleLogisticStateEvolution.var\"#fq#1\"{StaticArraysCore.SVector{2, Float64}, StaticArraysCore.SVector{2, Float64}, Float64, StaticArraysCore.MMatrix{2, 2, Float64, 4}, StaticArraysCore.MMatrix{2, 2, Float64, 4}, StaticArraysCore.SVector{2, Int64}, Int64})(x::StaticArraysCore.SVector{2, Float64}, p::SciMLBase.NullParameters)\n",
      "    @ LogisticBootstrapStateEvolution.MultipleLogisticStateEvolution ~/Code/LogisticBootstrapStateEvolution/src/MultipleLogisticStateEvolution.jl:48\n",
      " [15] IntegralFunction\n",
      "    @ ~/.julia/packages/SciMLBase/A4e6M/src/scimlfunctions.jl:2358 [inlined]\n",
      " [16] #46\n",
      "    @ ~/.julia/packages/Integrals/d5Wr6/src/Integrals.jl:113 [inlined]\n",
      " [17] (::HCubature.GenzMalik{2, Float64})(f::Integrals.var\"#46#48\"{SciMLBase.IntegralProblem{false, SciMLBase.NullParameters, SciMLBase.IntegralFunction{false, SciMLBase.FullSpecialize, LogisticBootstrapStateEvolution.MultipleLogisticStateEvolution.var\"#fq#1\"{StaticArraysCore.SVector{2, Float64}, StaticArraysCore.SVector{2, Float64}, Float64, StaticArraysCore.MMatrix{2, 2, Float64, 4}, StaticArraysCore.MMatrix{2, 2, Float64, 4}, StaticArraysCore.SVector{2, Int64}, Int64}, Nothing}, Tuple{StaticArraysCore.SVector{2, Float64}, StaticArraysCore.SVector{2, Float64}}, @Kwargs{}}}, a::StaticArraysCore.SVector{2, Float64}, b::StaticArraysCore.SVector{2, Float64}, norm::typeof(LinearAlgebra.norm))\n",
      "    @ HCubature ~/.julia/packages/HCubature/QvyJW/src/genz-malik.jl:121\n",
      " [18] hcubature_(f::Integrals.var\"#46#48\"{SciMLBase.IntegralProblem{false, SciMLBase.NullParameters, SciMLBase.IntegralFunction{false, SciMLBase.FullSpecialize, LogisticBootstrapStateEvolution.MultipleLogisticStateEvolution.var\"#fq#1\"{StaticArraysCore.SVector{2, Float64}, StaticArraysCore.SVector{2, Float64}, Float64, StaticArraysCore.MMatrix{2, 2, Float64, 4}, StaticArraysCore.MMatrix{2, 2, Float64, 4}, StaticArraysCore.SVector{2, Int64}, Int64}, Nothing}, Tuple{StaticArraysCore.SVector{2, Float64}, StaticArraysCore.SVector{2, Float64}}, @Kwargs{}}}, a::StaticArraysCore.SVector{2, Float64}, b::StaticArraysCore.SVector{2, Float64}, norm::typeof(LinearAlgebra.norm), rtol_::Float64, atol::Float64, maxevals::Int64, initdiv::Int64)\n",
      "    @ HCubature ~/.julia/packages/HCubature/QvyJW/src/HCubature.jl:61\n",
      " [19] hcubature\n",
      "    @ HCubature ~/.julia/packages/HCubature/QvyJW/src/HCubature.jl:178 [inlined]\n",
      " [20] #__solvebp_call#44\n",
      "    @ Integrals ~/.julia/packages/Integrals/d5Wr6/src/Integrals.jl:121 [inlined]\n",
      " [21] __solvebp_call\n",
      "    @ Integrals ~/.julia/packages/Integrals/d5Wr6/src/Integrals.jl:102 [inlined]\n",
      " [22] #__solvebp_call#4\n",
      "    @ Integrals ~/.julia/packages/Integrals/d5Wr6/src/common.jl:113 [inlined]\n",
      " [23] __solvebp_call\n",
      "    @ Integrals ~/.julia/packages/Integrals/d5Wr6/src/common.jl:112 [inlined]\n",
      " [24] __solvebp\n",
      "    @ Integrals ~/.julia/packages/Integrals/d5Wr6/src/Integrals.jl:65 [inlined]\n",
      " [25] solve!(cache::Integrals.IntegralCache{false, SciMLBase.IntegralFunction{false, SciMLBase.FullSpecialize, LogisticBootstrapStateEvolution.MultipleLogisticStateEvolution.var\"#fq#1\"{StaticArraysCore.SVector{2, Float64}, StaticArraysCore.SVector{2, Float64}, Float64, StaticArraysCore.MMatrix{2, 2, Float64, 4}, StaticArraysCore.MMatrix{2, 2, Float64, 4}, StaticArraysCore.SVector{2, Int64}, Int64}, Nothing}, Tuple{StaticArraysCore.SVector{2, Float64}, StaticArraysCore.SVector{2, Float64}}, SciMLBase.NullParameters, @Kwargs{}, Integrals.HCubatureJL{typeof(LinearAlgebra.norm)}, Integrals.ReCallVJP{Integrals.ZygoteVJP}, @Kwargs{reltol::Float64}, Nothing})\n",
      "    @ Integrals ~/.julia/packages/Integrals/d5Wr6/src/common.jl:103\n",
      " [26] solve(prob::SciMLBase.IntegralProblem{false, SciMLBase.NullParameters, SciMLBase.IntegralFunction{false, SciMLBase.FullSpecialize, LogisticBootstrapStateEvolution.MultipleLogisticStateEvolution.var\"#fq#1\"{StaticArraysCore.SVector{2, Float64}, StaticArraysCore.SVector{2, Float64}, Float64, StaticArraysCore.MMatrix{2, 2, Float64, 4}, StaticArraysCore.MMatrix{2, 2, Float64, 4}, StaticArraysCore.SVector{2, Int64}, Int64}, Nothing}, Tuple{StaticArraysCore.SVector{2, Float64}, StaticArraysCore.SVector{2, Float64}}, @Kwargs{}}, alg::Integrals.HCubatureJL{typeof(LinearAlgebra.norm)}; kwargs::@Kwargs{reltol::Float64})\n",
      "    @ Integrals ~/.julia/packages/Integrals/d5Wr6/src/common.jl:99\n",
      " [27] solve\n",
      "    @ ~/.julia/packages/Integrals/d5Wr6/src/common.jl:96 [inlined]\n",
      " [28] update_qhat(m::StaticArraysCore.SVector{2, Float64}, q::StaticArraysCore.MMatrix{2, 2, Float64, 4}, v::StaticArraysCore.SVector{2, Float64}, rho::Float64, weight1_range::UnitRange{Int64}, weight2_range::UnitRange{Int64}, weight_function::LogisticBootstrapStateEvolution.MultipleLogisticStateEvolution.var\"#11#12\")\n",
      "    @ LogisticBootstrapStateEvolution.MultipleLogisticStateEvolution ~/Code/LogisticBootstrapStateEvolution/src/MultipleLogisticStateEvolution.jl:57\n",
      " [29] state_evolution_full_full_from_single_overlaps(m::StaticArraysCore.SVector{2, Float64}, qdiag::StaticArraysCore.SVector{2, Float64}, v::StaticArraysCore.SVector{2, Float64}, mhat::StaticArraysCore.SVector{2, Float64}, qhatdiag::StaticArraysCore.SVector{2, Float64}, vhat::StaticArraysCore.SVector{2, Float64}, sampling_ratio::Float64, regularisation::Float64; max_iteration::Int64, reltol::Float64, rho::Float64, verbose::Bool)\n",
      "    @ LogisticBootstrapStateEvolution.MultipleLogisticStateEvolution ~/Code/LogisticBootstrapStateEvolution/src/MultipleLogisticStateEvolution.jl:200\n",
      " [30] state_evolution_full_full(sampling_ratio::Float64, regularisation::Float64; rho::Float64, reltol::Float64, max_iteration::Int64, verbose::Bool)\n",
      "    @ LogisticBootstrapStateEvolution ~/Code/LogisticBootstrapStateEvolution/src/LogisticBootstrapStateEvolution.jl:74\n",
      " [31] top-level scope\n",
      "    @ ~/Code/JuliaBootstrap/src/LogisticRegressionBootstrapConstantLambda.ipynb:7"
     ]
    }
   ],
   "source": [
    "full_full_overlaps    = []\n",
    "\n",
    "m_prev, q_prev, v_prev = nothing, nothing, nothing\n",
    "\n",
    "for alpha in alpha_range\n",
    "    println(\"alpha = $alpha, lambda = $lambda\")\n",
    "    result = LogisticBootstrapStateEvolution.state_evolution_full_full(alpha, lambda; reltol=1e-5, verbose=true)\n",
    "    # m_prev = result[\"m\"][1]\n",
    "    # q_prev = result[\"q\"][1]\n",
    "    # v_prev = result[\"v\"][1]\n",
    "    # add the dictionnary result to the list \"overlaps\"\n",
    "    push!(full_full_overlaps, result)\n",
    "end"
   ]
  },
  {
   "cell_type": "code",
   "execution_count": 9,
   "metadata": {},
   "outputs": [
    {
     "data": {
      "text/plain": [
       "13568"
      ]
     },
     "metadata": {},
     "output_type": "display_data"
    }
   ],
   "source": [
    "# save the overlaps into a file\n",
    "filename::String = \"../data/logistic/full_full_overlaps_lambda=$lambda.json\"\n",
    "\n",
    "dict_to_save::Dict = Dict(\"alpha\" => alpha_range,\n",
    "                          \"m\"   => [o[\"m\"][1] for o in full_full_overlaps],\n",
    "                          \"q_diag\"   => [o[\"q\"][1, 1] for o in full_full_overlaps],\n",
    "                          \"q_off_diag\"   => [o[\"q\"][1, 2] for o in full_full_overlaps],\n",
    "                          \"v\"   => [o[\"v\"][1] for o in full_full_overlaps],\n",
    "                          \"mhat\"=> [o[\"mhat\"][1] for o in full_full_overlaps],\n",
    "                          \"qhat_diag\"=> [o[\"qhat\"][1, 1] for o in full_full_overlaps],\n",
    "                          \"qhat_off_diag\"=> [o[\"qhat\"][1, 2] for o in full_full_overlaps],\n",
    "                          \"vhat\"=> [o[\"vhat\"][1] for o in full_full_overlaps],\n",
    "                          )\n",
    "\n",
    "open(filename, \"w\") do f\n",
    "    write(f, JSON.json(dict_to_save))\n",
    "end"
   ]
  },
  {
   "cell_type": "markdown",
   "metadata": {},
   "source": [
    "--- \n",
    "\n",
    "Overlaps between two $y$ resampling "
   ]
  },
  {
   "cell_type": "code",
   "execution_count": 10,
   "metadata": {},
   "outputs": [
    {
     "name": "stdout",
     "output_type": "stream",
     "text": [
      "alpha = 0.5, lambda = 0.1\n"
     ]
    },
    {
     "name": "stdout",
     "output_type": "stream",
     "text": [
      "alpha = 0.6, lambda = 0.1\n",
      "alpha = 0.7, lambda = 0.1\n"
     ]
    },
    {
     "name": "stdout",
     "output_type": "stream",
     "text": [
      "alpha = 0.8, lambda = 0.1\n",
      "alpha = 0.9, lambda = 0.1\n"
     ]
    },
    {
     "name": "stdout",
     "output_type": "stream",
     "text": [
      "alpha = 1.0, lambda = 0.1\n",
      "alpha = 1.1, lambda = 0.1\n"
     ]
    },
    {
     "name": "stdout",
     "output_type": "stream",
     "text": [
      "alpha = 1.2, lambda = 0.1\n",
      "alpha = 1.3, lambda = 0.1\n"
     ]
    },
    {
     "name": "stdout",
     "output_type": "stream",
     "text": [
      "alpha = 1.4, lambda = 0.1\n",
      "alpha = 1.5, lambda = 0.1\n"
     ]
    },
    {
     "name": "stdout",
     "output_type": "stream",
     "text": [
      "alpha = 1.6, lambda = 0.1\n",
      "alpha = 1.7, lambda = 0.1\n"
     ]
    },
    {
     "name": "stdout",
     "output_type": "stream",
     "text": [
      "alpha = 1.8, lambda = 0.1\n",
      "alpha = 1.9, lambda = 0.1\n"
     ]
    },
    {
     "name": "stdout",
     "output_type": "stream",
     "text": [
      "alpha = 2.0, lambda = 0.1\n",
      "alpha = 2.1, lambda = 0.1\n"
     ]
    },
    {
     "name": "stdout",
     "output_type": "stream",
     "text": [
      "alpha = 2.2, lambda = 0.1\n",
      "alpha = 2.3, lambda = 0.1\n"
     ]
    },
    {
     "name": "stdout",
     "output_type": "stream",
     "text": [
      "alpha = 2.4, lambda = 0.1\n",
      "alpha = 2.5, lambda = 0.1\n"
     ]
    },
    {
     "name": "stdout",
     "output_type": "stream",
     "text": [
      "alpha = 2.6, lambda = 0.1\n",
      "alpha = 2.7, lambda = 0.1\n"
     ]
    },
    {
     "name": "stdout",
     "output_type": "stream",
     "text": [
      "alpha = 2.8, lambda = 0.1\n",
      "alpha = 2.9, lambda = 0.1\n"
     ]
    },
    {
     "name": "stdout",
     "output_type": "stream",
     "text": [
      "alpha = 3.0, lambda = 0.1\n",
      "alpha = 3.1, lambda = 0.1\n"
     ]
    },
    {
     "name": "stdout",
     "output_type": "stream",
     "text": [
      "alpha = 3.2, lambda = 0.1\n",
      "alpha = 3.3, lambda = 0.1\n"
     ]
    },
    {
     "name": "stdout",
     "output_type": "stream",
     "text": [
      "alpha = 3.4, lambda = 0.1\n",
      "alpha = 3.5, lambda = 0.1\n"
     ]
    },
    {
     "name": "stdout",
     "output_type": "stream",
     "text": [
      "alpha = 3.6, lambda = 0.1\n",
      "alpha = 3.7, lambda = 0.1\n"
     ]
    },
    {
     "name": "stdout",
     "output_type": "stream",
     "text": [
      "alpha = 3.8, lambda = 0.1\n",
      "alpha = 3.9, lambda = 0.1\n"
     ]
    },
    {
     "name": "stdout",
     "output_type": "stream",
     "text": [
      "alpha = 4.0, lambda = 0.1\n",
      "alpha = 4.1, lambda = 0.1\n"
     ]
    },
    {
     "name": "stdout",
     "output_type": "stream",
     "text": [
      "alpha = 4.2, lambda = 0.1\n",
      "alpha = 4.3, lambda = 0.1\n"
     ]
    },
    {
     "name": "stdout",
     "output_type": "stream",
     "text": [
      "alpha = 4.4, lambda = 0.1\n",
      "alpha = 4.5, lambda = 0.1\n"
     ]
    },
    {
     "name": "stdout",
     "output_type": "stream",
     "text": [
      "alpha = 4.6, lambda = 0.1\n",
      "alpha = 4.7, lambda = 0.1\n"
     ]
    },
    {
     "name": "stdout",
     "output_type": "stream",
     "text": [
      "Warning: state evolution did not converge after 1000 iterations\n",
      "alpha = 4.8, lambda = 0.1\n",
      "alpha = 4.9, lambda = 0.1\n"
     ]
    },
    {
     "name": "stdout",
     "output_type": "stream",
     "text": [
      "alpha = 5.0, lambda = 0.1\n",
      "alpha = 5.1, lambda = 0.1\n"
     ]
    },
    {
     "name": "stdout",
     "output_type": "stream",
     "text": [
      "alpha = 5.2, lambda = 0.1\n",
      "alpha = 5.3, lambda = 0.1\n"
     ]
    },
    {
     "name": "stdout",
     "output_type": "stream",
     "text": [
      "alpha = 5.4, lambda = 0.1\n",
      "alpha = 5.5, lambda = 0.1\n"
     ]
    },
    {
     "name": "stdout",
     "output_type": "stream",
     "text": [
      "alpha = 5.6, lambda = 0.1\n",
      "alpha = 5.7, lambda = 0.1\n"
     ]
    },
    {
     "name": "stdout",
     "output_type": "stream",
     "text": [
      "alpha = 5.8, lambda = 0.1\n",
      "alpha = 5.9, lambda = 0.1\n"
     ]
    },
    {
     "name": "stdout",
     "output_type": "stream",
     "text": [
      "alpha = 6.0, lambda = 0.1\n",
      "alpha = 6.1, lambda = 0.1\n"
     ]
    },
    {
     "name": "stdout",
     "output_type": "stream",
     "text": [
      "alpha = 6.2, lambda = 0.1\n",
      "alpha = 6.3, lambda = 0.1\n"
     ]
    },
    {
     "name": "stdout",
     "output_type": "stream",
     "text": [
      "alpha = 6.4, lambda = 0.1\n",
      "alpha = 6.5, lambda = 0.1\n"
     ]
    },
    {
     "name": "stdout",
     "output_type": "stream",
     "text": [
      "alpha = 6.6, lambda = 0.1\n",
      "alpha = 6.7, lambda = 0.1\n"
     ]
    },
    {
     "name": "stdout",
     "output_type": "stream",
     "text": [
      "alpha = 6.8, lambda = 0.1\n",
      "alpha = 6.9, lambda = 0.1\n"
     ]
    },
    {
     "name": "stdout",
     "output_type": "stream",
     "text": [
      "alpha = 7.0, lambda = 0.1\n",
      "alpha = 7.1, lambda = 0.1\n"
     ]
    },
    {
     "name": "stdout",
     "output_type": "stream",
     "text": [
      "alpha = 7.2, lambda = 0.1\n",
      "alpha = 7.3, lambda = 0.1\n"
     ]
    },
    {
     "name": "stdout",
     "output_type": "stream",
     "text": [
      "alpha = 7.4, lambda = 0.1\n",
      "alpha = 7.5, lambda = 0.1\n"
     ]
    },
    {
     "name": "stdout",
     "output_type": "stream",
     "text": [
      "alpha = 7.6, lambda = 0.1\n",
      "alpha = 7.7, lambda = 0.1\n",
      "alpha = 7.8, lambda = 0.1\n"
     ]
    },
    {
     "name": "stdout",
     "output_type": "stream",
     "text": [
      "alpha = 7.9, lambda = 0.1\n",
      "alpha = 8.0, lambda = 0.1\n"
     ]
    },
    {
     "name": "stdout",
     "output_type": "stream",
     "text": [
      "alpha = 8.1, lambda = 0.1\n",
      "alpha = 8.2, lambda = 0.1\n",
      "alpha = 8.3, lambda = 0.1\n"
     ]
    },
    {
     "name": "stdout",
     "output_type": "stream",
     "text": [
      "alpha = 8.4, lambda = 0.1\n",
      "alpha = 8.5, lambda = 0.1\n",
      "alpha = 8.6, lambda = 0.1\n"
     ]
    },
    {
     "name": "stdout",
     "output_type": "stream",
     "text": [
      "alpha = 8.7, lambda = 0.1\n",
      "alpha = 8.8, lambda = 0.1\n"
     ]
    },
    {
     "name": "stdout",
     "output_type": "stream",
     "text": [
      "alpha = 8.9, lambda = 0.1\n",
      "alpha = 9.0, lambda = 0.1\n",
      "alpha = 9.1, lambda = 0.1\n"
     ]
    },
    {
     "name": "stdout",
     "output_type": "stream",
     "text": [
      "alpha = 9.2, lambda = 0.1\n",
      "alpha = 9.3, lambda = 0.1\n"
     ]
    },
    {
     "name": "stdout",
     "output_type": "stream",
     "text": [
      "alpha = 9.4, lambda = 0.1\n",
      "alpha = 9.5, lambda = 0.1\n"
     ]
    },
    {
     "name": "stdout",
     "output_type": "stream",
     "text": [
      "alpha = 9.6, lambda = 0.1\n",
      "alpha = 9.7, lambda = 0.1\n",
      "alpha = 9.8, lambda = 0.1\n"
     ]
    },
    {
     "name": "stdout",
     "output_type": "stream",
     "text": [
      "alpha = 9.9, lambda = 0.1\n",
      "alpha = 10.0, lambda = 0.1\n"
     ]
    }
   ],
   "source": [
    "y_resampling_overlaps    = []\n",
    "\n",
    "m_prev, q_prev, v_prev = nothing, nothing, nothing\n",
    "\n",
    "for alpha in alpha_range\n",
    "    println(\"alpha = $alpha, lambda = $lambda\")\n",
    "    result = LogisticBootstrapStateEvolution.state_evolution_y_resampling(alpha, lambda; reltol=1e-6)\n",
    "    # add the dictionnary result to the list \"overlaps\"\n",
    "    push!(y_resampling_overlaps, result)\n",
    "end"
   ]
  },
  {
   "cell_type": "code",
   "execution_count": 11,
   "metadata": {},
   "outputs": [
    {
     "data": {
      "text/plain": [
       "15221"
      ]
     },
     "metadata": {},
     "output_type": "display_data"
    }
   ],
   "source": [
    "# save the overlaps into a file\n",
    "filename::String = \"../data/logistic/y_resampling_overlaps_lambda=$lambda.json\"\n",
    "\n",
    "dict_to_save::Dict = Dict(\"alpha\" => alpha_range,\n",
    "                          \"m\"   => [o[\"m\"][1] for o in y_resampling_overlaps],\n",
    "                          \"q_diag\"   => [o[\"q\"][1, 1] for o in y_resampling_overlaps],\n",
    "                          \"q_off_diag\"   => [o[\"q\"][1, 2] for o in y_resampling_overlaps],\n",
    "                          \"v\"   => [o[\"v\"][1] for o in y_resampling_overlaps],\n",
    "                          \"mhat\"=> [o[\"mhat\"][1] for o in y_resampling_overlaps],\n",
    "                          \"qhat_diag\"=> [o[\"qhat\"][1, 1] for o in y_resampling_overlaps],\n",
    "                          \"qhat_off_diag\"=> [o[\"qhat\"][1, 2] for o in y_resampling_overlaps],\n",
    "                          \"vhat\"=> [o[\"vhat\"][1] for o in y_resampling_overlaps],\n",
    "                          )\n",
    "\n",
    "open(filename, \"w\") do f\n",
    "    write(f, JSON.json(dict_to_save))\n",
    "end"
   ]
  },
  {
   "cell_type": "markdown",
   "metadata": {},
   "source": [
    "---\n",
    "\n",
    "# \"Residual\" bootstrap for logistic regression\n",
    "\n",
    "Here, we first train the model then we resample the labels according to the logistic model using $\\hat w$ as teacher weight, then retrain our models.\n",
    "So we just run SE for ERM, compute $q$ and then compute the y_resampling with $\\rho = q$"
   ]
  },
  {
   "cell_type": "code",
   "execution_count": 16,
   "metadata": {},
   "outputs": [
    {
     "name": "stdout",
     "output_type": "stream",
     "text": [
      "alpha = 0.5, lambda = 0.1\n"
     ]
    },
    {
     "name": "stdout",
     "output_type": "stream",
     "text": [
      "alpha = 0.6, lambda = 0.1\n",
      "alpha = 0.7, lambda = 0.1\n"
     ]
    },
    {
     "name": "stdout",
     "output_type": "stream",
     "text": [
      "alpha = 0.8, lambda = 0.1\n",
      "alpha = 0.9, lambda = 0.1\n"
     ]
    },
    {
     "name": "stdout",
     "output_type": "stream",
     "text": [
      "alpha = 1.0, lambda = 0.1\n",
      "alpha = 1.1, lambda = 0.1\n"
     ]
    },
    {
     "name": "stdout",
     "output_type": "stream",
     "text": [
      "alpha = 1.2, lambda = 0.1\n",
      "alpha = 1.3, lambda = 0.1\n"
     ]
    },
    {
     "name": "stdout",
     "output_type": "stream",
     "text": [
      "alpha = 1.4, lambda = 0.1\n",
      "alpha = 1.5, lambda = 0.1\n"
     ]
    },
    {
     "name": "stdout",
     "output_type": "stream",
     "text": [
      "alpha = 1.6, lambda = 0.1\n",
      "alpha = 1.7, lambda = 0.1\n"
     ]
    },
    {
     "name": "stdout",
     "output_type": "stream",
     "text": [
      "alpha = 1.8, lambda = 0.1\n",
      "alpha = 1.9, lambda = 0.1\n"
     ]
    },
    {
     "name": "stdout",
     "output_type": "stream",
     "text": [
      "alpha = 2.0, lambda = 0.1\n",
      "alpha = 2.1, lambda = 0.1\n"
     ]
    },
    {
     "name": "stdout",
     "output_type": "stream",
     "text": [
      "alpha = 2.2, lambda = 0.1\n",
      "alpha = 2.3, lambda = 0.1\n"
     ]
    },
    {
     "name": "stdout",
     "output_type": "stream",
     "text": [
      "alpha = 2.4, lambda = 0.1\n",
      "alpha = 2.5, lambda = 0.1\n"
     ]
    },
    {
     "name": "stdout",
     "output_type": "stream",
     "text": [
      "alpha = 2.6, lambda = 0.1\n",
      "alpha = 2.7, lambda = 0.1\n"
     ]
    },
    {
     "name": "stdout",
     "output_type": "stream",
     "text": [
      "alpha = 2.8, lambda = 0.1\n",
      "alpha = 2.9, lambda = 0.1\n"
     ]
    },
    {
     "name": "stdout",
     "output_type": "stream",
     "text": [
      "alpha = 3.0, lambda = 0.1\n",
      "alpha = 3.1, lambda = 0.1\n"
     ]
    },
    {
     "name": "stdout",
     "output_type": "stream",
     "text": [
      "alpha = 3.2, lambda = 0.1\n",
      "alpha = 3.3, lambda = 0.1\n"
     ]
    },
    {
     "name": "stdout",
     "output_type": "stream",
     "text": [
      "alpha = 3.4, lambda = 0.1\n",
      "alpha = 3.5, lambda = 0.1\n"
     ]
    },
    {
     "name": "stdout",
     "output_type": "stream",
     "text": [
      "alpha = 3.6, lambda = 0.1\n",
      "alpha = 3.7, lambda = 0.1\n"
     ]
    },
    {
     "name": "stdout",
     "output_type": "stream",
     "text": [
      "alpha = 3.8, lambda = 0.1\n",
      "alpha = 3.9, lambda = 0.1\n"
     ]
    },
    {
     "name": "stdout",
     "output_type": "stream",
     "text": [
      "alpha = 4.0, lambda = 0.1\n",
      "alpha = 4.1, lambda = 0.1\n"
     ]
    },
    {
     "name": "stdout",
     "output_type": "stream",
     "text": [
      "alpha = 4.2, lambda = 0.1\n",
      "alpha = 4.3, lambda = 0.1\n"
     ]
    },
    {
     "name": "stdout",
     "output_type": "stream",
     "text": [
      "alpha = 4.4, lambda = 0.1\n",
      "alpha = 4.5, lambda = 0.1\n"
     ]
    },
    {
     "name": "stdout",
     "output_type": "stream",
     "text": [
      "alpha = 4.6, lambda = 0.1\n",
      "alpha = 4.7, lambda = 0.1\n"
     ]
    },
    {
     "name": "stdout",
     "output_type": "stream",
     "text": [
      "alpha = 4.8, lambda = 0.1\n",
      "alpha = 4.9, lambda = 0.1\n"
     ]
    },
    {
     "name": "stdout",
     "output_type": "stream",
     "text": [
      "alpha = 5.0, lambda = 0.1\n",
      "alpha = 5.1, lambda = 0.1\n"
     ]
    },
    {
     "name": "stdout",
     "output_type": "stream",
     "text": [
      "alpha = 5.2, lambda = 0.1\n",
      "alpha = 5.3, lambda = 0.1\n"
     ]
    },
    {
     "name": "stdout",
     "output_type": "stream",
     "text": [
      "alpha = 5.4, lambda = 0.1\n",
      "alpha = 5.5, lambda = 0.1\n"
     ]
    },
    {
     "name": "stdout",
     "output_type": "stream",
     "text": [
      "alpha = 5.6, lambda = 0.1\n",
      "alpha = 5.7, lambda = 0.1\n"
     ]
    },
    {
     "name": "stdout",
     "output_type": "stream",
     "text": [
      "alpha = 5.8, lambda = 0.1\n",
      "alpha = 5.9, lambda = 0.1\n"
     ]
    },
    {
     "name": "stdout",
     "output_type": "stream",
     "text": [
      "alpha = 6.0, lambda = 0.1\n",
      "alpha = 6.1, lambda = 0.1\n"
     ]
    },
    {
     "name": "stdout",
     "output_type": "stream",
     "text": [
      "alpha = 6.2, lambda = 0.1\n"
     ]
    },
    {
     "name": "stdout",
     "output_type": "stream",
     "text": [
      "alpha = 6.3, lambda = 0.1\n"
     ]
    },
    {
     "name": "stdout",
     "output_type": "stream",
     "text": [
      "alpha = 6.4, lambda = 0.1\n"
     ]
    },
    {
     "name": "stdout",
     "output_type": "stream",
     "text": [
      "alpha = 6.5, lambda = 0.1\n",
      "alpha = 6.6, lambda = 0.1\n"
     ]
    },
    {
     "name": "stdout",
     "output_type": "stream",
     "text": [
      "alpha = 6.7, lambda = 0.1\n",
      "alpha = 6.8, lambda = 0.1\n"
     ]
    },
    {
     "name": "stdout",
     "output_type": "stream",
     "text": [
      "alpha = 6.9, lambda = 0.1\n",
      "alpha = 7.0, lambda = 0.1\n"
     ]
    },
    {
     "name": "stdout",
     "output_type": "stream",
     "text": [
      "alpha = 7.1, lambda = 0.1\n",
      "alpha = 7.2, lambda = 0.1\n"
     ]
    },
    {
     "name": "stdout",
     "output_type": "stream",
     "text": [
      "alpha = 7.3, lambda = 0.1\n",
      "alpha = 7.4, lambda = 0.1\n"
     ]
    },
    {
     "name": "stdout",
     "output_type": "stream",
     "text": [
      "alpha = 7.5, lambda = 0.1\n",
      "alpha = 7.6, lambda = 0.1\n"
     ]
    },
    {
     "name": "stdout",
     "output_type": "stream",
     "text": [
      "alpha = 7.7, lambda = 0.1\n",
      "alpha = 7.8, lambda = 0.1\n"
     ]
    },
    {
     "name": "stdout",
     "output_type": "stream",
     "text": [
      "alpha = 7.9, lambda = 0.1\n",
      "alpha = 8.0, lambda = 0.1\n"
     ]
    },
    {
     "name": "stdout",
     "output_type": "stream",
     "text": [
      "alpha = 8.1, lambda = 0.1\n",
      "alpha = 8.2, lambda = 0.1\n"
     ]
    },
    {
     "name": "stdout",
     "output_type": "stream",
     "text": [
      "alpha = 8.3, lambda = 0.1\n",
      "alpha = 8.4, lambda = 0.1\n"
     ]
    },
    {
     "name": "stdout",
     "output_type": "stream",
     "text": [
      "alpha = 8.5, lambda = 0.1\n",
      "alpha = 8.6, lambda = 0.1\n"
     ]
    },
    {
     "name": "stdout",
     "output_type": "stream",
     "text": [
      "alpha = 8.7, lambda = 0.1\n",
      "alpha = 8.8, lambda = 0.1\n"
     ]
    },
    {
     "name": "stdout",
     "output_type": "stream",
     "text": [
      "alpha = 8.9, lambda = 0.1\n",
      "alpha = 9.0, lambda = 0.1\n"
     ]
    },
    {
     "name": "stdout",
     "output_type": "stream",
     "text": [
      "alpha = 9.1, lambda = 0.1\n"
     ]
    },
    {
     "name": "stdout",
     "output_type": "stream",
     "text": [
      "alpha = 9.2, lambda = 0.1\n"
     ]
    },
    {
     "name": "stdout",
     "output_type": "stream",
     "text": [
      "alpha = 9.3, lambda = 0.1\n"
     ]
    },
    {
     "name": "stdout",
     "output_type": "stream",
     "text": [
      "alpha = 9.4, lambda = 0.1\n"
     ]
    },
    {
     "name": "stdout",
     "output_type": "stream",
     "text": [
      "alpha = 9.5, lambda = 0.1\n",
      "alpha = 9.6, lambda = 0.1\n"
     ]
    },
    {
     "name": "stdout",
     "output_type": "stream",
     "text": [
      "alpha = 9.7, lambda = 0.1\n"
     ]
    },
    {
     "name": "stdout",
     "output_type": "stream",
     "text": [
      "alpha = 9.8, lambda = 0.1\n",
      "alpha = 9.9, lambda = 0.1\n"
     ]
    },
    {
     "name": "stdout",
     "output_type": "stream",
     "text": [
      "alpha = 10.0, lambda = 0.1\n"
     ]
    }
   ],
   "source": [
    "erm_overlaps      = []\n",
    "residual_overlaps = []\n",
    "\n",
    "for alpha in alpha_range\n",
    "    println(\"alpha = $alpha, lambda = $lambda\")\n",
    "    result_erm = LogisticBootstrapStateEvolution.SingleLogisticStateEvolution.state_evolution(alpha, lambda; max_iteration=250, reltol=1e-4)\n",
    "    push!(erm_overlaps, result_erm)\n",
    "    result_residual = LogisticBootstrapStateEvolution.state_evolution_y_resampling(alpha, lambda; rho = result_erm[\"q\"], reltol=1e-4, max_iteration=100, verbose = false)\n",
    "    push!(residual_overlaps, result_residual)\n",
    "end"
   ]
  },
  {
   "cell_type": "code",
   "execution_count": 17,
   "metadata": {},
   "outputs": [
    {
     "data": {
      "text/plain": [
       "13225"
      ]
     },
     "metadata": {},
     "output_type": "display_data"
    }
   ],
   "source": [
    "to_save = Dict([\n",
    "    \"alpha\" => alpha_range,\n",
    "    \"m\" => [o[\"m\"] for o in erm_overlaps],\n",
    "    \"q\" => [o[\"q\"] for o in erm_overlaps],\n",
    "    \"v\" => [o[\"v\"] for o in erm_overlaps],\n",
    "    \"q_diag_residual\" => [o[\"q\"][1, 1] for o in residual_overlaps],\n",
    "    \"q_off_diag_residual\" => [o[\"q\"][1, 2] for o in residual_overlaps],\n",
    "    \"m_residual\" => [o[\"m\"] for o in residual_overlaps],\n",
    "])\n",
    "\n",
    "filename::String = \"../data/logistic/residual_bootstrap_overlaps_lambda=$lambda.json\"\n",
    "\n",
    "open(filename, \"w\") do f\n",
    "    write(f, JSON.json(to_save))\n",
    "end"
   ]
  }
 ],
 "metadata": {
  "kernelspec": {
   "display_name": "Julia 1.10.0",
   "language": "julia",
   "name": "julia-1.10"
  },
  "language_info": {
   "file_extension": ".jl",
   "mimetype": "application/julia",
   "name": "julia",
   "version": "1.10.0"
  }
 },
 "nbformat": 4,
 "nbformat_minor": 2
}
