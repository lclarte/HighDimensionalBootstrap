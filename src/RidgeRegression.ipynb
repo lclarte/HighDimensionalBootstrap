{
 "cells": [
  {
   "cell_type": "markdown",
   "metadata": {},
   "source": [
    "# Notebook to compute the state evolution for ridge regression and different resampling\n",
    "\n",
    "**Pour ridge regression, le lambda optimal est constant a $\\sigma^2$**"
   ]
  },
  {
   "cell_type": "code",
   "execution_count": 1,
   "metadata": {},
   "outputs": [],
   "source": [
    "using RidgeBootstrapStateEvolution\n",
    "using Plots\n",
    "using JSON\n",
    "using Revise"
   ]
  },
  {
   "cell_type": "code",
   "execution_count": 2,
   "metadata": {},
   "outputs": [
    {
     "data": {
      "text/plain": [
       "1.0"
      ]
     },
     "metadata": {},
     "output_type": "display_data"
    }
   ],
   "source": [
    "alpha_range = exp10.(range(-1.0, stop=3.0, length=50))\n",
    "lambda = 1e-3\n",
    "noise_variance = 1.0"
   ]
  },
  {
   "cell_type": "code",
   "execution_count": 96,
   "metadata": {},
   "outputs": [
    {
     "name": "stdout",
     "output_type": "stream",
     "text": [
      "Warning: state evolution did not converge after 10000 iterations\n"
     ]
    },
    {
     "name": "stdout",
     "output_type": "stream",
     "text": [
      "Warning: state evolution did not converge after 10000 iterations\n"
     ]
    },
    {
     "name": "stdout",
     "output_type": "stream",
     "text": [
      "Warning: state evolution did not converge after 10000 iterations\n"
     ]
    },
    {
     "name": "stdout",
     "output_type": "stream",
     "text": [
      "Warning: state evolution did not converge after 10000 iterations\n"
     ]
    },
    {
     "name": "stdout",
     "output_type": "stream",
     "text": [
      "Warning: state evolution did not converge after 10000 iterations\n"
     ]
    },
    {
     "name": "stdout",
     "output_type": "stream",
     "text": [
      "Warning: state evolution did not converge after 10000 iterations\n"
     ]
    },
    {
     "name": "stdout",
     "output_type": "stream",
     "text": [
      "Warning: state evolution did not converge after 10000 iterations\n"
     ]
    },
    {
     "name": "stdout",
     "output_type": "stream",
     "text": [
      "Warning: state evolution did not converge after 10000 iterations\n"
     ]
    },
    {
     "name": "stdout",
     "output_type": "stream",
     "text": [
      "Warning: state evolution did not converge after 10000 iterations\n"
     ]
    },
    {
     "name": "stdout",
     "output_type": "stream",
     "text": [
      "Warning: state evolution did not converge after 10000 iterations\n"
     ]
    },
    {
     "name": "stdout",
     "output_type": "stream",
     "text": [
      "Warning: state evolution did not converge after 10000 iterations\n"
     ]
    },
    {
     "name": "stdout",
     "output_type": "stream",
     "text": [
      "Warning: state evolution did not converge after 10000 iterations\n"
     ]
    },
    {
     "name": "stdout",
     "output_type": "stream",
     "text": [
      "Warning: state evolution did not converge after 10000 iterations\n"
     ]
    },
    {
     "name": "stdout",
     "output_type": "stream",
     "text": [
      "Warning: state evolution did not converge after 10000 iterations\n"
     ]
    },
    {
     "name": "stdout",
     "output_type": "stream",
     "text": [
      "Warning: state evolution did not converge after 10000 iterations\n"
     ]
    },
    {
     "name": "stdout",
     "output_type": "stream",
     "text": [
      "Warning: state evolution did not converge after 10000 iterations\n"
     ]
    },
    {
     "name": "stdout",
     "output_type": "stream",
     "text": [
      "Warning: state evolution did not converge after 10000 iterations\n"
     ]
    },
    {
     "name": "stdout",
     "output_type": "stream",
     "text": [
      "Warning: state evolution did not converge after 10000 iterations\n"
     ]
    },
    {
     "name": "stdout",
     "output_type": "stream",
     "text": [
      "Warning: state evolution did not converge after 10000 iterations\n"
     ]
    },
    {
     "name": "stdout",
     "output_type": "stream",
     "text": [
      "Warning: state evolution did not converge after 10000 iterations\n"
     ]
    },
    {
     "name": "stdout",
     "output_type": "stream",
     "text": [
      "Warning: state evolution did not converge after 10000 iterations\n"
     ]
    },
    {
     "name": "stdout",
     "output_type": "stream",
     "text": [
      "Warning: state evolution did not converge after 10000 iterations\n"
     ]
    },
    {
     "name": "stdout",
     "output_type": "stream",
     "text": [
      "Warning: state evolution did not converge after 10000 iterations\n"
     ]
    },
    {
     "name": "stdout",
     "output_type": "stream",
     "text": [
      "Warning: state evolution did not converge after 10000 iterations\n"
     ]
    },
    {
     "name": "stdout",
     "output_type": "stream",
     "text": [
      "Warning: state evolution did not converge after 10000 iterations\n"
     ]
    },
    {
     "name": "stdout",
     "output_type": "stream",
     "text": [
      "Warning: state evolution did not converge after 10000 iterations\n"
     ]
    },
    {
     "name": "stdout",
     "output_type": "stream",
     "text": [
      "Warning: state evolution did not converge after 10000 iterations\n"
     ]
    },
    {
     "name": "stdout",
     "output_type": "stream",
     "text": [
      "Warning: state evolution did not converge after 10000 iterations\n"
     ]
    },
    {
     "name": "stdout",
     "output_type": "stream",
     "text": [
      "Warning: state evolution did not converge after 10000 iterations\n"
     ]
    },
    {
     "name": "stdout",
     "output_type": "stream",
     "text": [
      "Warning: state evolution did not converge after 10000 iterations\n"
     ]
    },
    {
     "name": "stdout",
     "output_type": "stream",
     "text": [
      "Warning: state evolution did not converge after 10000 iterations\n"
     ]
    },
    {
     "name": "stdout",
     "output_type": "stream",
     "text": [
      "Warning: state evolution did not converge after 10000 iterations\n"
     ]
    },
    {
     "name": "stdout",
     "output_type": "stream",
     "text": [
      "Warning: state evolution did not converge after 10000 iterations\n"
     ]
    },
    {
     "name": "stdout",
     "output_type": "stream",
     "text": [
      "Warning: state evolution did not converge after 10000 iterations\n"
     ]
    },
    {
     "name": "stdout",
     "output_type": "stream",
     "text": [
      "Warning: state evolution did not converge after 10000 iterations\n"
     ]
    },
    {
     "name": "stdout",
     "output_type": "stream",
     "text": [
      "Warning: state evolution did not converge after 10000 iterations\n"
     ]
    },
    {
     "name": "stdout",
     "output_type": "stream",
     "text": [
      "Warning: state evolution did not converge after 10000 iterations\n"
     ]
    },
    {
     "name": "stdout",
     "output_type": "stream",
     "text": [
      "Warning: state evolution did not converge after 10000 iterations\n"
     ]
    },
    {
     "name": "stdout",
     "output_type": "stream",
     "text": [
      "Warning: state evolution did not converge after 10000 iterations\n"
     ]
    },
    {
     "name": "stdout",
     "output_type": "stream",
     "text": [
      "Warning: state evolution did not converge after 10000 iterations\n"
     ]
    }
   ],
   "source": [
    "bootstrap_bootstrap_full_overlaps = []\n",
    "\n",
    "for alpha in alpha_range\n",
    "    result = RidgeBootstrapStateEvolution.state_evolution_bootstrap_bootstrap_full(alpha, lambda, noise_variance, max_weight=30, relative_tolerance=1e-20, max_iteration=10000)\n",
    "    push!(bootstrap_bootstrap_full_overlaps, result)\n",
    "end"
   ]
  },
  {
   "cell_type": "code",
   "execution_count": 100,
   "metadata": {},
   "outputs": [
    {
     "data": {
      "text/plain": [
       "8667"
      ]
     },
     "metadata": {},
     "output_type": "display_data"
    }
   ],
   "source": [
    "bootstrap_bootstrap_filename::String = \"../data/ridge/ridge_bootstrap_bootstrap_overlaps_lambda=$lambda.json\"\n",
    "\n",
    "dict_to_save::Dict = Dict(\"alpha\" => alpha_range,\n",
    "                          \"m\"   => [o[\"m\"][1] for o in bootstrap_bootstrap_full_overlaps],\n",
    "                          \"q_diag\"   => [o[\"q\"][1, 1] for o in bootstrap_bootstrap_full_overlaps],\n",
    "                          \"q_off_diag\"   => [o[\"q\"][1, 2] for o in bootstrap_bootstrap_full_overlaps],\n",
    "                          \"v\"   => [o[\"v\"][1] for o in bootstrap_bootstrap_full_overlaps],\n",
    "                          \"mhat\"=> [o[\"mhat\"][1] for o in bootstrap_bootstrap_full_overlaps],\n",
    "                          \"qhat_diag\"=> [o[\"qhat\"][1, 1] for o in bootstrap_bootstrap_full_overlaps],\n",
    "                          \"qhat_off_diag\"=> [o[\"qhat\"][1, 2] for o in bootstrap_bootstrap_full_overlaps],\n",
    "                          \"vhat\"=> [o[\"vhat\"][1] for o in bootstrap_bootstrap_full_overlaps],\n",
    "                          )\n",
    "open(bootstrap_bootstrap_filename, \"w\") do f\n",
    "    write(f, JSON.json(dict_to_save))\n",
    "end\n",
    "\n",
    "## \n",
    "\n",
    "bootstrap_full_filename::String = \"../data/ridge/ridge_bootstrap_full_overlaps_lambda=$lambda.json\"\n",
    "\n",
    "dict_to_save::Dict = Dict(\"alpha\" => alpha_range,\n",
    "                          \"m_full\" => [o[\"m\"][3] for o in bootstrap_bootstrap_full_overlaps],\n",
    "                          \"q_bootstrap_full\" => [o[\"q\"][1, 3] for o in bootstrap_bootstrap_full_overlaps],\n",
    "                          \"q_full\" => [o[\"q\"][3, 3] for o in bootstrap_bootstrap_full_overlaps],\n",
    "                          \"v_full\" => [o[\"v\"][3] for o in bootstrap_bootstrap_full_overlaps],\n",
    "                          \"mhat_full\" => [o[\"mhat\"][3] for o in bootstrap_bootstrap_full_overlaps],\n",
    "                          \"qhat_bootstrap_full\" => [o[\"qhat\"][1, 3] for o in bootstrap_bootstrap_full_overlaps],\n",
    "                          \"qhat_full_full\" => [o[\"qhat\"][3, 3] for o in bootstrap_bootstrap_full_overlaps],\n",
    "                          \"vhat_full\" => [o[\"vhat\"][3] for o in bootstrap_bootstrap_full_overlaps],\n",
    "                          )\n",
    "\n",
    "open(bootstrap_full_filename, \"w\") do f\n",
    "    write(f, JSON.json(dict_to_save))\n",
    "end"
   ]
  },
  {
   "cell_type": "markdown",
   "metadata": {},
   "source": [
    "---\n",
    "\n",
    "# Do full-full correlation "
   ]
  },
  {
   "cell_type": "code",
   "execution_count": 101,
   "metadata": {},
   "outputs": [
    {
     "name": "stdout",
     "output_type": "stream",
     "text": [
      "Warning: state evolution did not converge after 30000 iterations\n"
     ]
    },
    {
     "name": "stdout",
     "output_type": "stream",
     "text": [
      "Warning: state evolution did not converge after 30000 iterations\n",
      "Warning: state evolution did not converge after 30000 iterations\n",
      "Warning: state evolution did not converge after 30000 iterations\n",
      "Warning: state evolution did not converge after 30000 iterations\n",
      "Warning: state evolution did not converge after 30000 iterations\n"
     ]
    },
    {
     "name": "stdout",
     "output_type": "stream",
     "text": [
      "Warning: state evolution did not converge after 30000 iterations\n",
      "Warning: state evolution did not converge after 30000 iterations\n",
      "Warning: state evolution did not converge after 30000 iterations\n",
      "Warning: state evolution did not converge after 30000 iterations\n",
      "Warning: state evolution did not converge after 30000 iterations\n"
     ]
    },
    {
     "name": "stdout",
     "output_type": "stream",
     "text": [
      "Warning: state evolution did not converge after 30000 iterations\n",
      "Warning: state evolution did not converge after 30000 iterations\n",
      "Warning: state evolution did not converge after 30000 iterations\n",
      "Warning: state evolution did not converge after 30000 iterations\n",
      "Warning: state evolution did not converge after 30000 iterations\n"
     ]
    },
    {
     "name": "stdout",
     "output_type": "stream",
     "text": [
      "Warning: state evolution did not converge after 30000 iterations\n",
      "Warning: state evolution did not converge after 30000 iterations\n",
      "Warning: state evolution did not converge after 30000 iterations\n",
      "Warning: state evolution did not converge after 30000 iterations\n",
      "Warning: state evolution did not converge after 30000 iterations\n"
     ]
    },
    {
     "name": "stdout",
     "output_type": "stream",
     "text": [
      "Warning: state evolution did not converge after 30000 iterations\n",
      "Warning: state evolution did not converge after 30000 iterations\n",
      "Warning: state evolution did not converge after 30000 iterations\n",
      "Warning: state evolution did not converge after 30000 iterations\n",
      "Warning: state evolution did not converge after 30000 iterations\n"
     ]
    },
    {
     "name": "stdout",
     "output_type": "stream",
     "text": [
      "Warning: state evolution did not converge after 30000 iterations\n",
      "Warning: state evolution did not converge after 30000 iterations\n",
      "Warning: state evolution did not converge after 30000 iterations\n",
      "Warning: state evolution did not converge after 30000 iterations\n",
      "Warning: state evolution did not converge after 30000 iterations\n"
     ]
    },
    {
     "name": "stdout",
     "output_type": "stream",
     "text": [
      "Warning: state evolution did not converge after 30000 iterations\n",
      "Warning: state evolution did not converge after 30000 iterations\n",
      "Warning: state evolution did not converge after 30000 iterations\n",
      "Warning: state evolution did not converge after 30000 iterations\n",
      "Warning: state evolution did not converge after 30000 iterations\n"
     ]
    },
    {
     "name": "stdout",
     "output_type": "stream",
     "text": [
      "Warning: state evolution did not converge after 30000 iterations\n",
      "Warning: state evolution did not converge after 30000 iterations\n",
      "Warning: state evolution did not converge after 30000 iterations\n",
      "Warning: state evolution did not converge after 30000 iterations\n",
      "Warning: state evolution did not converge after 30000 iterations\n"
     ]
    },
    {
     "name": "stdout",
     "output_type": "stream",
     "text": [
      "Warning: state evolution did not converge after 30000 iterations\n",
      "Warning: state evolution did not converge after 30000 iterations\n",
      "Warning: state evolution did not converge after 30000 iterations\n",
      "Warning: state evolution did not converge after 30000 iterations\n"
     ]
    },
    {
     "name": "stdout",
     "output_type": "stream",
     "text": [
      "Warning: state evolution did not converge after 30000 iterations\n",
      "Warning: state evolution did not converge after 30000 iterations\n",
      "Warning: state evolution did not converge after 30000 iterations\n",
      "Warning: state evolution did not converge after 30000 iterations\n",
      "Warning: state evolution did not converge after 30000 iterations\n"
     ]
    }
   ],
   "source": [
    "full_full_overlaps = []\n",
    "\n",
    "for alpha in alpha_range\n",
    "    result = RidgeBootstrapStateEvolution.state_evolution_full_full(alpha, lambda, noise_variance, relative_tolerance=0.0, max_iteration=30000)\n",
    "    push!(full_full_overlaps, result)\n",
    "end "
   ]
  },
  {
   "cell_type": "code",
   "execution_count": 102,
   "metadata": {},
   "outputs": [
    {
     "data": {
      "text/plain": [
       "7899"
      ]
     },
     "metadata": {},
     "output_type": "display_data"
    }
   ],
   "source": [
    "filename::String = \"../data/ridge/ridge_full_full_overlaps_lambda=$lambda.json\"\n",
    "\n",
    "dict_to_save::Dict = Dict(\"alpha\" => alpha_range,\n",
    "                          \"m\"   => [o[\"m\"][1] for o in full_full_overlaps],\n",
    "                          \"q_diag\"   => [o[\"q\"][1, 1] for o in full_full_overlaps],\n",
    "                          \"q_off_diag\"   => [o[\"q\"][1, 2] for o in full_full_overlaps],\n",
    "                          \"v\"   => [o[\"v\"][1] for o in full_full_overlaps],\n",
    "                          \"mhat\"=> [o[\"mhat\"][1] for o in full_full_overlaps],\n",
    "                          \"qhat_diag\"=> [o[\"qhat\"][1, 1] for o in full_full_overlaps],\n",
    "                          \"qhat_off_diag\"=> [o[\"qhat\"][1, 2] for o in full_full_overlaps],\n",
    "                          \"vhat\"=> [o[\"vhat\"][1] for o in full_full_overlaps],\n",
    "                          )\n",
    "\n",
    "open(filename, \"w\") do f\n",
    "    write(f, JSON.json(dict_to_save))\n",
    "end"
   ]
  },
  {
   "cell_type": "markdown",
   "metadata": {},
   "source": [
    "# y-resampling correlation"
   ]
  },
  {
   "cell_type": "code",
   "execution_count": 13,
   "metadata": {},
   "outputs": [
    {
     "name": "stdout",
     "output_type": "stream",
     "text": [
      "Warning: state evolution did not converge after 20000 iterations\n"
     ]
    },
    {
     "name": "stdout",
     "output_type": "stream",
     "text": [
      "Warning: state evolution did not converge after 20000 iterations\n",
      "Warning: state evolution did not converge after 20000 iterations\n",
      "Warning: state evolution did not converge after 20000 iterations\n",
      "Warning: state evolution did not converge after 20000 iterations\n",
      "Warning: state evolution did not converge after 20000 iterations\n",
      "Warning: state evolution did not converge after 20000 iterations\n",
      "Warning: state evolution did not converge after 20000 iterations\n",
      "Warning: state evolution did not converge after 20000 iterations\n",
      "Warning: state evolution did not converge after 20000 iterations\n",
      "Warning: state evolution did not converge after 20000 iterations\n",
      "Warning: state evolution did not converge after 20000 iterations\n",
      "Warning: state evolution did not converge after 20000 iterations\n",
      "Warning: state evolution did not converge after 20000 iterations\n",
      "Warning: state evolution did not converge after 20000 iterations\n",
      "Warning: state evolution did not converge after 20000 iterations\n"
     ]
    },
    {
     "name": "stdout",
     "output_type": "stream",
     "text": [
      "Warning: state evolution did not converge after 20000 iterations\n",
      "Warning: state evolution did not converge after 20000 iterations\n",
      "Warning: state evolution did not converge after 20000 iterations\n",
      "Warning: state evolution did not converge after 20000 iterations\n",
      "Warning: state evolution did not converge after 20000 iterations\n",
      "Warning: state evolution did not converge after 20000 iterations\n",
      "Warning: state evolution did not converge after 20000 iterations\n",
      "Warning: state evolution did not converge after 20000 iterations\n",
      "Warning: state evolution did not converge after 20000 iterations\n",
      "Warning: state evolution did not converge after 20000 iterations\n",
      "Warning: state evolution did not converge after 20000 iterations\n",
      "Warning: state evolution did not converge after 20000 iterations\n",
      "Warning: state evolution did not converge after 20000 iterations\n",
      "Warning: state evolution did not converge after 20000 iterations\n",
      "Warning: state evolution did not converge after 20000 iterations\n"
     ]
    },
    {
     "name": "stdout",
     "output_type": "stream",
     "text": [
      "Warning: state evolution did not converge after 20000 iterations\n",
      "Warning: state evolution did not converge after 20000 iterations\n",
      "Warning: state evolution did not converge after 20000 iterations\n",
      "Warning: state evolution did not converge after 20000 iterations\n",
      "Warning: state evolution did not converge after 20000 iterations\n",
      "Warning: state evolution did not converge after 20000 iterations\n",
      "Warning: state evolution did not converge after 20000 iterations\n",
      "Warning: state evolution did not converge after 20000 iterations\n",
      "Warning: state evolution did not converge after 20000 iterations\n",
      "Warning: state evolution did not converge after 20000 iterations\n",
      "Warning: state evolution did not converge after 20000 iterations\n",
      "Warning: state evolution did not converge after 20000 iterations\n",
      "Warning: state evolution did not converge after 20000 iterations\n",
      "Warning: state evolution did not converge after 20000 iterations\n",
      "Warning: state evolution did not converge after 20000 iterations\n",
      "Warning: state evolution did not converge after 20000 iterations\n"
     ]
    },
    {
     "name": "stdout",
     "output_type": "stream",
     "text": [
      "Warning: state evolution did not converge after 20000 iterations\n",
      "Warning: state evolution did not converge after 20000 iterations\n",
      "Warning: state evolution did not converge after 20000 iterations\n"
     ]
    }
   ],
   "source": [
    "y_resampling_overlaps = []\n",
    "\n",
    "for alpha in alpha_range\n",
    "    result = RidgeBootstrapStateEvolution.state_evolution_y_resampling(alpha, lambda, noise_variance, relative_tolerance=0.0, max_iteration=20000)\n",
    "    push!(y_resampling_overlaps, result)\n",
    "end "
   ]
  },
  {
   "cell_type": "code",
   "execution_count": 14,
   "metadata": {},
   "outputs": [
    {
     "data": {
      "text/plain": [
       "8698"
      ]
     },
     "metadata": {},
     "output_type": "display_data"
    }
   ],
   "source": [
    "filename::String = \"../data/ridge/ridge_y_resampling_overlaps_lambda=$lambda.json\"\n",
    "\n",
    "dict_to_save::Dict = Dict(\"alpha\" => alpha_range,\n",
    "                          \"m\"   => [o[\"m\"][1] for o in y_resampling_overlaps],\n",
    "                          \"q_diag\"   => [o[\"q\"][1, 1] for o in y_resampling_overlaps],\n",
    "                          \"q_off_diag\"   => [o[\"q\"][1, 2] for o in y_resampling_overlaps],\n",
    "                          \"v\"   => [o[\"v\"][1] for o in y_resampling_overlaps],\n",
    "                          \"mhat\"=> [o[\"mhat\"][1] for o in y_resampling_overlaps],\n",
    "                          \"qhat_diag\"=> [o[\"qhat\"][1, 1] for o in y_resampling_overlaps],\n",
    "                          \"qhat_off_diag\"=> [o[\"qhat\"][1, 2] for o in y_resampling_overlaps],\n",
    "                          \"vhat\"=> [o[\"vhat\"][1] for o in y_resampling_overlaps],\n",
    "                          )\n",
    "\n",
    "open(filename, \"w\") do f\n",
    "    write(f, JSON.json(dict_to_save))\n",
    "end"
   ]
  },
  {
   "cell_type": "markdown",
   "metadata": {},
   "source": [
    "---\n",
    "\n",
    "# Parametric residual bootstrap\n",
    "\n",
    "We compute the variance of the residuals, for ridge it's just the training error \n",
    "\n",
    "1) On calcule l'overlap de ridge regression \n",
    "2) On calcule le bootstrap resampling en utilisant $\\rho = q_{\\rm erm}$ et $\\Delta = \\varepsilon_{\\rm train}$"
   ]
  },
  {
   "cell_type": "code",
   "execution_count": 17,
   "metadata": {},
   "outputs": [
    {
     "data": {
      "text/plain": [
       "get_train_error (generic function with 1 method)"
      ]
     },
     "metadata": {},
     "output_type": "display_data"
    }
   ],
   "source": [
    "function get_train_error(m, q, v, noise_variance; rho = 1.0)\n",
    "    return (rho + noise_variance + q - 2.0 * m) / (1+v)^2\n",
    "end"
   ]
  },
  {
   "cell_type": "code",
   "execution_count": 18,
   "metadata": {},
   "outputs": [],
   "source": [
    "erm_overlaps = []\n",
    "parametric_residual_overlaps = []\n",
    "train_errors = []\n",
    "\n",
    "for alpha in alpha_range\n",
    "    result = RidgeBootstrapStateEvolution.state_evolution(alpha, lambda, noise_variance, relative_tolerance=0.0, max_iteration=1000000)\n",
    "    push!(erm_overlaps, result)\n",
    "    train_error = get_train_error(result[\"m\"], result[\"q\"], result[\"v\"], noise_variance)\n",
    "    push!(train_errors, train_error)\n",
    "    result_2 = RidgeBootstrapStateEvolution.state_evolution_y_resampling(alpha, lambda, train_error, relative_tolerance=1e-10, max_iteration=20000, rho=result[\"q\"])\n",
    "    push!(parametric_residual_overlaps, result_2)\n",
    "end"
   ]
  },
  {
   "cell_type": "code",
   "execution_count": 19,
   "metadata": {},
   "outputs": [
    {
     "data": {
      "text/plain": [
       "7879"
      ]
     },
     "metadata": {},
     "output_type": "display_data"
    }
   ],
   "source": [
    "to_save = Dict([\n",
    "    \"alpha\" => alpha_range,\n",
    "    \"m\" => [o[\"m\"] for o in erm_overlaps],\n",
    "    \"q\" => [o[\"q\"] for o in erm_overlaps],\n",
    "    \"v\" => [o[\"v\"] for o in erm_overlaps],\n",
    "    \"q_diag_residual\" => [o[\"q\"][1, 1] for o in parametric_residual_overlaps],\n",
    "    \"q_off_diag_residual\" => [o[\"q\"][1, 2] for o in parametric_residual_overlaps],\n",
    "    \"m_residual\" => [o[\"m\"] for o in parametric_residual_overlaps],\n",
    "])\n",
    "\n",
    "filename::String = \"../data/ridge/ridge_residual_bootstrap_overlaps_lambda=$lambda.json\"\n",
    "\n",
    "open(filename, \"w\") do f\n",
    "    write(f, JSON.json(to_save))\n",
    "end"
   ]
  },
  {
   "cell_type": "code",
   "execution_count": 20,
   "metadata": {},
   "outputs": [
    {
     "name": "stdout",
     "output_type": "stream",
     "text": [
      "lambda = 1.0\n"
     ]
    },
    {
     "data": {
      "image/png": "[encoded data removed]",
      "image/svg+xml": [
       "<?xml version=\"1.0\" encoding=\"utf-8\"?>\n",
       "<svg xmlns=\"http://www.w3.org/2000/svg\" xmlns:xlink=\"http://www.w3.org/1999/xlink\" width=\"600\" height=\"400\" viewBox=\"0 0 2400 1600\">\n",
       "<defs>\n",
       "  <clipPath id=\"clip960\">\n",
       "    <rect x=\"0\" y=\"0\" width=\"2400\" height=\"1600\"/>\n",
       "  </clipPath>\n",
       "</defs>\n",
       "<path clip-path=\"url(#clip960)\" d=\"M0 1600 L2400 1600 L2400 0 L0 0  Z\" fill=\"#ffffff\" fill-rule=\"evenodd\" fill-opacity=\"1\"/>\n",
       "<defs>\n",
       "  <clipPath id=\"clip961\">\n",
       "    <rect x=\"480\" y=\"0\" width=\"1681\" height=\"1600\"/>\n",
       "  </clipPath>\n",
       "</defs>\n",
       "<path clip-path=\"url(#clip960)\" d=\"M224.855 1474.16 L2352.76 1474.16 L2352.76 47.2441 L224.855 47.2441  Z\" fill=\"#ffffff\" fill-rule=\"evenodd\" fill-opacity=\"1\"/>\n",
       "<defs>\n",
       "  <clipPath id=\"clip962\">\n",
       "    <rect x=\"224\" y=\"47\" width=\"2129\" height=\"1428\"/>\n",
       "  </clipPath>\n",
       "</defs>\n",
       "<polyline clip-path=\"url(#clip962)\" style=\"stroke:#000000; stroke-linecap:round; stroke-linejoin:round; stroke-width:2; stroke-opacity:0.1; fill:none\" points=\"786.942,1474.16 786.942,47.2441 \"/>\n",
       "<polyline clip-path=\"url(#clip962)\" style=\"stroke:#000000; stroke-linecap:round; stroke-linejoin:round; stroke-width:2; stroke-opacity:0.1; fill:none\" points=\"1790.67,1474.16 1790.67,47.2441 \"/>\n",
       "<polyline clip-path=\"url(#clip960)\" style=\"stroke:#000000; stroke-linecap:round; stroke-linejoin:round; stroke-width:4; stroke-opacity:1; fill:none\" points=\"224.855,1474.16 2352.76,1474.16 \"/>\n",
       "<polyline clip-path=\"url(#clip960)\" style=\"stroke:#000000; stroke-linecap:round; stroke-linejoin:round; stroke-width:4; stroke-opacity:1; fill:none\" points=\"786.942,1474.16 786.942,1455.27 \"/>\n",
       "<polyline clip-path=\"url(#clip960)\" style=\"stroke:#000000; stroke-linecap:round; stroke-linejoin:round; stroke-width:4; stroke-opacity:1; fill:none\" points=\"1790.67,1474.16 1790.67,1455.27 \"/>\n",
       "<path clip-path=\"url(#clip960)\" d=\"M751.925 1548.29 L759.563 1548.29 L759.563 1521.92 L751.253 1523.59 L751.253 1519.33 L759.517 1517.66 L764.193 1517.66 L764.193 1548.29 L771.832 1548.29 L771.832 1552.22 L751.925 1552.22 L751.925 1548.29 Z\" fill=\"#000000\" fill-rule=\"nonzero\" fill-opacity=\"1\" /><path clip-path=\"url(#clip960)\" d=\"M791.276 1520.74 Q787.665 1520.74 785.836 1524.31 Q784.031 1527.85 784.031 1534.98 Q784.031 1542.09 785.836 1545.65 Q787.665 1549.19 791.276 1549.19 Q794.91 1549.19 796.716 1545.65 Q798.545 1542.09 798.545 1534.98 Q798.545 1527.85 796.716 1524.31 Q794.91 1520.74 791.276 1520.74 M791.276 1517.04 Q797.086 1517.04 800.142 1521.65 Q803.221 1526.23 803.221 1534.98 Q803.221 1543.71 800.142 1548.31 Q797.086 1552.9 791.276 1552.9 Q785.466 1552.9 782.387 1548.31 Q779.332 1543.71 779.332 1534.98 Q779.332 1526.23 782.387 1521.65 Q785.466 1517.04 791.276 1517.04 Z\" fill=\"#000000\" fill-rule=\"nonzero\" fill-opacity=\"1\" /><path clip-path=\"url(#clip960)\" d=\"M812.925 1499.24 Q809.991 1499.24 808.506 1502.13 Q807.039 1505.01 807.039 1510.8 Q807.039 1516.58 808.506 1519.47 Q809.991 1522.35 812.925 1522.35 Q815.878 1522.35 817.345 1519.47 Q818.831 1516.58 818.831 1510.8 Q818.831 1505.01 817.345 1502.13 Q815.878 1499.24 812.925 1499.24 M812.925 1496.23 Q817.646 1496.23 820.129 1499.97 Q822.63 1503.69 822.63 1510.8 Q822.63 1517.89 820.129 1521.64 Q817.646 1525.36 812.925 1525.36 Q808.205 1525.36 805.703 1521.64 Q803.221 1517.89 803.221 1510.8 Q803.221 1503.69 805.703 1499.97 Q808.205 1496.23 812.925 1496.23 Z\" fill=\"#000000\" fill-rule=\"nonzero\" fill-opacity=\"1\" /><path clip-path=\"url(#clip960)\" d=\"M1756.44 1548.29 L1764.08 1548.29 L1764.08 1521.92 L1755.77 1523.59 L1755.77 1519.33 L1764.03 1517.66 L1768.71 1517.66 L1768.71 1548.29 L1776.35 1548.29 L1776.35 1552.22 L1756.44 1552.22 L1756.44 1548.29 Z\" fill=\"#000000\" fill-rule=\"nonzero\" fill-opacity=\"1\" /><path clip-path=\"url(#clip960)\" d=\"M1795.79 1520.74 Q1792.18 1520.74 1790.35 1524.31 Q1788.55 1527.85 1788.55 1534.98 Q1788.55 1542.09 1790.35 1545.65 Q1792.18 1549.19 1795.79 1549.19 Q1799.43 1549.19 1801.23 1545.65 Q1803.06 1542.09 1803.06 1534.98 Q1803.06 1527.85 1801.23 1524.31 Q1799.43 1520.74 1795.79 1520.74 M1795.79 1517.04 Q1801.6 1517.04 1804.66 1521.65 Q1807.74 1526.23 1807.74 1534.98 Q1807.74 1543.71 1804.66 1548.31 Q1801.6 1552.9 1795.79 1552.9 Q1789.98 1552.9 1786.9 1548.31 Q1783.85 1543.71 1783.85 1534.98 Q1783.85 1526.23 1786.9 1521.65 Q1789.98 1517.04 1795.79 1517.04 Z\" fill=\"#000000\" fill-rule=\"nonzero\" fill-opacity=\"1\" /><path clip-path=\"url(#clip960)\" d=\"M1812.31 1521.62 L1825.57 1521.62 L1825.57 1524.81 L1807.74 1524.81 L1807.74 1521.62 Q1809.9 1519.38 1813.62 1515.62 Q1817.37 1511.84 1818.33 1510.75 Q1820.15 1508.7 1820.87 1507.29 Q1821.6 1505.86 1821.6 1504.48 Q1821.6 1502.24 1820.02 1500.83 Q1818.46 1499.42 1815.94 1499.42 Q1814.15 1499.42 1812.16 1500.04 Q1810.18 1500.67 1807.93 1501.93 L1807.93 1498.09 Q1810.22 1497.17 1812.21 1496.7 Q1814.21 1496.23 1815.86 1496.23 Q1820.23 1496.23 1822.82 1498.41 Q1825.42 1500.59 1825.42 1504.24 Q1825.42 1505.97 1824.76 1507.53 Q1824.12 1509.07 1822.41 1511.18 Q1821.94 1511.72 1819.42 1514.34 Q1816.9 1516.93 1812.31 1521.62 Z\" fill=\"#000000\" fill-rule=\"nonzero\" fill-opacity=\"1\" /><polyline clip-path=\"url(#clip962)\" style=\"stroke:#000000; stroke-linecap:round; stroke-linejoin:round; stroke-width:2; stroke-opacity:0.1; fill:none\" points=\"224.855,1014.38 2352.76,1014.38 \"/>\n",
       "<polyline clip-path=\"url(#clip962)\" style=\"stroke:#000000; stroke-linecap:round; stroke-linejoin:round; stroke-width:2; stroke-opacity:0.1; fill:none\" points=\"224.855,549.997 2352.76,549.997 \"/>\n",
       "<polyline clip-path=\"url(#clip962)\" style=\"stroke:#000000; stroke-linecap:round; stroke-linejoin:round; stroke-width:2; stroke-opacity:0.1; fill:none\" points=\"224.855,85.6129 2352.76,85.6129 \"/>\n",
       "<polyline clip-path=\"url(#clip960)\" style=\"stroke:#000000; stroke-linecap:round; stroke-linejoin:round; stroke-width:4; stroke-opacity:1; fill:none\" points=\"224.855,1474.16 224.855,47.2441 \"/>\n",
       "<polyline clip-path=\"url(#clip960)\" style=\"stroke:#000000; stroke-linecap:round; stroke-linejoin:round; stroke-width:4; stroke-opacity:1; fill:none\" points=\"224.855,1014.38 243.752,1014.38 \"/>\n",
       "<polyline clip-path=\"url(#clip960)\" style=\"stroke:#000000; stroke-linecap:round; stroke-linejoin:round; stroke-width:4; stroke-opacity:1; fill:none\" points=\"224.855,549.997 243.752,549.997 \"/>\n",
       "<polyline clip-path=\"url(#clip960)\" style=\"stroke:#000000; stroke-linecap:round; stroke-linejoin:round; stroke-width:4; stroke-opacity:1; fill:none\" points=\"224.855,85.6129 243.752,85.6129 \"/>\n",
       "<path clip-path=\"url(#clip960)\" d=\"M51.9643 1034.17 L59.6032 1034.17 L59.6032 1007.81 L51.2931 1009.48 L51.2931 1005.22 L59.5569 1003.55 L64.2328 1003.55 L64.2328 1034.17 L71.8716 1034.17 L71.8716 1038.11 L51.9643 1038.11 L51.9643 1034.17 Z\" fill=\"#000000\" fill-rule=\"nonzero\" fill-opacity=\"1\" /><path clip-path=\"url(#clip960)\" d=\"M91.316 1006.63 Q87.7049 1006.63 85.8762 1010.19 Q84.0707 1013.73 84.0707 1020.86 Q84.0707 1027.97 85.8762 1031.54 Q87.7049 1035.08 91.316 1035.08 Q94.9502 1035.08 96.7558 1031.54 Q98.5845 1027.97 98.5845 1020.86 Q98.5845 1013.73 96.7558 1010.19 Q94.9502 1006.63 91.316 1006.63 M91.316 1002.92 Q97.1261 1002.92 100.182 1007.53 Q103.26 1012.11 103.26 1020.86 Q103.26 1029.59 100.182 1034.2 Q97.1261 1038.78 91.316 1038.78 Q85.5058 1038.78 82.4271 1034.2 Q79.3716 1029.59 79.3716 1020.86 Q79.3716 1012.11 82.4271 1007.53 Q85.5058 1002.92 91.316 1002.92 Z\" fill=\"#000000\" fill-rule=\"nonzero\" fill-opacity=\"1\" /><path clip-path=\"url(#clip960)\" d=\"M103.26 997.026 L127.372 997.026 L127.372 1000.22 L103.26 1000.22 L103.26 997.026 Z\" fill=\"#000000\" fill-rule=\"nonzero\" fill-opacity=\"1\" /><path clip-path=\"url(#clip960)\" d=\"M143.697 985.12 Q140.763 985.12 139.277 988.017 Q137.81 990.894 137.81 996.687 Q137.81 1002.46 139.277 1005.36 Q140.763 1008.24 143.697 1008.24 Q146.65 1008.24 148.117 1005.36 Q149.603 1002.46 149.603 996.687 Q149.603 990.894 148.117 988.017 Q146.65 985.12 143.697 985.12 M143.697 982.111 Q148.418 982.111 150.9 985.854 Q153.402 989.578 153.402 996.687 Q153.402 1003.78 150.9 1007.52 Q148.418 1011.24 143.697 1011.24 Q138.976 1011.24 136.475 1007.52 Q133.992 1003.78 133.992 996.687 Q133.992 989.578 136.475 985.854 Q138.976 982.111 143.697 982.111 Z\" fill=\"#000000\" fill-rule=\"nonzero\" fill-opacity=\"1\" /><path clip-path=\"url(#clip960)\" d=\"M160.079 1005.92 L164.047 1005.92 L164.047 1010.7 L160.079 1010.7 L160.079 1005.92 Z\" fill=\"#000000\" fill-rule=\"nonzero\" fill-opacity=\"1\" /><path clip-path=\"url(#clip960)\" d=\"M175.595 1007.5 L188.855 1007.5 L188.855 1010.7 L171.025 1010.7 L171.025 1007.5 Q173.188 1005.26 176.912 1001.5 Q180.654 997.722 181.614 996.631 Q183.438 994.581 184.153 993.17 Q184.886 991.741 184.886 990.368 Q184.886 988.13 183.306 986.719 Q181.745 985.308 179.225 985.308 Q177.438 985.308 175.445 985.929 Q173.47 986.55 171.213 987.81 L171.213 983.973 Q173.507 983.052 175.501 982.581 Q177.495 982.111 179.15 982.111 Q183.513 982.111 186.109 984.293 Q188.704 986.475 188.704 990.123 Q188.704 991.854 188.046 993.415 Q187.406 994.957 185.695 997.063 Q185.225 997.609 182.704 1000.22 Q180.184 1002.82 175.595 1007.5 Z\" fill=\"#000000\" fill-rule=\"nonzero\" fill-opacity=\"1\" /><path clip-path=\"url(#clip960)\" d=\"M51.6634 569.79 L59.3023 569.79 L59.3023 543.424 L50.9921 545.091 L50.9921 540.832 L59.256 539.165 L63.9319 539.165 L63.9319 569.79 L71.5707 569.79 L71.5707 573.725 L51.6634 573.725 L51.6634 569.79 Z\" fill=\"#000000\" fill-rule=\"nonzero\" fill-opacity=\"1\" /><path clip-path=\"url(#clip960)\" d=\"M91.0151 542.244 Q87.404 542.244 85.5753 545.808 Q83.7697 549.35 83.7697 556.48 Q83.7697 563.586 85.5753 567.151 Q87.404 570.693 91.0151 570.693 Q94.6493 570.693 96.4548 567.151 Q98.2835 563.586 98.2835 556.48 Q98.2835 549.35 96.4548 545.808 Q94.6493 542.244 91.0151 542.244 M91.0151 538.54 Q96.8252 538.54 99.8808 543.146 Q102.959 547.73 102.959 556.48 Q102.959 565.206 99.8808 569.813 Q96.8252 574.396 91.0151 574.396 Q85.2049 574.396 82.1262 569.813 Q79.0707 565.206 79.0707 556.48 Q79.0707 547.73 82.1262 543.146 Q85.2049 538.54 91.0151 538.54 Z\" fill=\"#000000\" fill-rule=\"nonzero\" fill-opacity=\"1\" /><path clip-path=\"url(#clip960)\" d=\"M102.959 532.641 L127.071 532.641 L127.071 535.839 L102.959 535.839 L102.959 532.641 Z\" fill=\"#000000\" fill-rule=\"nonzero\" fill-opacity=\"1\" /><path clip-path=\"url(#clip960)\" d=\"M143.396 520.736 Q140.462 520.736 138.976 523.632 Q137.509 526.51 137.509 532.303 Q137.509 538.077 138.976 540.973 Q140.462 543.851 143.396 543.851 Q146.349 543.851 147.816 540.973 Q149.302 538.077 149.302 532.303 Q149.302 526.51 147.816 523.632 Q146.349 520.736 143.396 520.736 M143.396 517.727 Q148.117 517.727 150.6 521.469 Q153.101 525.193 153.101 532.303 Q153.101 539.393 150.6 543.136 Q148.117 546.86 143.396 546.86 Q138.675 546.86 136.174 543.136 Q133.691 539.393 133.691 532.303 Q133.691 525.193 136.174 521.469 Q138.675 517.727 143.396 517.727 Z\" fill=\"#000000\" fill-rule=\"nonzero\" fill-opacity=\"1\" /><path clip-path=\"url(#clip960)\" d=\"M159.778 541.537 L163.746 541.537 L163.746 546.315 L159.778 546.315 L159.778 541.537 Z\" fill=\"#000000\" fill-rule=\"nonzero\" fill-opacity=\"1\" /><path clip-path=\"url(#clip960)\" d=\"M172.68 543.117 L178.886 543.117 L178.886 521.695 L172.134 523.049 L172.134 519.589 L178.849 518.235 L182.648 518.235 L182.648 543.117 L188.855 543.117 L188.855 546.315 L172.68 546.315 L172.68 543.117 Z\" fill=\"#000000\" fill-rule=\"nonzero\" fill-opacity=\"1\" /><path clip-path=\"url(#clip960)\" d=\"M81.3985 105.405 L89.0374 105.405 L89.0374 79.0397 L80.7272 80.7063 L80.7272 76.4471 L88.9911 74.7805 L93.667 74.7805 L93.667 105.405 L101.306 105.405 L101.306 109.34 L81.3985 109.34 L81.3985 105.405 Z\" fill=\"#000000\" fill-rule=\"nonzero\" fill-opacity=\"1\" /><path clip-path=\"url(#clip960)\" d=\"M120.75 77.8591 Q117.139 77.8591 115.31 81.4239 Q113.505 84.9656 113.505 92.0952 Q113.505 99.2016 115.31 102.766 Q117.139 106.308 120.75 106.308 Q124.384 106.308 126.19 102.766 Q128.019 99.2016 128.019 92.0952 Q128.019 84.9656 126.19 81.4239 Q124.384 77.8591 120.75 77.8591 M120.75 74.1555 Q126.56 74.1555 129.616 78.7619 Q132.695 83.3452 132.695 92.0952 Q132.695 100.822 129.616 105.428 Q126.56 110.012 120.75 110.012 Q114.94 110.012 111.861 105.428 Q108.806 100.822 108.806 92.0952 Q108.806 83.3452 111.861 78.7619 Q114.94 74.1555 120.75 74.1555 Z\" fill=\"#000000\" fill-rule=\"nonzero\" fill-opacity=\"1\" /><path clip-path=\"url(#clip960)\" d=\"M142.399 56.3515 Q139.465 56.3515 137.98 59.2479 Q136.513 62.1255 136.513 67.9183 Q136.513 73.6922 137.98 76.5886 Q139.465 79.4662 142.399 79.4662 Q145.352 79.4662 146.819 76.5886 Q148.305 73.6922 148.305 67.9183 Q148.305 62.1255 146.819 59.2479 Q145.352 56.3515 142.399 56.3515 M142.399 53.3422 Q147.12 53.3422 149.603 57.085 Q152.104 60.8089 152.104 67.9183 Q152.104 75.0088 149.603 78.7515 Q147.12 82.4755 142.399 82.4755 Q137.679 82.4755 135.177 78.7515 Q132.695 75.0088 132.695 67.9183 Q132.695 60.8089 135.177 57.085 Q137.679 53.3422 142.399 53.3422 Z\" fill=\"#000000\" fill-rule=\"nonzero\" fill-opacity=\"1\" /><path clip-path=\"url(#clip960)\" d=\"M158.781 77.1529 L162.749 77.1529 L162.749 81.9301 L158.781 81.9301 L158.781 77.1529 Z\" fill=\"#000000\" fill-rule=\"nonzero\" fill-opacity=\"1\" /><path clip-path=\"url(#clip960)\" d=\"M179.15 56.3515 Q176.216 56.3515 174.73 59.2479 Q173.263 62.1255 173.263 67.9183 Q173.263 73.6922 174.73 76.5886 Q176.216 79.4662 179.15 79.4662 Q182.103 79.4662 183.57 76.5886 Q185.055 73.6922 185.055 67.9183 Q185.055 62.1255 183.57 59.2479 Q182.103 56.3515 179.15 56.3515 M179.15 53.3422 Q183.87 53.3422 186.353 57.085 Q188.855 60.8089 188.855 67.9183 Q188.855 75.0088 186.353 78.7515 Q183.87 82.4755 179.15 82.4755 Q174.429 82.4755 171.928 78.7515 Q169.445 75.0088 169.445 67.9183 Q169.445 60.8089 171.928 57.085 Q174.429 53.3422 179.15 53.3422 Z\" fill=\"#000000\" fill-rule=\"nonzero\" fill-opacity=\"1\" /><polyline clip-path=\"url(#clip962)\" style=\"stroke:#009af9; stroke-linecap:round; stroke-linejoin:round; stroke-width:4; stroke-opacity:1; fill:none\" points=\"285.078,1433.78 326.047,1423.66 367.015,1411.52 407.984,1396.99 448.952,1379.63 489.92,1358.95 530.889,1334.38 571.857,1305.32 612.826,1271.13 653.794,1231.17 694.763,1184.9 735.731,1131.91 776.7,1072.11 817.668,1005.82 858.636,933.915 899.605,857.872 940.573,779.683 981.542,701.641 1022.51,626.015 1063.48,554.744 1104.45,489.228 1145.42,430.27 1186.38,378.133 1227.35,332.671 1268.32,293.467 1309.29,259.948 1350.26,231.482 1391.23,207.431 1432.19,187.192 1473.16,170.214 1514.13,156.006 1555.1,144.14 1596.07,134.244 1637.04,126.001 1678.01,119.141 1718.97,113.438 1759.94,108.698 1800.91,104.762 1841.88,101.494 1882.85,98.7818 1923.82,96.5315 1964.78,94.6647 2005.75,93.1166 2046.72,91.8328 2087.69,90.7683 2128.66,89.8858 2169.63,89.1543 2210.6,88.5479 2251.56,88.0452 2292.53,87.6286 \"/>\n",
       "<path clip-path=\"url(#clip960)\" d=\"M2016.61 1426.6 L2281.83 1426.6 L2281.83 1322.92 L2016.61 1322.92  Z\" fill=\"#ffffff\" fill-rule=\"evenodd\" fill-opacity=\"1\"/>\n",
       "<polyline clip-path=\"url(#clip960)\" style=\"stroke:#000000; stroke-linecap:round; stroke-linejoin:round; stroke-width:4; stroke-opacity:1; fill:none\" points=\"2016.61,1426.6 2281.83,1426.6 2281.83,1322.92 2016.61,1322.92 2016.61,1426.6 \"/>\n",
       "<polyline clip-path=\"url(#clip960)\" style=\"stroke:#009af9; stroke-linecap:round; stroke-linejoin:round; stroke-width:4; stroke-opacity:1; fill:none\" points=\"2040.25,1374.76 2182.11,1374.76 \"/>\n",
       "<path clip-path=\"url(#clip960)\" d=\"M2219.59 1394.45 Q2217.79 1399.08 2216.08 1400.49 Q2214.36 1401.9 2211.49 1401.9 L2208.09 1401.9 L2208.09 1398.34 L2210.59 1398.34 Q2212.35 1398.34 2213.32 1397.5 Q2214.29 1396.67 2215.47 1393.57 L2216.24 1391.62 L2205.75 1366.11 L2210.27 1366.11 L2218.37 1386.39 L2226.47 1366.11 L2230.98 1366.11 L2219.59 1394.45 Z\" fill=\"#000000\" fill-rule=\"nonzero\" fill-opacity=\"1\" /><path clip-path=\"url(#clip960)\" d=\"M2238.28 1388.11 L2245.91 1388.11 L2245.91 1361.74 L2237.6 1363.41 L2237.6 1359.15 L2245.87 1357.48 L2250.54 1357.48 L2250.54 1388.11 L2258.18 1388.11 L2258.18 1392.04 L2238.28 1392.04 L2238.28 1388.11 Z\" fill=\"#000000\" fill-rule=\"nonzero\" fill-opacity=\"1\" /></svg>\n"
      ],
      "text/html": [
       "<?xml version=\"1.0\" encoding=\"utf-8\"?>\n",
       "<svg xmlns=\"http://www.w3.org/2000/svg\" xmlns:xlink=\"http://www.w3.org/1999/xlink\" width=\"600\" height=\"400\" viewBox=\"0 0 2400 1600\">\n",
       "<defs>\n",
       "  <clipPath id=\"clip010\">\n",
       "    <rect x=\"0\" y=\"0\" width=\"2400\" height=\"1600\"/>\n",
       "  </clipPath>\n",
       "</defs>\n",
       "<path clip-path=\"url(#clip010)\" d=\"M0 1600 L2400 1600 L2400 0 L0 0  Z\" fill=\"#ffffff\" fill-rule=\"evenodd\" fill-opacity=\"1\"/>\n",
       "<defs>\n",
       "  <clipPath id=\"clip011\">\n",
       "    <rect x=\"480\" y=\"0\" width=\"1681\" height=\"1600\"/>\n",
       "  </clipPath>\n",
       "</defs>\n",
       "<path clip-path=\"url(#clip010)\" d=\"M224.855 1474.16 L2352.76 1474.16 L2352.76 47.2441 L224.855 47.2441  Z\" fill=\"#ffffff\" fill-rule=\"evenodd\" fill-opacity=\"1\"/>\n",
       "<defs>\n",
       "  <clipPath id=\"clip012\">\n",
       "    <rect x=\"224\" y=\"47\" width=\"2129\" height=\"1428\"/>\n",
       "  </clipPath>\n",
       "</defs>\n",
       "<polyline clip-path=\"url(#clip012)\" style=\"stroke:#000000; stroke-linecap:round; stroke-linejoin:round; stroke-width:2; stroke-opacity:0.1; fill:none\" points=\"786.942,1474.16 786.942,47.2441 \"/>\n",
       "<polyline clip-path=\"url(#clip012)\" style=\"stroke:#000000; stroke-linecap:round; stroke-linejoin:round; stroke-width:2; stroke-opacity:0.1; fill:none\" points=\"1790.67,1474.16 1790.67,47.2441 \"/>\n",
       "<polyline clip-path=\"url(#clip010)\" style=\"stroke:#000000; stroke-linecap:round; stroke-linejoin:round; stroke-width:4; stroke-opacity:1; fill:none\" points=\"224.855,1474.16 2352.76,1474.16 \"/>\n",
       "<polyline clip-path=\"url(#clip010)\" style=\"stroke:#000000; stroke-linecap:round; stroke-linejoin:round; stroke-width:4; stroke-opacity:1; fill:none\" points=\"786.942,1474.16 786.942,1455.27 \"/>\n",
       "<polyline clip-path=\"url(#clip010)\" style=\"stroke:#000000; stroke-linecap:round; stroke-linejoin:round; stroke-width:4; stroke-opacity:1; fill:none\" points=\"1790.67,1474.16 1790.67,1455.27 \"/>\n",
       "<path clip-path=\"url(#clip010)\" d=\"M751.925 1548.29 L759.563 1548.29 L759.563 1521.92 L751.253 1523.59 L751.253 1519.33 L759.517 1517.66 L764.193 1517.66 L764.193 1548.29 L771.832 1548.29 L771.832 1552.22 L751.925 1552.22 L751.925 1548.29 Z\" fill=\"#000000\" fill-rule=\"nonzero\" fill-opacity=\"1\" /><path clip-path=\"url(#clip010)\" d=\"M791.276 1520.74 Q787.665 1520.74 785.836 1524.31 Q784.031 1527.85 784.031 1534.98 Q784.031 1542.09 785.836 1545.65 Q787.665 1549.19 791.276 1549.19 Q794.91 1549.19 796.716 1545.65 Q798.545 1542.09 798.545 1534.98 Q798.545 1527.85 796.716 1524.31 Q794.91 1520.74 791.276 1520.74 M791.276 1517.04 Q797.086 1517.04 800.142 1521.65 Q803.221 1526.23 803.221 1534.98 Q803.221 1543.71 800.142 1548.31 Q797.086 1552.9 791.276 1552.9 Q785.466 1552.9 782.387 1548.31 Q779.332 1543.71 779.332 1534.98 Q779.332 1526.23 782.387 1521.65 Q785.466 1517.04 791.276 1517.04 Z\" fill=\"#000000\" fill-rule=\"nonzero\" fill-opacity=\"1\" /><path clip-path=\"url(#clip010)\" d=\"M812.925 1499.24 Q809.991 1499.24 808.506 1502.13 Q807.039 1505.01 807.039 1510.8 Q807.039 1516.58 808.506 1519.47 Q809.991 1522.35 812.925 1522.35 Q815.878 1522.35 817.345 1519.47 Q818.831 1516.58 818.831 1510.8 Q818.831 1505.01 817.345 1502.13 Q815.878 1499.24 812.925 1499.24 M812.925 1496.23 Q817.646 1496.23 820.129 1499.97 Q822.63 1503.69 822.63 1510.8 Q822.63 1517.89 820.129 1521.64 Q817.646 1525.36 812.925 1525.36 Q808.205 1525.36 805.703 1521.64 Q803.221 1517.89 803.221 1510.8 Q803.221 1503.69 805.703 1499.97 Q808.205 1496.23 812.925 1496.23 Z\" fill=\"#000000\" fill-rule=\"nonzero\" fill-opacity=\"1\" /><path clip-path=\"url(#clip010)\" d=\"M1756.44 1548.29 L1764.08 1548.29 L1764.08 1521.92 L1755.77 1523.59 L1755.77 1519.33 L1764.03 1517.66 L1768.71 1517.66 L1768.71 1548.29 L1776.35 1548.29 L1776.35 1552.22 L1756.44 1552.22 L1756.44 1548.29 Z\" fill=\"#000000\" fill-rule=\"nonzero\" fill-opacity=\"1\" /><path clip-path=\"url(#clip010)\" d=\"M1795.79 1520.74 Q1792.18 1520.74 1790.35 1524.31 Q1788.55 1527.85 1788.55 1534.98 Q1788.55 1542.09 1790.35 1545.65 Q1792.18 1549.19 1795.79 1549.19 Q1799.43 1549.19 1801.23 1545.65 Q1803.06 1542.09 1803.06 1534.98 Q1803.06 1527.85 1801.23 1524.31 Q1799.43 1520.74 1795.79 1520.74 M1795.79 1517.04 Q1801.6 1517.04 1804.66 1521.65 Q1807.74 1526.23 1807.74 1534.98 Q1807.74 1543.71 1804.66 1548.31 Q1801.6 1552.9 1795.79 1552.9 Q1789.98 1552.9 1786.9 1548.31 Q1783.85 1543.71 1783.85 1534.98 Q1783.85 1526.23 1786.9 1521.65 Q1789.98 1517.04 1795.79 1517.04 Z\" fill=\"#000000\" fill-rule=\"nonzero\" fill-opacity=\"1\" /><path clip-path=\"url(#clip010)\" d=\"M1812.31 1521.62 L1825.57 1521.62 L1825.57 1524.81 L1807.74 1524.81 L1807.74 1521.62 Q1809.9 1519.38 1813.62 1515.62 Q1817.37 1511.84 1818.33 1510.75 Q1820.15 1508.7 1820.87 1507.29 Q1821.6 1505.86 1821.6 1504.48 Q1821.6 1502.24 1820.02 1500.83 Q1818.46 1499.42 1815.94 1499.42 Q1814.15 1499.42 1812.16 1500.04 Q1810.18 1500.67 1807.93 1501.93 L1807.93 1498.09 Q1810.22 1497.17 1812.21 1496.7 Q1814.21 1496.23 1815.86 1496.23 Q1820.23 1496.23 1822.82 1498.41 Q1825.42 1500.59 1825.42 1504.24 Q1825.42 1505.97 1824.76 1507.53 Q1824.12 1509.07 1822.41 1511.18 Q1821.94 1511.72 1819.42 1514.34 Q1816.9 1516.93 1812.31 1521.62 Z\" fill=\"#000000\" fill-rule=\"nonzero\" fill-opacity=\"1\" /><polyline clip-path=\"url(#clip012)\" style=\"stroke:#000000; stroke-linecap:round; stroke-linejoin:round; stroke-width:2; stroke-opacity:0.1; fill:none\" points=\"224.855,1014.38 2352.76,1014.38 \"/>\n",
       "<polyline clip-path=\"url(#clip012)\" style=\"stroke:#000000; stroke-linecap:round; stroke-linejoin:round; stroke-width:2; stroke-opacity:0.1; fill:none\" points=\"224.855,549.997 2352.76,549.997 \"/>\n",
       "<polyline clip-path=\"url(#clip012)\" style=\"stroke:#000000; stroke-linecap:round; stroke-linejoin:round; stroke-width:2; stroke-opacity:0.1; fill:none\" points=\"224.855,85.6129 2352.76,85.6129 \"/>\n",
       "<polyline clip-path=\"url(#clip010)\" style=\"stroke:#000000; stroke-linecap:round; stroke-linejoin:round; stroke-width:4; stroke-opacity:1; fill:none\" points=\"224.855,1474.16 224.855,47.2441 \"/>\n",
       "<polyline clip-path=\"url(#clip010)\" style=\"stroke:#000000; stroke-linecap:round; stroke-linejoin:round; stroke-width:4; stroke-opacity:1; fill:none\" points=\"224.855,1014.38 243.752,1014.38 \"/>\n",
       "<polyline clip-path=\"url(#clip010)\" style=\"stroke:#000000; stroke-linecap:round; stroke-linejoin:round; stroke-width:4; stroke-opacity:1; fill:none\" points=\"224.855,549.997 243.752,549.997 \"/>\n",
       "<polyline clip-path=\"url(#clip010)\" style=\"stroke:#000000; stroke-linecap:round; stroke-linejoin:round; stroke-width:4; stroke-opacity:1; fill:none\" points=\"224.855,85.6129 243.752,85.6129 \"/>\n",
       "<path clip-path=\"url(#clip010)\" d=\"M51.9643 1034.17 L59.6032 1034.17 L59.6032 1007.81 L51.2931 1009.48 L51.2931 1005.22 L59.5569 1003.55 L64.2328 1003.55 L64.2328 1034.17 L71.8716 1034.17 L71.8716 1038.11 L51.9643 1038.11 L51.9643 1034.17 Z\" fill=\"#000000\" fill-rule=\"nonzero\" fill-opacity=\"1\" /><path clip-path=\"url(#clip010)\" d=\"M91.316 1006.63 Q87.7049 1006.63 85.8762 1010.19 Q84.0707 1013.73 84.0707 1020.86 Q84.0707 1027.97 85.8762 1031.54 Q87.7049 1035.08 91.316 1035.08 Q94.9502 1035.08 96.7558 1031.54 Q98.5845 1027.97 98.5845 1020.86 Q98.5845 1013.73 96.7558 1010.19 Q94.9502 1006.63 91.316 1006.63 M91.316 1002.92 Q97.1261 1002.92 100.182 1007.53 Q103.26 1012.11 103.26 1020.86 Q103.26 1029.59 100.182 1034.2 Q97.1261 1038.78 91.316 1038.78 Q85.5058 1038.78 82.4271 1034.2 Q79.3716 1029.59 79.3716 1020.86 Q79.3716 1012.11 82.4271 1007.53 Q85.5058 1002.92 91.316 1002.92 Z\" fill=\"#000000\" fill-rule=\"nonzero\" fill-opacity=\"1\" /><path clip-path=\"url(#clip010)\" d=\"M103.26 997.026 L127.372 997.026 L127.372 1000.22 L103.26 1000.22 L103.26 997.026 Z\" fill=\"#000000\" fill-rule=\"nonzero\" fill-opacity=\"1\" /><path clip-path=\"url(#clip010)\" d=\"M143.697 985.12 Q140.763 985.12 139.277 988.017 Q137.81 990.894 137.81 996.687 Q137.81 1002.46 139.277 1005.36 Q140.763 1008.24 143.697 1008.24 Q146.65 1008.24 148.117 1005.36 Q149.603 1002.46 149.603 996.687 Q149.603 990.894 148.117 988.017 Q146.65 985.12 143.697 985.12 M143.697 982.111 Q148.418 982.111 150.9 985.854 Q153.402 989.578 153.402 996.687 Q153.402 1003.78 150.9 1007.52 Q148.418 1011.24 143.697 1011.24 Q138.976 1011.24 136.475 1007.52 Q133.992 1003.78 133.992 996.687 Q133.992 989.578 136.475 985.854 Q138.976 982.111 143.697 982.111 Z\" fill=\"#000000\" fill-rule=\"nonzero\" fill-opacity=\"1\" /><path clip-path=\"url(#clip010)\" d=\"M160.079 1005.92 L164.047 1005.92 L164.047 1010.7 L160.079 1010.7 L160.079 1005.92 Z\" fill=\"#000000\" fill-rule=\"nonzero\" fill-opacity=\"1\" /><path clip-path=\"url(#clip010)\" d=\"M175.595 1007.5 L188.855 1007.5 L188.855 1010.7 L171.025 1010.7 L171.025 1007.5 Q173.188 1005.26 176.912 1001.5 Q180.654 997.722 181.614 996.631 Q183.438 994.581 184.153 993.17 Q184.886 991.741 184.886 990.368 Q184.886 988.13 183.306 986.719 Q181.745 985.308 179.225 985.308 Q177.438 985.308 175.445 985.929 Q173.47 986.55 171.213 987.81 L171.213 983.973 Q173.507 983.052 175.501 982.581 Q177.495 982.111 179.15 982.111 Q183.513 982.111 186.109 984.293 Q188.704 986.475 188.704 990.123 Q188.704 991.854 188.046 993.415 Q187.406 994.957 185.695 997.063 Q185.225 997.609 182.704 1000.22 Q180.184 1002.82 175.595 1007.5 Z\" fill=\"#000000\" fill-rule=\"nonzero\" fill-opacity=\"1\" /><path clip-path=\"url(#clip010)\" d=\"M51.6634 569.79 L59.3023 569.79 L59.3023 543.424 L50.9921 545.091 L50.9921 540.832 L59.256 539.165 L63.9319 539.165 L63.9319 569.79 L71.5707 569.79 L71.5707 573.725 L51.6634 573.725 L51.6634 569.79 Z\" fill=\"#000000\" fill-rule=\"nonzero\" fill-opacity=\"1\" /><path clip-path=\"url(#clip010)\" d=\"M91.0151 542.244 Q87.404 542.244 85.5753 545.808 Q83.7697 549.35 83.7697 556.48 Q83.7697 563.586 85.5753 567.151 Q87.404 570.693 91.0151 570.693 Q94.6493 570.693 96.4548 567.151 Q98.2835 563.586 98.2835 556.48 Q98.2835 549.35 96.4548 545.808 Q94.6493 542.244 91.0151 542.244 M91.0151 538.54 Q96.8252 538.54 99.8808 543.146 Q102.959 547.73 102.959 556.48 Q102.959 565.206 99.8808 569.813 Q96.8252 574.396 91.0151 574.396 Q85.2049 574.396 82.1262 569.813 Q79.0707 565.206 79.0707 556.48 Q79.0707 547.73 82.1262 543.146 Q85.2049 538.54 91.0151 538.54 Z\" fill=\"#000000\" fill-rule=\"nonzero\" fill-opacity=\"1\" /><path clip-path=\"url(#clip010)\" d=\"M102.959 532.641 L127.071 532.641 L127.071 535.839 L102.959 535.839 L102.959 532.641 Z\" fill=\"#000000\" fill-rule=\"nonzero\" fill-opacity=\"1\" /><path clip-path=\"url(#clip010)\" d=\"M143.396 520.736 Q140.462 520.736 138.976 523.632 Q137.509 526.51 137.509 532.303 Q137.509 538.077 138.976 540.973 Q140.462 543.851 143.396 543.851 Q146.349 543.851 147.816 540.973 Q149.302 538.077 149.302 532.303 Q149.302 526.51 147.816 523.632 Q146.349 520.736 143.396 520.736 M143.396 517.727 Q148.117 517.727 150.6 521.469 Q153.101 525.193 153.101 532.303 Q153.101 539.393 150.6 543.136 Q148.117 546.86 143.396 546.86 Q138.675 546.86 136.174 543.136 Q133.691 539.393 133.691 532.303 Q133.691 525.193 136.174 521.469 Q138.675 517.727 143.396 517.727 Z\" fill=\"#000000\" fill-rule=\"nonzero\" fill-opacity=\"1\" /><path clip-path=\"url(#clip010)\" d=\"M159.778 541.537 L163.746 541.537 L163.746 546.315 L159.778 546.315 L159.778 541.537 Z\" fill=\"#000000\" fill-rule=\"nonzero\" fill-opacity=\"1\" /><path clip-path=\"url(#clip010)\" d=\"M172.68 543.117 L178.886 543.117 L178.886 521.695 L172.134 523.049 L172.134 519.589 L178.849 518.235 L182.648 518.235 L182.648 543.117 L188.855 543.117 L188.855 546.315 L172.68 546.315 L172.68 543.117 Z\" fill=\"#000000\" fill-rule=\"nonzero\" fill-opacity=\"1\" /><path clip-path=\"url(#clip010)\" d=\"M81.3985 105.405 L89.0374 105.405 L89.0374 79.0397 L80.7272 80.7063 L80.7272 76.4471 L88.9911 74.7805 L93.667 74.7805 L93.667 105.405 L101.306 105.405 L101.306 109.34 L81.3985 109.34 L81.3985 105.405 Z\" fill=\"#000000\" fill-rule=\"nonzero\" fill-opacity=\"1\" /><path clip-path=\"url(#clip010)\" d=\"M120.75 77.8591 Q117.139 77.8591 115.31 81.4239 Q113.505 84.9656 113.505 92.0952 Q113.505 99.2016 115.31 102.766 Q117.139 106.308 120.75 106.308 Q124.384 106.308 126.19 102.766 Q128.019 99.2016 128.019 92.0952 Q128.019 84.9656 126.19 81.4239 Q124.384 77.8591 120.75 77.8591 M120.75 74.1555 Q126.56 74.1555 129.616 78.7619 Q132.695 83.3452 132.695 92.0952 Q132.695 100.822 129.616 105.428 Q126.56 110.012 120.75 110.012 Q114.94 110.012 111.861 105.428 Q108.806 100.822 108.806 92.0952 Q108.806 83.3452 111.861 78.7619 Q114.94 74.1555 120.75 74.1555 Z\" fill=\"#000000\" fill-rule=\"nonzero\" fill-opacity=\"1\" /><path clip-path=\"url(#clip010)\" d=\"M142.399 56.3515 Q139.465 56.3515 137.98 59.2479 Q136.513 62.1255 136.513 67.9183 Q136.513 73.6922 137.98 76.5886 Q139.465 79.4662 142.399 79.4662 Q145.352 79.4662 146.819 76.5886 Q148.305 73.6922 148.305 67.9183 Q148.305 62.1255 146.819 59.2479 Q145.352 56.3515 142.399 56.3515 M142.399 53.3422 Q147.12 53.3422 149.603 57.085 Q152.104 60.8089 152.104 67.9183 Q152.104 75.0088 149.603 78.7515 Q147.12 82.4755 142.399 82.4755 Q137.679 82.4755 135.177 78.7515 Q132.695 75.0088 132.695 67.9183 Q132.695 60.8089 135.177 57.085 Q137.679 53.3422 142.399 53.3422 Z\" fill=\"#000000\" fill-rule=\"nonzero\" fill-opacity=\"1\" /><path clip-path=\"url(#clip010)\" d=\"M158.781 77.1529 L162.749 77.1529 L162.749 81.9301 L158.781 81.9301 L158.781 77.1529 Z\" fill=\"#000000\" fill-rule=\"nonzero\" fill-opacity=\"1\" /><path clip-path=\"url(#clip010)\" d=\"M179.15 56.3515 Q176.216 56.3515 174.73 59.2479 Q173.263 62.1255 173.263 67.9183 Q173.263 73.6922 174.73 76.5886 Q176.216 79.4662 179.15 79.4662 Q182.103 79.4662 183.57 76.5886 Q185.055 73.6922 185.055 67.9183 Q185.055 62.1255 183.57 59.2479 Q182.103 56.3515 179.15 56.3515 M179.15 53.3422 Q183.87 53.3422 186.353 57.085 Q188.855 60.8089 188.855 67.9183 Q188.855 75.0088 186.353 78.7515 Q183.87 82.4755 179.15 82.4755 Q174.429 82.4755 171.928 78.7515 Q169.445 75.0088 169.445 67.9183 Q169.445 60.8089 171.928 57.085 Q174.429 53.3422 179.15 53.3422 Z\" fill=\"#000000\" fill-rule=\"nonzero\" fill-opacity=\"1\" /><polyline clip-path=\"url(#clip012)\" style=\"stroke:#009af9; stroke-linecap:round; stroke-linejoin:round; stroke-width:4; stroke-opacity:1; fill:none\" points=\"285.078,1433.78 326.047,1423.66 367.015,1411.52 407.984,1396.99 448.952,1379.63 489.92,1358.95 530.889,1334.38 571.857,1305.32 612.826,1271.13 653.794,1231.17 694.763,1184.9 735.731,1131.91 776.7,1072.11 817.668,1005.82 858.636,933.915 899.605,857.872 940.573,779.683 981.542,701.641 1022.51,626.015 1063.48,554.744 1104.45,489.228 1145.42,430.27 1186.38,378.133 1227.35,332.671 1268.32,293.467 1309.29,259.948 1350.26,231.482 1391.23,207.431 1432.19,187.192 1473.16,170.214 1514.13,156.006 1555.1,144.14 1596.07,134.244 1637.04,126.001 1678.01,119.141 1718.97,113.438 1759.94,108.698 1800.91,104.762 1841.88,101.494 1882.85,98.7818 1923.82,96.5315 1964.78,94.6647 2005.75,93.1166 2046.72,91.8328 2087.69,90.7683 2128.66,89.8858 2169.63,89.1543 2210.6,88.5479 2251.56,88.0452 2292.53,87.6286 \"/>\n",
       "<path clip-path=\"url(#clip010)\" d=\"M2016.61 1426.6 L2281.83 1426.6 L2281.83 1322.92 L2016.61 1322.92  Z\" fill=\"#ffffff\" fill-rule=\"evenodd\" fill-opacity=\"1\"/>\n",
       "<polyline clip-path=\"url(#clip010)\" style=\"stroke:#000000; stroke-linecap:round; stroke-linejoin:round; stroke-width:4; stroke-opacity:1; fill:none\" points=\"2016.61,1426.6 2281.83,1426.6 2281.83,1322.92 2016.61,1322.92 2016.61,1426.6 \"/>\n",
       "<polyline clip-path=\"url(#clip010)\" style=\"stroke:#009af9; stroke-linecap:round; stroke-linejoin:round; stroke-width:4; stroke-opacity:1; fill:none\" points=\"2040.25,1374.76 2182.11,1374.76 \"/>\n",
       "<path clip-path=\"url(#clip010)\" d=\"M2219.59 1394.45 Q2217.79 1399.08 2216.08 1400.49 Q2214.36 1401.9 2211.49 1401.9 L2208.09 1401.9 L2208.09 1398.34 L2210.59 1398.34 Q2212.35 1398.34 2213.32 1397.5 Q2214.29 1396.67 2215.47 1393.57 L2216.24 1391.62 L2205.75 1366.11 L2210.27 1366.11 L2218.37 1386.39 L2226.47 1366.11 L2230.98 1366.11 L2219.59 1394.45 Z\" fill=\"#000000\" fill-rule=\"nonzero\" fill-opacity=\"1\" /><path clip-path=\"url(#clip010)\" d=\"M2238.28 1388.11 L2245.91 1388.11 L2245.91 1361.74 L2237.6 1363.41 L2237.6 1359.15 L2245.87 1357.48 L2250.54 1357.48 L2250.54 1388.11 L2258.18 1388.11 L2258.18 1392.04 L2238.28 1392.04 L2238.28 1388.11 Z\" fill=\"#000000\" fill-rule=\"nonzero\" fill-opacity=\"1\" /></svg>\n"
      ]
     },
     "metadata": {},
     "output_type": "display_data"
    }
   ],
   "source": [
    "print(\"lambda = $lambda\\n\")\n",
    "plot(alpha_range, train_errors, yaxis=:log, xaxis=:log)"
   ]
  },
  {
   "cell_type": "code",
   "execution_count": 21,
   "metadata": {},
   "outputs": [
    {
     "data": {
      "image/png": "[encoded data removed]",
      "image/svg+xml": [
       "<?xml version=\"1.0\" encoding=\"utf-8\"?>\n",
       "<svg xmlns=\"http://www.w3.org/2000/svg\" xmlns:xlink=\"http://www.w3.org/1999/xlink\" width=\"600\" height=\"400\" viewBox=\"0 0 2400 1600\">\n",
       "<defs>\n",
       "  <clipPath id=\"clip050\">\n",
       "    <rect x=\"0\" y=\"0\" width=\"2400\" height=\"1600\"/>\n",
       "  </clipPath>\n",
       "</defs>\n",
       "<path clip-path=\"url(#clip050)\" d=\"M0 1600 L2400 1600 L2400 0 L0 0  Z\" fill=\"#ffffff\" fill-rule=\"evenodd\" fill-opacity=\"1\"/>\n",
       "<defs>\n",
       "  <clipPath id=\"clip051\">\n",
       "    <rect x=\"480\" y=\"0\" width=\"1681\" height=\"1600\"/>\n",
       "  </clipPath>\n",
       "</defs>\n",
       "<path clip-path=\"url(#clip050)\" d=\"M188.574 1474.16 L2352.76 1474.16 L2352.76 47.2441 L188.574 47.2441  Z\" fill=\"#ffffff\" fill-rule=\"evenodd\" fill-opacity=\"1\"/>\n",
       "<defs>\n",
       "  <clipPath id=\"clip052\">\n",
       "    <rect x=\"188\" y=\"47\" width=\"2165\" height=\"1428\"/>\n",
       "  </clipPath>\n",
       "</defs>\n",
       "<polyline clip-path=\"url(#clip052)\" style=\"stroke:#000000; stroke-linecap:round; stroke-linejoin:round; stroke-width:2; stroke-opacity:0.1; fill:none\" points=\"760.245,1474.16 760.245,47.2441 \"/>\n",
       "<polyline clip-path=\"url(#clip052)\" style=\"stroke:#000000; stroke-linecap:round; stroke-linejoin:round; stroke-width:2; stroke-opacity:0.1; fill:none\" points=\"1781.09,1474.16 1781.09,47.2441 \"/>\n",
       "<polyline clip-path=\"url(#clip050)\" style=\"stroke:#000000; stroke-linecap:round; stroke-linejoin:round; stroke-width:4; stroke-opacity:1; fill:none\" points=\"188.574,1474.16 2352.76,1474.16 \"/>\n",
       "<polyline clip-path=\"url(#clip050)\" style=\"stroke:#000000; stroke-linecap:round; stroke-linejoin:round; stroke-width:4; stroke-opacity:1; fill:none\" points=\"760.245,1474.16 760.245,1455.27 \"/>\n",
       "<polyline clip-path=\"url(#clip050)\" style=\"stroke:#000000; stroke-linecap:round; stroke-linejoin:round; stroke-width:4; stroke-opacity:1; fill:none\" points=\"1781.09,1474.16 1781.09,1455.27 \"/>\n",
       "<path clip-path=\"url(#clip050)\" d=\"M725.228 1548.29 L732.867 1548.29 L732.867 1521.92 L724.556 1523.59 L724.556 1519.33 L732.82 1517.66 L737.496 1517.66 L737.496 1548.29 L745.135 1548.29 L745.135 1552.22 L725.228 1552.22 L725.228 1548.29 Z\" fill=\"#000000\" fill-rule=\"nonzero\" fill-opacity=\"1\" /><path clip-path=\"url(#clip050)\" d=\"M764.579 1520.74 Q760.968 1520.74 759.14 1524.31 Q757.334 1527.85 757.334 1534.98 Q757.334 1542.09 759.14 1545.65 Q760.968 1549.19 764.579 1549.19 Q768.214 1549.19 770.019 1545.65 Q771.848 1542.09 771.848 1534.98 Q771.848 1527.85 770.019 1524.31 Q768.214 1520.74 764.579 1520.74 M764.579 1517.04 Q770.39 1517.04 773.445 1521.65 Q776.524 1526.23 776.524 1534.98 Q776.524 1543.71 773.445 1548.31 Q770.39 1552.9 764.579 1552.9 Q758.769 1552.9 755.691 1548.31 Q752.635 1543.71 752.635 1534.98 Q752.635 1526.23 755.691 1521.65 Q758.769 1517.04 764.579 1517.04 Z\" fill=\"#000000\" fill-rule=\"nonzero\" fill-opacity=\"1\" /><path clip-path=\"url(#clip050)\" d=\"M786.229 1499.24 Q783.295 1499.24 781.809 1502.13 Q780.342 1505.01 780.342 1510.8 Q780.342 1516.58 781.809 1519.47 Q783.295 1522.35 786.229 1522.35 Q789.181 1522.35 790.648 1519.47 Q792.134 1516.58 792.134 1510.8 Q792.134 1505.01 790.648 1502.13 Q789.181 1499.24 786.229 1499.24 M786.229 1496.23 Q790.949 1496.23 793.432 1499.97 Q795.933 1503.69 795.933 1510.8 Q795.933 1517.89 793.432 1521.64 Q790.949 1525.36 786.229 1525.36 Q781.508 1525.36 779.006 1521.64 Q776.524 1517.89 776.524 1510.8 Q776.524 1503.69 779.006 1499.97 Q781.508 1496.23 786.229 1496.23 Z\" fill=\"#000000\" fill-rule=\"nonzero\" fill-opacity=\"1\" /><path clip-path=\"url(#clip050)\" d=\"M1746.86 1548.29 L1754.5 1548.29 L1754.5 1521.92 L1746.19 1523.59 L1746.19 1519.33 L1754.45 1517.66 L1759.13 1517.66 L1759.13 1548.29 L1766.77 1548.29 L1766.77 1552.22 L1746.86 1552.22 L1746.86 1548.29 Z\" fill=\"#000000\" fill-rule=\"nonzero\" fill-opacity=\"1\" /><path clip-path=\"url(#clip050)\" d=\"M1786.21 1520.74 Q1782.6 1520.74 1780.77 1524.31 Q1778.96 1527.85 1778.96 1534.98 Q1778.96 1542.09 1780.77 1545.65 Q1782.6 1549.19 1786.21 1549.19 Q1789.84 1549.19 1791.65 1545.65 Q1793.48 1542.09 1793.48 1534.98 Q1793.48 1527.85 1791.65 1524.31 Q1789.84 1520.74 1786.21 1520.74 M1786.21 1517.04 Q1792.02 1517.04 1795.08 1521.65 Q1798.15 1526.23 1798.15 1534.98 Q1798.15 1543.71 1795.08 1548.31 Q1792.02 1552.9 1786.21 1552.9 Q1780.4 1552.9 1777.32 1548.31 Q1774.27 1543.71 1774.27 1534.98 Q1774.27 1526.23 1777.32 1521.65 Q1780.4 1517.04 1786.21 1517.04 Z\" fill=\"#000000\" fill-rule=\"nonzero\" fill-opacity=\"1\" /><path clip-path=\"url(#clip050)\" d=\"M1802.72 1521.62 L1815.98 1521.62 L1815.98 1524.81 L1798.15 1524.81 L1798.15 1521.62 Q1800.32 1519.38 1804.04 1515.62 Q1807.78 1511.84 1808.74 1510.75 Q1810.57 1508.7 1811.28 1507.29 Q1812.02 1505.86 1812.02 1504.48 Q1812.02 1502.24 1810.44 1500.83 Q1808.87 1499.42 1806.35 1499.42 Q1804.57 1499.42 1802.57 1500.04 Q1800.6 1500.67 1798.34 1501.93 L1798.34 1498.09 Q1800.64 1497.17 1802.63 1496.7 Q1804.62 1496.23 1806.28 1496.23 Q1810.64 1496.23 1813.24 1498.41 Q1815.83 1500.59 1815.83 1504.24 Q1815.83 1505.97 1815.18 1507.53 Q1814.54 1509.07 1812.82 1511.18 Q1812.35 1511.72 1809.83 1514.34 Q1807.31 1516.93 1802.72 1521.62 Z\" fill=\"#000000\" fill-rule=\"nonzero\" fill-opacity=\"1\" /><polyline clip-path=\"url(#clip052)\" style=\"stroke:#000000; stroke-linecap:round; stroke-linejoin:round; stroke-width:2; stroke-opacity:0.1; fill:none\" points=\"188.574,1433.27 2352.76,1433.27 \"/>\n",
       "<polyline clip-path=\"url(#clip052)\" style=\"stroke:#000000; stroke-linecap:round; stroke-linejoin:round; stroke-width:2; stroke-opacity:0.1; fill:none\" points=\"188.574,852.296 2352.76,852.296 \"/>\n",
       "<polyline clip-path=\"url(#clip052)\" style=\"stroke:#000000; stroke-linecap:round; stroke-linejoin:round; stroke-width:2; stroke-opacity:0.1; fill:none\" points=\"188.574,271.316 2352.76,271.316 \"/>\n",
       "<polyline clip-path=\"url(#clip050)\" style=\"stroke:#000000; stroke-linecap:round; stroke-linejoin:round; stroke-width:4; stroke-opacity:1; fill:none\" points=\"188.574,1474.16 188.574,47.2441 \"/>\n",
       "<polyline clip-path=\"url(#clip050)\" style=\"stroke:#000000; stroke-linecap:round; stroke-linejoin:round; stroke-width:4; stroke-opacity:1; fill:none\" points=\"188.574,1433.27 207.472,1433.27 \"/>\n",
       "<polyline clip-path=\"url(#clip050)\" style=\"stroke:#000000; stroke-linecap:round; stroke-linejoin:round; stroke-width:4; stroke-opacity:1; fill:none\" points=\"188.574,852.296 207.472,852.296 \"/>\n",
       "<polyline clip-path=\"url(#clip050)\" style=\"stroke:#000000; stroke-linecap:round; stroke-linejoin:round; stroke-width:4; stroke-opacity:1; fill:none\" points=\"188.574,271.316 207.472,271.316 \"/>\n",
       "<path clip-path=\"url(#clip050)\" d=\"M51.6634 1453.07 L59.3023 1453.07 L59.3023 1426.7 L50.9921 1428.37 L50.9921 1424.11 L59.256 1422.44 L63.9319 1422.44 L63.9319 1453.07 L71.5707 1453.07 L71.5707 1457 L51.6634 1457 L51.6634 1453.07 Z\" fill=\"#000000\" fill-rule=\"nonzero\" fill-opacity=\"1\" /><path clip-path=\"url(#clip050)\" d=\"M91.0151 1425.52 Q87.404 1425.52 85.5753 1429.09 Q83.7697 1432.63 83.7697 1439.76 Q83.7697 1446.86 85.5753 1450.43 Q87.404 1453.97 91.0151 1453.97 Q94.6493 1453.97 96.4548 1450.43 Q98.2835 1446.86 98.2835 1439.76 Q98.2835 1432.63 96.4548 1429.09 Q94.6493 1425.52 91.0151 1425.52 M91.0151 1421.82 Q96.8252 1421.82 99.8808 1426.42 Q102.959 1431.01 102.959 1439.76 Q102.959 1448.48 99.8808 1453.09 Q96.8252 1457.67 91.0151 1457.67 Q85.2049 1457.67 82.1262 1453.09 Q79.0707 1448.48 79.0707 1439.76 Q79.0707 1431.01 82.1262 1426.42 Q85.2049 1421.82 91.0151 1421.82 Z\" fill=\"#000000\" fill-rule=\"nonzero\" fill-opacity=\"1\" /><path clip-path=\"url(#clip050)\" d=\"M102.959 1415.92 L127.071 1415.92 L127.071 1419.12 L102.959 1419.12 L102.959 1415.92 Z\" fill=\"#000000\" fill-rule=\"nonzero\" fill-opacity=\"1\" /><path clip-path=\"url(#clip050)\" d=\"M146.782 1414.45 Q149.509 1415.03 151.032 1416.88 Q152.574 1418.72 152.574 1421.43 Q152.574 1425.59 149.716 1427.86 Q146.857 1430.14 141.591 1430.14 Q139.823 1430.14 137.942 1429.78 Q136.08 1429.44 134.086 1428.75 L134.086 1425.08 Q135.666 1426 137.547 1426.47 Q139.428 1426.94 141.478 1426.94 Q145.051 1426.94 146.913 1425.53 Q148.794 1424.12 148.794 1421.43 Q148.794 1418.95 147.045 1417.56 Q145.315 1416.14 142.211 1416.14 L138.939 1416.14 L138.939 1413.02 L142.362 1413.02 Q145.164 1413.02 146.65 1411.91 Q148.136 1410.78 148.136 1408.68 Q148.136 1406.52 146.593 1405.37 Q145.07 1404.2 142.211 1404.2 Q140.65 1404.2 138.863 1404.54 Q137.077 1404.88 134.933 1405.59 L134.933 1402.21 Q137.096 1401.61 138.976 1401.31 Q140.876 1401 142.55 1401 Q146.876 1401 149.396 1402.98 Q151.916 1404.94 151.916 1408.28 Q151.916 1410.62 150.581 1412.23 Q149.245 1413.83 146.782 1414.45 Z\" fill=\"#000000\" fill-rule=\"nonzero\" fill-opacity=\"1\" /><path clip-path=\"url(#clip050)\" d=\"M52.4345 872.088 L60.0734 872.088 L60.0734 845.722 L51.7632 847.389 L51.7632 843.13 L60.0271 841.463 L64.703 841.463 L64.703 872.088 L72.3418 872.088 L72.3418 876.023 L52.4345 876.023 L52.4345 872.088 Z\" fill=\"#000000\" fill-rule=\"nonzero\" fill-opacity=\"1\" /><path clip-path=\"url(#clip050)\" d=\"M91.7862 844.542 Q88.1751 844.542 86.3464 848.107 Q84.5408 851.648 84.5408 858.778 Q84.5408 865.884 86.3464 869.449 Q88.1751 872.991 91.7862 872.991 Q95.4204 872.991 97.226 869.449 Q99.0547 865.884 99.0547 858.778 Q99.0547 851.648 97.226 848.107 Q95.4204 844.542 91.7862 844.542 M91.7862 840.838 Q97.5963 840.838 100.652 845.445 Q103.731 850.028 103.731 858.778 Q103.731 867.505 100.652 872.111 Q97.5963 876.694 91.7862 876.694 Q85.976 876.694 82.8973 872.111 Q79.8418 867.505 79.8418 858.778 Q79.8418 850.028 82.8973 845.445 Q85.976 840.838 91.7862 840.838 Z\" fill=\"#000000\" fill-rule=\"nonzero\" fill-opacity=\"1\" /><path clip-path=\"url(#clip050)\" d=\"M103.731 834.94 L127.842 834.94 L127.842 838.137 L103.731 838.137 L103.731 834.94 Z\" fill=\"#000000\" fill-rule=\"nonzero\" fill-opacity=\"1\" /><path clip-path=\"url(#clip050)\" d=\"M139.315 845.415 L152.574 845.415 L152.574 848.613 L134.745 848.613 L134.745 845.415 Q136.907 843.177 140.631 839.416 Q144.374 835.635 145.333 834.545 Q147.158 832.495 147.872 831.084 Q148.606 829.655 148.606 828.282 Q148.606 826.043 147.026 824.633 Q145.465 823.222 142.945 823.222 Q141.158 823.222 139.164 823.843 Q137.19 824.464 134.933 825.724 L134.933 821.887 Q137.227 820.965 139.221 820.495 Q141.214 820.025 142.87 820.025 Q147.233 820.025 149.828 822.207 Q152.424 824.388 152.424 828.037 Q152.424 829.767 151.766 831.328 Q151.126 832.871 149.415 834.977 Q148.944 835.523 146.424 838.137 Q143.904 840.732 139.315 845.415 Z\" fill=\"#000000\" fill-rule=\"nonzero\" fill-opacity=\"1\" /><path clip-path=\"url(#clip050)\" d=\"M52.1336 291.109 L59.7725 291.109 L59.7725 264.743 L51.4623 266.41 L51.4623 262.15 L59.7262 260.484 L64.4021 260.484 L64.4021 291.109 L72.0409 291.109 L72.0409 295.044 L52.1336 295.044 L52.1336 291.109 Z\" fill=\"#000000\" fill-rule=\"nonzero\" fill-opacity=\"1\" /><path clip-path=\"url(#clip050)\" d=\"M91.4853 263.563 Q87.8742 263.563 86.0455 267.127 Q84.2399 270.669 84.2399 277.799 Q84.2399 284.905 86.0455 288.47 Q87.8742 292.011 91.4853 292.011 Q95.1195 292.011 96.925 288.47 Q98.7537 284.905 98.7537 277.799 Q98.7537 270.669 96.925 267.127 Q95.1195 263.563 91.4853 263.563 M91.4853 259.859 Q97.2954 259.859 100.351 264.465 Q103.43 269.049 103.43 277.799 Q103.43 286.525 100.351 291.132 Q97.2954 295.715 91.4853 295.715 Q85.6751 295.715 82.5964 291.132 Q79.5409 286.525 79.5409 277.799 Q79.5409 269.049 82.5964 264.465 Q85.6751 259.859 91.4853 259.859 Z\" fill=\"#000000\" fill-rule=\"nonzero\" fill-opacity=\"1\" /><path clip-path=\"url(#clip050)\" d=\"M103.43 253.96 L127.541 253.96 L127.541 257.157 L103.43 257.157 L103.43 253.96 Z\" fill=\"#000000\" fill-rule=\"nonzero\" fill-opacity=\"1\" /><path clip-path=\"url(#clip050)\" d=\"M136.4 264.436 L142.606 264.436 L142.606 243.014 L135.854 244.368 L135.854 240.908 L142.569 239.553 L146.368 239.553 L146.368 264.436 L152.574 264.436 L152.574 267.633 L136.4 267.633 L136.4 264.436 Z\" fill=\"#000000\" fill-rule=\"nonzero\" fill-opacity=\"1\" /><polyline clip-path=\"url(#clip052)\" style=\"stroke:#009af9; stroke-linecap:round; stroke-linejoin:round; stroke-width:4; stroke-opacity:1; fill:none\" points=\"249.825,796.465 291.492,749.254 333.159,702.14 374.826,655.168 416.493,608.403 458.16,561.935 499.826,515.897 541.493,470.476 583.16,425.936 624.827,382.643 666.494,341.094 708.161,301.939 749.828,266.003 791.495,234.258 833.162,207.768 874.829,187.559 916.496,174.462 958.163,168.954 999.83,171.074 1041.5,180.445 1083.16,196.377 1124.83,218.013 1166.5,244.462 1208.16,274.887 1249.83,308.55 1291.5,344.83 1333.17,383.218 1374.83,423.3 1416.5,464.748 1458.17,507.295 1499.83,550.733 1541.5,594.892 1583.17,639.637 1624.83,684.86 1666.5,730.474 1708.17,776.407 1749.84,822.602 1791.5,869.013 1833.17,915.6 1874.84,962.334 1916.5,1009.19 1958.17,1056.14 1999.84,1103.17 2041.5,1150.28 2083.17,1197.44 2124.84,1244.64 2166.5,1291.88 2208.17,1339.16 2249.84,1386.46 2291.51,1433.78 \"/>\n",
       "<polyline clip-path=\"url(#clip052)\" style=\"stroke:#e26f46; stroke-linecap:round; stroke-linejoin:round; stroke-width:4; stroke-opacity:1; fill:none\" points=\"249.825,627.8 291.492,581.855 333.159,536.259 374.826,491.105 416.493,446.511 458.16,402.631 499.826,359.666 541.493,317.881 583.16,277.62 624.827,239.326 666.494,203.565 708.161,171.04 749.828,142.585 791.495,119.134 833.162,101.639 874.829,90.944 916.496,87.6286 958.163,91.884 999.83,103.466 1041.5,121.754 1083.16,145.882 1124.83,174.894 1166.5,207.866 1208.16,243.978 1249.83,282.546 1291.5,323.019 1333.17,364.968 1374.83,408.06 1416.5,452.039 1458.17,496.711 1499.83,541.926 1541.5,587.57 1583.17,633.553 1624.83,679.807 1666.5,726.279 1708.17,772.926 1749.84,819.714 1791.5,866.617 1833.17,913.613 1874.84,960.686 1916.5,1007.82 1958.17,1055.01 1999.84,1102.24 2041.5,1149.5 2083.17,1196.79 2124.84,1244.11 2166.5,1291.44 2208.17,1338.79 2249.84,1386.15 2291.51,1433.53 \"/>\n",
       "<path clip-path=\"url(#clip050)\" d=\"M1427.86 250.328 L2280.62 250.328 L2280.62 94.8081 L1427.86 94.8081  Z\" fill=\"#ffffff\" fill-rule=\"evenodd\" fill-opacity=\"1\"/>\n",
       "<polyline clip-path=\"url(#clip050)\" style=\"stroke:#000000; stroke-linecap:round; stroke-linejoin:round; stroke-width:4; stroke-opacity:1; fill:none\" points=\"1427.86,250.328 2280.62,250.328 2280.62,94.8081 1427.86,94.8081 1427.86,250.328 \"/>\n",
       "<polyline clip-path=\"url(#clip050)\" style=\"stroke:#009af9; stroke-linecap:round; stroke-linejoin:round; stroke-width:4; stroke-opacity:1; fill:none\" points=\"1451.91,146.648 1596.18,146.648 \"/>\n",
       "<path clip-path=\"url(#clip050)\" d=\"M1620.23 138.002 L1624.74 138.002 L1632.85 159.761 L1640.95 138.002 L1645.46 138.002 L1635.74 163.928 L1629.95 163.928 L1620.23 138.002 Z\" fill=\"#000000\" fill-rule=\"nonzero\" fill-opacity=\"1\" /><path clip-path=\"url(#clip050)\" d=\"M1663.12 150.896 Q1657.96 150.896 1655.97 152.076 Q1653.98 153.257 1653.98 156.104 Q1653.98 158.373 1655.46 159.715 Q1656.97 161.035 1659.54 161.035 Q1663.08 161.035 1665.21 158.535 Q1667.36 156.011 1667.36 151.845 L1667.36 150.896 L1663.12 150.896 M1671.62 149.137 L1671.62 163.928 L1667.36 163.928 L1667.36 159.993 Q1665.9 162.354 1663.73 163.488 Q1661.55 164.599 1658.4 164.599 Q1654.42 164.599 1652.06 162.377 Q1649.72 160.132 1649.72 156.382 Q1649.72 152.007 1652.64 149.785 Q1655.58 147.562 1661.39 147.562 L1667.36 147.562 L1667.36 147.146 Q1667.36 144.206 1665.42 142.609 Q1663.49 140.988 1660 140.988 Q1657.78 140.988 1655.67 141.521 Q1653.56 142.053 1651.62 143.118 L1651.62 139.183 Q1653.96 138.28 1656.16 137.84 Q1658.36 137.377 1660.44 137.377 Q1666.06 137.377 1668.84 140.294 Q1671.62 143.211 1671.62 149.137 Z\" fill=\"#000000\" fill-rule=\"nonzero\" fill-opacity=\"1\" /><path clip-path=\"url(#clip050)\" d=\"M1695.42 141.984 Q1694.7 141.567 1693.84 141.382 Q1693.01 141.174 1691.99 141.174 Q1688.38 141.174 1686.43 143.535 Q1684.51 145.873 1684.51 150.271 L1684.51 163.928 L1680.23 163.928 L1680.23 138.002 L1684.51 138.002 L1684.51 142.03 Q1685.86 139.669 1688.01 138.535 Q1690.16 137.377 1693.24 137.377 Q1693.68 137.377 1694.21 137.447 Q1694.74 137.493 1695.39 137.609 L1695.42 141.984 Z\" fill=\"#000000\" fill-rule=\"nonzero\" fill-opacity=\"1\" /><path clip-path=\"url(#clip050)\" d=\"M1699.88 138.002 L1704.14 138.002 L1704.14 163.928 L1699.88 163.928 L1699.88 138.002 M1699.88 127.91 L1704.14 127.91 L1704.14 133.303 L1699.88 133.303 L1699.88 127.91 Z\" fill=\"#000000\" fill-rule=\"nonzero\" fill-opacity=\"1\" /><path clip-path=\"url(#clip050)\" d=\"M1724.84 150.896 Q1719.67 150.896 1717.68 152.076 Q1715.69 153.257 1715.69 156.104 Q1715.69 158.373 1717.17 159.715 Q1718.68 161.035 1721.25 161.035 Q1724.79 161.035 1726.92 158.535 Q1729.07 156.011 1729.07 151.845 L1729.07 150.896 L1724.84 150.896 M1733.33 149.137 L1733.33 163.928 L1729.07 163.928 L1729.07 159.993 Q1727.61 162.354 1725.44 163.488 Q1723.26 164.599 1720.11 164.599 Q1716.13 164.599 1713.77 162.377 Q1711.43 160.132 1711.43 156.382 Q1711.43 152.007 1714.35 149.785 Q1717.29 147.562 1723.1 147.562 L1729.07 147.562 L1729.07 147.146 Q1729.07 144.206 1727.13 142.609 Q1725.21 140.988 1721.71 140.988 Q1719.49 140.988 1717.38 141.521 Q1715.28 142.053 1713.33 143.118 L1713.33 139.183 Q1715.67 138.28 1717.87 137.84 Q1720.07 137.377 1722.15 137.377 Q1727.78 137.377 1730.55 140.294 Q1733.33 143.211 1733.33 149.137 Z\" fill=\"#000000\" fill-rule=\"nonzero\" fill-opacity=\"1\" /><path clip-path=\"url(#clip050)\" d=\"M1763.66 148.28 L1763.66 163.928 L1759.4 163.928 L1759.4 148.419 Q1759.4 144.738 1757.96 142.91 Q1756.53 141.081 1753.66 141.081 Q1750.21 141.081 1748.22 143.28 Q1746.23 145.479 1746.23 149.275 L1746.23 163.928 L1741.94 163.928 L1741.94 138.002 L1746.23 138.002 L1746.23 142.03 Q1747.75 139.692 1749.81 138.535 Q1751.9 137.377 1754.61 137.377 Q1759.07 137.377 1761.36 140.155 Q1763.66 142.91 1763.66 148.28 Z\" fill=\"#000000\" fill-rule=\"nonzero\" fill-opacity=\"1\" /><path clip-path=\"url(#clip050)\" d=\"M1790.81 138.998 L1790.81 142.979 Q1789 141.984 1787.17 141.498 Q1785.37 140.988 1783.52 140.988 Q1779.37 140.988 1777.08 143.627 Q1774.79 146.243 1774.79 150.988 Q1774.79 155.734 1777.08 158.373 Q1779.37 160.988 1783.52 160.988 Q1785.37 160.988 1787.17 160.502 Q1789 159.993 1790.81 158.998 L1790.81 162.933 Q1789.03 163.766 1787.1 164.183 Q1785.21 164.599 1783.05 164.599 Q1777.2 164.599 1773.75 160.919 Q1770.3 157.238 1770.3 150.988 Q1770.3 144.646 1773.77 141.012 Q1777.27 137.377 1783.33 137.377 Q1785.3 137.377 1787.17 137.794 Q1789.05 138.188 1790.81 138.998 Z\" fill=\"#000000\" fill-rule=\"nonzero\" fill-opacity=\"1\" /><path clip-path=\"url(#clip050)\" d=\"M1820.39 149.9 L1820.39 151.984 L1800.81 151.984 Q1801.09 156.382 1803.45 158.697 Q1805.83 160.988 1810.07 160.988 Q1812.52 160.988 1814.81 160.386 Q1817.13 159.785 1819.4 158.581 L1819.4 162.609 Q1817.1 163.581 1814.7 164.09 Q1812.29 164.599 1809.81 164.599 Q1803.61 164.599 1799.98 160.988 Q1796.36 157.377 1796.36 151.22 Q1796.36 144.854 1799.79 141.127 Q1803.24 137.377 1809.07 137.377 Q1814.3 137.377 1817.34 140.757 Q1820.39 144.113 1820.39 149.9 M1816.13 148.65 Q1816.09 145.155 1814.17 143.072 Q1812.27 140.988 1809.12 140.988 Q1805.55 140.988 1803.4 143.002 Q1801.27 145.016 1800.95 148.674 L1816.13 148.65 Z\" fill=\"#000000\" fill-rule=\"nonzero\" fill-opacity=\"1\" /><path clip-path=\"url(#clip050)\" d=\"M1839.98 138.002 L1844.23 138.002 L1849.56 158.234 L1854.86 138.002 L1859.88 138.002 L1865.21 158.234 L1870.51 138.002 L1874.77 138.002 L1867.98 163.928 L1862.96 163.928 L1857.38 142.678 L1851.78 163.928 L1846.76 163.928 L1839.98 138.002 Z\" fill=\"#000000\" fill-rule=\"nonzero\" fill-opacity=\"1\" /><path clip-path=\"url(#clip050)\" d=\"M1881.22 138.002 L1885.48 138.002 L1885.48 163.928 L1881.22 163.928 L1881.22 138.002 M1881.22 127.91 L1885.48 127.91 L1885.48 133.303 L1881.22 133.303 L1881.22 127.91 Z\" fill=\"#000000\" fill-rule=\"nonzero\" fill-opacity=\"1\" /><path clip-path=\"url(#clip050)\" d=\"M1898.61 130.641 L1898.61 138.002 L1907.38 138.002 L1907.38 141.312 L1898.61 141.312 L1898.61 155.386 Q1898.61 158.558 1899.47 159.461 Q1900.35 160.363 1903.01 160.363 L1907.38 160.363 L1907.38 163.928 L1903.01 163.928 Q1898.08 163.928 1896.2 162.099 Q1894.33 160.248 1894.33 155.386 L1894.33 141.312 L1891.2 141.312 L1891.2 138.002 L1894.33 138.002 L1894.33 130.641 L1898.61 130.641 Z\" fill=\"#000000\" fill-rule=\"nonzero\" fill-opacity=\"1\" /><path clip-path=\"url(#clip050)\" d=\"M1934.53 148.28 L1934.53 163.928 L1930.28 163.928 L1930.28 148.419 Q1930.28 144.738 1928.84 142.91 Q1927.41 141.081 1924.53 141.081 Q1921.09 141.081 1919.1 143.28 Q1917.1 145.479 1917.1 149.275 L1917.1 163.928 L1912.82 163.928 L1912.82 127.91 L1917.1 127.91 L1917.1 142.03 Q1918.63 139.692 1920.69 138.535 Q1922.78 137.377 1925.48 137.377 Q1929.95 137.377 1932.24 140.155 Q1934.53 142.91 1934.53 148.28 Z\" fill=\"#000000\" fill-rule=\"nonzero\" fill-opacity=\"1\" /><path clip-path=\"url(#clip050)\" d=\"M1973.12 141.984 Q1972.4 141.567 1971.55 141.382 Q1970.72 141.174 1969.7 141.174 Q1966.09 141.174 1964.14 143.535 Q1962.22 145.873 1962.22 150.271 L1962.22 163.928 L1957.94 163.928 L1957.94 138.002 L1962.22 138.002 L1962.22 142.03 Q1963.56 139.669 1965.72 138.535 Q1967.87 137.377 1970.95 137.377 Q1971.39 137.377 1971.92 137.447 Q1972.45 137.493 1973.1 137.609 L1973.12 141.984 Z\" fill=\"#000000\" fill-rule=\"nonzero\" fill-opacity=\"1\" /><path clip-path=\"url(#clip050)\" d=\"M1998.72 149.9 L1998.72 151.984 L1979.14 151.984 Q1979.42 156.382 1981.78 158.697 Q1984.16 160.988 1988.4 160.988 Q1990.85 160.988 1993.15 160.386 Q1995.46 159.785 1997.73 158.581 L1997.73 162.609 Q1995.44 163.581 1993.03 164.09 Q1990.62 164.599 1988.15 164.599 Q1981.94 164.599 1978.31 160.988 Q1974.7 157.377 1974.7 151.22 Q1974.7 144.854 1978.12 141.127 Q1981.57 137.377 1987.4 137.377 Q1992.64 137.377 1995.67 140.757 Q1998.72 144.113 1998.72 149.9 M1994.46 148.65 Q1994.42 145.155 1992.5 143.072 Q1990.6 140.988 1987.45 140.988 Q1983.89 140.988 1981.73 143.002 Q1979.6 145.016 1979.28 148.674 L1994.46 148.65 Z\" fill=\"#000000\" fill-rule=\"nonzero\" fill-opacity=\"1\" /><path clip-path=\"url(#clip050)\" d=\"M2022.24 138.766 L2022.24 142.794 Q2020.44 141.868 2018.49 141.405 Q2016.55 140.942 2014.46 140.942 Q2011.29 140.942 2009.7 141.914 Q2008.12 142.887 2008.12 144.831 Q2008.12 146.312 2009.26 147.169 Q2010.39 148.002 2013.82 148.766 L2015.28 149.09 Q2019.81 150.062 2021.71 151.845 Q2023.63 153.604 2023.63 156.775 Q2023.63 160.386 2020.76 162.493 Q2017.91 164.599 2012.91 164.599 Q2010.83 164.599 2008.56 164.183 Q2006.32 163.789 2003.82 162.979 L2003.82 158.581 Q2006.18 159.808 2008.47 160.433 Q2010.76 161.035 2013.01 161.035 Q2016.02 161.035 2017.64 160.016 Q2019.26 158.974 2019.26 157.099 Q2019.26 155.363 2018.08 154.437 Q2016.92 153.512 2012.96 152.655 L2011.48 152.308 Q2007.52 151.474 2005.76 149.762 Q2004 148.025 2004 145.016 Q2004 141.359 2006.59 139.368 Q2009.19 137.377 2013.96 137.377 Q2016.32 137.377 2018.4 137.725 Q2020.48 138.072 2022.24 138.766 Z\" fill=\"#000000\" fill-rule=\"nonzero\" fill-opacity=\"1\" /><path clip-path=\"url(#clip050)\" d=\"M2030.41 138.002 L2034.67 138.002 L2034.67 163.928 L2030.41 163.928 L2030.41 138.002 M2030.41 127.91 L2034.67 127.91 L2034.67 133.303 L2030.41 133.303 L2030.41 127.91 Z\" fill=\"#000000\" fill-rule=\"nonzero\" fill-opacity=\"1\" /><path clip-path=\"url(#clip050)\" d=\"M2060.65 141.937 L2060.65 127.91 L2064.9 127.91 L2064.9 163.928 L2060.65 163.928 L2060.65 160.039 Q2059.3 162.354 2057.24 163.488 Q2055.21 164.599 2052.34 164.599 Q2047.64 164.599 2044.67 160.849 Q2041.73 157.099 2041.73 150.988 Q2041.73 144.877 2044.67 141.127 Q2047.64 137.377 2052.34 137.377 Q2055.21 137.377 2057.24 138.512 Q2059.3 139.623 2060.65 141.937 M2046.13 150.988 Q2046.13 155.687 2048.05 158.373 Q2050 161.035 2053.38 161.035 Q2056.76 161.035 2058.7 158.373 Q2060.65 155.687 2060.65 150.988 Q2060.65 146.289 2058.7 143.627 Q2056.76 140.942 2053.38 140.942 Q2050 140.942 2048.05 143.627 Q2046.13 146.289 2046.13 150.988 Z\" fill=\"#000000\" fill-rule=\"nonzero\" fill-opacity=\"1\" /><path clip-path=\"url(#clip050)\" d=\"M2073.24 153.697 L2073.24 138.002 L2077.5 138.002 L2077.5 153.535 Q2077.5 157.215 2078.93 159.067 Q2080.37 160.896 2083.24 160.896 Q2086.69 160.896 2088.68 158.697 Q2090.69 156.498 2090.69 152.701 L2090.69 138.002 L2094.95 138.002 L2094.95 163.928 L2090.69 163.928 L2090.69 159.947 Q2089.14 162.308 2087.08 163.465 Q2085.04 164.599 2082.33 164.599 Q2077.87 164.599 2075.55 161.822 Q2073.24 159.044 2073.24 153.697 M2083.96 137.377 L2083.96 137.377 Z\" fill=\"#000000\" fill-rule=\"nonzero\" fill-opacity=\"1\" /><path clip-path=\"url(#clip050)\" d=\"M2115.51 150.896 Q2110.34 150.896 2108.35 152.076 Q2106.36 153.257 2106.36 156.104 Q2106.36 158.373 2107.84 159.715 Q2109.35 161.035 2111.92 161.035 Q2115.46 161.035 2117.59 158.535 Q2119.74 156.011 2119.74 151.845 L2119.74 150.896 L2115.51 150.896 M2124 149.137 L2124 163.928 L2119.74 163.928 L2119.74 159.993 Q2118.28 162.354 2116.11 163.488 Q2113.93 164.599 2110.78 164.599 Q2106.8 164.599 2104.44 162.377 Q2102.1 160.132 2102.1 156.382 Q2102.1 152.007 2105.02 149.785 Q2107.96 147.562 2113.77 147.562 L2119.74 147.562 L2119.74 147.146 Q2119.74 144.206 2117.8 142.609 Q2115.88 140.988 2112.38 140.988 Q2110.16 140.988 2108.05 141.521 Q2105.95 142.053 2104 143.118 L2104 139.183 Q2106.34 138.28 2108.54 137.84 Q2110.74 137.377 2112.82 137.377 Q2118.45 137.377 2121.22 140.294 Q2124 143.211 2124 149.137 Z\" fill=\"#000000\" fill-rule=\"nonzero\" fill-opacity=\"1\" /><path clip-path=\"url(#clip050)\" d=\"M2132.77 127.91 L2137.03 127.91 L2137.03 163.928 L2132.77 163.928 L2132.77 127.91 Z\" fill=\"#000000\" fill-rule=\"nonzero\" fill-opacity=\"1\" /><polyline clip-path=\"url(#clip050)\" style=\"stroke:#e26f46; stroke-linecap:round; stroke-linejoin:round; stroke-width:4; stroke-opacity:1; fill:none\" points=\"1451.91,198.488 1596.18,198.488 \"/>\n",
       "<path clip-path=\"url(#clip050)\" d=\"M1620.23 189.842 L1624.74 189.842 L1632.85 211.601 L1640.95 189.842 L1645.46 189.842 L1635.74 215.768 L1629.95 215.768 L1620.23 189.842 Z\" fill=\"#000000\" fill-rule=\"nonzero\" fill-opacity=\"1\" /><path clip-path=\"url(#clip050)\" d=\"M1663.12 202.736 Q1657.96 202.736 1655.97 203.916 Q1653.98 205.097 1653.98 207.944 Q1653.98 210.213 1655.46 211.555 Q1656.97 212.875 1659.54 212.875 Q1663.08 212.875 1665.21 210.375 Q1667.36 207.851 1667.36 203.685 L1667.36 202.736 L1663.12 202.736 M1671.62 200.977 L1671.62 215.768 L1667.36 215.768 L1667.36 211.833 Q1665.9 214.194 1663.73 215.328 Q1661.55 216.439 1658.4 216.439 Q1654.42 216.439 1652.06 214.217 Q1649.72 211.972 1649.72 208.222 Q1649.72 203.847 1652.64 201.625 Q1655.58 199.402 1661.39 199.402 L1667.36 199.402 L1667.36 198.986 Q1667.36 196.046 1665.42 194.449 Q1663.49 192.828 1660 192.828 Q1657.78 192.828 1655.67 193.361 Q1653.56 193.893 1651.62 194.958 L1651.62 191.023 Q1653.96 190.12 1656.16 189.68 Q1658.36 189.217 1660.44 189.217 Q1666.06 189.217 1668.84 192.134 Q1671.62 195.051 1671.62 200.977 Z\" fill=\"#000000\" fill-rule=\"nonzero\" fill-opacity=\"1\" /><path clip-path=\"url(#clip050)\" d=\"M1695.42 193.824 Q1694.7 193.407 1693.84 193.222 Q1693.01 193.014 1691.99 193.014 Q1688.38 193.014 1686.43 195.375 Q1684.51 197.713 1684.51 202.111 L1684.51 215.768 L1680.23 215.768 L1680.23 189.842 L1684.51 189.842 L1684.51 193.87 Q1685.86 191.509 1688.01 190.375 Q1690.16 189.217 1693.24 189.217 Q1693.68 189.217 1694.21 189.287 Q1694.74 189.333 1695.39 189.449 L1695.42 193.824 Z\" fill=\"#000000\" fill-rule=\"nonzero\" fill-opacity=\"1\" /><path clip-path=\"url(#clip050)\" d=\"M1699.88 189.842 L1704.14 189.842 L1704.14 215.768 L1699.88 215.768 L1699.88 189.842 M1699.88 179.75 L1704.14 179.75 L1704.14 185.143 L1699.88 185.143 L1699.88 179.75 Z\" fill=\"#000000\" fill-rule=\"nonzero\" fill-opacity=\"1\" /><path clip-path=\"url(#clip050)\" d=\"M1724.84 202.736 Q1719.67 202.736 1717.68 203.916 Q1715.69 205.097 1715.69 207.944 Q1715.69 210.213 1717.17 211.555 Q1718.68 212.875 1721.25 212.875 Q1724.79 212.875 1726.92 210.375 Q1729.07 207.851 1729.07 203.685 L1729.07 202.736 L1724.84 202.736 M1733.33 200.977 L1733.33 215.768 L1729.07 215.768 L1729.07 211.833 Q1727.61 214.194 1725.44 215.328 Q1723.26 216.439 1720.11 216.439 Q1716.13 216.439 1713.77 214.217 Q1711.43 211.972 1711.43 208.222 Q1711.43 203.847 1714.35 201.625 Q1717.29 199.402 1723.1 199.402 L1729.07 199.402 L1729.07 198.986 Q1729.07 196.046 1727.13 194.449 Q1725.21 192.828 1721.71 192.828 Q1719.49 192.828 1717.38 193.361 Q1715.28 193.893 1713.33 194.958 L1713.33 191.023 Q1715.67 190.12 1717.87 189.68 Q1720.07 189.217 1722.15 189.217 Q1727.78 189.217 1730.55 192.134 Q1733.33 195.051 1733.33 200.977 Z\" fill=\"#000000\" fill-rule=\"nonzero\" fill-opacity=\"1\" /><path clip-path=\"url(#clip050)\" d=\"M1763.66 200.12 L1763.66 215.768 L1759.4 215.768 L1759.4 200.259 Q1759.4 196.578 1757.96 194.75 Q1756.53 192.921 1753.66 192.921 Q1750.21 192.921 1748.22 195.12 Q1746.23 197.319 1746.23 201.115 L1746.23 215.768 L1741.94 215.768 L1741.94 189.842 L1746.23 189.842 L1746.23 193.87 Q1747.75 191.532 1749.81 190.375 Q1751.9 189.217 1754.61 189.217 Q1759.07 189.217 1761.36 191.995 Q1763.66 194.75 1763.66 200.12 Z\" fill=\"#000000\" fill-rule=\"nonzero\" fill-opacity=\"1\" /><path clip-path=\"url(#clip050)\" d=\"M1790.81 190.838 L1790.81 194.819 Q1789 193.824 1787.17 193.338 Q1785.37 192.828 1783.52 192.828 Q1779.37 192.828 1777.08 195.467 Q1774.79 198.083 1774.79 202.828 Q1774.79 207.574 1777.08 210.213 Q1779.37 212.828 1783.52 212.828 Q1785.37 212.828 1787.17 212.342 Q1789 211.833 1790.81 210.838 L1790.81 214.773 Q1789.03 215.606 1787.1 216.023 Q1785.21 216.439 1783.05 216.439 Q1777.2 216.439 1773.75 212.759 Q1770.3 209.078 1770.3 202.828 Q1770.3 196.486 1773.77 192.852 Q1777.27 189.217 1783.33 189.217 Q1785.3 189.217 1787.17 189.634 Q1789.05 190.028 1790.81 190.838 Z\" fill=\"#000000\" fill-rule=\"nonzero\" fill-opacity=\"1\" /><path clip-path=\"url(#clip050)\" d=\"M1820.39 201.74 L1820.39 203.824 L1800.81 203.824 Q1801.09 208.222 1803.45 210.537 Q1805.83 212.828 1810.07 212.828 Q1812.52 212.828 1814.81 212.226 Q1817.13 211.625 1819.4 210.421 L1819.4 214.449 Q1817.1 215.421 1814.7 215.93 Q1812.29 216.439 1809.81 216.439 Q1803.61 216.439 1799.98 212.828 Q1796.36 209.217 1796.36 203.06 Q1796.36 196.694 1799.79 192.967 Q1803.24 189.217 1809.07 189.217 Q1814.3 189.217 1817.34 192.597 Q1820.39 195.953 1820.39 201.74 M1816.13 200.49 Q1816.09 196.995 1814.17 194.912 Q1812.27 192.828 1809.12 192.828 Q1805.55 192.828 1803.4 194.842 Q1801.27 196.856 1800.95 200.514 L1816.13 200.49 Z\" fill=\"#000000\" fill-rule=\"nonzero\" fill-opacity=\"1\" /><path clip-path=\"url(#clip050)\" d=\"M1839.98 189.842 L1844.23 189.842 L1849.56 210.074 L1854.86 189.842 L1859.88 189.842 L1865.21 210.074 L1870.51 189.842 L1874.77 189.842 L1867.98 215.768 L1862.96 215.768 L1857.38 194.518 L1851.78 215.768 L1846.76 215.768 L1839.98 189.842 Z\" fill=\"#000000\" fill-rule=\"nonzero\" fill-opacity=\"1\" /><path clip-path=\"url(#clip050)\" d=\"M1881.22 189.842 L1885.48 189.842 L1885.48 215.768 L1881.22 215.768 L1881.22 189.842 M1881.22 179.75 L1885.48 179.75 L1885.48 185.143 L1881.22 185.143 L1881.22 179.75 Z\" fill=\"#000000\" fill-rule=\"nonzero\" fill-opacity=\"1\" /><path clip-path=\"url(#clip050)\" d=\"M1898.61 182.481 L1898.61 189.842 L1907.38 189.842 L1907.38 193.152 L1898.61 193.152 L1898.61 207.226 Q1898.61 210.398 1899.47 211.301 Q1900.35 212.203 1903.01 212.203 L1907.38 212.203 L1907.38 215.768 L1903.01 215.768 Q1898.08 215.768 1896.2 213.939 Q1894.33 212.088 1894.33 207.226 L1894.33 193.152 L1891.2 193.152 L1891.2 189.842 L1894.33 189.842 L1894.33 182.481 L1898.61 182.481 Z\" fill=\"#000000\" fill-rule=\"nonzero\" fill-opacity=\"1\" /><path clip-path=\"url(#clip050)\" d=\"M1934.53 200.12 L1934.53 215.768 L1930.28 215.768 L1930.28 200.259 Q1930.28 196.578 1928.84 194.75 Q1927.41 192.921 1924.53 192.921 Q1921.09 192.921 1919.1 195.12 Q1917.1 197.319 1917.1 201.115 L1917.1 215.768 L1912.82 215.768 L1912.82 179.75 L1917.1 179.75 L1917.1 193.87 Q1918.63 191.532 1920.69 190.375 Q1922.78 189.217 1925.48 189.217 Q1929.95 189.217 1932.24 191.995 Q1934.53 194.75 1934.53 200.12 Z\" fill=\"#000000\" fill-rule=\"nonzero\" fill-opacity=\"1\" /><path clip-path=\"url(#clip050)\" d=\"M1968.89 218.176 Q1967.08 222.805 1965.37 224.217 Q1963.65 225.629 1960.78 225.629 L1957.38 225.629 L1957.38 222.064 L1959.88 222.064 Q1961.64 222.064 1962.61 221.231 Q1963.59 220.398 1964.77 217.296 L1965.53 215.351 L1955.04 189.842 L1959.56 189.842 L1967.66 210.12 L1975.76 189.842 L1980.28 189.842 L1968.89 218.176 Z\" fill=\"#000000\" fill-rule=\"nonzero\" fill-opacity=\"1\" /><path clip-path=\"url(#clip050)\" d=\"M2016.25 193.824 Q2015.53 193.407 2014.67 193.222 Q2013.84 193.014 2012.82 193.014 Q2009.21 193.014 2007.27 195.375 Q2005.34 197.713 2005.34 202.111 L2005.34 215.768 L2001.06 215.768 L2001.06 189.842 L2005.34 189.842 L2005.34 193.87 Q2006.69 191.509 2008.84 190.375 Q2010.99 189.217 2014.07 189.217 Q2014.51 189.217 2015.04 189.287 Q2015.58 189.333 2016.22 189.449 L2016.25 193.824 Z\" fill=\"#000000\" fill-rule=\"nonzero\" fill-opacity=\"1\" /><path clip-path=\"url(#clip050)\" d=\"M2041.85 201.74 L2041.85 203.824 L2022.27 203.824 Q2022.54 208.222 2024.9 210.537 Q2027.29 212.828 2031.52 212.828 Q2033.98 212.828 2036.27 212.226 Q2038.59 211.625 2040.85 210.421 L2040.85 214.449 Q2038.56 215.421 2036.15 215.93 Q2033.75 216.439 2031.27 216.439 Q2025.07 216.439 2021.43 212.828 Q2017.82 209.217 2017.82 203.06 Q2017.82 196.694 2021.25 192.967 Q2024.7 189.217 2030.53 189.217 Q2035.76 189.217 2038.79 192.597 Q2041.85 195.953 2041.85 201.74 M2037.59 200.49 Q2037.54 196.995 2035.62 194.912 Q2033.72 192.828 2030.58 192.828 Q2027.01 192.828 2024.86 194.842 Q2022.73 196.856 2022.4 200.514 L2037.59 200.49 Z\" fill=\"#000000\" fill-rule=\"nonzero\" fill-opacity=\"1\" /><path clip-path=\"url(#clip050)\" d=\"M2065.37 190.606 L2065.37 194.634 Q2063.56 193.708 2061.62 193.245 Q2059.67 192.782 2057.59 192.782 Q2054.42 192.782 2052.82 193.754 Q2051.25 194.727 2051.25 196.671 Q2051.25 198.152 2052.38 199.009 Q2053.52 199.842 2056.94 200.606 L2058.4 200.93 Q2062.94 201.902 2064.83 203.685 Q2066.76 205.444 2066.76 208.615 Q2066.76 212.226 2063.89 214.333 Q2061.04 216.439 2056.04 216.439 Q2053.96 216.439 2051.69 216.023 Q2049.44 215.629 2046.94 214.819 L2046.94 210.421 Q2049.3 211.648 2051.59 212.273 Q2053.89 212.875 2056.13 212.875 Q2059.14 212.875 2060.76 211.856 Q2062.38 210.814 2062.38 208.939 Q2062.38 207.203 2061.2 206.277 Q2060.04 205.352 2056.09 204.495 L2054.6 204.148 Q2050.65 203.314 2048.89 201.602 Q2047.13 199.865 2047.13 196.856 Q2047.13 193.199 2049.72 191.208 Q2052.31 189.217 2057.08 189.217 Q2059.44 189.217 2061.52 189.565 Q2063.61 189.912 2065.37 190.606 Z\" fill=\"#000000\" fill-rule=\"nonzero\" fill-opacity=\"1\" /><path clip-path=\"url(#clip050)\" d=\"M2085.32 202.736 Q2080.16 202.736 2078.17 203.916 Q2076.18 205.097 2076.18 207.944 Q2076.18 210.213 2077.66 211.555 Q2079.16 212.875 2081.73 212.875 Q2085.27 212.875 2087.4 210.375 Q2089.56 207.851 2089.56 203.685 L2089.56 202.736 L2085.32 202.736 M2093.82 200.977 L2093.82 215.768 L2089.56 215.768 L2089.56 211.833 Q2088.1 214.194 2085.92 215.328 Q2083.75 216.439 2080.6 216.439 Q2076.62 216.439 2074.26 214.217 Q2071.92 211.972 2071.92 208.222 Q2071.92 203.847 2074.83 201.625 Q2077.77 199.402 2083.58 199.402 L2089.56 199.402 L2089.56 198.986 Q2089.56 196.046 2087.61 194.449 Q2085.69 192.828 2082.2 192.828 Q2079.97 192.828 2077.87 193.361 Q2075.76 193.893 2073.82 194.958 L2073.82 191.023 Q2076.15 190.12 2078.35 189.68 Q2080.55 189.217 2082.64 189.217 Q2088.26 189.217 2091.04 192.134 Q2093.82 195.051 2093.82 200.977 Z\" fill=\"#000000\" fill-rule=\"nonzero\" fill-opacity=\"1\" /><path clip-path=\"url(#clip050)\" d=\"M2122.77 194.819 Q2124.37 191.949 2126.59 190.583 Q2128.82 189.217 2131.83 189.217 Q2135.88 189.217 2138.08 192.065 Q2140.27 194.889 2140.27 200.12 L2140.27 215.768 L2135.99 215.768 L2135.99 200.259 Q2135.99 196.532 2134.67 194.727 Q2133.35 192.921 2130.64 192.921 Q2127.33 192.921 2125.41 195.12 Q2123.49 197.319 2123.49 201.115 L2123.49 215.768 L2119.21 215.768 L2119.21 200.259 Q2119.21 196.509 2117.89 194.727 Q2116.57 192.921 2113.82 192.921 Q2110.55 192.921 2108.63 195.143 Q2106.71 197.342 2106.71 201.115 L2106.71 215.768 L2102.43 215.768 L2102.43 189.842 L2106.71 189.842 L2106.71 193.87 Q2108.17 191.486 2110.21 190.352 Q2112.24 189.217 2115.04 189.217 Q2117.87 189.217 2119.83 190.653 Q2121.83 192.088 2122.77 194.819 Z\" fill=\"#000000\" fill-rule=\"nonzero\" fill-opacity=\"1\" /><path clip-path=\"url(#clip050)\" d=\"M2152.89 211.879 L2152.89 225.629 L2148.61 225.629 L2148.61 189.842 L2152.89 189.842 L2152.89 193.777 Q2154.23 191.463 2156.27 190.352 Q2158.33 189.217 2161.18 189.217 Q2165.9 189.217 2168.84 192.967 Q2171.8 196.717 2171.8 202.828 Q2171.8 208.939 2168.84 212.689 Q2165.9 216.439 2161.18 216.439 Q2158.33 216.439 2156.27 215.328 Q2154.23 214.194 2152.89 211.879 M2167.38 202.828 Q2167.38 198.129 2165.44 195.467 Q2163.52 192.782 2160.14 192.782 Q2156.76 192.782 2154.81 195.467 Q2152.89 198.129 2152.89 202.828 Q2152.89 207.527 2154.81 210.213 Q2156.76 212.875 2160.14 212.875 Q2163.52 212.875 2165.44 210.213 Q2167.38 207.527 2167.38 202.828 Z\" fill=\"#000000\" fill-rule=\"nonzero\" fill-opacity=\"1\" /><path clip-path=\"url(#clip050)\" d=\"M2178.86 179.75 L2183.12 179.75 L2183.12 215.768 L2178.86 215.768 L2178.86 179.75 Z\" fill=\"#000000\" fill-rule=\"nonzero\" fill-opacity=\"1\" /><path clip-path=\"url(#clip050)\" d=\"M2192.03 189.842 L2196.29 189.842 L2196.29 215.768 L2192.03 215.768 L2192.03 189.842 M2192.03 179.75 L2196.29 179.75 L2196.29 185.143 L2192.03 185.143 L2192.03 179.75 Z\" fill=\"#000000\" fill-rule=\"nonzero\" fill-opacity=\"1\" /><path clip-path=\"url(#clip050)\" d=\"M2226.76 200.12 L2226.76 215.768 L2222.5 215.768 L2222.5 200.259 Q2222.5 196.578 2221.06 194.75 Q2219.63 192.921 2216.76 192.921 Q2213.31 192.921 2211.32 195.12 Q2209.32 197.319 2209.32 201.115 L2209.32 215.768 L2205.04 215.768 L2205.04 189.842 L2209.32 189.842 L2209.32 193.87 Q2210.85 191.532 2212.91 190.375 Q2215 189.217 2217.7 189.217 Q2222.17 189.217 2224.46 191.995 Q2226.76 194.75 2226.76 200.12 Z\" fill=\"#000000\" fill-rule=\"nonzero\" fill-opacity=\"1\" /><path clip-path=\"url(#clip050)\" d=\"M2252.31 202.504 Q2252.31 197.875 2250.39 195.328 Q2248.49 192.782 2245.04 192.782 Q2241.62 192.782 2239.7 195.328 Q2237.8 197.875 2237.8 202.504 Q2237.8 207.111 2239.7 209.657 Q2241.62 212.203 2245.04 212.203 Q2248.49 212.203 2250.39 209.657 Q2252.31 207.111 2252.31 202.504 M2256.57 212.551 Q2256.57 219.171 2253.63 222.388 Q2250.69 225.629 2244.63 225.629 Q2242.38 225.629 2240.39 225.282 Q2238.4 224.958 2236.52 224.263 L2236.52 220.12 Q2238.4 221.138 2240.23 221.625 Q2242.06 222.111 2243.95 222.111 Q2248.14 222.111 2250.23 219.912 Q2252.31 217.736 2252.31 213.314 L2252.31 211.208 Q2250.99 213.5 2248.93 214.634 Q2246.87 215.768 2244 215.768 Q2239.23 215.768 2236.32 212.134 Q2233.4 208.5 2233.4 202.504 Q2233.4 196.486 2236.32 192.852 Q2239.23 189.217 2244 189.217 Q2246.87 189.217 2248.93 190.352 Q2250.99 191.486 2252.31 193.777 L2252.31 189.842 L2256.57 189.842 L2256.57 212.551 Z\" fill=\"#000000\" fill-rule=\"nonzero\" fill-opacity=\"1\" /></svg>\n"
      ],
      "text/html": [
       "<?xml version=\"1.0\" encoding=\"utf-8\"?>\n",
       "<svg xmlns=\"http://www.w3.org/2000/svg\" xmlns:xlink=\"http://www.w3.org/1999/xlink\" width=\"600\" height=\"400\" viewBox=\"0 0 2400 1600\">\n",
       "<defs>\n",
       "  <clipPath id=\"clip100\">\n",
       "    <rect x=\"0\" y=\"0\" width=\"2400\" height=\"1600\"/>\n",
       "  </clipPath>\n",
       "</defs>\n",
       "<path clip-path=\"url(#clip100)\" d=\"M0 1600 L2400 1600 L2400 0 L0 0  Z\" fill=\"#ffffff\" fill-rule=\"evenodd\" fill-opacity=\"1\"/>\n",
       "<defs>\n",
       "  <clipPath id=\"clip101\">\n",
       "    <rect x=\"480\" y=\"0\" width=\"1681\" height=\"1600\"/>\n",
       "  </clipPath>\n",
       "</defs>\n",
       "<path clip-path=\"url(#clip100)\" d=\"M188.574 1474.16 L2352.76 1474.16 L2352.76 47.2441 L188.574 47.2441  Z\" fill=\"#ffffff\" fill-rule=\"evenodd\" fill-opacity=\"1\"/>\n",
       "<defs>\n",
       "  <clipPath id=\"clip102\">\n",
       "    <rect x=\"188\" y=\"47\" width=\"2165\" height=\"1428\"/>\n",
       "  </clipPath>\n",
       "</defs>\n",
       "<polyline clip-path=\"url(#clip102)\" style=\"stroke:#000000; stroke-linecap:round; stroke-linejoin:round; stroke-width:2; stroke-opacity:0.1; fill:none\" points=\"760.245,1474.16 760.245,47.2441 \"/>\n",
       "<polyline clip-path=\"url(#clip102)\" style=\"stroke:#000000; stroke-linecap:round; stroke-linejoin:round; stroke-width:2; stroke-opacity:0.1; fill:none\" points=\"1781.09,1474.16 1781.09,47.2441 \"/>\n",
       "<polyline clip-path=\"url(#clip100)\" style=\"stroke:#000000; stroke-linecap:round; stroke-linejoin:round; stroke-width:4; stroke-opacity:1; fill:none\" points=\"188.574,1474.16 2352.76,1474.16 \"/>\n",
       "<polyline clip-path=\"url(#clip100)\" style=\"stroke:#000000; stroke-linecap:round; stroke-linejoin:round; stroke-width:4; stroke-opacity:1; fill:none\" points=\"760.245,1474.16 760.245,1455.27 \"/>\n",
       "<polyline clip-path=\"url(#clip100)\" style=\"stroke:#000000; stroke-linecap:round; stroke-linejoin:round; stroke-width:4; stroke-opacity:1; fill:none\" points=\"1781.09,1474.16 1781.09,1455.27 \"/>\n",
       "<path clip-path=\"url(#clip100)\" d=\"M725.228 1548.29 L732.867 1548.29 L732.867 1521.92 L724.556 1523.59 L724.556 1519.33 L732.82 1517.66 L737.496 1517.66 L737.496 1548.29 L745.135 1548.29 L745.135 1552.22 L725.228 1552.22 L725.228 1548.29 Z\" fill=\"#000000\" fill-rule=\"nonzero\" fill-opacity=\"1\" /><path clip-path=\"url(#clip100)\" d=\"M764.579 1520.74 Q760.968 1520.74 759.14 1524.31 Q757.334 1527.85 757.334 1534.98 Q757.334 1542.09 759.14 1545.65 Q760.968 1549.19 764.579 1549.19 Q768.214 1549.19 770.019 1545.65 Q771.848 1542.09 771.848 1534.98 Q771.848 1527.85 770.019 1524.31 Q768.214 1520.74 764.579 1520.74 M764.579 1517.04 Q770.39 1517.04 773.445 1521.65 Q776.524 1526.23 776.524 1534.98 Q776.524 1543.71 773.445 1548.31 Q770.39 1552.9 764.579 1552.9 Q758.769 1552.9 755.691 1548.31 Q752.635 1543.71 752.635 1534.98 Q752.635 1526.23 755.691 1521.65 Q758.769 1517.04 764.579 1517.04 Z\" fill=\"#000000\" fill-rule=\"nonzero\" fill-opacity=\"1\" /><path clip-path=\"url(#clip100)\" d=\"M786.229 1499.24 Q783.295 1499.24 781.809 1502.13 Q780.342 1505.01 780.342 1510.8 Q780.342 1516.58 781.809 1519.47 Q783.295 1522.35 786.229 1522.35 Q789.181 1522.35 790.648 1519.47 Q792.134 1516.58 792.134 1510.8 Q792.134 1505.01 790.648 1502.13 Q789.181 1499.24 786.229 1499.24 M786.229 1496.23 Q790.949 1496.23 793.432 1499.97 Q795.933 1503.69 795.933 1510.8 Q795.933 1517.89 793.432 1521.64 Q790.949 1525.36 786.229 1525.36 Q781.508 1525.36 779.006 1521.64 Q776.524 1517.89 776.524 1510.8 Q776.524 1503.69 779.006 1499.97 Q781.508 1496.23 786.229 1496.23 Z\" fill=\"#000000\" fill-rule=\"nonzero\" fill-opacity=\"1\" /><path clip-path=\"url(#clip100)\" d=\"M1746.86 1548.29 L1754.5 1548.29 L1754.5 1521.92 L1746.19 1523.59 L1746.19 1519.33 L1754.45 1517.66 L1759.13 1517.66 L1759.13 1548.29 L1766.77 1548.29 L1766.77 1552.22 L1746.86 1552.22 L1746.86 1548.29 Z\" fill=\"#000000\" fill-rule=\"nonzero\" fill-opacity=\"1\" /><path clip-path=\"url(#clip100)\" d=\"M1786.21 1520.74 Q1782.6 1520.74 1780.77 1524.31 Q1778.96 1527.85 1778.96 1534.98 Q1778.96 1542.09 1780.77 1545.65 Q1782.6 1549.19 1786.21 1549.19 Q1789.84 1549.19 1791.65 1545.65 Q1793.48 1542.09 1793.48 1534.98 Q1793.48 1527.85 1791.65 1524.31 Q1789.84 1520.74 1786.21 1520.74 M1786.21 1517.04 Q1792.02 1517.04 1795.08 1521.65 Q1798.15 1526.23 1798.15 1534.98 Q1798.15 1543.71 1795.08 1548.31 Q1792.02 1552.9 1786.21 1552.9 Q1780.4 1552.9 1777.32 1548.31 Q1774.27 1543.71 1774.27 1534.98 Q1774.27 1526.23 1777.32 1521.65 Q1780.4 1517.04 1786.21 1517.04 Z\" fill=\"#000000\" fill-rule=\"nonzero\" fill-opacity=\"1\" /><path clip-path=\"url(#clip100)\" d=\"M1802.72 1521.62 L1815.98 1521.62 L1815.98 1524.81 L1798.15 1524.81 L1798.15 1521.62 Q1800.32 1519.38 1804.04 1515.62 Q1807.78 1511.84 1808.74 1510.75 Q1810.57 1508.7 1811.28 1507.29 Q1812.02 1505.86 1812.02 1504.48 Q1812.02 1502.24 1810.44 1500.83 Q1808.87 1499.42 1806.35 1499.42 Q1804.57 1499.42 1802.57 1500.04 Q1800.6 1500.67 1798.34 1501.93 L1798.34 1498.09 Q1800.64 1497.17 1802.63 1496.7 Q1804.62 1496.23 1806.28 1496.23 Q1810.64 1496.23 1813.24 1498.41 Q1815.83 1500.59 1815.83 1504.24 Q1815.83 1505.97 1815.18 1507.53 Q1814.54 1509.07 1812.82 1511.18 Q1812.35 1511.72 1809.83 1514.34 Q1807.31 1516.93 1802.72 1521.62 Z\" fill=\"#000000\" fill-rule=\"nonzero\" fill-opacity=\"1\" /><polyline clip-path=\"url(#clip102)\" style=\"stroke:#000000; stroke-linecap:round; stroke-linejoin:round; stroke-width:2; stroke-opacity:0.1; fill:none\" points=\"188.574,1433.27 2352.76,1433.27 \"/>\n",
       "<polyline clip-path=\"url(#clip102)\" style=\"stroke:#000000; stroke-linecap:round; stroke-linejoin:round; stroke-width:2; stroke-opacity:0.1; fill:none\" points=\"188.574,852.296 2352.76,852.296 \"/>\n",
       "<polyline clip-path=\"url(#clip102)\" style=\"stroke:#000000; stroke-linecap:round; stroke-linejoin:round; stroke-width:2; stroke-opacity:0.1; fill:none\" points=\"188.574,271.316 2352.76,271.316 \"/>\n",
       "<polyline clip-path=\"url(#clip100)\" style=\"stroke:#000000; stroke-linecap:round; stroke-linejoin:round; stroke-width:4; stroke-opacity:1; fill:none\" points=\"188.574,1474.16 188.574,47.2441 \"/>\n",
       "<polyline clip-path=\"url(#clip100)\" style=\"stroke:#000000; stroke-linecap:round; stroke-linejoin:round; stroke-width:4; stroke-opacity:1; fill:none\" points=\"188.574,1433.27 207.472,1433.27 \"/>\n",
       "<polyline clip-path=\"url(#clip100)\" style=\"stroke:#000000; stroke-linecap:round; stroke-linejoin:round; stroke-width:4; stroke-opacity:1; fill:none\" points=\"188.574,852.296 207.472,852.296 \"/>\n",
       "<polyline clip-path=\"url(#clip100)\" style=\"stroke:#000000; stroke-linecap:round; stroke-linejoin:round; stroke-width:4; stroke-opacity:1; fill:none\" points=\"188.574,271.316 207.472,271.316 \"/>\n",
       "<path clip-path=\"url(#clip100)\" d=\"M51.6634 1453.07 L59.3023 1453.07 L59.3023 1426.7 L50.9921 1428.37 L50.9921 1424.11 L59.256 1422.44 L63.9319 1422.44 L63.9319 1453.07 L71.5707 1453.07 L71.5707 1457 L51.6634 1457 L51.6634 1453.07 Z\" fill=\"#000000\" fill-rule=\"nonzero\" fill-opacity=\"1\" /><path clip-path=\"url(#clip100)\" d=\"M91.0151 1425.52 Q87.404 1425.52 85.5753 1429.09 Q83.7697 1432.63 83.7697 1439.76 Q83.7697 1446.86 85.5753 1450.43 Q87.404 1453.97 91.0151 1453.97 Q94.6493 1453.97 96.4548 1450.43 Q98.2835 1446.86 98.2835 1439.76 Q98.2835 1432.63 96.4548 1429.09 Q94.6493 1425.52 91.0151 1425.52 M91.0151 1421.82 Q96.8252 1421.82 99.8808 1426.42 Q102.959 1431.01 102.959 1439.76 Q102.959 1448.48 99.8808 1453.09 Q96.8252 1457.67 91.0151 1457.67 Q85.2049 1457.67 82.1262 1453.09 Q79.0707 1448.48 79.0707 1439.76 Q79.0707 1431.01 82.1262 1426.42 Q85.2049 1421.82 91.0151 1421.82 Z\" fill=\"#000000\" fill-rule=\"nonzero\" fill-opacity=\"1\" /><path clip-path=\"url(#clip100)\" d=\"M102.959 1415.92 L127.071 1415.92 L127.071 1419.12 L102.959 1419.12 L102.959 1415.92 Z\" fill=\"#000000\" fill-rule=\"nonzero\" fill-opacity=\"1\" /><path clip-path=\"url(#clip100)\" d=\"M146.782 1414.45 Q149.509 1415.03 151.032 1416.88 Q152.574 1418.72 152.574 1421.43 Q152.574 1425.59 149.716 1427.86 Q146.857 1430.14 141.591 1430.14 Q139.823 1430.14 137.942 1429.78 Q136.08 1429.44 134.086 1428.75 L134.086 1425.08 Q135.666 1426 137.547 1426.47 Q139.428 1426.94 141.478 1426.94 Q145.051 1426.94 146.913 1425.53 Q148.794 1424.12 148.794 1421.43 Q148.794 1418.95 147.045 1417.56 Q145.315 1416.14 142.211 1416.14 L138.939 1416.14 L138.939 1413.02 L142.362 1413.02 Q145.164 1413.02 146.65 1411.91 Q148.136 1410.78 148.136 1408.68 Q148.136 1406.52 146.593 1405.37 Q145.07 1404.2 142.211 1404.2 Q140.65 1404.2 138.863 1404.54 Q137.077 1404.88 134.933 1405.59 L134.933 1402.21 Q137.096 1401.61 138.976 1401.31 Q140.876 1401 142.55 1401 Q146.876 1401 149.396 1402.98 Q151.916 1404.94 151.916 1408.28 Q151.916 1410.62 150.581 1412.23 Q149.245 1413.83 146.782 1414.45 Z\" fill=\"#000000\" fill-rule=\"nonzero\" fill-opacity=\"1\" /><path clip-path=\"url(#clip100)\" d=\"M52.4345 872.088 L60.0734 872.088 L60.0734 845.722 L51.7632 847.389 L51.7632 843.13 L60.0271 841.463 L64.703 841.463 L64.703 872.088 L72.3418 872.088 L72.3418 876.023 L52.4345 876.023 L52.4345 872.088 Z\" fill=\"#000000\" fill-rule=\"nonzero\" fill-opacity=\"1\" /><path clip-path=\"url(#clip100)\" d=\"M91.7862 844.542 Q88.1751 844.542 86.3464 848.107 Q84.5408 851.648 84.5408 858.778 Q84.5408 865.884 86.3464 869.449 Q88.1751 872.991 91.7862 872.991 Q95.4204 872.991 97.226 869.449 Q99.0547 865.884 99.0547 858.778 Q99.0547 851.648 97.226 848.107 Q95.4204 844.542 91.7862 844.542 M91.7862 840.838 Q97.5963 840.838 100.652 845.445 Q103.731 850.028 103.731 858.778 Q103.731 867.505 100.652 872.111 Q97.5963 876.694 91.7862 876.694 Q85.976 876.694 82.8973 872.111 Q79.8418 867.505 79.8418 858.778 Q79.8418 850.028 82.8973 845.445 Q85.976 840.838 91.7862 840.838 Z\" fill=\"#000000\" fill-rule=\"nonzero\" fill-opacity=\"1\" /><path clip-path=\"url(#clip100)\" d=\"M103.731 834.94 L127.842 834.94 L127.842 838.137 L103.731 838.137 L103.731 834.94 Z\" fill=\"#000000\" fill-rule=\"nonzero\" fill-opacity=\"1\" /><path clip-path=\"url(#clip100)\" d=\"M139.315 845.415 L152.574 845.415 L152.574 848.613 L134.745 848.613 L134.745 845.415 Q136.907 843.177 140.631 839.416 Q144.374 835.635 145.333 834.545 Q147.158 832.495 147.872 831.084 Q148.606 829.655 148.606 828.282 Q148.606 826.043 147.026 824.633 Q145.465 823.222 142.945 823.222 Q141.158 823.222 139.164 823.843 Q137.19 824.464 134.933 825.724 L134.933 821.887 Q137.227 820.965 139.221 820.495 Q141.214 820.025 142.87 820.025 Q147.233 820.025 149.828 822.207 Q152.424 824.388 152.424 828.037 Q152.424 829.767 151.766 831.328 Q151.126 832.871 149.415 834.977 Q148.944 835.523 146.424 838.137 Q143.904 840.732 139.315 845.415 Z\" fill=\"#000000\" fill-rule=\"nonzero\" fill-opacity=\"1\" /><path clip-path=\"url(#clip100)\" d=\"M52.1336 291.109 L59.7725 291.109 L59.7725 264.743 L51.4623 266.41 L51.4623 262.15 L59.7262 260.484 L64.4021 260.484 L64.4021 291.109 L72.0409 291.109 L72.0409 295.044 L52.1336 295.044 L52.1336 291.109 Z\" fill=\"#000000\" fill-rule=\"nonzero\" fill-opacity=\"1\" /><path clip-path=\"url(#clip100)\" d=\"M91.4853 263.563 Q87.8742 263.563 86.0455 267.127 Q84.2399 270.669 84.2399 277.799 Q84.2399 284.905 86.0455 288.47 Q87.8742 292.011 91.4853 292.011 Q95.1195 292.011 96.925 288.47 Q98.7537 284.905 98.7537 277.799 Q98.7537 270.669 96.925 267.127 Q95.1195 263.563 91.4853 263.563 M91.4853 259.859 Q97.2954 259.859 100.351 264.465 Q103.43 269.049 103.43 277.799 Q103.43 286.525 100.351 291.132 Q97.2954 295.715 91.4853 295.715 Q85.6751 295.715 82.5964 291.132 Q79.5409 286.525 79.5409 277.799 Q79.5409 269.049 82.5964 264.465 Q85.6751 259.859 91.4853 259.859 Z\" fill=\"#000000\" fill-rule=\"nonzero\" fill-opacity=\"1\" /><path clip-path=\"url(#clip100)\" d=\"M103.43 253.96 L127.541 253.96 L127.541 257.157 L103.43 257.157 L103.43 253.96 Z\" fill=\"#000000\" fill-rule=\"nonzero\" fill-opacity=\"1\" /><path clip-path=\"url(#clip100)\" d=\"M136.4 264.436 L142.606 264.436 L142.606 243.014 L135.854 244.368 L135.854 240.908 L142.569 239.553 L146.368 239.553 L146.368 264.436 L152.574 264.436 L152.574 267.633 L136.4 267.633 L136.4 264.436 Z\" fill=\"#000000\" fill-rule=\"nonzero\" fill-opacity=\"1\" /><polyline clip-path=\"url(#clip102)\" style=\"stroke:#009af9; stroke-linecap:round; stroke-linejoin:round; stroke-width:4; stroke-opacity:1; fill:none\" points=\"249.825,796.465 291.492,749.254 333.159,702.14 374.826,655.168 416.493,608.403 458.16,561.935 499.826,515.897 541.493,470.476 583.16,425.936 624.827,382.643 666.494,341.094 708.161,301.939 749.828,266.003 791.495,234.258 833.162,207.768 874.829,187.559 916.496,174.462 958.163,168.954 999.83,171.074 1041.5,180.445 1083.16,196.377 1124.83,218.013 1166.5,244.462 1208.16,274.887 1249.83,308.55 1291.5,344.83 1333.17,383.218 1374.83,423.3 1416.5,464.748 1458.17,507.295 1499.83,550.733 1541.5,594.892 1583.17,639.637 1624.83,684.86 1666.5,730.474 1708.17,776.407 1749.84,822.602 1791.5,869.013 1833.17,915.6 1874.84,962.334 1916.5,1009.19 1958.17,1056.14 1999.84,1103.17 2041.5,1150.28 2083.17,1197.44 2124.84,1244.64 2166.5,1291.88 2208.17,1339.16 2249.84,1386.46 2291.51,1433.78 \"/>\n",
       "<polyline clip-path=\"url(#clip102)\" style=\"stroke:#e26f46; stroke-linecap:round; stroke-linejoin:round; stroke-width:4; stroke-opacity:1; fill:none\" points=\"249.825,627.8 291.492,581.855 333.159,536.259 374.826,491.105 416.493,446.511 458.16,402.631 499.826,359.666 541.493,317.881 583.16,277.62 624.827,239.326 666.494,203.565 708.161,171.04 749.828,142.585 791.495,119.134 833.162,101.639 874.829,90.944 916.496,87.6286 958.163,91.884 999.83,103.466 1041.5,121.754 1083.16,145.882 1124.83,174.894 1166.5,207.866 1208.16,243.978 1249.83,282.546 1291.5,323.019 1333.17,364.968 1374.83,408.06 1416.5,452.039 1458.17,496.711 1499.83,541.926 1541.5,587.57 1583.17,633.553 1624.83,679.807 1666.5,726.279 1708.17,772.926 1749.84,819.714 1791.5,866.617 1833.17,913.613 1874.84,960.686 1916.5,1007.82 1958.17,1055.01 1999.84,1102.24 2041.5,1149.5 2083.17,1196.79 2124.84,1244.11 2166.5,1291.44 2208.17,1338.79 2249.84,1386.15 2291.51,1433.53 \"/>\n",
       "<path clip-path=\"url(#clip100)\" d=\"M1427.86 250.328 L2280.62 250.328 L2280.62 94.8081 L1427.86 94.8081  Z\" fill=\"#ffffff\" fill-rule=\"evenodd\" fill-opacity=\"1\"/>\n",
       "<polyline clip-path=\"url(#clip100)\" style=\"stroke:#000000; stroke-linecap:round; stroke-linejoin:round; stroke-width:4; stroke-opacity:1; fill:none\" points=\"1427.86,250.328 2280.62,250.328 2280.62,94.8081 1427.86,94.8081 1427.86,250.328 \"/>\n",
       "<polyline clip-path=\"url(#clip100)\" style=\"stroke:#009af9; stroke-linecap:round; stroke-linejoin:round; stroke-width:4; stroke-opacity:1; fill:none\" points=\"1451.91,146.648 1596.18,146.648 \"/>\n",
       "<path clip-path=\"url(#clip100)\" d=\"M1620.23 138.002 L1624.74 138.002 L1632.85 159.761 L1640.95 138.002 L1645.46 138.002 L1635.74 163.928 L1629.95 163.928 L1620.23 138.002 Z\" fill=\"#000000\" fill-rule=\"nonzero\" fill-opacity=\"1\" /><path clip-path=\"url(#clip100)\" d=\"M1663.12 150.896 Q1657.96 150.896 1655.97 152.076 Q1653.98 153.257 1653.98 156.104 Q1653.98 158.373 1655.46 159.715 Q1656.97 161.035 1659.54 161.035 Q1663.08 161.035 1665.21 158.535 Q1667.36 156.011 1667.36 151.845 L1667.36 150.896 L1663.12 150.896 M1671.62 149.137 L1671.62 163.928 L1667.36 163.928 L1667.36 159.993 Q1665.9 162.354 1663.73 163.488 Q1661.55 164.599 1658.4 164.599 Q1654.42 164.599 1652.06 162.377 Q1649.72 160.132 1649.72 156.382 Q1649.72 152.007 1652.64 149.785 Q1655.58 147.562 1661.39 147.562 L1667.36 147.562 L1667.36 147.146 Q1667.36 144.206 1665.42 142.609 Q1663.49 140.988 1660 140.988 Q1657.78 140.988 1655.67 141.521 Q1653.56 142.053 1651.62 143.118 L1651.62 139.183 Q1653.96 138.28 1656.16 137.84 Q1658.36 137.377 1660.44 137.377 Q1666.06 137.377 1668.84 140.294 Q1671.62 143.211 1671.62 149.137 Z\" fill=\"#000000\" fill-rule=\"nonzero\" fill-opacity=\"1\" /><path clip-path=\"url(#clip100)\" d=\"M1695.42 141.984 Q1694.7 141.567 1693.84 141.382 Q1693.01 141.174 1691.99 141.174 Q1688.38 141.174 1686.43 143.535 Q1684.51 145.873 1684.51 150.271 L1684.51 163.928 L1680.23 163.928 L1680.23 138.002 L1684.51 138.002 L1684.51 142.03 Q1685.86 139.669 1688.01 138.535 Q1690.16 137.377 1693.24 137.377 Q1693.68 137.377 1694.21 137.447 Q1694.74 137.493 1695.39 137.609 L1695.42 141.984 Z\" fill=\"#000000\" fill-rule=\"nonzero\" fill-opacity=\"1\" /><path clip-path=\"url(#clip100)\" d=\"M1699.88 138.002 L1704.14 138.002 L1704.14 163.928 L1699.88 163.928 L1699.88 138.002 M1699.88 127.91 L1704.14 127.91 L1704.14 133.303 L1699.88 133.303 L1699.88 127.91 Z\" fill=\"#000000\" fill-rule=\"nonzero\" fill-opacity=\"1\" /><path clip-path=\"url(#clip100)\" d=\"M1724.84 150.896 Q1719.67 150.896 1717.68 152.076 Q1715.69 153.257 1715.69 156.104 Q1715.69 158.373 1717.17 159.715 Q1718.68 161.035 1721.25 161.035 Q1724.79 161.035 1726.92 158.535 Q1729.07 156.011 1729.07 151.845 L1729.07 150.896 L1724.84 150.896 M1733.33 149.137 L1733.33 163.928 L1729.07 163.928 L1729.07 159.993 Q1727.61 162.354 1725.44 163.488 Q1723.26 164.599 1720.11 164.599 Q1716.13 164.599 1713.77 162.377 Q1711.43 160.132 1711.43 156.382 Q1711.43 152.007 1714.35 149.785 Q1717.29 147.562 1723.1 147.562 L1729.07 147.562 L1729.07 147.146 Q1729.07 144.206 1727.13 142.609 Q1725.21 140.988 1721.71 140.988 Q1719.49 140.988 1717.38 141.521 Q1715.28 142.053 1713.33 143.118 L1713.33 139.183 Q1715.67 138.28 1717.87 137.84 Q1720.07 137.377 1722.15 137.377 Q1727.78 137.377 1730.55 140.294 Q1733.33 143.211 1733.33 149.137 Z\" fill=\"#000000\" fill-rule=\"nonzero\" fill-opacity=\"1\" /><path clip-path=\"url(#clip100)\" d=\"M1763.66 148.28 L1763.66 163.928 L1759.4 163.928 L1759.4 148.419 Q1759.4 144.738 1757.96 142.91 Q1756.53 141.081 1753.66 141.081 Q1750.21 141.081 1748.22 143.28 Q1746.23 145.479 1746.23 149.275 L1746.23 163.928 L1741.94 163.928 L1741.94 138.002 L1746.23 138.002 L1746.23 142.03 Q1747.75 139.692 1749.81 138.535 Q1751.9 137.377 1754.61 137.377 Q1759.07 137.377 1761.36 140.155 Q1763.66 142.91 1763.66 148.28 Z\" fill=\"#000000\" fill-rule=\"nonzero\" fill-opacity=\"1\" /><path clip-path=\"url(#clip100)\" d=\"M1790.81 138.998 L1790.81 142.979 Q1789 141.984 1787.17 141.498 Q1785.37 140.988 1783.52 140.988 Q1779.37 140.988 1777.08 143.627 Q1774.79 146.243 1774.79 150.988 Q1774.79 155.734 1777.08 158.373 Q1779.37 160.988 1783.52 160.988 Q1785.37 160.988 1787.17 160.502 Q1789 159.993 1790.81 158.998 L1790.81 162.933 Q1789.03 163.766 1787.1 164.183 Q1785.21 164.599 1783.05 164.599 Q1777.2 164.599 1773.75 160.919 Q1770.3 157.238 1770.3 150.988 Q1770.3 144.646 1773.77 141.012 Q1777.27 137.377 1783.33 137.377 Q1785.3 137.377 1787.17 137.794 Q1789.05 138.188 1790.81 138.998 Z\" fill=\"#000000\" fill-rule=\"nonzero\" fill-opacity=\"1\" /><path clip-path=\"url(#clip100)\" d=\"M1820.39 149.9 L1820.39 151.984 L1800.81 151.984 Q1801.09 156.382 1803.45 158.697 Q1805.83 160.988 1810.07 160.988 Q1812.52 160.988 1814.81 160.386 Q1817.13 159.785 1819.4 158.581 L1819.4 162.609 Q1817.1 163.581 1814.7 164.09 Q1812.29 164.599 1809.81 164.599 Q1803.61 164.599 1799.98 160.988 Q1796.36 157.377 1796.36 151.22 Q1796.36 144.854 1799.79 141.127 Q1803.24 137.377 1809.07 137.377 Q1814.3 137.377 1817.34 140.757 Q1820.39 144.113 1820.39 149.9 M1816.13 148.65 Q1816.09 145.155 1814.17 143.072 Q1812.27 140.988 1809.12 140.988 Q1805.55 140.988 1803.4 143.002 Q1801.27 145.016 1800.95 148.674 L1816.13 148.65 Z\" fill=\"#000000\" fill-rule=\"nonzero\" fill-opacity=\"1\" /><path clip-path=\"url(#clip100)\" d=\"M1839.98 138.002 L1844.23 138.002 L1849.56 158.234 L1854.86 138.002 L1859.88 138.002 L1865.21 158.234 L1870.51 138.002 L1874.77 138.002 L1867.98 163.928 L1862.96 163.928 L1857.38 142.678 L1851.78 163.928 L1846.76 163.928 L1839.98 138.002 Z\" fill=\"#000000\" fill-rule=\"nonzero\" fill-opacity=\"1\" /><path clip-path=\"url(#clip100)\" d=\"M1881.22 138.002 L1885.48 138.002 L1885.48 163.928 L1881.22 163.928 L1881.22 138.002 M1881.22 127.91 L1885.48 127.91 L1885.48 133.303 L1881.22 133.303 L1881.22 127.91 Z\" fill=\"#000000\" fill-rule=\"nonzero\" fill-opacity=\"1\" /><path clip-path=\"url(#clip100)\" d=\"M1898.61 130.641 L1898.61 138.002 L1907.38 138.002 L1907.38 141.312 L1898.61 141.312 L1898.61 155.386 Q1898.61 158.558 1899.47 159.461 Q1900.35 160.363 1903.01 160.363 L1907.38 160.363 L1907.38 163.928 L1903.01 163.928 Q1898.08 163.928 1896.2 162.099 Q1894.33 160.248 1894.33 155.386 L1894.33 141.312 L1891.2 141.312 L1891.2 138.002 L1894.33 138.002 L1894.33 130.641 L1898.61 130.641 Z\" fill=\"#000000\" fill-rule=\"nonzero\" fill-opacity=\"1\" /><path clip-path=\"url(#clip100)\" d=\"M1934.53 148.28 L1934.53 163.928 L1930.28 163.928 L1930.28 148.419 Q1930.28 144.738 1928.84 142.91 Q1927.41 141.081 1924.53 141.081 Q1921.09 141.081 1919.1 143.28 Q1917.1 145.479 1917.1 149.275 L1917.1 163.928 L1912.82 163.928 L1912.82 127.91 L1917.1 127.91 L1917.1 142.03 Q1918.63 139.692 1920.69 138.535 Q1922.78 137.377 1925.48 137.377 Q1929.95 137.377 1932.24 140.155 Q1934.53 142.91 1934.53 148.28 Z\" fill=\"#000000\" fill-rule=\"nonzero\" fill-opacity=\"1\" /><path clip-path=\"url(#clip100)\" d=\"M1973.12 141.984 Q1972.4 141.567 1971.55 141.382 Q1970.72 141.174 1969.7 141.174 Q1966.09 141.174 1964.14 143.535 Q1962.22 145.873 1962.22 150.271 L1962.22 163.928 L1957.94 163.928 L1957.94 138.002 L1962.22 138.002 L1962.22 142.03 Q1963.56 139.669 1965.72 138.535 Q1967.87 137.377 1970.95 137.377 Q1971.39 137.377 1971.92 137.447 Q1972.45 137.493 1973.1 137.609 L1973.12 141.984 Z\" fill=\"#000000\" fill-rule=\"nonzero\" fill-opacity=\"1\" /><path clip-path=\"url(#clip100)\" d=\"M1998.72 149.9 L1998.72 151.984 L1979.14 151.984 Q1979.42 156.382 1981.78 158.697 Q1984.16 160.988 1988.4 160.988 Q1990.85 160.988 1993.15 160.386 Q1995.46 159.785 1997.73 158.581 L1997.73 162.609 Q1995.44 163.581 1993.03 164.09 Q1990.62 164.599 1988.15 164.599 Q1981.94 164.599 1978.31 160.988 Q1974.7 157.377 1974.7 151.22 Q1974.7 144.854 1978.12 141.127 Q1981.57 137.377 1987.4 137.377 Q1992.64 137.377 1995.67 140.757 Q1998.72 144.113 1998.72 149.9 M1994.46 148.65 Q1994.42 145.155 1992.5 143.072 Q1990.6 140.988 1987.45 140.988 Q1983.89 140.988 1981.73 143.002 Q1979.6 145.016 1979.28 148.674 L1994.46 148.65 Z\" fill=\"#000000\" fill-rule=\"nonzero\" fill-opacity=\"1\" /><path clip-path=\"url(#clip100)\" d=\"M2022.24 138.766 L2022.24 142.794 Q2020.44 141.868 2018.49 141.405 Q2016.55 140.942 2014.46 140.942 Q2011.29 140.942 2009.7 141.914 Q2008.12 142.887 2008.12 144.831 Q2008.12 146.312 2009.26 147.169 Q2010.39 148.002 2013.82 148.766 L2015.28 149.09 Q2019.81 150.062 2021.71 151.845 Q2023.63 153.604 2023.63 156.775 Q2023.63 160.386 2020.76 162.493 Q2017.91 164.599 2012.91 164.599 Q2010.83 164.599 2008.56 164.183 Q2006.32 163.789 2003.82 162.979 L2003.82 158.581 Q2006.18 159.808 2008.47 160.433 Q2010.76 161.035 2013.01 161.035 Q2016.02 161.035 2017.64 160.016 Q2019.26 158.974 2019.26 157.099 Q2019.26 155.363 2018.08 154.437 Q2016.92 153.512 2012.96 152.655 L2011.48 152.308 Q2007.52 151.474 2005.76 149.762 Q2004 148.025 2004 145.016 Q2004 141.359 2006.59 139.368 Q2009.19 137.377 2013.96 137.377 Q2016.32 137.377 2018.4 137.725 Q2020.48 138.072 2022.24 138.766 Z\" fill=\"#000000\" fill-rule=\"nonzero\" fill-opacity=\"1\" /><path clip-path=\"url(#clip100)\" d=\"M2030.41 138.002 L2034.67 138.002 L2034.67 163.928 L2030.41 163.928 L2030.41 138.002 M2030.41 127.91 L2034.67 127.91 L2034.67 133.303 L2030.41 133.303 L2030.41 127.91 Z\" fill=\"#000000\" fill-rule=\"nonzero\" fill-opacity=\"1\" /><path clip-path=\"url(#clip100)\" d=\"M2060.65 141.937 L2060.65 127.91 L2064.9 127.91 L2064.9 163.928 L2060.65 163.928 L2060.65 160.039 Q2059.3 162.354 2057.24 163.488 Q2055.21 164.599 2052.34 164.599 Q2047.64 164.599 2044.67 160.849 Q2041.73 157.099 2041.73 150.988 Q2041.73 144.877 2044.67 141.127 Q2047.64 137.377 2052.34 137.377 Q2055.21 137.377 2057.24 138.512 Q2059.3 139.623 2060.65 141.937 M2046.13 150.988 Q2046.13 155.687 2048.05 158.373 Q2050 161.035 2053.38 161.035 Q2056.76 161.035 2058.7 158.373 Q2060.65 155.687 2060.65 150.988 Q2060.65 146.289 2058.7 143.627 Q2056.76 140.942 2053.38 140.942 Q2050 140.942 2048.05 143.627 Q2046.13 146.289 2046.13 150.988 Z\" fill=\"#000000\" fill-rule=\"nonzero\" fill-opacity=\"1\" /><path clip-path=\"url(#clip100)\" d=\"M2073.24 153.697 L2073.24 138.002 L2077.5 138.002 L2077.5 153.535 Q2077.5 157.215 2078.93 159.067 Q2080.37 160.896 2083.24 160.896 Q2086.69 160.896 2088.68 158.697 Q2090.69 156.498 2090.69 152.701 L2090.69 138.002 L2094.95 138.002 L2094.95 163.928 L2090.69 163.928 L2090.69 159.947 Q2089.14 162.308 2087.08 163.465 Q2085.04 164.599 2082.33 164.599 Q2077.87 164.599 2075.55 161.822 Q2073.24 159.044 2073.24 153.697 M2083.96 137.377 L2083.96 137.377 Z\" fill=\"#000000\" fill-rule=\"nonzero\" fill-opacity=\"1\" /><path clip-path=\"url(#clip100)\" d=\"M2115.51 150.896 Q2110.34 150.896 2108.35 152.076 Q2106.36 153.257 2106.36 156.104 Q2106.36 158.373 2107.84 159.715 Q2109.35 161.035 2111.92 161.035 Q2115.46 161.035 2117.59 158.535 Q2119.74 156.011 2119.74 151.845 L2119.74 150.896 L2115.51 150.896 M2124 149.137 L2124 163.928 L2119.74 163.928 L2119.74 159.993 Q2118.28 162.354 2116.11 163.488 Q2113.93 164.599 2110.78 164.599 Q2106.8 164.599 2104.44 162.377 Q2102.1 160.132 2102.1 156.382 Q2102.1 152.007 2105.02 149.785 Q2107.96 147.562 2113.77 147.562 L2119.74 147.562 L2119.74 147.146 Q2119.74 144.206 2117.8 142.609 Q2115.88 140.988 2112.38 140.988 Q2110.16 140.988 2108.05 141.521 Q2105.95 142.053 2104 143.118 L2104 139.183 Q2106.34 138.28 2108.54 137.84 Q2110.74 137.377 2112.82 137.377 Q2118.45 137.377 2121.22 140.294 Q2124 143.211 2124 149.137 Z\" fill=\"#000000\" fill-rule=\"nonzero\" fill-opacity=\"1\" /><path clip-path=\"url(#clip100)\" d=\"M2132.77 127.91 L2137.03 127.91 L2137.03 163.928 L2132.77 163.928 L2132.77 127.91 Z\" fill=\"#000000\" fill-rule=\"nonzero\" fill-opacity=\"1\" /><polyline clip-path=\"url(#clip100)\" style=\"stroke:#e26f46; stroke-linecap:round; stroke-linejoin:round; stroke-width:4; stroke-opacity:1; fill:none\" points=\"1451.91,198.488 1596.18,198.488 \"/>\n",
       "<path clip-path=\"url(#clip100)\" d=\"M1620.23 189.842 L1624.74 189.842 L1632.85 211.601 L1640.95 189.842 L1645.46 189.842 L1635.74 215.768 L1629.95 215.768 L1620.23 189.842 Z\" fill=\"#000000\" fill-rule=\"nonzero\" fill-opacity=\"1\" /><path clip-path=\"url(#clip100)\" d=\"M1663.12 202.736 Q1657.96 202.736 1655.97 203.916 Q1653.98 205.097 1653.98 207.944 Q1653.98 210.213 1655.46 211.555 Q1656.97 212.875 1659.54 212.875 Q1663.08 212.875 1665.21 210.375 Q1667.36 207.851 1667.36 203.685 L1667.36 202.736 L1663.12 202.736 M1671.62 200.977 L1671.62 215.768 L1667.36 215.768 L1667.36 211.833 Q1665.9 214.194 1663.73 215.328 Q1661.55 216.439 1658.4 216.439 Q1654.42 216.439 1652.06 214.217 Q1649.72 211.972 1649.72 208.222 Q1649.72 203.847 1652.64 201.625 Q1655.58 199.402 1661.39 199.402 L1667.36 199.402 L1667.36 198.986 Q1667.36 196.046 1665.42 194.449 Q1663.49 192.828 1660 192.828 Q1657.78 192.828 1655.67 193.361 Q1653.56 193.893 1651.62 194.958 L1651.62 191.023 Q1653.96 190.12 1656.16 189.68 Q1658.36 189.217 1660.44 189.217 Q1666.06 189.217 1668.84 192.134 Q1671.62 195.051 1671.62 200.977 Z\" fill=\"#000000\" fill-rule=\"nonzero\" fill-opacity=\"1\" /><path clip-path=\"url(#clip100)\" d=\"M1695.42 193.824 Q1694.7 193.407 1693.84 193.222 Q1693.01 193.014 1691.99 193.014 Q1688.38 193.014 1686.43 195.375 Q1684.51 197.713 1684.51 202.111 L1684.51 215.768 L1680.23 215.768 L1680.23 189.842 L1684.51 189.842 L1684.51 193.87 Q1685.86 191.509 1688.01 190.375 Q1690.16 189.217 1693.24 189.217 Q1693.68 189.217 1694.21 189.287 Q1694.74 189.333 1695.39 189.449 L1695.42 193.824 Z\" fill=\"#000000\" fill-rule=\"nonzero\" fill-opacity=\"1\" /><path clip-path=\"url(#clip100)\" d=\"M1699.88 189.842 L1704.14 189.842 L1704.14 215.768 L1699.88 215.768 L1699.88 189.842 M1699.88 179.75 L1704.14 179.75 L1704.14 185.143 L1699.88 185.143 L1699.88 179.75 Z\" fill=\"#000000\" fill-rule=\"nonzero\" fill-opacity=\"1\" /><path clip-path=\"url(#clip100)\" d=\"M1724.84 202.736 Q1719.67 202.736 1717.68 203.916 Q1715.69 205.097 1715.69 207.944 Q1715.69 210.213 1717.17 211.555 Q1718.68 212.875 1721.25 212.875 Q1724.79 212.875 1726.92 210.375 Q1729.07 207.851 1729.07 203.685 L1729.07 202.736 L1724.84 202.736 M1733.33 200.977 L1733.33 215.768 L1729.07 215.768 L1729.07 211.833 Q1727.61 214.194 1725.44 215.328 Q1723.26 216.439 1720.11 216.439 Q1716.13 216.439 1713.77 214.217 Q1711.43 211.972 1711.43 208.222 Q1711.43 203.847 1714.35 201.625 Q1717.29 199.402 1723.1 199.402 L1729.07 199.402 L1729.07 198.986 Q1729.07 196.046 1727.13 194.449 Q1725.21 192.828 1721.71 192.828 Q1719.49 192.828 1717.38 193.361 Q1715.28 193.893 1713.33 194.958 L1713.33 191.023 Q1715.67 190.12 1717.87 189.68 Q1720.07 189.217 1722.15 189.217 Q1727.78 189.217 1730.55 192.134 Q1733.33 195.051 1733.33 200.977 Z\" fill=\"#000000\" fill-rule=\"nonzero\" fill-opacity=\"1\" /><path clip-path=\"url(#clip100)\" d=\"M1763.66 200.12 L1763.66 215.768 L1759.4 215.768 L1759.4 200.259 Q1759.4 196.578 1757.96 194.75 Q1756.53 192.921 1753.66 192.921 Q1750.21 192.921 1748.22 195.12 Q1746.23 197.319 1746.23 201.115 L1746.23 215.768 L1741.94 215.768 L1741.94 189.842 L1746.23 189.842 L1746.23 193.87 Q1747.75 191.532 1749.81 190.375 Q1751.9 189.217 1754.61 189.217 Q1759.07 189.217 1761.36 191.995 Q1763.66 194.75 1763.66 200.12 Z\" fill=\"#000000\" fill-rule=\"nonzero\" fill-opacity=\"1\" /><path clip-path=\"url(#clip100)\" d=\"M1790.81 190.838 L1790.81 194.819 Q1789 193.824 1787.17 193.338 Q1785.37 192.828 1783.52 192.828 Q1779.37 192.828 1777.08 195.467 Q1774.79 198.083 1774.79 202.828 Q1774.79 207.574 1777.08 210.213 Q1779.37 212.828 1783.52 212.828 Q1785.37 212.828 1787.17 212.342 Q1789 211.833 1790.81 210.838 L1790.81 214.773 Q1789.03 215.606 1787.1 216.023 Q1785.21 216.439 1783.05 216.439 Q1777.2 216.439 1773.75 212.759 Q1770.3 209.078 1770.3 202.828 Q1770.3 196.486 1773.77 192.852 Q1777.27 189.217 1783.33 189.217 Q1785.3 189.217 1787.17 189.634 Q1789.05 190.028 1790.81 190.838 Z\" fill=\"#000000\" fill-rule=\"nonzero\" fill-opacity=\"1\" /><path clip-path=\"url(#clip100)\" d=\"M1820.39 201.74 L1820.39 203.824 L1800.81 203.824 Q1801.09 208.222 1803.45 210.537 Q1805.83 212.828 1810.07 212.828 Q1812.52 212.828 1814.81 212.226 Q1817.13 211.625 1819.4 210.421 L1819.4 214.449 Q1817.1 215.421 1814.7 215.93 Q1812.29 216.439 1809.81 216.439 Q1803.61 216.439 1799.98 212.828 Q1796.36 209.217 1796.36 203.06 Q1796.36 196.694 1799.79 192.967 Q1803.24 189.217 1809.07 189.217 Q1814.3 189.217 1817.34 192.597 Q1820.39 195.953 1820.39 201.74 M1816.13 200.49 Q1816.09 196.995 1814.17 194.912 Q1812.27 192.828 1809.12 192.828 Q1805.55 192.828 1803.4 194.842 Q1801.27 196.856 1800.95 200.514 L1816.13 200.49 Z\" fill=\"#000000\" fill-rule=\"nonzero\" fill-opacity=\"1\" /><path clip-path=\"url(#clip100)\" d=\"M1839.98 189.842 L1844.23 189.842 L1849.56 210.074 L1854.86 189.842 L1859.88 189.842 L1865.21 210.074 L1870.51 189.842 L1874.77 189.842 L1867.98 215.768 L1862.96 215.768 L1857.38 194.518 L1851.78 215.768 L1846.76 215.768 L1839.98 189.842 Z\" fill=\"#000000\" fill-rule=\"nonzero\" fill-opacity=\"1\" /><path clip-path=\"url(#clip100)\" d=\"M1881.22 189.842 L1885.48 189.842 L1885.48 215.768 L1881.22 215.768 L1881.22 189.842 M1881.22 179.75 L1885.48 179.75 L1885.48 185.143 L1881.22 185.143 L1881.22 179.75 Z\" fill=\"#000000\" fill-rule=\"nonzero\" fill-opacity=\"1\" /><path clip-path=\"url(#clip100)\" d=\"M1898.61 182.481 L1898.61 189.842 L1907.38 189.842 L1907.38 193.152 L1898.61 193.152 L1898.61 207.226 Q1898.61 210.398 1899.47 211.301 Q1900.35 212.203 1903.01 212.203 L1907.38 212.203 L1907.38 215.768 L1903.01 215.768 Q1898.08 215.768 1896.2 213.939 Q1894.33 212.088 1894.33 207.226 L1894.33 193.152 L1891.2 193.152 L1891.2 189.842 L1894.33 189.842 L1894.33 182.481 L1898.61 182.481 Z\" fill=\"#000000\" fill-rule=\"nonzero\" fill-opacity=\"1\" /><path clip-path=\"url(#clip100)\" d=\"M1934.53 200.12 L1934.53 215.768 L1930.28 215.768 L1930.28 200.259 Q1930.28 196.578 1928.84 194.75 Q1927.41 192.921 1924.53 192.921 Q1921.09 192.921 1919.1 195.12 Q1917.1 197.319 1917.1 201.115 L1917.1 215.768 L1912.82 215.768 L1912.82 179.75 L1917.1 179.75 L1917.1 193.87 Q1918.63 191.532 1920.69 190.375 Q1922.78 189.217 1925.48 189.217 Q1929.95 189.217 1932.24 191.995 Q1934.53 194.75 1934.53 200.12 Z\" fill=\"#000000\" fill-rule=\"nonzero\" fill-opacity=\"1\" /><path clip-path=\"url(#clip100)\" d=\"M1968.89 218.176 Q1967.08 222.805 1965.37 224.217 Q1963.65 225.629 1960.78 225.629 L1957.38 225.629 L1957.38 222.064 L1959.88 222.064 Q1961.64 222.064 1962.61 221.231 Q1963.59 220.398 1964.77 217.296 L1965.53 215.351 L1955.04 189.842 L1959.56 189.842 L1967.66 210.12 L1975.76 189.842 L1980.28 189.842 L1968.89 218.176 Z\" fill=\"#000000\" fill-rule=\"nonzero\" fill-opacity=\"1\" /><path clip-path=\"url(#clip100)\" d=\"M2016.25 193.824 Q2015.53 193.407 2014.67 193.222 Q2013.84 193.014 2012.82 193.014 Q2009.21 193.014 2007.27 195.375 Q2005.34 197.713 2005.34 202.111 L2005.34 215.768 L2001.06 215.768 L2001.06 189.842 L2005.34 189.842 L2005.34 193.87 Q2006.69 191.509 2008.84 190.375 Q2010.99 189.217 2014.07 189.217 Q2014.51 189.217 2015.04 189.287 Q2015.58 189.333 2016.22 189.449 L2016.25 193.824 Z\" fill=\"#000000\" fill-rule=\"nonzero\" fill-opacity=\"1\" /><path clip-path=\"url(#clip100)\" d=\"M2041.85 201.74 L2041.85 203.824 L2022.27 203.824 Q2022.54 208.222 2024.9 210.537 Q2027.29 212.828 2031.52 212.828 Q2033.98 212.828 2036.27 212.226 Q2038.59 211.625 2040.85 210.421 L2040.85 214.449 Q2038.56 215.421 2036.15 215.93 Q2033.75 216.439 2031.27 216.439 Q2025.07 216.439 2021.43 212.828 Q2017.82 209.217 2017.82 203.06 Q2017.82 196.694 2021.25 192.967 Q2024.7 189.217 2030.53 189.217 Q2035.76 189.217 2038.79 192.597 Q2041.85 195.953 2041.85 201.74 M2037.59 200.49 Q2037.54 196.995 2035.62 194.912 Q2033.72 192.828 2030.58 192.828 Q2027.01 192.828 2024.86 194.842 Q2022.73 196.856 2022.4 200.514 L2037.59 200.49 Z\" fill=\"#000000\" fill-rule=\"nonzero\" fill-opacity=\"1\" /><path clip-path=\"url(#clip100)\" d=\"M2065.37 190.606 L2065.37 194.634 Q2063.56 193.708 2061.62 193.245 Q2059.67 192.782 2057.59 192.782 Q2054.42 192.782 2052.82 193.754 Q2051.25 194.727 2051.25 196.671 Q2051.25 198.152 2052.38 199.009 Q2053.52 199.842 2056.94 200.606 L2058.4 200.93 Q2062.94 201.902 2064.83 203.685 Q2066.76 205.444 2066.76 208.615 Q2066.76 212.226 2063.89 214.333 Q2061.04 216.439 2056.04 216.439 Q2053.96 216.439 2051.69 216.023 Q2049.44 215.629 2046.94 214.819 L2046.94 210.421 Q2049.3 211.648 2051.59 212.273 Q2053.89 212.875 2056.13 212.875 Q2059.14 212.875 2060.76 211.856 Q2062.38 210.814 2062.38 208.939 Q2062.38 207.203 2061.2 206.277 Q2060.04 205.352 2056.09 204.495 L2054.6 204.148 Q2050.65 203.314 2048.89 201.602 Q2047.13 199.865 2047.13 196.856 Q2047.13 193.199 2049.72 191.208 Q2052.31 189.217 2057.08 189.217 Q2059.44 189.217 2061.52 189.565 Q2063.61 189.912 2065.37 190.606 Z\" fill=\"#000000\" fill-rule=\"nonzero\" fill-opacity=\"1\" /><path clip-path=\"url(#clip100)\" d=\"M2085.32 202.736 Q2080.16 202.736 2078.17 203.916 Q2076.18 205.097 2076.18 207.944 Q2076.18 210.213 2077.66 211.555 Q2079.16 212.875 2081.73 212.875 Q2085.27 212.875 2087.4 210.375 Q2089.56 207.851 2089.56 203.685 L2089.56 202.736 L2085.32 202.736 M2093.82 200.977 L2093.82 215.768 L2089.56 215.768 L2089.56 211.833 Q2088.1 214.194 2085.92 215.328 Q2083.75 216.439 2080.6 216.439 Q2076.62 216.439 2074.26 214.217 Q2071.92 211.972 2071.92 208.222 Q2071.92 203.847 2074.83 201.625 Q2077.77 199.402 2083.58 199.402 L2089.56 199.402 L2089.56 198.986 Q2089.56 196.046 2087.61 194.449 Q2085.69 192.828 2082.2 192.828 Q2079.97 192.828 2077.87 193.361 Q2075.76 193.893 2073.82 194.958 L2073.82 191.023 Q2076.15 190.12 2078.35 189.68 Q2080.55 189.217 2082.64 189.217 Q2088.26 189.217 2091.04 192.134 Q2093.82 195.051 2093.82 200.977 Z\" fill=\"#000000\" fill-rule=\"nonzero\" fill-opacity=\"1\" /><path clip-path=\"url(#clip100)\" d=\"M2122.77 194.819 Q2124.37 191.949 2126.59 190.583 Q2128.82 189.217 2131.83 189.217 Q2135.88 189.217 2138.08 192.065 Q2140.27 194.889 2140.27 200.12 L2140.27 215.768 L2135.99 215.768 L2135.99 200.259 Q2135.99 196.532 2134.67 194.727 Q2133.35 192.921 2130.64 192.921 Q2127.33 192.921 2125.41 195.12 Q2123.49 197.319 2123.49 201.115 L2123.49 215.768 L2119.21 215.768 L2119.21 200.259 Q2119.21 196.509 2117.89 194.727 Q2116.57 192.921 2113.82 192.921 Q2110.55 192.921 2108.63 195.143 Q2106.71 197.342 2106.71 201.115 L2106.71 215.768 L2102.43 215.768 L2102.43 189.842 L2106.71 189.842 L2106.71 193.87 Q2108.17 191.486 2110.21 190.352 Q2112.24 189.217 2115.04 189.217 Q2117.87 189.217 2119.83 190.653 Q2121.83 192.088 2122.77 194.819 Z\" fill=\"#000000\" fill-rule=\"nonzero\" fill-opacity=\"1\" /><path clip-path=\"url(#clip100)\" d=\"M2152.89 211.879 L2152.89 225.629 L2148.61 225.629 L2148.61 189.842 L2152.89 189.842 L2152.89 193.777 Q2154.23 191.463 2156.27 190.352 Q2158.33 189.217 2161.18 189.217 Q2165.9 189.217 2168.84 192.967 Q2171.8 196.717 2171.8 202.828 Q2171.8 208.939 2168.84 212.689 Q2165.9 216.439 2161.18 216.439 Q2158.33 216.439 2156.27 215.328 Q2154.23 214.194 2152.89 211.879 M2167.38 202.828 Q2167.38 198.129 2165.44 195.467 Q2163.52 192.782 2160.14 192.782 Q2156.76 192.782 2154.81 195.467 Q2152.89 198.129 2152.89 202.828 Q2152.89 207.527 2154.81 210.213 Q2156.76 212.875 2160.14 212.875 Q2163.52 212.875 2165.44 210.213 Q2167.38 207.527 2167.38 202.828 Z\" fill=\"#000000\" fill-rule=\"nonzero\" fill-opacity=\"1\" /><path clip-path=\"url(#clip100)\" d=\"M2178.86 179.75 L2183.12 179.75 L2183.12 215.768 L2178.86 215.768 L2178.86 179.75 Z\" fill=\"#000000\" fill-rule=\"nonzero\" fill-opacity=\"1\" /><path clip-path=\"url(#clip100)\" d=\"M2192.03 189.842 L2196.29 189.842 L2196.29 215.768 L2192.03 215.768 L2192.03 189.842 M2192.03 179.75 L2196.29 179.75 L2196.29 185.143 L2192.03 185.143 L2192.03 179.75 Z\" fill=\"#000000\" fill-rule=\"nonzero\" fill-opacity=\"1\" /><path clip-path=\"url(#clip100)\" d=\"M2226.76 200.12 L2226.76 215.768 L2222.5 215.768 L2222.5 200.259 Q2222.5 196.578 2221.06 194.75 Q2219.63 192.921 2216.76 192.921 Q2213.31 192.921 2211.32 195.12 Q2209.32 197.319 2209.32 201.115 L2209.32 215.768 L2205.04 215.768 L2205.04 189.842 L2209.32 189.842 L2209.32 193.87 Q2210.85 191.532 2212.91 190.375 Q2215 189.217 2217.7 189.217 Q2222.17 189.217 2224.46 191.995 Q2226.76 194.75 2226.76 200.12 Z\" fill=\"#000000\" fill-rule=\"nonzero\" fill-opacity=\"1\" /><path clip-path=\"url(#clip100)\" d=\"M2252.31 202.504 Q2252.31 197.875 2250.39 195.328 Q2248.49 192.782 2245.04 192.782 Q2241.62 192.782 2239.7 195.328 Q2237.8 197.875 2237.8 202.504 Q2237.8 207.111 2239.7 209.657 Q2241.62 212.203 2245.04 212.203 Q2248.49 212.203 2250.39 209.657 Q2252.31 207.111 2252.31 202.504 M2256.57 212.551 Q2256.57 219.171 2253.63 222.388 Q2250.69 225.629 2244.63 225.629 Q2242.38 225.629 2240.39 225.282 Q2238.4 224.958 2236.52 224.263 L2236.52 220.12 Q2238.4 221.138 2240.23 221.625 Q2242.06 222.111 2243.95 222.111 Q2248.14 222.111 2250.23 219.912 Q2252.31 217.736 2252.31 213.314 L2252.31 211.208 Q2250.99 213.5 2248.93 214.634 Q2246.87 215.768 2244 215.768 Q2239.23 215.768 2236.32 212.134 Q2233.4 208.5 2233.4 202.504 Q2233.4 196.486 2236.32 192.852 Q2239.23 189.217 2244 189.217 Q2246.87 189.217 2248.93 190.352 Q2250.99 191.486 2252.31 193.777 L2252.31 189.842 L2256.57 189.842 L2256.57 212.551 Z\" fill=\"#000000\" fill-rule=\"nonzero\" fill-opacity=\"1\" /></svg>\n"
      ]
     },
     "metadata": {},
     "output_type": "display_data"
    }
   ],
   "source": [
    "# compare the variance when we do the residual bootstrap vs. resampling the y\n",
    "# NOTE : quand alpha est très grand, l'erreur va tendre vers 0 donc on a une variance qui tend aussi vers 0 \n",
    "# d'une autre côté, le resampling de y aura de - en - d'effet car on a bcp de donné donc la variance de \n",
    "# l'estimateur\n",
    "\n",
    "residual_variance   = [o[\"q\"][1, 1] - o[\"q\"][1, 2] for o in parametric_residual_overlaps ]\n",
    "y_resample_variance = [o[\"q\"][1, 1] - o[\"q\"][1, 2] for o in y_resampling_overlaps ]\n",
    "\n",
    "plot(alpha_range, residual_variance, yaxis=:log, xaxis=:log, label=\"variance with residual\")\n",
    "plot!(alpha_range, y_resample_variance, label=\"variance with y resampling\")"
   ]
  }
 ],
 "metadata": {
  "kernelspec": {
   "display_name": "Julia 1.10.0",
   "language": "julia",
   "name": "julia-1.10"
  },
  "language_info": {
   "file_extension": ".jl",
   "mimetype": "application/julia",
   "name": "julia",
   "version": "1.10.0"
  }
 },
 "nbformat": 4,
 "nbformat_minor": 2
}
