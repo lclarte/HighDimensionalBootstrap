{
 "cells": [
  {
   "cell_type": "code",
   "execution_count": 3,
   "metadata": {},
   "outputs": [],
   "source": [
    "using JSON\n",
    "using Plots\n",
    "using ProgressBars\n",
    "using LogisticBootstrapStateEvolution"
   ]
  },
  {
   "cell_type": "code",
   "execution_count": 4,
   "metadata": {},
   "outputs": [
    {
     "data": {
      "text/plain": [
       "190-element Vector{Any}:\n",
       " 1.1657388411272638\n",
       " 1.164646231808562\n",
       " 1.1635641251077804\n",
       " 1.162496654741952\n",
       " 1.1614651114168377\n",
       " 1.160422011381984\n",
       " 1.1593903474139693\n",
       " 1.1583699820020341\n",
       " 1.1573607879366992\n",
       " 1.1563626142997627\n",
       " ⋮\n",
       " 1.0728573409980322\n",
       " 1.0726315709908874\n",
       " 1.0724072441888035\n",
       " 1.0721843473601285\n",
       " 1.0719628670251067\n",
       " 1.0717427900762082\n",
       " 1.0715241034157963\n",
       " 1.071306794322454\n",
       " 1.071090850096216"
      ]
     },
     "metadata": {},
     "output_type": "display_data"
    }
   ],
   "source": [
    "lambda_type = \"lambda_error\" # can be \"lambda_loss\"\n",
    "\n",
    "dict         = JSON.parsefile(\"../data/$lambda_type.json\")\n",
    "alpha_range  = dict[\"alpha\"]\n",
    "lambda_range = dict[lambda_type]"
   ]
  },
  {
   "cell_type": "code",
   "execution_count": 3,
   "metadata": {},
   "outputs": [
    {
     "name": "stdout",
     "output_type": "stream",
     "text": [
      "alpha = 0.5, lambda = 1.1657388411272638\n"
     ]
    },
    {
     "name": "stdout",
     "output_type": "stream",
     "text": [
      "alpha = 0.55, lambda = 1.164646231808562\n"
     ]
    },
    {
     "name": "stdout",
     "output_type": "stream",
     "text": [
      "alpha = 0.6000000000000001, lambda = 1.1635641251077804\n"
     ]
    },
    {
     "name": "stdout",
     "output_type": "stream",
     "text": [
      "Warning: state evolution did not converge after 100 iterations\n",
      "alpha = 0.6500000000000001, lambda = 1.162496654741952\n"
     ]
    },
    {
     "name": "stdout",
     "output_type": "stream",
     "text": [
      "alpha = 0.7000000000000002, lambda = 1.1614651114168377\n"
     ]
    },
    {
     "name": "stdout",
     "output_type": "stream",
     "text": [
      "alpha = 0.7500000000000002, lambda = 1.160422011381984\n"
     ]
    },
    {
     "name": "stdout",
     "output_type": "stream",
     "text": [
      "Warning: state evolution did not converge after 100 iterations\n",
      "alpha = 0.8000000000000003, lambda = 1.1593903474139693\n"
     ]
    },
    {
     "name": "stdout",
     "output_type": "stream",
     "text": [
      "alpha = 0.8500000000000003, lambda = 1.1583699820020341\n"
     ]
    },
    {
     "name": "stdout",
     "output_type": "stream",
     "text": [
      "alpha = 0.9000000000000004, lambda = 1.1573607879366992\n"
     ]
    },
    {
     "name": "stdout",
     "output_type": "stream",
     "text": [
      "alpha = 0.9500000000000004, lambda = 1.1563626142997627\n"
     ]
    },
    {
     "name": "stdout",
     "output_type": "stream",
     "text": [
      "alpha = 1.0000000000000004, lambda = 1.1553753334808636\n"
     ]
    },
    {
     "name": "stdout",
     "output_type": "stream",
     "text": [
      "alpha = 1.0500000000000005, lambda = 1.154398811848578\n"
     ]
    },
    {
     "name": "stdout",
     "output_type": "stream",
     "text": [
      "alpha = 1.1000000000000005, lambda = 1.153432916212457\n"
     ]
    },
    {
     "name": "stdout",
     "output_type": "stream",
     "text": [
      "alpha = 1.1500000000000006, lambda = 1.152477514704027\n"
     ]
    },
    {
     "name": "stdout",
     "output_type": "stream",
     "text": [
      "alpha = 1.2000000000000006, lambda = 1.1515324760243772\n"
     ]
    },
    {
     "name": "stdout",
     "output_type": "stream",
     "text": [
      "alpha = 1.2500000000000007, lambda = 1.1505976699406315\n"
     ]
    },
    {
     "name": "stdout",
     "output_type": "stream",
     "text": [
      "alpha = 1.3000000000000007, lambda = 1.1496729671576607\n"
     ]
    },
    {
     "name": "stdout",
     "output_type": "stream",
     "text": [
      "alpha = 1.3500000000000008, lambda = 1.1487582396932328\n"
     ]
    },
    {
     "name": "stdout",
     "output_type": "stream",
     "text": [
      "alpha = 1.4000000000000008, lambda = 1.147853360371921\n"
     ]
    },
    {
     "name": "stdout",
     "output_type": "stream",
     "text": [
      "alpha = 1.4500000000000008, lambda = 1.146958203272857\n"
     ]
    },
    {
     "name": "stdout",
     "output_type": "stream",
     "text": [
      "alpha = 1.5000000000000009, lambda = 1.1460726436479547\n"
     ]
    },
    {
     "name": "stdout",
     "output_type": "stream",
     "text": [
      "alpha = 1.550000000000001, lambda = 1.1451965579757926\n"
     ]
    },
    {
     "name": "stdout",
     "output_type": "stream",
     "text": [
      "alpha = 1.600000000000001, lambda = 1.1443298237088535\n"
     ]
    },
    {
     "name": "stdout",
     "output_type": "stream",
     "text": [
      "alpha = 1.650000000000001, lambda = 1.1434723192314824\n"
     ]
    },
    {
     "name": "stdout",
     "output_type": "stream",
     "text": [
      "alpha = 1.700000000000001, lambda = 1.1426239251314385\n"
     ]
    },
    {
     "name": "stdout",
     "output_type": "stream",
     "text": [
      "alpha = 1.750000000000001, lambda = 1.1417807944818965\n"
     ]
    },
    {
     "name": "stdout",
     "output_type": "stream",
     "text": [
      "alpha = 1.8000000000000012, lambda = 1.1409486716614443\n"
     ]
    },
    {
     "name": "stdout",
     "output_type": "stream",
     "text": [
      "alpha = 1.8500000000000012, lambda = 1.140126572993539\n"
     ]
    },
    {
     "name": "stdout",
     "output_type": "stream",
     "text": [
      "alpha = 1.9000000000000012, lambda = 1.1393164203827935\n"
     ]
    },
    {
     "name": "stdout",
     "output_type": "stream",
     "text": [
      "alpha = 1.9500000000000013, lambda = 1.138511427210524\n"
     ]
    },
    {
     "name": "stdout",
     "output_type": "stream",
     "text": [
      "alpha = 2.0000000000000013, lambda = 1.1377148458985962\n"
     ]
    },
    {
     "name": "stdout",
     "output_type": "stream",
     "text": [
      "alpha = 2.0500000000000016, lambda = 1.1369265729711326\n"
     ]
    },
    {
     "name": "stdout",
     "output_type": "stream",
     "text": [
      "alpha = 2.1000000000000014, lambda = 1.1361465000728268\n"
     ]
    },
    {
     "name": "stdout",
     "output_type": "stream",
     "text": [
      "alpha = 2.1500000000000012, lambda = 1.135374520003139\n"
     ]
    },
    {
     "name": "stdout",
     "output_type": "stream",
     "text": [
      "alpha = 2.2000000000000015, lambda = 1.1346105271186326\n"
     ]
    },
    {
     "name": "stdout",
     "output_type": "stream",
     "text": [
      "alpha = 2.2500000000000018, lambda = 1.133854416938867\n"
     ]
    },
    {
     "name": "stdout",
     "output_type": "stream",
     "text": [
      "alpha = 2.3000000000000016, lambda = 1.1331060863434046\n"
     ]
    },
    {
     "name": "stdout",
     "output_type": "stream",
     "text": [
      "alpha = 2.3500000000000014, lambda = 1.1323654335538034\n"
     ]
    },
    {
     "name": "stdout",
     "output_type": "stream",
     "text": [
      "alpha = 2.4000000000000017, lambda = 1.1316323581058205\n"
     ]
    },
    {
     "name": "stdout",
     "output_type": "stream",
     "text": [
      "alpha = 2.450000000000002, lambda = 1.1309067607728716\n"
     ]
    },
    {
     "name": "stdout",
     "output_type": "stream",
     "text": [
      "alpha = 2.5000000000000018, lambda = 1.1301885437028982\n"
     ]
    },
    {
     "name": "stdout",
     "output_type": "stream",
     "text": [
      "alpha = 2.5500000000000016, lambda = 1.1294776104378226\n"
     ]
    },
    {
     "name": "stdout",
     "output_type": "stream",
     "text": [
      "alpha = 2.600000000000002, lambda = 1.1287731896182882\n"
     ]
    },
    {
     "name": "stdout",
     "output_type": "stream",
     "text": [
      "alpha = 2.650000000000002, lambda = 1.1280765901083198\n"
     ]
    },
    {
     "name": "stdout",
     "output_type": "stream",
     "text": [
      "alpha = 2.700000000000002, lambda = 1.127386989746107\n"
     ]
    },
    {
     "name": "stdout",
     "output_type": "stream",
     "text": [
      "alpha = 2.7500000000000018, lambda = 1.1267042969371586\n"
     ]
    },
    {
     "name": "stdout",
     "output_type": "stream",
     "text": [
      "alpha = 2.800000000000002, lambda = 1.1260284212453988\n"
     ]
    },
    {
     "name": "stdout",
     "output_type": "stream",
     "text": [
      "alpha = 2.8500000000000023, lambda = 1.1253592734724216\n"
     ]
    },
    {
     "name": "stdout",
     "output_type": "stream",
     "text": [
      "alpha = 2.900000000000002, lambda = 1.1246967661206182\n"
     ]
    },
    {
     "name": "stdout",
     "output_type": "stream",
     "text": [
      "alpha = 2.950000000000002, lambda = 1.1240408134498185\n"
     ]
    },
    {
     "name": "stdout",
     "output_type": "stream",
     "text": [
      "alpha = 3.000000000000002, lambda = 1.123391329741058\n"
     ]
    },
    {
     "name": "stdout",
     "output_type": "stream",
     "text": [
      "alpha = 3.0500000000000025, lambda = 1.122748230724299\n"
     ]
    },
    {
     "name": "stdout",
     "output_type": "stream",
     "text": [
      "alpha = 3.1000000000000023, lambda = 1.1221114331722788\n"
     ]
    },
    {
     "name": "stdout",
     "output_type": "stream",
     "text": [
      "alpha = 3.150000000000002, lambda = 1.1214808557613238\n"
     ]
    },
    {
     "name": "stdout",
     "output_type": "stream",
     "text": [
      "alpha = 3.2000000000000024, lambda = 1.1208564183536351\n"
     ]
    },
    {
     "name": "stdout",
     "output_type": "stream",
     "text": [
      "alpha = 3.2500000000000027, lambda = 1.1202380409815007\n"
     ]
    },
    {
     "name": "stdout",
     "output_type": "stream",
     "text": [
      "alpha = 3.3000000000000025, lambda = 1.1196256448355089\n"
     ]
    },
    {
     "name": "stdout",
     "output_type": "stream",
     "text": [
      "alpha = 3.3500000000000023, lambda = 1.1190191544686492\n"
     ]
    },
    {
     "name": "stdout",
     "output_type": "stream",
     "text": [
      "alpha = 3.4000000000000026, lambda = 1.1184184911712547\n"
     ]
    },
    {
     "name": "stdout",
     "output_type": "stream",
     "text": [
      "alpha = 3.450000000000003, lambda = 1.1178235822482039\n"
     ]
    },
    {
     "name": "stdout",
     "output_type": "stream",
     "text": [
      "alpha = 3.5000000000000027, lambda = 1.1172343527677424\n"
     ]
    },
    {
     "name": "stdout",
     "output_type": "stream",
     "text": [
      "alpha = 3.5500000000000025, lambda = 1.1166507302607283\n"
     ]
    },
    {
     "name": "stdout",
     "output_type": "stream",
     "text": [
      "alpha = 3.6000000000000028, lambda = 1.116072642417094\n"
     ]
    },
    {
     "name": "stdout",
     "output_type": "stream",
     "text": [
      "alpha = 3.650000000000003, lambda = 1.115500018451136\n"
     ]
    },
    {
     "name": "stdout",
     "output_type": "stream",
     "text": [
      "alpha = 3.700000000000003, lambda = 1.1149327900210324\n"
     ]
    },
    {
     "name": "stdout",
     "output_type": "stream",
     "text": [
      "alpha = 3.7500000000000027, lambda = 1.1143708860704227\n"
     ]
    },
    {
     "name": "stdout",
     "output_type": "stream",
     "text": [
      "alpha = 3.800000000000003, lambda = 1.113814240336791\n"
     ]
    },
    {
     "name": "stdout",
     "output_type": "stream",
     "text": [
      "alpha = 3.850000000000003, lambda = 1.1132627861357285\n"
     ]
    },
    {
     "name": "stdout",
     "output_type": "stream",
     "text": [
      "alpha = 3.900000000000003, lambda = 1.1127164570494552\n"
     ]
    },
    {
     "name": "stdout",
     "output_type": "stream",
     "text": [
      "alpha = 3.950000000000003, lambda = 1.1121751883445141\n"
     ]
    },
    {
     "name": "stdout",
     "output_type": "stream",
     "text": [
      "alpha = 4.0000000000000036, lambda = 1.1116389170108216\n"
     ]
    },
    {
     "name": "stdout",
     "output_type": "stream",
     "text": [
      "alpha = 4.050000000000003, lambda = 1.1111075787125406\n"
     ]
    },
    {
     "name": "stdout",
     "output_type": "stream",
     "text": [
      "alpha = 4.100000000000003, lambda = 1.1105811117934707\n"
     ]
    },
    {
     "name": "stdout",
     "output_type": "stream",
     "text": [
      "alpha = 4.150000000000003, lambda = 1.1100594558065278\n"
     ]
    },
    {
     "name": "stdout",
     "output_type": "stream",
     "text": [
      "alpha = 4.200000000000003, lambda = 1.1095425504087457\n"
     ]
    },
    {
     "name": "stdout",
     "output_type": "stream",
     "text": [
      "alpha = 4.2500000000000036, lambda = 1.1090303351009543\n"
     ]
    },
    {
     "name": "stdout",
     "output_type": "stream",
     "text": [
      "alpha = 4.300000000000003, lambda = 1.108522752058504\n"
     ]
    },
    {
     "name": "stdout",
     "output_type": "stream",
     "text": [
      "alpha = 4.350000000000003, lambda = 1.1080197435731287\n"
     ]
    },
    {
     "name": "stdout",
     "output_type": "stream",
     "text": [
      "alpha = 4.400000000000004, lambda = 1.107521253573327\n"
     ]
    },
    {
     "name": "stdout",
     "output_type": "stream",
     "text": [
      "alpha = 4.450000000000004, lambda = 1.1070272251947346\n"
     ]
    },
    {
     "name": "stdout",
     "output_type": "stream",
     "text": [
      "alpha = 4.5000000000000036, lambda = 1.1065376031770127\n"
     ]
    },
    {
     "name": "stdout",
     "output_type": "stream",
     "text": [
      "alpha = 4.550000000000003, lambda = 1.106052333661234\n"
     ]
    },
    {
     "name": "stdout",
     "output_type": "stream",
     "text": [
      "alpha = 4.600000000000003, lambda = 1.1055713630020036\n"
     ]
    },
    {
     "name": "stdout",
     "output_type": "stream",
     "text": [
      "alpha = 4.650000000000004, lambda = 1.1050946380637081\n"
     ]
    },
    {
     "name": "stdout",
     "output_type": "stream",
     "text": [
      "alpha = 4.700000000000004, lambda = 1.1046221073263776\n"
     ]
    },
    {
     "name": "stdout",
     "output_type": "stream",
     "text": [
      "alpha = 4.7500000000000036, lambda = 1.1041537188307182\n"
     ]
    },
    {
     "name": "stdout",
     "output_type": "stream",
     "text": [
      "alpha = 4.800000000000004, lambda = 1.1036894223250082\n"
     ]
    },
    {
     "name": "stdout",
     "output_type": "stream",
     "text": [
      "alpha = 4.850000000000004, lambda = 1.1032291678831438\n"
     ]
    },
    {
     "name": "stdout",
     "output_type": "stream",
     "text": [
      "Warning: state evolution did not converge after 100 iterations\n",
      "alpha = 4.900000000000004, lambda = 1.1027729063596343\n"
     ]
    },
    {
     "name": "stdout",
     "output_type": "stream",
     "text": [
      "alpha = 4.950000000000004, lambda = 1.102320590262144\n"
     ]
    },
    {
     "name": "stdout",
     "output_type": "stream",
     "text": [
      "alpha = 5.0000000000000036, lambda = 1.101872170269274\n"
     ]
    },
    {
     "name": "stdout",
     "output_type": "stream",
     "text": [
      "Warning: state evolution did not converge after 100 iterations\n",
      "alpha = 5.050000000000004, lambda = 1.1014276015646731\n"
     ]
    },
    {
     "name": "stdout",
     "output_type": "stream",
     "text": [
      "alpha = 5.100000000000004, lambda = 1.1009868368535791\n"
     ]
    },
    {
     "name": "stdout",
     "output_type": "stream",
     "text": [
      "alpha = 5.150000000000004, lambda = 1.1005498290579792\n"
     ]
    },
    {
     "name": "stdout",
     "output_type": "stream",
     "text": [
      "alpha = 5.200000000000005, lambda = 1.1001165351298492\n"
     ]
    },
    {
     "name": "stdout",
     "output_type": "stream",
     "text": [
      "alpha = 5.250000000000004, lambda = 1.0996869096397806\n"
     ]
    },
    {
     "name": "stdout",
     "output_type": "stream",
     "text": [
      "alpha = 5.300000000000004, lambda = 1.0992609098291841\n"
     ]
    },
    {
     "name": "stdout",
     "output_type": "stream",
     "text": [
      "alpha = 5.350000000000004, lambda = 1.0988384922240286\n"
     ]
    },
    {
     "name": "stdout",
     "output_type": "stream",
     "text": [
      "Warning: state evolution did not converge after 100 iterations\n",
      "alpha = 5.400000000000004, lambda = 1.0984196135439954\n"
     ]
    },
    {
     "name": "stdout",
     "output_type": "stream",
     "text": [
      "alpha = 5.450000000000005, lambda = 1.098004232563178\n"
     ]
    },
    {
     "name": "stdout",
     "output_type": "stream",
     "text": [
      "alpha = 5.500000000000004, lambda = 1.097592309390582\n"
     ]
    },
    {
     "name": "stdout",
     "output_type": "stream",
     "text": [
      "Warning: state evolution did not converge after 100 iterations\n",
      "alpha = 5.550000000000004, lambda = 1.0971838018118463\n"
     ]
    },
    {
     "name": "stdout",
     "output_type": "stream",
     "text": [
      "alpha = 5.600000000000005, lambda = 1.0967786696290958\n"
     ]
    },
    {
     "name": "stdout",
     "output_type": "stream",
     "text": [
      "Warning: state evolution did not converge after 100 iterations\n",
      "alpha = 5.650000000000005, lambda = 1.0963774799532613\n"
     ]
    },
    {
     "name": "stdout",
     "output_type": "stream",
     "text": [
      "Warning: state evolution did not converge after 100 iterations\n",
      "alpha = 5.700000000000005, lambda = 1.0959790027142977\n"
     ]
    },
    {
     "name": "stdout",
     "output_type": "stream",
     "text": [
      "alpha = 5.750000000000004, lambda = 1.0955837845700012\n"
     ]
    },
    {
     "name": "stdout",
     "output_type": "stream",
     "text": [
      "alpha = 5.800000000000004, lambda = 1.095191787705202\n"
     ]
    },
    {
     "name": "stdout",
     "output_type": "stream",
     "text": [
      "alpha = 5.850000000000005, lambda = 1.0948029748026677\n"
     ]
    },
    {
     "name": "stdout",
     "output_type": "stream",
     "text": [
      "Warning: state evolution did not converge after 100 iterations\n",
      "alpha = 5.900000000000005, lambda = 1.094417309023107\n"
     ]
    },
    {
     "name": "stdout",
     "output_type": "stream",
     "text": [
      "alpha = 5.950000000000005, lambda = 1.0940347541882542\n"
     ]
    },
    {
     "name": "stdout",
     "output_type": "stream",
     "text": [
      "alpha = 6.000000000000005, lambda = 1.0936552744892825\n"
     ]
    },
    {
     "name": "stdout",
     "output_type": "stream",
     "text": [
      "Warning: state evolution did not converge after 100 iterations\n",
      "alpha = 6.050000000000005, lambda = 1.0932788346552718\n"
     ]
    },
    {
     "name": "stdout",
     "output_type": "stream",
     "text": [
      "alpha = 6.100000000000005, lambda = 1.0929054000034435\n"
     ]
    },
    {
     "name": "stdout",
     "output_type": "stream",
     "text": [
      "Warning: state evolution did not converge after 100 iterations\n",
      "alpha = 6.150000000000005, lambda = 1.09253493614707\n"
     ]
    },
    {
     "name": "stdout",
     "output_type": "stream",
     "text": [
      "alpha = 6.200000000000005, lambda = 1.092167409390967\n"
     ]
    },
    {
     "name": "stdout",
     "output_type": "stream",
     "text": [
      "alpha = 6.250000000000005, lambda = 1.0918027863942332\n"
     ]
    },
    {
     "name": "stdout",
     "output_type": "stream",
     "text": [
      "alpha = 6.300000000000005, lambda = 1.0914410343480094\n"
     ]
    },
    {
     "name": "stdout",
     "output_type": "stream",
     "text": [
      "alpha = 6.350000000000005, lambda = 1.0910821207405146\n"
     ]
    },
    {
     "name": "stdout",
     "output_type": "stream",
     "text": [
      "alpha = 6.400000000000006, lambda = 1.090726013715878\n"
     ]
    },
    {
     "name": "stdout",
     "output_type": "stream",
     "text": [
      "Warning: state evolution did not converge after 100 iterations\n",
      "alpha = 6.4500000000000055, lambda = 1.090372681797778\n"
     ]
    },
    {
     "name": "stdout",
     "output_type": "stream",
     "text": [
      "alpha = 6.500000000000005, lambda = 1.0900220938176153\n"
     ]
    },
    {
     "name": "stdout",
     "output_type": "stream",
     "text": [
      "alpha = 6.550000000000005, lambda = 1.0896742193189537\n"
     ]
    },
    {
     "name": "stdout",
     "output_type": "stream",
     "text": [
      "alpha = 6.600000000000005, lambda = 1.0893290278804142\n"
     ]
    },
    {
     "name": "stdout",
     "output_type": "stream",
     "text": [
      "alpha = 6.650000000000006, lambda = 1.088986489896676\n"
     ]
    },
    {
     "name": "stdout",
     "output_type": "stream",
     "text": [
      "alpha = 6.7000000000000055, lambda = 1.08864657589772\n"
     ]
    },
    {
     "name": "stdout",
     "output_type": "stream",
     "text": [
      "Warning: state evolution did not converge after 100 iterations\n",
      "alpha = 6.750000000000005, lambda = 1.0883092569373105\n"
     ]
    },
    {
     "name": "stdout",
     "output_type": "stream",
     "text": [
      "alpha = 6.800000000000006, lambda = 1.0879745043321762\n"
     ]
    },
    {
     "name": "stdout",
     "output_type": "stream",
     "text": [
      "alpha = 6.850000000000006, lambda = 1.0876422901236644\n"
     ]
    },
    {
     "name": "stdout",
     "output_type": "stream",
     "text": [
      "alpha = 6.900000000000006, lambda = 1.0873125862193933\n"
     ]
    },
    {
     "name": "stdout",
     "output_type": "stream",
     "text": [
      "alpha = 6.9500000000000055, lambda = 1.0869853653814845\n"
     ]
    },
    {
     "name": "stdout",
     "output_type": "stream",
     "text": [
      "alpha = 7.000000000000005, lambda = 1.0866606004721182\n"
     ]
    },
    {
     "name": "stdout",
     "output_type": "stream",
     "text": [
      "alpha = 7.050000000000006, lambda = 1.0863382648129687\n"
     ]
    },
    {
     "name": "stdout",
     "output_type": "stream",
     "text": [
      "alpha = 7.100000000000006, lambda = 1.0860183322040242\n"
     ]
    },
    {
     "name": "stdout",
     "output_type": "stream",
     "text": [
      "alpha = 7.150000000000006, lambda = 1.0857007764926985\n"
     ]
    },
    {
     "name": "stdout",
     "output_type": "stream",
     "text": [
      "alpha = 7.200000000000006, lambda = 1.0853855721328294\n"
     ]
    },
    {
     "name": "stdout",
     "output_type": "stream",
     "text": [
      "alpha = 7.250000000000006, lambda = 1.0850726939862874\n"
     ]
    },
    {
     "name": "stdout",
     "output_type": "stream",
     "text": [
      "alpha = 7.300000000000006, lambda = 1.0847621168471542\n"
     ]
    },
    {
     "name": "stdout",
     "output_type": "stream",
     "text": [
      "alpha = 7.350000000000006, lambda = 1.0844538162899306\n"
     ]
    },
    {
     "name": "stdout",
     "output_type": "stream",
     "text": [
      "alpha = 7.400000000000006, lambda = 1.0839907589496267\n"
     ]
    },
    {
     "name": "stdout",
     "output_type": "stream",
     "text": [
      "alpha = 7.450000000000006, lambda = 1.0838524770650988\n"
     ]
    },
    {
     "name": "stdout",
     "output_type": "stream",
     "text": [
      "alpha = 7.500000000000006, lambda = 1.083551360637067\n"
     ]
    },
    {
     "name": "stdout",
     "output_type": "stream",
     "text": [
      "alpha = 7.550000000000006, lambda = 1.0832524367642948\n"
     ]
    },
    {
     "name": "stdout",
     "output_type": "stream",
     "text": [
      "alpha = 7.600000000000007, lambda = 1.082955846382343\n"
     ]
    },
    {
     "name": "stdout",
     "output_type": "stream",
     "text": [
      "alpha = 7.650000000000007, lambda = 1.0826612403895601\n"
     ]
    },
    {
     "name": "stdout",
     "output_type": "stream",
     "text": [
      "alpha = 7.700000000000006, lambda = 1.0823687590844553\n"
     ]
    },
    {
     "name": "stdout",
     "output_type": "stream",
     "text": [
      "alpha = 7.750000000000006, lambda = 1.0820783804253125\n"
     ]
    },
    {
     "name": "stdout",
     "output_type": "stream",
     "text": [
      "alpha = 7.800000000000006, lambda = 1.081790082417632\n"
     ]
    },
    {
     "name": "stdout",
     "output_type": "stream",
     "text": [
      "alpha = 7.850000000000007, lambda = 1.0815038438621625\n"
     ]
    },
    {
     "name": "stdout",
     "output_type": "stream",
     "text": [
      "alpha = 7.900000000000007, lambda = 1.081219643412189\n"
     ]
    },
    {
     "name": "stdout",
     "output_type": "stream",
     "text": [
      "alpha = 7.950000000000006, lambda = 1.0809374601248776\n"
     ]
    },
    {
     "name": "stdout",
     "output_type": "stream",
     "text": [
      "alpha = 8.000000000000007, lambda = 1.0806572733408397\n"
     ]
    },
    {
     "name": "stdout",
     "output_type": "stream",
     "text": [
      "alpha = 8.050000000000008, lambda = 1.0803790756471867\n"
     ]
    },
    {
     "name": "stdout",
     "output_type": "stream",
     "text": [
      "alpha = 8.100000000000007, lambda = 1.0801028285666145\n"
     ]
    },
    {
     "name": "stdout",
     "output_type": "stream",
     "text": [
      "alpha = 8.150000000000006, lambda = 1.0798285238798717\n"
     ]
    },
    {
     "name": "stdout",
     "output_type": "stream",
     "text": [
      "alpha = 8.200000000000006, lambda = 1.079556135126373\n"
     ]
    },
    {
     "name": "stdout",
     "output_type": "stream",
     "text": [
      "alpha = 8.250000000000007, lambda = 1.0792822938667\n"
     ]
    },
    {
     "name": "stdout",
     "output_type": "stream",
     "text": [
      "alpha = 8.300000000000008, lambda = 1.0790136794370515\n"
     ]
    },
    {
     "name": "stdout",
     "output_type": "stream",
     "text": [
      "alpha = 8.350000000000007, lambda = 1.0787469239164018\n"
     ]
    },
    {
     "name": "stdout",
     "output_type": "stream",
     "text": [
      "alpha = 8.400000000000007, lambda = 1.0784820083738678\n"
     ]
    },
    {
     "name": "stdout",
     "output_type": "stream",
     "text": [
      "alpha = 8.450000000000006, lambda = 1.0782189148000259\n"
     ]
    },
    {
     "name": "stdout",
     "output_type": "stream",
     "text": [
      "alpha = 8.500000000000007, lambda = 1.0779576246808773\n"
     ]
    },
    {
     "name": "stdout",
     "output_type": "stream",
     "text": [
      "alpha = 8.550000000000008, lambda = 1.0776981203105103\n"
     ]
    },
    {
     "name": "stdout",
     "output_type": "stream",
     "text": [
      "alpha = 8.600000000000007, lambda = 1.0774403841541984\n"
     ]
    },
    {
     "name": "stdout",
     "output_type": "stream",
     "text": [
      "alpha = 8.650000000000007, lambda = 1.0771843982985796\n"
     ]
    },
    {
     "name": "stdout",
     "output_type": "stream",
     "text": [
      "alpha = 8.700000000000006, lambda = 1.07693014583216\n"
     ]
    },
    {
     "name": "stdout",
     "output_type": "stream",
     "text": [
      "alpha = 8.750000000000007, lambda = 1.0766776096538069\n"
     ]
    },
    {
     "name": "stdout",
     "output_type": "stream",
     "text": [
      "alpha = 8.800000000000008, lambda = 1.0764267731264319\n"
     ]
    },
    {
     "name": "stdout",
     "output_type": "stream",
     "text": [
      "alpha = 8.850000000000007, lambda = 1.0761776191957908\n"
     ]
    },
    {
     "name": "stdout",
     "output_type": "stream",
     "text": [
      "alpha = 8.900000000000007, lambda = 1.0759301318935435\n"
     ]
    },
    {
     "name": "stdout",
     "output_type": "stream",
     "text": [
      "alpha = 8.950000000000008, lambda = 1.0756842949160887\n"
     ]
    },
    {
     "name": "stdout",
     "output_type": "stream",
     "text": [
      "alpha = 9.000000000000007, lambda = 1.075440092030745\n"
     ]
    },
    {
     "name": "stdout",
     "output_type": "stream",
     "text": [
      "alpha = 9.050000000000008, lambda = 1.075197507693163\n"
     ]
    },
    {
     "name": "stdout",
     "output_type": "stream",
     "text": [
      "alpha = 9.100000000000009, lambda = 1.0749565262567549\n"
     ]
    },
    {
     "name": "stdout",
     "output_type": "stream",
     "text": [
      "alpha = 9.150000000000007, lambda = 1.0747171324281581\n"
     ]
    },
    {
     "name": "stdout",
     "output_type": "stream",
     "text": [
      "alpha = 9.200000000000008, lambda = 1.074479310633753\n"
     ]
    },
    {
     "name": "stdout",
     "output_type": "stream",
     "text": [
      "alpha = 9.250000000000007, lambda = 1.0742430460886074\n"
     ]
    },
    {
     "name": "stdout",
     "output_type": "stream",
     "text": [
      "alpha = 9.300000000000008, lambda = 1.0740083237940012\n"
     ]
    },
    {
     "name": "stdout",
     "output_type": "stream",
     "text": [
      "alpha = 9.350000000000009, lambda = 1.0737751293936397\n"
     ]
    },
    {
     "name": "stdout",
     "output_type": "stream",
     "text": [
      "alpha = 9.400000000000007, lambda = 1.073543448092466\n"
     ]
    },
    {
     "name": "stdout",
     "output_type": "stream",
     "text": [
      "alpha = 9.450000000000008, lambda = 1.0733132656488378\n"
     ]
    },
    {
     "name": "stdout",
     "output_type": "stream",
     "text": [
      "alpha = 9.500000000000007, lambda = 1.073084567996706\n"
     ]
    },
    {
     "name": "stdout",
     "output_type": "stream",
     "text": [
      "alpha = 9.550000000000008, lambda = 1.0728573409980322\n"
     ]
    },
    {
     "name": "stdout",
     "output_type": "stream",
     "text": [
      "alpha = 9.600000000000009, lambda = 1.0726315709908874\n"
     ]
    },
    {
     "name": "stdout",
     "output_type": "stream",
     "text": [
      "alpha = 9.650000000000007, lambda = 1.0724072441888035\n"
     ]
    },
    {
     "name": "stdout",
     "output_type": "stream",
     "text": [
      "alpha = 9.700000000000008, lambda = 1.0721843473601285\n"
     ]
    },
    {
     "name": "stdout",
     "output_type": "stream",
     "text": [
      "alpha = 9.750000000000009, lambda = 1.0719628670251067\n"
     ]
    },
    {
     "name": "stdout",
     "output_type": "stream",
     "text": [
      "alpha = 9.800000000000008, lambda = 1.0717427900762082\n"
     ]
    },
    {
     "name": "stdout",
     "output_type": "stream",
     "text": [
      "alpha = 9.850000000000009, lambda = 1.0715241034157963\n"
     ]
    },
    {
     "name": "stdout",
     "output_type": "stream",
     "text": [
      "alpha = 9.90000000000001, lambda = 1.071306794322454\n"
     ]
    },
    {
     "name": "stdout",
     "output_type": "stream",
     "text": [
      "alpha = 9.950000000000008, lambda = 1.071090850096216\n"
     ]
    }
   ],
   "source": [
    "bootstrap_bootstrap_overlaps    = []\n",
    "\n",
    "m_prev, q_prev, v_prev = nothing, nothing, nothing\n",
    "\n",
    "for (alpha, lambda) in zip(alpha_range, lambda_range)\n",
    "    println(\"alpha = $alpha, lambda = $lambda\")\n",
    "    result = LogisticBootstrapStateEvolution.state_evolution_bootstrap_bootstrap(alpha, lambda; max_weight=10, reltol=1e-5,\n",
    "                    bootstrap_minit=m_prev, bootstrap_qinit=q_prev, bootstrap_vinit=v_prev)\n",
    "    m_prev = result[\"m\"][1]\n",
    "    q_prev = result[\"q\"][1]\n",
    "    v_prev = result[\"v\"][1]\n",
    "    # add the dictionnary result to the list \"overlaps\"\n",
    "    push!(bootstrap_bootstrap_overlaps, result)\n",
    "end"
   ]
  },
  {
   "cell_type": "code",
   "execution_count": 7,
   "metadata": {},
   "outputs": [
    {
     "data": {
      "text/plain": [
       "36126"
      ]
     },
     "metadata": {},
     "output_type": "display_data"
    }
   ],
   "source": [
    "# save the overlaps into a file\n",
    "filename::String = \"../data/logistic/bootstrap_bootstrap_overlaps_$lambda_type.json\"\n",
    "\n",
    "dict_to_save::Dict = Dict(\"alpha\" => alpha_range,\n",
    "                          \"lambda\" => lambda_range,\n",
    "                          \"m\"   => [o[\"m\"][1] for o in bootstrap_bootstrap_overlaps],\n",
    "                          \"q_diag\"   => [o[\"q\"][1, 1] for o in bootstrap_bootstrap_overlaps],\n",
    "                          \"q_off_diag\"   => [o[\"q\"][1, 2] for o in bootstrap_bootstrap_overlaps],\n",
    "                          \"v\"   => [o[\"v\"][1] for o in bootstrap_bootstrap_overlaps],\n",
    "                          \"mhat\"=> [o[\"mhat\"][1] for o in bootstrap_bootstrap_overlaps],\n",
    "                          \"qhat_diag\"=> [o[\"qhat\"][1, 1] for o in bootstrap_bootstrap_overlaps],\n",
    "                          \"qhat_off_diag\"=> [o[\"qhat\"][1, 2] for o in bootstrap_bootstrap_overlaps],\n",
    "                          \"vhat\"=> [o[\"vhat\"][1] for o in bootstrap_bootstrap_overlaps],\n",
    "                          )\n",
    "\n",
    "open(filename, \"w\") do f\n",
    "    write(f, JSON.json(dict_to_save))\n",
    "end"
   ]
  },
  {
   "cell_type": "markdown",
   "metadata": {},
   "source": [
    "--- \n",
    "\n",
    "Compute the correlation between Bootstrap and ERM on full data"
   ]
  },
  {
   "cell_type": "code",
   "execution_count": 15,
   "metadata": {},
   "outputs": [
    {
     "name": "stdout",
     "output_type": "stream",
     "text": [
      "alpha = 0.5, lambda = 1.1657388411272638\n"
     ]
    },
    {
     "name": "stdout",
     "output_type": "stream",
     "text": [
      "alpha = 0.55, lambda = 1.164646231808562\n"
     ]
    },
    {
     "name": "stdout",
     "output_type": "stream",
     "text": [
      "Warning: state evolution did not converge after 100 iterations\n",
      "alpha = 0.6000000000000001, lambda = 1.1635641251077804\n"
     ]
    },
    {
     "name": "stdout",
     "output_type": "stream",
     "text": [
      "Warning: state evolution did not converge after 100 iterations\n",
      "alpha = 0.6500000000000001, lambda = 1.162496654741952\n"
     ]
    },
    {
     "name": "stdout",
     "output_type": "stream",
     "text": [
      "alpha = 0.7000000000000002, lambda = 1.1614651114168377\n"
     ]
    },
    {
     "name": "stdout",
     "output_type": "stream",
     "text": [
      "alpha = 0.7500000000000002, lambda = 1.160422011381984\n"
     ]
    },
    {
     "name": "stdout",
     "output_type": "stream",
     "text": [
      "alpha = 0.8000000000000003, lambda = 1.1593903474139693\n"
     ]
    },
    {
     "name": "stdout",
     "output_type": "stream",
     "text": [
      "alpha = 0.8500000000000003, lambda = 1.1583699820020341\n"
     ]
    },
    {
     "name": "stdout",
     "output_type": "stream",
     "text": [
      "alpha = 0.9000000000000004, lambda = 1.1573607879366992\n"
     ]
    },
    {
     "name": "stdout",
     "output_type": "stream",
     "text": [
      "alpha = 0.9500000000000004, lambda = 1.1563626142997627\n"
     ]
    },
    {
     "name": "stdout",
     "output_type": "stream",
     "text": [
      "alpha = 1.0000000000000004, lambda = 1.1553753334808636\n"
     ]
    },
    {
     "name": "stdout",
     "output_type": "stream",
     "text": [
      "alpha = 1.0500000000000005, lambda = 1.154398811848578\n"
     ]
    },
    {
     "name": "stdout",
     "output_type": "stream",
     "text": [
      "alpha = 1.1000000000000005, lambda = 1.153432916212457\n"
     ]
    },
    {
     "name": "stdout",
     "output_type": "stream",
     "text": [
      "alpha = 1.1500000000000006, lambda = 1.152477514704027\n"
     ]
    },
    {
     "name": "stdout",
     "output_type": "stream",
     "text": [
      "Warning: state evolution did not converge after 100 iterations\n",
      "alpha = 1.2000000000000006, lambda = 1.1515324760243772\n"
     ]
    },
    {
     "name": "stdout",
     "output_type": "stream",
     "text": [
      "alpha = 1.2500000000000007, lambda = 1.1505976699406315\n"
     ]
    },
    {
     "name": "stdout",
     "output_type": "stream",
     "text": [
      "alpha = 1.3000000000000007, lambda = 1.1496729671576607\n"
     ]
    },
    {
     "name": "stdout",
     "output_type": "stream",
     "text": [
      "alpha = 1.3500000000000008, lambda = 1.1487582396932328\n"
     ]
    },
    {
     "name": "stdout",
     "output_type": "stream",
     "text": [
      "alpha = 1.4000000000000008, lambda = 1.147853360371921\n"
     ]
    },
    {
     "name": "stdout",
     "output_type": "stream",
     "text": [
      "alpha = 1.4500000000000008, lambda = 1.146958203272857\n"
     ]
    },
    {
     "name": "stdout",
     "output_type": "stream",
     "text": [
      "alpha = 1.5000000000000009, lambda = 1.1460726436479547\n"
     ]
    },
    {
     "name": "stdout",
     "output_type": "stream",
     "text": [
      "alpha = 1.550000000000001, lambda = 1.1451965579757926\n"
     ]
    },
    {
     "name": "stdout",
     "output_type": "stream",
     "text": [
      "alpha = 1.600000000000001, lambda = 1.1443298237088535\n"
     ]
    },
    {
     "name": "stdout",
     "output_type": "stream",
     "text": [
      "alpha = 1.650000000000001, lambda = 1.1434723192314824\n"
     ]
    },
    {
     "name": "stdout",
     "output_type": "stream",
     "text": [
      "alpha = 1.700000000000001, lambda = 1.1426239251314385\n"
     ]
    },
    {
     "name": "stdout",
     "output_type": "stream",
     "text": [
      "alpha = 1.750000000000001, lambda = 1.1417807944818965\n"
     ]
    },
    {
     "name": "stdout",
     "output_type": "stream",
     "text": [
      "alpha = 1.8000000000000012, lambda = 1.1409486716614443\n"
     ]
    },
    {
     "name": "stdout",
     "output_type": "stream",
     "text": [
      "alpha = 1.8500000000000012, lambda = 1.140126572993539\n"
     ]
    },
    {
     "name": "stdout",
     "output_type": "stream",
     "text": [
      "alpha = 1.9000000000000012, lambda = 1.1393164203827935\n"
     ]
    },
    {
     "name": "stdout",
     "output_type": "stream",
     "text": [
      "alpha = 1.9500000000000013, lambda = 1.138511427210524\n"
     ]
    },
    {
     "name": "stdout",
     "output_type": "stream",
     "text": [
      "alpha = 2.0000000000000013, lambda = 1.1377148458985962\n"
     ]
    },
    {
     "name": "stdout",
     "output_type": "stream",
     "text": [
      "alpha = 2.0500000000000016, lambda = 1.1369265729711326\n"
     ]
    },
    {
     "name": "stdout",
     "output_type": "stream",
     "text": [
      "alpha = 2.1000000000000014, lambda = 1.1361465000728268\n"
     ]
    },
    {
     "name": "stdout",
     "output_type": "stream",
     "text": [
      "alpha = 2.1500000000000012, lambda = 1.135374520003139\n"
     ]
    },
    {
     "name": "stdout",
     "output_type": "stream",
     "text": [
      "alpha = 2.2000000000000015, lambda = 1.1346105271186326\n"
     ]
    },
    {
     "name": "stdout",
     "output_type": "stream",
     "text": [
      "alpha = 2.2500000000000018, lambda = 1.133854416938867\n"
     ]
    },
    {
     "name": "stdout",
     "output_type": "stream",
     "text": [
      "alpha = 2.3000000000000016, lambda = 1.1331060863434046\n"
     ]
    },
    {
     "name": "stdout",
     "output_type": "stream",
     "text": [
      "alpha = 2.3500000000000014, lambda = 1.1323654335538034\n"
     ]
    },
    {
     "name": "stdout",
     "output_type": "stream",
     "text": [
      "alpha = 2.4000000000000017, lambda = 1.1316323581058205\n"
     ]
    },
    {
     "name": "stdout",
     "output_type": "stream",
     "text": [
      "alpha = 2.450000000000002, lambda = 1.1309067607728716\n"
     ]
    },
    {
     "name": "stdout",
     "output_type": "stream",
     "text": [
      "alpha = 2.5000000000000018, lambda = 1.1301885437028982\n"
     ]
    },
    {
     "name": "stdout",
     "output_type": "stream",
     "text": [
      "alpha = 2.5500000000000016, lambda = 1.1294776104378226\n"
     ]
    },
    {
     "name": "stdout",
     "output_type": "stream",
     "text": [
      "alpha = 2.600000000000002, lambda = 1.1287731896182882\n"
     ]
    },
    {
     "name": "stdout",
     "output_type": "stream",
     "text": [
      "alpha = 2.650000000000002, lambda = 1.1280765901083198\n"
     ]
    },
    {
     "name": "stdout",
     "output_type": "stream",
     "text": [
      "alpha = 2.700000000000002, lambda = 1.127386989746107\n"
     ]
    },
    {
     "name": "stdout",
     "output_type": "stream",
     "text": [
      "alpha = 2.7500000000000018, lambda = 1.1267042969371586\n"
     ]
    },
    {
     "name": "stdout",
     "output_type": "stream",
     "text": [
      "alpha = 2.800000000000002, lambda = 1.1260284212453988\n"
     ]
    },
    {
     "name": "stdout",
     "output_type": "stream",
     "text": [
      "alpha = 2.8500000000000023, lambda = 1.1253592734724216\n"
     ]
    },
    {
     "name": "stdout",
     "output_type": "stream",
     "text": [
      "alpha = 2.900000000000002, lambda = 1.1246967661206182\n"
     ]
    },
    {
     "name": "stdout",
     "output_type": "stream",
     "text": [
      "alpha = 2.950000000000002, lambda = 1.1240408134498185\n"
     ]
    },
    {
     "name": "stdout",
     "output_type": "stream",
     "text": [
      "alpha = 3.000000000000002, lambda = 1.123391329741058\n"
     ]
    },
    {
     "name": "stdout",
     "output_type": "stream",
     "text": [
      "alpha = 3.0500000000000025, lambda = 1.122748230724299\n"
     ]
    },
    {
     "name": "stdout",
     "output_type": "stream",
     "text": [
      "alpha = 3.1000000000000023, lambda = 1.1221114331722788\n"
     ]
    },
    {
     "name": "stdout",
     "output_type": "stream",
     "text": [
      "alpha = 3.150000000000002, lambda = 1.1214808557613238\n"
     ]
    },
    {
     "name": "stdout",
     "output_type": "stream",
     "text": [
      "alpha = 3.2000000000000024, lambda = 1.1208564183536351\n"
     ]
    },
    {
     "name": "stdout",
     "output_type": "stream",
     "text": [
      "alpha = 3.2500000000000027, lambda = 1.1202380409815007\n"
     ]
    },
    {
     "name": "stdout",
     "output_type": "stream",
     "text": [
      "alpha = 3.3000000000000025, lambda = 1.1196256448355089\n"
     ]
    },
    {
     "name": "stdout",
     "output_type": "stream",
     "text": [
      "alpha = 3.3500000000000023, lambda = 1.1190191544686492\n"
     ]
    },
    {
     "name": "stdout",
     "output_type": "stream",
     "text": [
      "alpha = 3.4000000000000026, lambda = 1.1184184911712547\n"
     ]
    },
    {
     "name": "stdout",
     "output_type": "stream",
     "text": [
      "alpha = 3.450000000000003, lambda = 1.1178235822482039\n"
     ]
    },
    {
     "name": "stdout",
     "output_type": "stream",
     "text": [
      "alpha = 3.5000000000000027, lambda = 1.1172343527677424\n"
     ]
    },
    {
     "name": "stdout",
     "output_type": "stream",
     "text": [
      "alpha = 3.5500000000000025, lambda = 1.1166507302607283\n"
     ]
    },
    {
     "name": "stdout",
     "output_type": "stream",
     "text": [
      "alpha = 3.6000000000000028, lambda = 1.116072642417094\n"
     ]
    },
    {
     "name": "stdout",
     "output_type": "stream",
     "text": [
      "alpha = 3.650000000000003, lambda = 1.115500018451136\n"
     ]
    },
    {
     "name": "stdout",
     "output_type": "stream",
     "text": [
      "alpha = 3.700000000000003, lambda = 1.1149327900210324\n"
     ]
    },
    {
     "name": "stdout",
     "output_type": "stream",
     "text": [
      "alpha = 3.7500000000000027, lambda = 1.1143708860704227\n"
     ]
    },
    {
     "name": "stdout",
     "output_type": "stream",
     "text": [
      "alpha = 3.800000000000003, lambda = 1.113814240336791\n"
     ]
    },
    {
     "name": "stdout",
     "output_type": "stream",
     "text": [
      "alpha = 3.850000000000003, lambda = 1.1132627861357285\n"
     ]
    },
    {
     "name": "stdout",
     "output_type": "stream",
     "text": [
      "alpha = 3.900000000000003, lambda = 1.1127164570494552\n"
     ]
    },
    {
     "name": "stdout",
     "output_type": "stream",
     "text": [
      "alpha = 3.950000000000003, lambda = 1.1121751883445141\n"
     ]
    },
    {
     "name": "stdout",
     "output_type": "stream",
     "text": [
      "alpha = 4.0000000000000036, lambda = 1.1116389170108216\n"
     ]
    },
    {
     "name": "stdout",
     "output_type": "stream",
     "text": [
      "alpha = 4.050000000000003, lambda = 1.1111075787125406\n"
     ]
    },
    {
     "name": "stdout",
     "output_type": "stream",
     "text": [
      "alpha = 4.100000000000003, lambda = 1.1105811117934707\n"
     ]
    },
    {
     "name": "stdout",
     "output_type": "stream",
     "text": [
      "alpha = 4.150000000000003, lambda = 1.1100594558065278\n"
     ]
    },
    {
     "name": "stdout",
     "output_type": "stream",
     "text": [
      "alpha = 4.200000000000003, lambda = 1.1095425504087457\n"
     ]
    },
    {
     "name": "stdout",
     "output_type": "stream",
     "text": [
      "alpha = 4.2500000000000036, lambda = 1.1090303351009543\n"
     ]
    },
    {
     "name": "stdout",
     "output_type": "stream",
     "text": [
      "alpha = 4.300000000000003, lambda = 1.108522752058504\n"
     ]
    },
    {
     "name": "stdout",
     "output_type": "stream",
     "text": [
      "alpha = 4.350000000000003, lambda = 1.1080197435731287\n"
     ]
    },
    {
     "name": "stdout",
     "output_type": "stream",
     "text": [
      "alpha = 4.400000000000004, lambda = 1.107521253573327\n"
     ]
    },
    {
     "name": "stdout",
     "output_type": "stream",
     "text": [
      "alpha = 4.450000000000004, lambda = 1.1070272251947346\n"
     ]
    },
    {
     "name": "stdout",
     "output_type": "stream",
     "text": [
      "alpha = 4.5000000000000036, lambda = 1.1065376031770127\n"
     ]
    },
    {
     "name": "stdout",
     "output_type": "stream",
     "text": [
      "alpha = 4.550000000000003, lambda = 1.106052333661234\n"
     ]
    },
    {
     "name": "stdout",
     "output_type": "stream",
     "text": [
      "alpha = 4.600000000000003, lambda = 1.1055713630020036\n"
     ]
    },
    {
     "name": "stdout",
     "output_type": "stream",
     "text": [
      "alpha = 4.650000000000004, lambda = 1.1050946380637081\n"
     ]
    },
    {
     "name": "stdout",
     "output_type": "stream",
     "text": [
      "alpha = 4.700000000000004, lambda = 1.1046221073263776\n"
     ]
    },
    {
     "name": "stdout",
     "output_type": "stream",
     "text": [
      "alpha = 4.7500000000000036, lambda = 1.1041537188307182\n"
     ]
    },
    {
     "name": "stdout",
     "output_type": "stream",
     "text": [
      "alpha = 4.800000000000004, lambda = 1.1036894223250082\n"
     ]
    },
    {
     "name": "stdout",
     "output_type": "stream",
     "text": [
      "alpha = 4.850000000000004, lambda = 1.1032291678831438\n"
     ]
    },
    {
     "name": "stdout",
     "output_type": "stream",
     "text": [
      "alpha = 4.900000000000004, lambda = 1.1027729063596343\n"
     ]
    },
    {
     "name": "stdout",
     "output_type": "stream",
     "text": [
      "alpha = 4.950000000000004, lambda = 1.102320590262144\n"
     ]
    },
    {
     "name": "stdout",
     "output_type": "stream",
     "text": [
      "alpha = 5.0000000000000036, lambda = 1.101872170269274\n"
     ]
    },
    {
     "name": "stdout",
     "output_type": "stream",
     "text": [
      "alpha = 5.050000000000004, lambda = 1.1014276015646731\n"
     ]
    },
    {
     "name": "stdout",
     "output_type": "stream",
     "text": [
      "alpha = 5.100000000000004, lambda = 1.1009868368535791\n"
     ]
    },
    {
     "name": "stdout",
     "output_type": "stream",
     "text": [
      "alpha = 5.150000000000004, lambda = 1.1005498290579792\n"
     ]
    },
    {
     "name": "stdout",
     "output_type": "stream",
     "text": [
      "alpha = 5.200000000000005, lambda = 1.1001165351298492\n"
     ]
    },
    {
     "name": "stdout",
     "output_type": "stream",
     "text": [
      "alpha = 5.250000000000004, lambda = 1.0996869096397806\n"
     ]
    },
    {
     "name": "stdout",
     "output_type": "stream",
     "text": [
      "alpha = 5.300000000000004, lambda = 1.0992609098291841\n"
     ]
    },
    {
     "name": "stdout",
     "output_type": "stream",
     "text": [
      "alpha = 5.350000000000004, lambda = 1.0988384922240286\n"
     ]
    },
    {
     "name": "stdout",
     "output_type": "stream",
     "text": [
      "alpha = 5.400000000000004, lambda = 1.0984196135439954\n"
     ]
    },
    {
     "name": "stdout",
     "output_type": "stream",
     "text": [
      "alpha = 5.450000000000005, lambda = 1.098004232563178\n"
     ]
    },
    {
     "name": "stdout",
     "output_type": "stream",
     "text": [
      "alpha = 5.500000000000004, lambda = 1.097592309390582\n"
     ]
    },
    {
     "name": "stdout",
     "output_type": "stream",
     "text": [
      "alpha = 5.550000000000004, lambda = 1.0971838018118463\n"
     ]
    },
    {
     "name": "stdout",
     "output_type": "stream",
     "text": [
      "alpha = 5.600000000000005, lambda = 1.0967786696290958\n"
     ]
    },
    {
     "name": "stdout",
     "output_type": "stream",
     "text": [
      "alpha = 5.650000000000005, lambda = 1.0963774799532613\n"
     ]
    },
    {
     "name": "stdout",
     "output_type": "stream",
     "text": [
      "alpha = 5.700000000000005, lambda = 1.0959790027142977\n"
     ]
    },
    {
     "name": "stdout",
     "output_type": "stream",
     "text": [
      "alpha = 5.750000000000004, lambda = 1.0955837845700012\n"
     ]
    },
    {
     "name": "stdout",
     "output_type": "stream",
     "text": [
      "alpha = 5.800000000000004, lambda = 1.095191787705202\n"
     ]
    },
    {
     "name": "stdout",
     "output_type": "stream",
     "text": [
      "alpha = 5.850000000000005, lambda = 1.0948029748026677\n"
     ]
    },
    {
     "name": "stdout",
     "output_type": "stream",
     "text": [
      "alpha = 5.900000000000005, lambda = 1.094417309023107\n"
     ]
    },
    {
     "name": "stdout",
     "output_type": "stream",
     "text": [
      "alpha = 5.950000000000005, lambda = 1.0940347541882542\n"
     ]
    },
    {
     "name": "stdout",
     "output_type": "stream",
     "text": [
      "alpha = 6.000000000000005, lambda = 1.0936552744892825\n"
     ]
    },
    {
     "name": "stdout",
     "output_type": "stream",
     "text": [
      "alpha = 6.050000000000005, lambda = 1.0932788346552718\n"
     ]
    },
    {
     "name": "stdout",
     "output_type": "stream",
     "text": [
      "alpha = 6.100000000000005, lambda = 1.0929054000034435\n"
     ]
    },
    {
     "name": "stdout",
     "output_type": "stream",
     "text": [
      "alpha = 6.150000000000005, lambda = 1.09253493614707\n"
     ]
    },
    {
     "name": "stdout",
     "output_type": "stream",
     "text": [
      "alpha = 6.200000000000005, lambda = 1.092167409390967\n"
     ]
    },
    {
     "name": "stdout",
     "output_type": "stream",
     "text": [
      "alpha = 6.250000000000005, lambda = 1.0918027863942332\n"
     ]
    },
    {
     "name": "stdout",
     "output_type": "stream",
     "text": [
      "alpha = 6.300000000000005, lambda = 1.0914410343480094\n"
     ]
    },
    {
     "name": "stdout",
     "output_type": "stream",
     "text": [
      "alpha = 6.350000000000005, lambda = 1.0910821207405146\n"
     ]
    },
    {
     "name": "stdout",
     "output_type": "stream",
     "text": [
      "alpha = 6.400000000000006, lambda = 1.090726013715878\n"
     ]
    },
    {
     "name": "stdout",
     "output_type": "stream",
     "text": [
      "alpha = 6.4500000000000055, lambda = 1.090372681797778\n"
     ]
    },
    {
     "name": "stdout",
     "output_type": "stream",
     "text": [
      "alpha = 6.500000000000005, lambda = 1.0900220938176153\n"
     ]
    },
    {
     "name": "stdout",
     "output_type": "stream",
     "text": [
      "alpha = 6.550000000000005, lambda = 1.0896742193189537\n"
     ]
    },
    {
     "name": "stdout",
     "output_type": "stream",
     "text": [
      "alpha = 6.600000000000005, lambda = 1.0893290278804142\n"
     ]
    },
    {
     "name": "stdout",
     "output_type": "stream",
     "text": [
      "alpha = 6.650000000000006, lambda = 1.088986489896676\n"
     ]
    },
    {
     "name": "stdout",
     "output_type": "stream",
     "text": [
      "alpha = 6.7000000000000055, lambda = 1.08864657589772\n"
     ]
    },
    {
     "name": "stdout",
     "output_type": "stream",
     "text": [
      "alpha = 6.750000000000005, lambda = 1.0883092569373105\n"
     ]
    },
    {
     "name": "stdout",
     "output_type": "stream",
     "text": [
      "alpha = 6.800000000000006, lambda = 1.0879745043321762\n"
     ]
    },
    {
     "name": "stdout",
     "output_type": "stream",
     "text": [
      "alpha = 6.850000000000006, lambda = 1.0876422901236644\n"
     ]
    },
    {
     "name": "stdout",
     "output_type": "stream",
     "text": [
      "alpha = 6.900000000000006, lambda = 1.0873125862193933\n"
     ]
    },
    {
     "name": "stdout",
     "output_type": "stream",
     "text": [
      "alpha = 6.9500000000000055, lambda = 1.0869853653814845\n"
     ]
    },
    {
     "name": "stdout",
     "output_type": "stream",
     "text": [
      "alpha = 7.000000000000005, lambda = 1.0866606004721182\n"
     ]
    },
    {
     "name": "stdout",
     "output_type": "stream",
     "text": [
      "alpha = 7.050000000000006, lambda = 1.0863382648129687\n"
     ]
    },
    {
     "name": "stdout",
     "output_type": "stream",
     "text": [
      "alpha = 7.100000000000006, lambda = 1.0860183322040242\n"
     ]
    },
    {
     "name": "stdout",
     "output_type": "stream",
     "text": [
      "alpha = 7.150000000000006, lambda = 1.0857007764926985\n"
     ]
    },
    {
     "name": "stdout",
     "output_type": "stream",
     "text": [
      "alpha = 7.200000000000006, lambda = 1.0853855721328294\n"
     ]
    },
    {
     "name": "stdout",
     "output_type": "stream",
     "text": [
      "alpha = 7.250000000000006, lambda = 1.0850726939862874\n"
     ]
    },
    {
     "name": "stdout",
     "output_type": "stream",
     "text": [
      "alpha = 7.300000000000006, lambda = 1.0847621168471542\n"
     ]
    },
    {
     "name": "stdout",
     "output_type": "stream",
     "text": [
      "alpha = 7.350000000000006, lambda = 1.0844538162899306\n"
     ]
    },
    {
     "name": "stdout",
     "output_type": "stream",
     "text": [
      "alpha = 7.400000000000006, lambda = 1.0839907589496267\n"
     ]
    },
    {
     "name": "stdout",
     "output_type": "stream",
     "text": [
      "alpha = 7.450000000000006, lambda = 1.0838524770650988\n"
     ]
    },
    {
     "name": "stdout",
     "output_type": "stream",
     "text": [
      "alpha = 7.500000000000006, lambda = 1.083551360637067\n"
     ]
    },
    {
     "name": "stdout",
     "output_type": "stream",
     "text": [
      "alpha = 7.550000000000006, lambda = 1.0832524367642948\n"
     ]
    },
    {
     "name": "stdout",
     "output_type": "stream",
     "text": [
      "alpha = 7.600000000000007, lambda = 1.082955846382343\n"
     ]
    },
    {
     "name": "stdout",
     "output_type": "stream",
     "text": [
      "alpha = 7.650000000000007, lambda = 1.0826612403895601\n"
     ]
    },
    {
     "name": "stdout",
     "output_type": "stream",
     "text": [
      "alpha = 7.700000000000006, lambda = 1.0823687590844553\n"
     ]
    },
    {
     "name": "stdout",
     "output_type": "stream",
     "text": [
      "alpha = 7.750000000000006, lambda = 1.0820783804253125\n"
     ]
    },
    {
     "name": "stdout",
     "output_type": "stream",
     "text": [
      "alpha = 7.800000000000006, lambda = 1.081790082417632\n"
     ]
    },
    {
     "name": "stdout",
     "output_type": "stream",
     "text": [
      "alpha = 7.850000000000007, lambda = 1.0815038438621625\n"
     ]
    },
    {
     "name": "stdout",
     "output_type": "stream",
     "text": [
      "alpha = 7.900000000000007, lambda = 1.081219643412189\n"
     ]
    },
    {
     "name": "stdout",
     "output_type": "stream",
     "text": [
      "alpha = 7.950000000000006, lambda = 1.0809374601248776\n"
     ]
    },
    {
     "name": "stdout",
     "output_type": "stream",
     "text": [
      "alpha = 8.000000000000007, lambda = 1.0806572733408397\n"
     ]
    },
    {
     "name": "stdout",
     "output_type": "stream",
     "text": [
      "alpha = 8.050000000000008, lambda = 1.0803790756471867\n"
     ]
    },
    {
     "name": "stdout",
     "output_type": "stream",
     "text": [
      "alpha = 8.100000000000007, lambda = 1.0801028285666145\n"
     ]
    },
    {
     "name": "stdout",
     "output_type": "stream",
     "text": [
      "alpha = 8.150000000000006, lambda = 1.0798285238798717\n"
     ]
    },
    {
     "name": "stdout",
     "output_type": "stream",
     "text": [
      "alpha = 8.200000000000006, lambda = 1.079556135126373\n"
     ]
    },
    {
     "name": "stdout",
     "output_type": "stream",
     "text": [
      "alpha = 8.250000000000007, lambda = 1.0792822938667\n"
     ]
    },
    {
     "name": "stdout",
     "output_type": "stream",
     "text": [
      "alpha = 8.300000000000008, lambda = 1.0790136794370515\n"
     ]
    },
    {
     "name": "stdout",
     "output_type": "stream",
     "text": [
      "alpha = 8.350000000000007, lambda = 1.0787469239164018\n"
     ]
    },
    {
     "name": "stdout",
     "output_type": "stream",
     "text": [
      "alpha = 8.400000000000007, lambda = 1.0784820083738678\n"
     ]
    },
    {
     "name": "stdout",
     "output_type": "stream",
     "text": [
      "alpha = 8.450000000000006, lambda = 1.0782189148000259\n"
     ]
    },
    {
     "name": "stdout",
     "output_type": "stream",
     "text": [
      "alpha = 8.500000000000007, lambda = 1.0779576246808773\n"
     ]
    },
    {
     "name": "stdout",
     "output_type": "stream",
     "text": [
      "alpha = 8.550000000000008, lambda = 1.0776981203105103\n"
     ]
    },
    {
     "name": "stdout",
     "output_type": "stream",
     "text": [
      "alpha = 8.600000000000007, lambda = 1.0774403841541984\n"
     ]
    },
    {
     "name": "stdout",
     "output_type": "stream",
     "text": [
      "alpha = 8.650000000000007, lambda = 1.0771843982985796\n"
     ]
    },
    {
     "name": "stdout",
     "output_type": "stream",
     "text": [
      "alpha = 8.700000000000006, lambda = 1.07693014583216\n"
     ]
    },
    {
     "name": "stdout",
     "output_type": "stream",
     "text": [
      "alpha = 8.750000000000007, lambda = 1.0766776096538069\n"
     ]
    },
    {
     "name": "stdout",
     "output_type": "stream",
     "text": [
      "alpha = 8.800000000000008, lambda = 1.0764267731264319\n"
     ]
    },
    {
     "name": "stdout",
     "output_type": "stream",
     "text": [
      "alpha = 8.850000000000007, lambda = 1.0761776191957908\n"
     ]
    },
    {
     "name": "stdout",
     "output_type": "stream",
     "text": [
      "alpha = 8.900000000000007, lambda = 1.0759301318935435\n"
     ]
    },
    {
     "name": "stdout",
     "output_type": "stream",
     "text": [
      "Warning: state evolution did not converge after 100 iterations\n",
      "alpha = 8.950000000000008, lambda = 1.0756842949160887\n"
     ]
    },
    {
     "name": "stdout",
     "output_type": "stream",
     "text": [
      "alpha = 9.000000000000007, lambda = 1.075440092030745\n"
     ]
    },
    {
     "name": "stdout",
     "output_type": "stream",
     "text": [
      "alpha = 9.050000000000008, lambda = 1.075197507693163\n"
     ]
    },
    {
     "name": "stdout",
     "output_type": "stream",
     "text": [
      "alpha = 9.100000000000009, lambda = 1.0749565262567549\n"
     ]
    },
    {
     "name": "stdout",
     "output_type": "stream",
     "text": [
      "alpha = 9.150000000000007, lambda = 1.0747171324281581\n"
     ]
    },
    {
     "name": "stdout",
     "output_type": "stream",
     "text": [
      "alpha = 9.200000000000008, lambda = 1.074479310633753\n"
     ]
    },
    {
     "name": "stdout",
     "output_type": "stream",
     "text": [
      "alpha = 9.250000000000007, lambda = 1.0742430460886074\n"
     ]
    },
    {
     "name": "stdout",
     "output_type": "stream",
     "text": [
      "alpha = 9.300000000000008, lambda = 1.0740083237940012\n"
     ]
    },
    {
     "name": "stdout",
     "output_type": "stream",
     "text": [
      "alpha = 9.350000000000009, lambda = 1.0737751293936397\n"
     ]
    },
    {
     "name": "stdout",
     "output_type": "stream",
     "text": [
      "alpha = 9.400000000000007, lambda = 1.073543448092466\n"
     ]
    },
    {
     "name": "stdout",
     "output_type": "stream",
     "text": [
      "alpha = 9.450000000000008, lambda = 1.0733132656488378\n"
     ]
    },
    {
     "name": "stdout",
     "output_type": "stream",
     "text": [
      "alpha = 9.500000000000007, lambda = 1.073084567996706\n"
     ]
    },
    {
     "name": "stdout",
     "output_type": "stream",
     "text": [
      "alpha = 9.550000000000008, lambda = 1.0728573409980322\n"
     ]
    },
    {
     "name": "stdout",
     "output_type": "stream",
     "text": [
      "alpha = 9.600000000000009, lambda = 1.0726315709908874\n"
     ]
    },
    {
     "name": "stdout",
     "output_type": "stream",
     "text": [
      "alpha = 9.650000000000007, lambda = 1.0724072441888035\n"
     ]
    },
    {
     "name": "stdout",
     "output_type": "stream",
     "text": [
      "alpha = 9.700000000000008, lambda = 1.0721843473601285\n"
     ]
    },
    {
     "name": "stdout",
     "output_type": "stream",
     "text": [
      "alpha = 9.750000000000009, lambda = 1.0719628670251067\n"
     ]
    },
    {
     "name": "stdout",
     "output_type": "stream",
     "text": [
      "alpha = 9.800000000000008, lambda = 1.0717427900762082\n"
     ]
    },
    {
     "name": "stdout",
     "output_type": "stream",
     "text": [
      "alpha = 9.850000000000009, lambda = 1.0715241034157963\n"
     ]
    },
    {
     "name": "stdout",
     "output_type": "stream",
     "text": [
      "alpha = 9.90000000000001, lambda = 1.071306794322454\n"
     ]
    },
    {
     "name": "stdout",
     "output_type": "stream",
     "text": [
      "alpha = 9.950000000000008, lambda = 1.071090850096216\n"
     ]
    }
   ],
   "source": [
    "bootstrap_full_overlaps    = []\n",
    "\n",
    "m_prev, q_prev, v_prev = nothing, nothing, nothing\n",
    "\n",
    "for (alpha, lambda) in zip(alpha_range, lambda_range)\n",
    "    println(\"alpha = $alpha, lambda = $lambda\")\n",
    "    result = LogisticBootstrapStateEvolution.state_evolution_bootstrap_full(alpha, lambda; max_weight=10, reltol=1e-5,\n",
    "                    bootstrap_minit=m_prev, bootstrap_qinit=q_prev, bootstrap_vinit=v_prev, rho = 1.0)\n",
    "    m_prev = result[\"m\"][1]\n",
    "    q_prev = result[\"q\"][1]\n",
    "    v_prev = result[\"v\"][1]\n",
    "    # add the dictionnary result to the list \"overlaps\"\n",
    "    push!(bootstrap_full_overlaps, result)\n",
    "end"
   ]
  },
  {
   "cell_type": "code",
   "execution_count": 16,
   "metadata": {},
   "outputs": [
    {
     "data": {
      "text/plain": [
       "36120"
      ]
     },
     "metadata": {},
     "output_type": "display_data"
    }
   ],
   "source": [
    "# save the overlaps into a file\n",
    "filename::String = \"../data/logistic/bootstrap_full_overlaps_$lambda_type.json\"\n",
    "\n",
    "dict_to_save::Dict = Dict(\"alpha\" => alpha_range,\n",
    "                          \"lambda\" => lambda_range,\n",
    "                          \"m\"   => [o[\"m\"][1] for o in bootstrap_full_overlaps],\n",
    "                          \"q_diag\"   => [o[\"q\"][1, 1] for o in bootstrap_full_overlaps],\n",
    "                          \"q_off_diag\"   => [o[\"q\"][1, 2] for o in bootstrap_full_overlaps],\n",
    "                          \"v\"   => [o[\"v\"][1] for o in bootstrap_full_overlaps],\n",
    "                          \"mhat\"=> [o[\"mhat\"][1] for o in bootstrap_full_overlaps],\n",
    "                          \"qhat_diag\"=> [o[\"qhat\"][1, 1] for o in bootstrap_full_overlaps],\n",
    "                          \"qhat_off_diag\"=> [o[\"qhat\"][1, 2] for o in bootstrap_full_overlaps],\n",
    "                          \"vhat\"=> [o[\"vhat\"][1] for o in bootstrap_full_overlaps],\n",
    "                          )\n",
    "\n",
    "open(filename, \"w\") do f\n",
    "    write(f, JSON.json(dict_to_save))\n",
    "end"
   ]
  },
  {
   "cell_type": "markdown",
   "metadata": {},
   "source": [
    "--- \n",
    "\n",
    "Compute the correlation between two resample of the full dataset"
   ]
  },
  {
   "cell_type": "code",
   "execution_count": 12,
   "metadata": {},
   "outputs": [
    {
     "name": "stdout",
     "output_type": "stream",
     "text": [
      "alpha = 0.5, lambda = 1.1657388411272638\n",
      "Converged in 1 iterations\n",
      "alpha = 0.55, lambda = 1.164646231808562\n",
      "Converged in 1 iterations\n",
      "alpha = 0.6000000000000001, lambda = 1.1635641251077804\n",
      "Converged in 1 iterations\n",
      "alpha = 0.6500000000000001, lambda = 1.162496654741952\n",
      "Converged in 1 iterations\n",
      "alpha = 0.7000000000000002, lambda = 1.1614651114168377\n",
      "Converged in 1 iterations\n",
      "alpha = 0.7500000000000002, lambda = 1.160422011381984\n",
      "Converged in 1 iterations\n",
      "alpha = 0.8000000000000003, lambda = 1.1593903474139693\n",
      "Converged in 1 iterations\n",
      "alpha = 0.8500000000000003, lambda = 1.1583699820020341\n"
     ]
    },
    {
     "name": "stdout",
     "output_type": "stream",
     "text": [
      "Converged in 1 iterations\n",
      "alpha = 0.9000000000000004, lambda = 1.1573607879366992\n",
      "Converged in 1 iterations\n",
      "alpha = 0.9500000000000004, lambda = 1.1563626142997627\n",
      "Converged in 1 iterations\n",
      "alpha = 1.0000000000000004, lambda = 1.1553753334808636\n",
      "Converged in 1 iterations\n",
      "alpha = 1.0500000000000005, lambda = 1.154398811848578\n",
      "Converged in 1 iterations\n",
      "alpha = 1.1000000000000005, lambda = 1.153432916212457\n",
      "Converged in 1 iterations\n",
      "alpha = 1.1500000000000006, lambda = 1.152477514704027\n"
     ]
    },
    {
     "name": "stdout",
     "output_type": "stream",
     "text": [
      "Converged in 1 iterations\n",
      "alpha = 1.2000000000000006, lambda = 1.1515324760243772\n",
      "Converged in 1 iterations\n",
      "alpha = 1.2500000000000007, lambda = 1.1505976699406315\n",
      "Converged in 1 iterations\n",
      "alpha = 1.3000000000000007, lambda = 1.1496729671576607\n",
      "Converged in 1 iterations\n",
      "alpha = 1.3500000000000008, lambda = 1.1487582396932328\n",
      "Converged in 1 iterations\n",
      "alpha = 1.4000000000000008, lambda = 1.147853360371921\n",
      "Converged in 1 iterations\n",
      "alpha = 1.4500000000000008, lambda = 1.146958203272857\n",
      "Converged in 1 iterations\n",
      "alpha = 1.5000000000000009, lambda = 1.1460726436479547\n"
     ]
    },
    {
     "name": "stdout",
     "output_type": "stream",
     "text": [
      "Converged in 1 iterations\n",
      "alpha = 1.550000000000001, lambda = 1.1451965579757926\n",
      "Converged in 1 iterations\n",
      "alpha = 1.600000000000001, lambda = 1.1443298237088535\n",
      "Converged in 1 iterations\n",
      "alpha = 1.650000000000001, lambda = 1.1434723192314824\n",
      "Converged in 1 iterations\n",
      "alpha = 1.700000000000001, lambda = 1.1426239251314385\n",
      "Converged in 1 iterations\n",
      "alpha = 1.750000000000001, lambda = 1.1417807944818965\n",
      "Converged in 1 iterations\n",
      "alpha = 1.8000000000000012, lambda = 1.1409486716614443\n",
      "Converged in 1 iterations\n",
      "alpha = 1.8500000000000012, lambda = 1.140126572993539\n"
     ]
    },
    {
     "name": "stdout",
     "output_type": "stream",
     "text": [
      "Converged in 1 iterations\n",
      "alpha = 1.9000000000000012, lambda = 1.1393164203827935\n",
      "Converged in 1 iterations\n",
      "alpha = 1.9500000000000013, lambda = 1.138511427210524\n",
      "Converged in 1 iterations\n",
      "alpha = 2.0000000000000013, lambda = 1.1377148458985962\n",
      "Converged in 1 iterations\n",
      "alpha = 2.0500000000000016, lambda = 1.1369265729711326\n",
      "Converged in 1 iterations\n",
      "alpha = 2.1000000000000014, lambda = 1.1361465000728268\n",
      "Converged in 1 iterations\n",
      "alpha = 2.1500000000000012, lambda = 1.135374520003139\n",
      "Converged in 1 iterations\n",
      "alpha = 2.2000000000000015, lambda = 1.1346105271186326\n"
     ]
    },
    {
     "name": "stdout",
     "output_type": "stream",
     "text": [
      "Converged in 1 iterations\n",
      "alpha = 2.2500000000000018, lambda = 1.133854416938867\n",
      "Converged in 1 iterations\n",
      "alpha = 2.3000000000000016, lambda = 1.1331060863434046\n",
      "Converged in 1 iterations\n",
      "alpha = 2.3500000000000014, lambda = 1.1323654335538034\n",
      "Converged in 1 iterations\n",
      "alpha = 2.4000000000000017, lambda = 1.1316323581058205\n",
      "Converged in 1 iterations\n",
      "alpha = 2.450000000000002, lambda = 1.1309067607728716\n",
      "Converged in 1 iterations\n",
      "alpha = 2.5000000000000018, lambda = 1.1301885437028982\n",
      "Converged in 1 iterations\n",
      "alpha = 2.5500000000000016, lambda = 1.1294776104378226\n"
     ]
    },
    {
     "name": "stdout",
     "output_type": "stream",
     "text": [
      "Converged in 1 iterations\n",
      "alpha = 2.600000000000002, lambda = 1.1287731896182882\n",
      "Converged in 1 iterations\n",
      "alpha = 2.650000000000002, lambda = 1.1280765901083198\n",
      "Converged in 1 iterations\n",
      "alpha = 2.700000000000002, lambda = 1.127386989746107\n",
      "Converged in 1 iterations\n",
      "alpha = 2.7500000000000018, lambda = 1.1267042969371586\n",
      "Converged in 1 iterations\n",
      "alpha = 2.800000000000002, lambda = 1.1260284212453988\n",
      "Converged in 1 iterations\n",
      "alpha = 2.8500000000000023, lambda = 1.1253592734724216\n"
     ]
    },
    {
     "name": "stdout",
     "output_type": "stream",
     "text": [
      "Converged in 1 iterations\n",
      "alpha = 2.900000000000002, lambda = 1.1246967661206182\n",
      "Converged in 1 iterations\n",
      "alpha = 2.950000000000002, lambda = 1.1240408134498185\n",
      "Converged in 1 iterations\n",
      "alpha = 3.000000000000002, lambda = 1.123391329741058\n",
      "Converged in 1 iterations\n",
      "alpha = 3.0500000000000025, lambda = 1.122748230724299\n",
      "Converged in 1 iterations\n",
      "alpha = 3.1000000000000023, lambda = 1.1221114331722788\n",
      "Converged in 1 iterations\n",
      "alpha = 3.150000000000002, lambda = 1.1214808557613238\n",
      "Converged in 1 iterations\n",
      "alpha = 3.2000000000000024, lambda = 1.1208564183536351\n"
     ]
    },
    {
     "name": "stdout",
     "output_type": "stream",
     "text": [
      "Converged in 1 iterations\n",
      "alpha = 3.2500000000000027, lambda = 1.1202380409815007\n",
      "Converged in 1 iterations\n",
      "alpha = 3.3000000000000025, lambda = 1.1196256448355089\n",
      "Converged in 1 iterations\n",
      "alpha = 3.3500000000000023, lambda = 1.1190191544686492\n",
      "Converged in 1 iterations\n",
      "alpha = 3.4000000000000026, lambda = 1.1184184911712547\n",
      "Converged in 1 iterations\n",
      "alpha = 3.450000000000003, lambda = 1.1178235822482039\n",
      "Converged in 1 iterations\n",
      "alpha = 3.5000000000000027, lambda = 1.1172343527677424\n"
     ]
    },
    {
     "name": "stdout",
     "output_type": "stream",
     "text": [
      "Converged in 1 iterations\n",
      "alpha = 3.5500000000000025, lambda = 1.1166507302607283\n",
      "Converged in 1 iterations\n",
      "alpha = 3.6000000000000028, lambda = 1.116072642417094\n",
      "Converged in 1 iterations\n",
      "alpha = 3.650000000000003, lambda = 1.115500018451136\n",
      "Converged in 1 iterations\n",
      "alpha = 3.700000000000003, lambda = 1.1149327900210324\n",
      "Converged in 1 iterations\n",
      "alpha = 3.7500000000000027, lambda = 1.1143708860704227\n",
      "Converged in 1 iterations\n",
      "alpha = 3.800000000000003, lambda = 1.113814240336791\n",
      "Converged in 1 iterations\n",
      "alpha = 3.850000000000003, lambda = 1.1132627861357285\n"
     ]
    },
    {
     "name": "stdout",
     "output_type": "stream",
     "text": [
      "Converged in 1 iterations\n",
      "alpha = 3.900000000000003, lambda = 1.1127164570494552\n",
      "Converged in 1 iterations\n",
      "alpha = 3.950000000000003, lambda = 1.1121751883445141\n",
      "Converged in 1 iterations\n",
      "alpha = 4.0000000000000036, lambda = 1.1116389170108216\n",
      "Converged in 1 iterations\n",
      "alpha = 4.050000000000003, lambda = 1.1111075787125406\n",
      "Converged in 1 iterations\n",
      "alpha = 4.100000000000003, lambda = 1.1105811117934707\n",
      "Converged in 1 iterations\n",
      "alpha = 4.150000000000003, lambda = 1.1100594558065278\n",
      "Converged in 1 iterations\n",
      "alpha = 4.200000000000003, lambda = 1.1095425504087457\n"
     ]
    },
    {
     "name": "stdout",
     "output_type": "stream",
     "text": [
      "Converged in 1 iterations\n",
      "alpha = 4.2500000000000036, lambda = 1.1090303351009543\n",
      "Converged in 1 iterations\n",
      "alpha = 4.300000000000003, lambda = 1.108522752058504\n",
      "Converged in 1 iterations\n",
      "alpha = 4.350000000000003, lambda = 1.1080197435731287\n",
      "Converged in 1 iterations\n",
      "alpha = 4.400000000000004, lambda = 1.107521253573327\n",
      "Converged in 1 iterations\n",
      "alpha = 4.450000000000004, lambda = 1.1070272251947346\n",
      "Converged in 1 iterations\n",
      "alpha = 4.5000000000000036, lambda = 1.1065376031770127\n",
      "Converged in 1 iterations\n",
      "alpha = 4.550000000000003, lambda = 1.106052333661234\n"
     ]
    },
    {
     "name": "stdout",
     "output_type": "stream",
     "text": [
      "Converged in 1 iterations\n",
      "alpha = 4.600000000000003, lambda = 1.1055713630020036\n",
      "Converged in 1 iterations\n",
      "alpha = 4.650000000000004, lambda = 1.1050946380637081\n",
      "Converged in 1 iterations\n",
      "alpha = 4.700000000000004, lambda = 1.1046221073263776\n",
      "Converged in 1 iterations\n",
      "alpha = 4.7500000000000036, lambda = 1.1041537188307182\n",
      "Converged in 1 iterations\n",
      "alpha = 4.800000000000004, lambda = 1.1036894223250082\n",
      "Converged in 1 iterations\n",
      "alpha = 4.850000000000004, lambda = 1.1032291678831438\n"
     ]
    },
    {
     "name": "stdout",
     "output_type": "stream",
     "text": [
      "Converged in 1 iterations\n",
      "alpha = 4.900000000000004, lambda = 1.1027729063596343\n",
      "Converged in 1 iterations\n",
      "alpha = 4.950000000000004, lambda = 1.102320590262144\n",
      "Converged in 1 iterations\n",
      "alpha = 5.0000000000000036, lambda = 1.101872170269274\n",
      "Converged in 1 iterations\n",
      "alpha = 5.050000000000004, lambda = 1.1014276015646731\n",
      "Converged in 1 iterations\n",
      "alpha = 5.100000000000004, lambda = 1.1009868368535791\n",
      "Converged in 1 iterations\n",
      "alpha = 5.150000000000004, lambda = 1.1005498290579792\n",
      "Converged in 1 iterations\n",
      "alpha = 5.200000000000005, lambda = 1.1001165351298492\n"
     ]
    },
    {
     "name": "stdout",
     "output_type": "stream",
     "text": [
      "Converged in 1 iterations\n",
      "alpha = 5.250000000000004, lambda = 1.0996869096397806\n",
      "Converged in 1 iterations\n",
      "alpha = 5.300000000000004, lambda = 1.0992609098291841\n",
      "Converged in 1 iterations\n",
      "alpha = 5.350000000000004, lambda = 1.0988384922240286\n",
      "Converged in 1 iterations\n",
      "alpha = 5.400000000000004, lambda = 1.0984196135439954\n",
      "Converged in 1 iterations\n",
      "alpha = 5.450000000000005, lambda = 1.098004232563178\n",
      "Converged in 1 iterations\n",
      "alpha = 5.500000000000004, lambda = 1.097592309390582\n"
     ]
    },
    {
     "name": "stdout",
     "output_type": "stream",
     "text": [
      "Converged in 1 iterations\n",
      "alpha = 5.550000000000004, lambda = 1.0971838018118463\n",
      "Converged in 1 iterations\n",
      "alpha = 5.600000000000005, lambda = 1.0967786696290958\n",
      "Converged in 1 iterations\n",
      "alpha = 5.650000000000005, lambda = 1.0963774799532613\n",
      "Converged in 1 iterations\n",
      "alpha = 5.700000000000005, lambda = 1.0959790027142977\n",
      "Converged in 1 iterations\n",
      "alpha = 5.750000000000004, lambda = 1.0955837845700012\n",
      "Converged in 1 iterations\n",
      "alpha = 5.800000000000004, lambda = 1.095191787705202\n"
     ]
    },
    {
     "name": "stdout",
     "output_type": "stream",
     "text": [
      "Converged in 1 iterations\n",
      "alpha = 5.850000000000005, lambda = 1.0948029748026677\n",
      "Converged in 1 iterations\n",
      "alpha = 5.900000000000005, lambda = 1.094417309023107\n",
      "Converged in 1 iterations\n",
      "alpha = 5.950000000000005, lambda = 1.0940347541882542\n",
      "Converged in 1 iterations\n",
      "alpha = 6.000000000000005, lambda = 1.0936552744892825\n",
      "Converged in 1 iterations\n",
      "alpha = 6.050000000000005, lambda = 1.0932788346552718\n",
      "Converged in 1 iterations\n",
      "alpha = 6.100000000000005, lambda = 1.0929054000034435\n"
     ]
    },
    {
     "name": "stdout",
     "output_type": "stream",
     "text": [
      "Converged in 1 iterations\n",
      "alpha = 6.150000000000005, lambda = 1.09253493614707\n",
      "Converged in 1 iterations\n",
      "alpha = 6.200000000000005, lambda = 1.092167409390967\n",
      "Converged in 1 iterations\n",
      "alpha = 6.250000000000005, lambda = 1.0918027863942332\n",
      "Converged in 1 iterations\n",
      "alpha = 6.300000000000005, lambda = 1.0914410343480094\n",
      "Converged in 1 iterations\n",
      "alpha = 6.350000000000005, lambda = 1.0910821207405146\n",
      "Converged in 1 iterations\n",
      "alpha = 6.400000000000006, lambda = 1.090726013715878\n",
      "Converged in 1 iterations\n",
      "alpha = 6.4500000000000055, lambda = 1.090372681797778\n"
     ]
    },
    {
     "name": "stdout",
     "output_type": "stream",
     "text": [
      "Converged in 1 iterations\n",
      "alpha = 6.500000000000005, lambda = 1.0900220938176153\n",
      "Converged in 1 iterations\n",
      "alpha = 6.550000000000005, lambda = 1.0896742193189537\n",
      "Converged in 1 iterations\n",
      "alpha = 6.600000000000005, lambda = 1.0893290278804142\n",
      "Converged in 1 iterations\n",
      "alpha = 6.650000000000006, lambda = 1.088986489896676\n",
      "Converged in 1 iterations\n",
      "alpha = 6.7000000000000055, lambda = 1.08864657589772\n"
     ]
    },
    {
     "name": "stdout",
     "output_type": "stream",
     "text": [
      "Converged in 1 iterations\n",
      "alpha = 6.750000000000005, lambda = 1.0883092569373105\n",
      "Converged in 1 iterations\n",
      "alpha = 6.800000000000006, lambda = 1.0879745043321762\n",
      "Converged in 1 iterations\n",
      "alpha = 6.850000000000006, lambda = 1.0876422901236644\n",
      "Converged in 1 iterations\n",
      "alpha = 6.900000000000006, lambda = 1.0873125862193933\n",
      "Converged in 1 iterations\n",
      "alpha = 6.9500000000000055, lambda = 1.0869853653814845\n",
      "Converged in 1 iterations\n",
      "alpha = 7.000000000000005, lambda = 1.0866606004721182\n"
     ]
    },
    {
     "name": "stdout",
     "output_type": "stream",
     "text": [
      "Converged in 1 iterations\n",
      "alpha = 7.050000000000006, lambda = 1.0863382648129687\n",
      "Converged in 1 iterations\n",
      "alpha = 7.100000000000006, lambda = 1.0860183322040242\n",
      "Converged in 1 iterations\n",
      "alpha = 7.150000000000006, lambda = 1.0857007764926985\n",
      "Converged in 1 iterations\n",
      "alpha = 7.200000000000006, lambda = 1.0853855721328294\n",
      "Converged in 1 iterations\n",
      "alpha = 7.250000000000006, lambda = 1.0850726939862874\n"
     ]
    },
    {
     "name": "stdout",
     "output_type": "stream",
     "text": [
      "Converged in 1 iterations\n",
      "alpha = 7.300000000000006, lambda = 1.0847621168471542\n",
      "Converged in 1 iterations\n",
      "alpha = 7.350000000000006, lambda = 1.0844538162899306\n",
      "Converged in 1 iterations\n",
      "alpha = 7.400000000000006, lambda = 1.0839907589496267\n",
      "Converged in 1 iterations\n",
      "alpha = 7.450000000000006, lambda = 1.0838524770650988\n",
      "Converged in 1 iterations\n",
      "alpha = 7.500000000000006, lambda = 1.083551360637067\n",
      "Converged in 1 iterations\n",
      "alpha = 7.550000000000006, lambda = 1.0832524367642948\n",
      "Converged in 1 iterations\n",
      "alpha = 7.600000000000007, lambda = 1.082955846382343\n"
     ]
    },
    {
     "name": "stdout",
     "output_type": "stream",
     "text": [
      "Converged in 1 iterations\n",
      "alpha = 7.650000000000007, lambda = 1.0826612403895601\n",
      "Converged in 1 iterations\n",
      "alpha = 7.700000000000006, lambda = 1.0823687590844553\n",
      "Converged in 1 iterations\n",
      "alpha = 7.750000000000006, lambda = 1.0820783804253125\n",
      "Converged in 1 iterations\n",
      "alpha = 7.800000000000006, lambda = 1.081790082417632\n",
      "Converged in 1 iterations\n",
      "alpha = 7.850000000000007, lambda = 1.0815038438621625\n",
      "Converged in 1 iterations\n",
      "alpha = 7.900000000000007, lambda = 1.081219643412189\n",
      "Converged in 1 iterations\n",
      "alpha = 7.950000000000006, lambda = 1.0809374601248776\n"
     ]
    },
    {
     "name": "stdout",
     "output_type": "stream",
     "text": [
      "Converged in 1 iterations\n",
      "alpha = 8.000000000000007, lambda = 1.0806572733408397\n",
      "Converged in 1 iterations\n",
      "alpha = 8.050000000000008, lambda = 1.0803790756471867\n",
      "Converged in 1 iterations\n",
      "alpha = 8.100000000000007, lambda = 1.0801028285666145\n",
      "Converged in 1 iterations\n",
      "alpha = 8.150000000000006, lambda = 1.0798285238798717\n",
      "Converged in 1 iterations\n",
      "alpha = 8.200000000000006, lambda = 1.079556135126373\n",
      "Converged in 1 iterations\n",
      "alpha = 8.250000000000007, lambda = 1.0792822938667\n"
     ]
    },
    {
     "name": "stdout",
     "output_type": "stream",
     "text": [
      "Converged in 1 iterations\n",
      "alpha = 8.300000000000008, lambda = 1.0790136794370515\n",
      "Converged in 1 iterations\n",
      "alpha = 8.350000000000007, lambda = 1.0787469239164018\n",
      "Converged in 1 iterations\n",
      "alpha = 8.400000000000007, lambda = 1.0784820083738678\n",
      "Converged in 1 iterations\n",
      "alpha = 8.450000000000006, lambda = 1.0782189148000259\n",
      "Converged in 1 iterations\n",
      "alpha = 8.500000000000007, lambda = 1.0779576246808773\n",
      "Converged in 1 iterations\n",
      "alpha = 8.550000000000008, lambda = 1.0776981203105103\n"
     ]
    },
    {
     "name": "stdout",
     "output_type": "stream",
     "text": [
      "Converged in 1 iterations\n",
      "alpha = 8.600000000000007, lambda = 1.0774403841541984\n",
      "Converged in 1 iterations\n",
      "alpha = 8.650000000000007, lambda = 1.0771843982985796\n",
      "Converged in 1 iterations\n",
      "alpha = 8.700000000000006, lambda = 1.07693014583216\n",
      "Converged in 1 iterations\n",
      "alpha = 8.750000000000007, lambda = 1.0766776096538069\n",
      "Converged in 1 iterations\n",
      "alpha = 8.800000000000008, lambda = 1.0764267731264319\n",
      "Converged in 1 iterations\n",
      "alpha = 8.850000000000007, lambda = 1.0761776191957908\n"
     ]
    },
    {
     "name": "stdout",
     "output_type": "stream",
     "text": [
      "Converged in 1 iterations\n",
      "alpha = 8.900000000000007, lambda = 1.0759301318935435\n",
      "Converged in 1 iterations\n",
      "alpha = 8.950000000000008, lambda = 1.0756842949160887\n",
      "Converged in 1 iterations\n",
      "alpha = 9.000000000000007, lambda = 1.075440092030745\n",
      "Converged in 1 iterations\n",
      "alpha = 9.050000000000008, lambda = 1.075197507693163\n",
      "Converged in 1 iterations\n",
      "alpha = 9.100000000000009, lambda = 1.0749565262567549\n",
      "Converged in 1 iterations\n",
      "alpha = 9.150000000000007, lambda = 1.0747171324281581\n"
     ]
    },
    {
     "name": "stdout",
     "output_type": "stream",
     "text": [
      "Converged in 1 iterations\n",
      "alpha = 9.200000000000008, lambda = 1.074479310633753\n",
      "Converged in 1 iterations\n",
      "alpha = 9.250000000000007, lambda = 1.0742430460886074\n",
      "Converged in 1 iterations\n",
      "alpha = 9.300000000000008, lambda = 1.0740083237940012\n",
      "Converged in 1 iterations\n",
      "alpha = 9.350000000000009, lambda = 1.0737751293936397\n",
      "Converged in 1 iterations\n",
      "alpha = 9.400000000000007, lambda = 1.073543448092466\n",
      "Converged in 1 iterations\n",
      "alpha = 9.450000000000008, lambda = 1.0733132656488378\n"
     ]
    },
    {
     "name": "stdout",
     "output_type": "stream",
     "text": [
      "Converged in 1 iterations\n",
      "alpha = 9.500000000000007, lambda = 1.073084567996706\n",
      "Converged in 1 iterations\n",
      "alpha = 9.550000000000008, lambda = 1.0728573409980322\n",
      "Converged in 1 iterations\n",
      "alpha = 9.600000000000009, lambda = 1.0726315709908874\n",
      "Converged in 1 iterations\n",
      "alpha = 9.650000000000007, lambda = 1.0724072441888035\n",
      "Converged in 1 iterations\n",
      "alpha = 9.700000000000008, lambda = 1.0721843473601285\n",
      "Converged in 1 iterations\n",
      "alpha = 9.750000000000009, lambda = 1.0719628670251067\n"
     ]
    },
    {
     "name": "stdout",
     "output_type": "stream",
     "text": [
      "Converged in 1 iterations\n",
      "alpha = 9.800000000000008, lambda = 1.0717427900762082\n",
      "Converged in 1 iterations\n",
      "alpha = 9.850000000000009, lambda = 1.0715241034157963\n",
      "Converged in 1 iterations\n",
      "alpha = 9.90000000000001, lambda = 1.071306794322454\n",
      "Converged in 1 iterations\n",
      "alpha = 9.950000000000008, lambda = 1.071090850096216\n",
      "Converged in 1 iterations\n"
     ]
    }
   ],
   "source": [
    "full_full_overlaps     = []\n",
    "m_prev, q_prev, v_prev = nothing, nothing, nothing\n",
    "\n",
    "for (alpha, lambda) in zip(alpha_range, lambda_range)\n",
    "    println(\"alpha = $alpha, lambda = $lambda\")\n",
    "    result = LogisticBootstrapStateEvolution.state_evolution_full_full(alpha, lambda; reltol=1e-6, verbose = true)\n",
    "    # add the dictionnary result to the list \"overlaps\"\n",
    "    push!(full_full_overlaps, result)\n",
    "end"
   ]
  },
  {
   "cell_type": "code",
   "execution_count": 11,
   "metadata": {},
   "outputs": [
    {
     "data": {
      "text/plain": [
       "33408"
      ]
     },
     "metadata": {},
     "output_type": "display_data"
    }
   ],
   "source": [
    "# save the overlaps into a file\n",
    "filename::String = \"../data/logistic/full_full_overlaps_$lambda_type.json\"\n",
    "\n",
    "dict_to_save::Dict = Dict(\"alpha\" => alpha_range,\n",
    "                          \"lambda\" => lambda_range,\n",
    "                          \"m\"   => [o[\"m\"][1] for o in full_full_overlaps],\n",
    "                          \"q_diag\"   => [o[\"q\"][1, 1] for o in full_full_overlaps],\n",
    "                          \"q_off_diag\"   => [o[\"q\"][1, 2] for o in full_full_overlaps],\n",
    "                          \"v\"   => [o[\"v\"][1] for o in full_full_overlaps],\n",
    "                          \"mhat\"=> [o[\"mhat\"][1] for o in full_full_overlaps],\n",
    "                          \"qhat_diag\"=> [o[\"qhat\"][1, 1] for o in full_full_overlaps],\n",
    "                          \"qhat_off_diag\"=> [o[\"qhat\"][1, 2] for o in full_full_overlaps],\n",
    "                          \"vhat\"=> [o[\"vhat\"][1] for o in full_full_overlaps],\n",
    "                          )\n",
    "\n",
    "open(filename, \"w\") do f\n",
    "    write(f, JSON.json(dict_to_save))\n",
    "end"
   ]
  },
  {
   "cell_type": "markdown",
   "metadata": {},
   "source": [
    "--- \n",
    "\n",
    "Overlaps between two $y$ resampling "
   ]
  },
  {
   "cell_type": "code",
   "execution_count": 15,
   "metadata": {},
   "outputs": [
    {
     "name": "stdout",
     "output_type": "stream",
     "text": [
      "alpha = 0.5, lambda = 1.1657388411272638\n"
     ]
    },
    {
     "name": "stdout",
     "output_type": "stream",
     "text": [
      "Warning: state evolution did not converge in 50 iterations\n",
      "single overlaps are Dict(\"v\" => 0.7894966006280402, \"mhat\" => 0.08654594233876348, \"m\" => 0.06832772727460415, \"vhat\" => 0.10089105848789043, \"q\" => 0.058544341388110946, \"qhat\" => 0.08643549023051736)\n",
      "Warning: state evolution did not converge after 50 iterations"
     ]
    },
    {
     "name": "stdout",
     "output_type": "stream",
     "text": [
      "\n",
      "alpha = 0.55, lambda = 1.164646231808562\n",
      "Warning: state evolution did not converge in 50 iterations\n",
      "single overlaps are Dict(\"v\" => 0.7839063370736062, \"mhat\" => 0.09532244371496248, \"m\" => 0.07472386769350124, \"vhat\" => 0.11101637315658101, \"q\" => 0.06408012640332703, \"qhat\" => 0.09519218785799785)\n"
     ]
    },
    {
     "name": "stdout",
     "output_type": "stream",
     "text": [
      "Warning: state evolution did not converge after 50 iterations\n",
      "alpha = 0.6000000000000001, lambda = 1.1635641251077804\n",
      "Warning: state evolution did not converge in 50 iterations\n",
      "single overlaps are Dict(\"v\" => 0.7783847728006028, \"mhat\" => 0.10411963065768635, \"m\" => 0.08104513505356588, \"vhat\" => 0.12114754313571943, \"q\" => 0.06956088142483845, \"qhat\" => 0.10396822923480269)\n",
      "Warning: state evolution did not converge after 50 iterations"
     ]
    },
    {
     "name": "stdout",
     "output_type": "stream",
     "text": [
      "\n",
      "alpha = 0.6500000000000001, lambda = 1.162496654741952\n",
      "Warning: state evolution did not converge in 50 iterations\n",
      "single overlaps are Dict(\"v\" => 0.7729282493202013, \"mhat\" => 0.11293721264837253, \"m\" => 0.08729236205540987, \"vhat\" => 0.13128449619865712, \"q\" => 0.07498687342674729, \"qhat\" => 0.1127634388161136)\n"
     ]
    },
    {
     "name": "stdout",
     "output_type": "stream",
     "text": [
      "Warning: state evolution did not converge after 50 iterations\n",
      "alpha = 0.7000000000000002, lambda = 1.1614651114168377\n",
      "Warning: state evolution did not converge in 50 iterations\n",
      "single overlaps are Dict(\"v\" => 0.7675229070079158, \"mhat\" => 0.12177517140653228, \"m\" => 0.09346523355932888, \"vhat\" => 0.14142759819409076, \"q\" => 0.08035641099343785, \"qhat\" => 0.12157817879388504)\n",
      "Warning: state evolution did not converge after 50 iterations"
     ]
    },
    {
     "name": "stdout",
     "output_type": "stream",
     "text": [
      "\n",
      "alpha = 0.7500000000000002, lambda = 1.160422011381984\n",
      "Warning: state evolution did not converge in 50 iterations\n",
      "single overlaps are Dict(\"v\" => 0.762196500301558, \"mhat\" => 0.1306325024219415, \"m\" => 0.09956763617163861, \"vhat\" => 0.1515756160072215, \"q\" => 0.08567503689943147, \"qhat\" => 0.13041082663836914)\n"
     ]
    },
    {
     "name": "stdout",
     "output_type": "stream",
     "text": [
      "Warning: state evolution did not converge after 50 iterations\n",
      "alpha = 0.8000000000000003, lambda = 1.1593903474139693\n",
      "Warning: state evolution did not converge in 50 iterations\n",
      "single overlaps are Dict(\"v\" => 0.7569339342017031, \"mhat\" => 0.1395091959161045, \"m\" => 0.10559924452209316, \"vhat\" => 0.1617289138788215, \"q\" => 0.0909410757162237, \"qhat\" => 0.1392617457294158)\n",
      "Warning: state evolution did not converge after 50 iterations"
     ]
    },
    {
     "name": "stdout",
     "output_type": "stream",
     "text": [
      "\n",
      "alpha = 0.8500000000000003, lambda = 1.1583699820020341\n",
      "Warning: state evolution did not converge in 50 iterations\n",
      "single overlaps are Dict(\"v\" => 0.7517342524080812, \"mhat\" => 0.14840492977257305, \"m\" => 0.111561068936259, \"vhat\" => 0.17188734869246636, \"q\" => 0.0961551610984498, \"qhat\" => 0.14813066582741724)\n"
     ]
    },
    {
     "name": "stdout",
     "output_type": "stream",
     "text": [
      "Warning: state evolution did not converge after 50 iterations\n",
      "alpha = 0.9000000000000004, lambda = 1.1573607879366992\n",
      "Warning: state evolution did not converge in 50 iterations\n",
      "single overlaps are Dict(\"v\" => 0.7465965076129986, \"mhat\" => 0.1573193876803218, \"m\" => 0.11745410542194365, \"vhat\" => 0.18205078150283294, \"q\" => 0.10131791780213709, \"qhat\" => 0.15701732080824535)\n",
      "Warning: state evolution did not converge after 50 iterations"
     ]
    },
    {
     "name": "stdout",
     "output_type": "stream",
     "text": [
      "\n",
      "alpha = 0.9500000000000004, lambda = 1.1563626142997627\n",
      "Warning: state evolution did not converge in 50 iterations\n",
      "single overlaps are Dict(\"v\" => 0.7415197810177139, \"mhat\" => 0.1662522584544727, \"m\" => 0.12327933828286096, \"vhat\" => 0.19221907643750893, \"q\" => 0.10642996621095228, \"qhat\" => 0.16592144743423784)\n"
     ]
    },
    {
     "name": "stdout",
     "output_type": "stream",
     "text": [
      "Warning: state evolution did not converge after 50 iterations\n",
      "alpha = 1.0000000000000004, lambda = 1.1553753334808636\n",
      "Warning: state evolution did not converge in 50 iterations\n",
      "single overlaps are Dict(\"v\" => 0.7365031550291118, \"mhat\" => 0.17520323678034092, \"m\" => 0.1290377366600336, \"vhat\" => 0.20239210196274016, \"q\" => 0.11149191637808675, \"qhat\" => 0.17484278697846237)\n",
      "Warning: state evolution did not converge after 50 iterations"
     ]
    },
    {
     "name": "stdout",
     "output_type": "stream",
     "text": [
      "\n",
      "alpha = 1.0500000000000005, lambda = 1.154398811848578\n",
      "Warning: state evolution did not converge in 50 iterations\n",
      "single overlaps are Dict(\"v\" => 0.7315457301494355, \"mhat\" => 0.18417202262837357, \"m\" => 0.1347302567667719, \"vhat\" => 0.21256972994815482, \"q\" => 0.11650437185975258, \"qhat\" => 0.18378108418270775)\n"
     ]
    },
    {
     "name": "stdout",
     "output_type": "stream",
     "text": [
      "Warning: state evolution did not converge after 50 iterations\n",
      "alpha = 1.1000000000000005, lambda = 1.153432916212457\n",
      "Warning: state evolution did not converge in 50 iterations\n",
      "single overlaps are Dict(\"v\" => 0.7266466210817623, \"mhat\" => 0.1931583212848285, \"m\" => 0.14035784149544606, \"vhat\" => 0.2227518357530793, \"q\" => 0.1214679290041492, \"qhat\" => 0.19273608744980528)\n",
      "Warning: state evolution did not converge after 50 iterations"
     ]
    },
    {
     "name": "stdout",
     "output_type": "stream",
     "text": [
      "\n",
      "alpha = 1.1500000000000006, lambda = 1.152477514704027\n",
      "Warning: state evolution did not converge in 50 iterations\n",
      "single overlaps are Dict(\"v\" => 0.7218049561044053, \"mhat\" => 0.20216184306522722, \"m\" => 0.14592142025968202, \"vhat\" => 0.23293829817292858, \"q\" => 0.12638317663017695, \"qhat\" => 0.2017075484053842)\n"
     ]
    },
    {
     "name": "stdout",
     "output_type": "stream",
     "text": [
      "Warning: state evolution did not converge after 50 iterations\n",
      "alpha = 1.2000000000000006, lambda = 1.1515324760243772\n",
      "Warning: state evolution did not converge in 50 iterations\n",
      "single overlaps are Dict(\"v\" => 0.7170198773691303, \"mhat\" => 0.21118230407154878, \"m\" => 0.1514219097679123, \"vhat\" => 0.24312899928809606, \"q\" => 0.13125069729371355, \"qhat\" => 0.21069522352162845)\n",
      "Warning: state evolution did not converge after 50 iterations"
     ]
    },
    {
     "name": "stdout",
     "output_type": "stream",
     "text": [
      "\n",
      "alpha = 1.2500000000000007, lambda = 1.1505976699406315\n",
      "Warning: state evolution did not converge in 50 iterations\n",
      "single overlaps are Dict(\"v\" => 0.7122905404446465, \"mhat\" => 0.22021942461508096, \"m\" => 0.15686021297548508, \"vhat\" => 0.2533238244761712, \"q\" => 0.1360710654046692, \"qhat\" => 0.21969887111748101)\n"
     ]
    },
    {
     "name": "stdout",
     "output_type": "stream",
     "text": [
      "Warning: state evolution did not converge after 50 iterations\n",
      "alpha = 1.3000000000000007, lambda = 1.1496729671576607\n",
      "Warning: state evolution did not converge in 50 iterations\n",
      "single overlaps are Dict(\"v\" => 0.7076161143317037, \"mhat\" => 0.2292729310944395, \"m\" => 0.16223722062248772, \"vhat\" => 0.2635226621482567, \"q\" => 0.14084484979774614, \"qhat\" => 0.228718255225917)\n",
      "Warning: state evolution did not converge after 50 iterations"
     ]
    },
    {
     "name": "stdout",
     "output_type": "stream",
     "text": [
      "\n",
      "alpha = 1.3500000000000008, lambda = 1.1487582396932328\n",
      "Warning: state evolution did not converge in 50 iterations\n",
      "single overlaps are Dict(\"v\" => 0.7029957810101504, \"mhat\" => 0.23834255395425458, \"m\" => 0.1675538098650251, \"vhat\" => 0.2737254038971707, \"q\" => 0.14557261125262697, \"qhat\" => 0.2377531416382672)\n"
     ]
    },
    {
     "name": "stdout",
     "output_type": "stream",
     "text": [
      "Warning: state evolution did not converge after 50 iterations\n",
      "alpha = 1.4000000000000008, lambda = 1.147853360371921\n",
      "Warning: state evolution did not converge in 50 iterations\n",
      "single overlaps are Dict(\"v\" => 0.698428735627783, \"mhat\" => 0.2474280287842673, \"m\" => 0.17281084530267052, \"vhat\" => 0.2839319442535388, \"q\" => 0.15025490416606485, \"qhat\" => 0.24680330022812821)\n",
      "Warning: state evolution did not converge after 50 iterations"
     ]
    },
    {
     "name": "stdout",
     "output_type": "stream",
     "text": [
      "\n",
      "alpha = 1.4500000000000008, lambda = 1.146958203272857\n",
      "Warning: state evolution did not converge in 50 iterations\n",
      "single overlaps are Dict(\"v\" => 0.6939141860973437, \"mhat\" => 0.25652909595386586, \"m\" => 0.1780091788291142, \"vhat\" => 0.29414218065807196, \"q\" => 0.154892276169272, \"qhat\" => 0.2558685043427596)\n"
     ]
    },
    {
     "name": "stdout",
     "output_type": "stream",
     "text": [
      "Warning: state evolution did not converge after 50 iterations\n",
      "alpha = 1.5000000000000009, lambda = 1.1460726436479547\n",
      "Warning: state evolution did not converge in 50 iterations\n",
      "single overlaps are Dict(\"v\" => 0.6894513529882385, \"mhat\" => 0.2656455005326352, \"m\" => 0.18314964975746315, \"vhat\" => 0.3043560133787859, \"q\" => 0.15948526821366063, \"qhat\" => 0.2649485307654583)\n",
      "Warning: state evolution did not converge after 50 iterations"
     ]
    },
    {
     "name": "stdout",
     "output_type": "stream",
     "text": [
      "\n",
      "alpha = 1.550000000000001, lambda = 1.1451965579757926\n",
      "Warning: state evolution did not converge in 50 iterations\n",
      "single overlaps are Dict(\"v\" => 0.6850394693462714, \"mhat\" => 0.2747769922173656, \"m\" => 0.1882330849371487, \"vhat\" => 0.3145733454347267, \"q\" => 0.16403441463413146, \"qhat\" => 0.2740431596894576)\n"
     ]
    },
    {
     "name": "stdout",
     "output_type": "stream",
     "text": [
      "Warning: state evolution did not converge after 50 iterations\n",
      "alpha = 1.600000000000001, lambda = 1.1443298237088535\n",
      "Warning: state evolution did not converge in 50 iterations\n",
      "single overlaps are Dict(\"v\" => 0.6806777806603804, \"mhat\" => 0.2839233252426089, \"m\" => 0.19326029890385438, \"vhat\" => 0.32479408250976766, \"q\" => 0.16854024326249759, \"qhat\" => 0.283152174656981)\n",
      "Warning: state evolution did not converge after 50 iterations"
     ]
    },
    {
     "name": "stdout",
     "output_type": "stream",
     "text": [
      "\n",
      "alpha = 1.650000000000001, lambda = 1.1434723192314824\n",
      "Warning: state evolution did not converge in 50 iterations\n",
      "single overlaps are Dict(\"v\" => 0.6763655447191734, \"mhat\" => 0.2930842583058703, \"m\" => 0.1982320940176649, \"vhat\" => 0.33501813287337673, \"q\" => 0.1730032755142455, \"qhat\" => 0.29227536252629516)\n"
     ]
    },
    {
     "name": "stdout",
     "output_type": "stream",
     "text": [
      "Warning: state evolution did not converge after 50 iterations\n",
      "alpha = 1.700000000000001, lambda = 1.1426239251314385\n",
      "Warning: state evolution did not converge in 50 iterations\n",
      "single overlaps are Dict(\"v\" => 0.6721020308387148, \"mhat\" => 0.3022595545236603, \"m\" => 0.20314926043575735, \"vhat\" => 0.3452454073746722, \"q\" => 0.17742402618069858, \"qhat\" => 0.3014125134990301)\n",
      "Warning: state evolution did not converge after 50 iterations"
     ]
    },
    {
     "name": "stdout",
     "output_type": "stream",
     "text": [
      "\n",
      "alpha = 1.750000000000001, lambda = 1.1417807944818965\n",
      "Warning: state evolution did not converge in 50 iterations\n",
      "single overlaps are Dict(\"v\" => 0.6678882735311821, \"mhat\" => 0.311448874026134, \"m\" => 0.20801305076654525, \"vhat\" => 0.3554756174519664, \"q\" => 0.18180383211224813, \"qhat\" => 0.31056320513545516)\n"
     ]
    },
    {
     "name": "stdout",
     "output_type": "stream",
     "text": [
      "Warning: state evolution did not converge after 50 iterations\n",
      "alpha = 1.8000000000000012, lambda = 1.1409486716614443\n",
      "Warning: state evolution did not converge in 50 iterations\n",
      "single overlaps are Dict(\"v\" => 0.6637207814823048, \"mhat\" => 0.3206521545229044, \"m\" => 0.21282349858392688, \"vhat\" => 0.3657089890594902, \"q\" => 0.18614191666296326, \"qhat\" => 0.3197275681101309)\n",
      "Warning: state evolution did not converge after 50 iterations"
     ]
    },
    {
     "name": "stdout",
     "output_type": "stream",
     "text": [
      "\n",
      "alpha = 1.8500000000000012, lambda = 1.140126572993539\n",
      "Warning: state evolution did not converge in 50 iterations\n",
      "single overlaps are Dict(\"v\" => 0.6595992922172793, \"mhat\" => 0.3298691492874078, \"m\" => 0.21758145739429022, \"vhat\" => 0.375945399489095, \"q\" => 0.19043894756298324, \"qhat\" => 0.32890535690037664)\n"
     ]
    },
    {
     "name": "stdout",
     "output_type": "stream",
     "text": [
      "Warning: state evolution did not converge after 50 iterations\n",
      "alpha = 1.9000000000000012, lambda = 1.1393164203827935\n",
      "Warning: state evolution did not converge in 50 iterations\n",
      "single overlaps are Dict(\"v\" => 0.6555222153217745, \"mhat\" => 0.33909970171784565, \"m\" => 0.2222873876850351, \"vhat\" => 0.386184892351715, \"q\" => 0.1946949193293106, \"qhat\" => 0.338096502269076)\n",
      "Warning: state evolution did not converge after 50 iterations"
     ]
    },
    {
     "name": "stdout",
     "output_type": "stream",
     "text": [
      "\n",
      "alpha = 1.9500000000000013, lambda = 1.138511427210524\n",
      "Warning: state evolution did not converge in 50 iterations\n",
      "single overlaps are Dict(\"v\" => 0.6514919282279517, \"mhat\" => 0.3483433950360084, \"m\" => 0.2269429101174802, \"vhat\" => 0.39642700666997727, \"q\" => 0.19891187059733026, \"qhat\" => 0.3473004062547104)\n"
     ]
    },
    {
     "name": "stdout",
     "output_type": "stream",
     "text": [
      "Warning: state evolution did not converge after 50 iterations\n",
      "alpha = 2.0000000000000013, lambda = 1.1377148458985962\n",
      "Warning: state evolution did not converge in 50 iterations\n",
      "single overlaps are Dict(\"v\" => 0.6475062220136146, \"mhat\" => 0.35760011817845705, \"m\" => 0.23154830151335482, \"vhat\" => 0.40667185804719824, \"q\" => 0.20308950315176427, \"qhat\" => 0.35651708129608006)\n",
      "Warning: state evolution did not converge after 50 iterations"
     ]
    },
    {
     "name": "stdout",
     "output_type": "stream",
     "text": [
      "\n",
      "alpha = 2.0500000000000016, lambda = 1.1369265729711326\n",
      "Warning: state evolution did not converge in 50 iterations\n",
      "single overlaps are Dict(\"v\" => 0.6435644422663614, \"mhat\" => 0.3668696627730081, \"m\" => 0.23610426990695904, \"vhat\" => 0.41691937364211323, \"q\" => 0.20722828630727166, \"qhat\" => 0.36574633923716576)\n"
     ]
    },
    {
     "name": "stdout",
     "output_type": "stream",
     "text": [
      "Warning: state evolution did not converge after 50 iterations\n",
      "alpha = 2.1000000000000014, lambda = 1.1361465000728268\n",
      "Warning: state evolution did not converge in 50 iterations\n",
      "single overlaps are Dict(\"v\" => 0.6396659480942993, \"mhat\" => 0.37615182450640217, \"m\" => 0.24061151345028825, \"vhat\" => 0.4271694822445253, \"q\" => 0.21132868538019756, \"qhat\" => 0.3749879953904384)\n",
      "Warning: state evolution did not converge after 50 iterations"
     ]
    },
    {
     "name": "stdout",
     "output_type": "stream",
     "text": [
      "\n",
      "alpha = 2.1500000000000012, lambda = 1.135374520003139\n",
      "Warning: state evolution did not converge in 50 iterations\n",
      "single overlaps are Dict(\"v\" => 0.6358101091980634, \"mhat\" => 0.38544640278448333, \"m\" => 0.24507071944440303, \"vhat\" => 0.4374221146104303, \"q\" => 0.21539115980564394, \"qhat\" => 0.3842418679663925)\n"
     ]
    },
    {
     "name": "stdout",
     "output_type": "stream",
     "text": [
      "Warning: state evolution did not converge after 50 iterations\n",
      "alpha = 2.2000000000000015, lambda = 1.1346105271186326\n",
      "Warning: state evolution did not converge in 50 iterations\n",
      "single overlaps are Dict(\"v\" => 0.6319963055370746, \"mhat\" => 0.3947532006967787, \"m\" => 0.2494825644392995, \"vhat\" => 0.44767720342465506, \"q\" => 0.21941616312155257, \"qhat\" => 0.39350777810057025)\n",
      "Warning: state evolution did not converge after 50 iterations"
     ]
    },
    {
     "name": "stdout",
     "output_type": "stream",
     "text": [
      "\n",
      "alpha = 2.2500000000000018, lambda = 1.133854416938867\n",
      "Warning: state evolution did not converge in 50 iterations\n",
      "single overlaps are Dict(\"v\" => 0.6282239273436435, \"mhat\" => 0.4040720249644834, \"m\" => 0.25384771445288656, \"vhat\" => 0.4579346832126653, \"q\" => 0.2234041431612131, \"qhat\" => 0.4027855498453707)\n"
     ]
    },
    {
     "name": "stdout",
     "output_type": "stream",
     "text": [
      "Warning: state evolution did not converge after 50 iterations\n",
      "alpha = 2.3000000000000016, lambda = 1.1331060863434046\n",
      "Warning: state evolution did not converge in 50 iterations\n",
      "single overlaps are Dict(\"v\" => 0.6244923748689221, \"mhat\" => 0.4134026858188403, \"m\" => 0.2581668250441984, \"vhat\" => 0.46819449032079447, \"q\" => 0.2273555419881153, \"qhat\" => 0.41207501001880154)\n",
      "Warning: state evolution did not converge after 50 iterations"
     ]
    },
    {
     "name": "stdout",
     "output_type": "stream",
     "text": [
      "\n",
      "alpha = 2.3500000000000014, lambda = 1.1323654335538034\n",
      "Warning: state evolution did not converge in 50 iterations\n",
      "single overlaps are Dict(\"v\" => 0.6208010581873691, \"mhat\" => 0.42274499632674556, \"m\" => 0.2624405410630591, \"vhat\" => 0.47845656298052236, \"q\" => 0.2312707952587851, \"qhat\" => 0.4213759869465182)\n"
     ]
    },
    {
     "name": "stdout",
     "output_type": "stream",
     "text": [
      "Warning: state evolution did not converge after 50 iterations\n",
      "alpha = 2.4000000000000017, lambda = 1.1316323581058205\n",
      "Warning: state evolution did not converge in 50 iterations\n",
      "single overlaps are Dict(\"v\" => 0.6171493972638968, \"mhat\" => 0.432098774986824, \"m\" => 0.2666694985415866, \"vhat\" => 0.488720840703825, \"q\" => 0.23515033537218794, \"qhat\" => 0.4306883157525927)\n",
      "Warning: state evolution did not converge after 50 iterations"
     ]
    },
    {
     "name": "stdout",
     "output_type": "stream",
     "text": [
      "\n",
      "alpha = 2.450000000000002, lambda = 1.1309067607728716\n",
      "Warning: state evolution did not converge in 50 iterations\n",
      "single overlaps are Dict(\"v\" => 0.6135368214778941, \"mhat\" => 0.4414638415775498, \"m\" => 0.2708543221589105, \"vhat\" => 0.49898726513284225, \"q\" => 0.23899458679366742, \"qhat\" => 0.440011830130026)\n"
     ]
    },
    {
     "name": "stdout",
     "output_type": "stream",
     "text": [
      "Warning: state evolution did not converge after 50 iterations\n",
      "alpha = 2.5000000000000018, lambda = 1.1301885437028982\n",
      "Warning: state evolution did not converge in 50 iterations\n",
      "single overlaps are Dict(\"v\" => 0.6099627696755469, \"mhat\" => 0.4508400198883009, \"m\" => 0.27499562721164666, \"vhat\" => 0.5092557793201659, \"q\" => 0.24280396934372453, \"qhat\" => 0.4493463678980481)\n",
      "Warning: state evolution did not converge after 50 iterations"
     ]
    },
    {
     "name": "stdout",
     "output_type": "stream",
     "text": [
      "\n",
      "alpha = 2.5500000000000016, lambda = 1.1294776104378226\n",
      "Warning: state evolution did not converge in 50 iterations\n",
      "single overlaps are Dict(\"v\" => 0.6064266899167784, \"mhat\" => 0.46022713689554856, \"m\" => 0.27909401923744354, \"vhat\" => 0.5195263279231898, \"q\" => 0.2465788973398065, \"qhat\" => 0.4586917694369784)\n"
     ]
    },
    {
     "name": "stdout",
     "output_type": "stream",
     "text": [
      "Warning: state evolution did not converge after 50 iterations\n",
      "alpha = 2.600000000000002, lambda = 1.1287731896182882\n",
      "Warning: state evolution did not converge in 50 iterations\n",
      "single overlaps are Dict(\"v\" => 0.6029283037581791, \"mhat\" => 0.46962499867880036, \"m\" => 0.28315020385584616, \"vhat\" => 0.5297988060349087, \"q\" => 0.2503199734028122, \"qhat\" => 0.46804782918275034)\n",
      "Warning: state evolution did not converge after 50 iterations"
     ]
    },
    {
     "name": "stdout",
     "output_type": "stream",
     "text": [
      "\n",
      "alpha = 2.650000000000002, lambda = 1.1280765901083198\n",
      "Warning: state evolution did not converge in 50 iterations\n",
      "single overlaps are Dict(\"v\" => 0.5994665263675869, \"mhat\" => 0.4790334883523122, \"m\" => 0.28716454127630847, \"vhat\" => 0.5400732664973682, \"q\" => 0.25402720156327746, \"qhat\" => 0.4774144932782329)\n"
     ]
    },
    {
     "name": "stdout",
     "output_type": "stream",
     "text": [
      "Warning: state evolution did not converge after 50 iterations\n",
      "alpha = 2.700000000000002, lambda = 1.127386989746107\n",
      "Warning: state evolution did not converge in 50 iterations\n",
      "single overlaps are Dict(\"v\" => 0.5960411208883463, \"mhat\" => 0.4884524163655592, \"m\" => 0.2911377257511491, \"vhat\" => 0.5503496041814879, \"q\" => 0.2577011867467513, \"qhat\" => 0.4867915576576862)\n",
      "Warning: state evolution did not converge after 50 iterations"
     ]
    },
    {
     "name": "stdout",
     "output_type": "stream",
     "text": [
      "\n",
      "alpha = 2.7500000000000018, lambda = 1.1267042969371586\n",
      "Warning: state evolution did not converge in 50 iterations\n",
      "single overlaps are Dict(\"v\" => 0.5926515710155282, \"mhat\" => 0.4978816221107701, \"m\" => 0.29507032552370743, \"vhat\" => 0.5606277695019243, \"q\" => 0.2613423224299464, \"qhat\" => 0.496178873096262)\n"
     ]
    },
    {
     "name": "stdout",
     "output_type": "stream",
     "text": [
      "Warning: state evolution did not converge after 50 iterations\n",
      "alpha = 2.800000000000002, lambda = 1.1260284212453988\n",
      "Warning: state evolution did not converge in 50 iterations\n",
      "single overlaps are Dict(\"v\" => 0.5892973689862734, \"mhat\" => 0.5073209477409624, \"m\" => 0.2989628997353718, \"vhat\" => 0.5709077142751608, \"q\" => 0.2649509967980316, \"qhat\" => 0.5055762924720891)\n",
      "Warning: state evolution did not converge after 50 iterations"
     ]
    },
    {
     "name": "stdout",
     "output_type": "stream",
     "text": [
      "\n",
      "alpha = 2.8500000000000023, lambda = 1.1253592734724216\n",
      "Warning: state evolution did not converge in 50 iterations\n",
      "single overlaps are Dict(\"v\" => 0.5859780154284083, \"mhat\" => 0.5167702383358649, \"m\" => 0.3028159986925157, \"vhat\" => 0.5811893916151248, \"q\" => 0.26852759303365803, \"qhat\" => 0.514983671177311)\n"
     ]
    },
    {
     "name": "stdout",
     "output_type": "stream",
     "text": [
      "Warning: state evolution did not converge after 50 iterations\n",
      "alpha = 2.900000000000002, lambda = 1.1246967661206182\n",
      "Warning: state evolution did not converge in 50 iterations\n",
      "single overlaps are Dict(\"v\" => 0.5826930190392435, \"mhat\" => 0.5262293418087733, \"m\" => 0.30663016388558817, \"vhat\" => 0.5914727559526356, \"q\" => 0.2720724891661667, \"qhat\" => 0.5244008670039895)\n",
      "Warning: state evolution did not converge after 50 iterations"
     ]
    },
    {
     "name": "stdout",
     "output_type": "stream",
     "text": [
      "\n",
      "alpha = 2.950000000000002, lambda = 1.1240408134498185\n",
      "Warning: state evolution did not converge in 50 iterations"
     ]
    },
    {
     "name": "stdout",
     "output_type": "stream",
     "text": [
      "\n",
      "single overlaps are Dict(\"v\" => 0.5794418964190038, \"mhat\" => 0.5356981087492412, \"m\" => 0.310405928041734, \"vhat\" => 0.6017577630426274, \"q\" => 0.2755860579809401, \"qhat\" => 0.533827739899024)\n"
     ]
    },
    {
     "name": "stdout",
     "output_type": "stream",
     "text": [
      "Warning: state evolution did not converge after 50 iterations\n",
      "alpha = 3.000000000000002, lambda = 1.123391329741058\n",
      "Warning: state evolution did not converge in 50 iterations\n",
      "single overlaps are Dict(\"v\" => 0.576224172611624, \"mhat\" => 0.5451763927340791, \"m\" => 0.3141438158305845, \"vhat\" => 0.6120443696460305, \"q\" => 0.2790686680946766, \"qhat\" => 0.5432641526627906)\n",
      "Warning: state evolution did not converge after 50 iterations"
     ]
    },
    {
     "name": "stdout",
     "output_type": "stream",
     "text": [
      "\n",
      "alpha = 3.0500000000000025, lambda = 1.122748230724299\n",
      "Warning: state evolution did not converge in 50 iterations\n",
      "single overlaps are Dict(\"v\" => 0.5730393803458773, \"mhat\" => 0.5546640494628166, \"m\" => 0.31784434320430743, \"vhat\" => 0.6223325338758863, \"q\" => 0.28252068259919877, \"qhat\" => 0.5527099692762053)\n"
     ]
    },
    {
     "name": "stdout",
     "output_type": "stream",
     "text": [
      "Warning: state evolution did not converge after 50 iterations\n",
      "alpha = 3.1000000000000023, lambda = 1.1221114331722788\n",
      "Warning: state evolution did not converge in 50 iterations\n",
      "single overlaps are Dict(\"v\" => 0.5698870601739404, \"mhat\" => 0.5641609382066075, \"m\" => 0.3215080185395356, \"vhat\" => 0.6326222147452244, \"q\" => 0.28594246092169384, \"qhat\" => 0.5621650578794278)\n",
      "Warning: state evolution did not converge after 50 iterations"
     ]
    },
    {
     "name": "stdout",
     "output_type": "stream",
     "text": [
      "\n",
      "alpha = 3.150000000000002, lambda = 1.1214808557613238\n",
      "Warning: state evolution did not converge in 50 iterations\n",
      "single overlaps are Dict(\"v\" => 0.566766759821472, \"mhat\" => 0.5736669186842409, \"m\" => 0.32513534071943506, \"vhat\" => 0.6429133728539779, \"q\" => 0.28933435522547774, \"qhat\" => 0.5716292845687442)\n"
     ]
    },
    {
     "name": "stdout",
     "output_type": "stream",
     "text": [
      "Warning: state evolution did not converge after 50 iterations\n",
      "alpha = 3.2000000000000024, lambda = 1.1208564183536351\n"
     ]
    },
    {
     "name": "stdout",
     "output_type": "stream",
     "text": [
      "Warning: state evolution did not converge in 50 iterations\n",
      "single overlaps are Dict(\"v\" => 0.5636780346408783, \"mhat\" => 0.5831818563036298, \"m\" => 0.32872680259944914, \"vhat\" => 0.6532059692948463, \"q\" => 0.29269671642438616, \"qhat\" => 0.5811025239766525)\n",
      "Warning: state evolution did not converge after 50 iterations"
     ]
    },
    {
     "name": "stdout",
     "output_type": "stream",
     "text": [
      "\n",
      "alpha = 3.2500000000000027, lambda = 1.1202380409815007\n",
      "Warning: state evolution did not converge in 50 iterations\n",
      "single overlaps are Dict(\"v\" => 0.5606204475161785, \"mhat\" => 0.5927056167670135, \"m\" => 0.33228288811727563, \"vhat\" => 0.6634999664894843, \"q\" => 0.296029888850648, \"qhat\" => 0.5905846485167363)\n"
     ]
    },
    {
     "name": "stdout",
     "output_type": "stream",
     "text": [
      "Warning: state evolution did not converge after 50 iterations\n",
      "alpha = 3.3000000000000025, lambda = 1.1196256448355089\n",
      "Warning: state evolution did not converge in 50 iterations\n",
      "single overlaps are Dict(\"v\" => 0.5575935685045275, \"mhat\" => 0.6022380683959331, \"m\" => 0.335804073646162, \"vhat\" => 0.6737953278669057, \"q\" => 0.29933421249972114, \"qhat\" => 0.6000755330977136)\n",
      "Warning: state evolution did not converge after 50 iterations"
     ]
    },
    {
     "name": "stdout",
     "output_type": "stream",
     "text": [
      "\n",
      "alpha = 3.3500000000000023, lambda = 1.1190191544686492\n",
      "Warning: state evolution did not converge in 50 iterations\n",
      "single overlaps are Dict(\"v\" => 0.5545969739812936, \"mhat\" => 0.6117790821738409, \"m\" => 0.3392908277186653, \"vhat\" => 0.6840920179946355, \"q\" => 0.30261002237529594, \"qhat\" => 0.6095750552795763)\n"
     ]
    },
    {
     "name": "stdout",
     "output_type": "stream",
     "text": [
      "Warning: state evolution did not converge after 50 iterations\n",
      "alpha = 3.4000000000000026, lambda = 1.1184184911712547\n",
      "Warning: state evolution did not converge in 50 iterations\n",
      "single overlaps are Dict(\"v\" => 0.5516302487371291, \"mhat\" => 0.6213285312260728, \"m\" => 0.3427436122277136, \"vhat\" => 0.6943900019984782, \"q\" => 0.30585765046319546, \"qhat\" => 0.6190830942825893)\n",
      "Warning: state evolution did not converge after 50 iterations"
     ]
    },
    {
     "name": "stdout",
     "output_type": "stream",
     "text": [
      "\n",
      "alpha = 3.450000000000003, lambda = 1.1178235822482039\n",
      "Warning: state evolution did not converge in 50 iterations\n",
      "single overlaps are Dict(\"v\" => 0.548692982691792, \"mhat\" => 0.6308862907591978, \"m\" => 0.34616288061602535, \"vhat\" => 0.7046892465001692, \"q\" => 0.3090774223408686, \"qhat\" => 0.6285995309258188)\n"
     ]
    },
    {
     "name": "stdout",
     "output_type": "stream",
     "text": [
      "Warning: state evolution did not converge after 50 iterations\n",
      "alpha = 3.5000000000000027, lambda = 1.1172343527677424\n",
      "Warning: state evolution did not converge in 50 iterations\n",
      "single overlaps are Dict(\"v\" => 0.545784773677166, \"mhat\" => 0.6404522392231949, \"m\" => 0.3495490804354656, \"vhat\" => 0.714989718385082, \"q\" => 0.31226966159170844, \"qhat\" => 0.6381242500212738)\n",
      "Warning: state evolution did not converge after 50 iterations"
     ]
    },
    {
     "name": "stdout",
     "output_type": "stream",
     "text": [
      "\n",
      "alpha = 3.5500000000000025, lambda = 1.1166507302607283\n",
      "Warning: state evolution did not converge in 50 iterations\n",
      "single overlaps are Dict(\"v\" => 0.5429052254837705, \"mhat\" => 0.6500262553345545, \"m\" => 0.3529026507227773, \"vhat\" => 0.7252913860799695, \"q\" => 0.31543468494574134, \"qhat\" => 0.6476571344398784)\n"
     ]
    },
    {
     "name": "stdout",
     "output_type": "stream",
     "text": [
      "Warning: state evolution did not converge after 50 iterations\n",
      "alpha = 3.6000000000000028, lambda = 1.116072642417094\n",
      "Warning: state evolution did not converge in 50 iterations\n",
      "single overlaps are Dict(\"v\" => 0.5400539488207381, \"mhat\" => 0.6596082221293124, \"m\" => 0.35622402503556166, \"vhat\" => 0.7355942182430313, \"q\" => 0.31857280756895767, \"qhat\" => 0.6571980733118389)\n",
      "Warning: state evolution did not converge after 50 iterations"
     ]
    },
    {
     "name": "stdout",
     "output_type": "stream",
     "text": [
      "\n",
      "alpha = 3.650000000000003, lambda = 1.115500018451136\n",
      "Warning: state evolution did not converge in 50 iterations\n",
      "single overlaps are Dict(\"v\" => 0.5372305605604889, \"mhat\" => 0.6691980241521764, \"m\" => 0.35951362964124534, \"vhat\" => 0.7458981845042335, \"q\" => 0.32168433966461857, \"qhat\" => 0.6667469564374797)\n"
     ]
    },
    {
     "name": "stdout",
     "output_type": "stream",
     "text": [
      "Warning: state evolution did not converge after 50 iterations\n",
      "alpha = 3.700000000000003, lambda = 1.1149327900210324\n",
      "Warning: state evolution did not converge in 50 iterations\n",
      "single overlaps are Dict(\"v\" => 0.5344346832850642, \"mhat\" => 0.6787955470247994, \"m\" => 0.3627718831895105, \"vhat\" => 0.7562032557408147, \"q\" => 0.3247695857299576, \"qhat\" => 0.6763036734628162)\n",
      "Warning: state evolution did not converge after 50 iterations"
     ]
    },
    {
     "name": "stdout",
     "output_type": "stream",
     "text": [
      "\n",
      "alpha = 3.7500000000000027, lambda = 1.1143708860704227\n",
      "Warning: state evolution did not converge in 50 iterations\n",
      "single overlaps are Dict(\"v\" => 0.5316659469343651, \"mhat\" => 0.6884006788522378, \"m\" => 0.36599919879223475, \"vhat\" => 0.7665094030774763, \"q\" => 0.32782884813764673, \"qhat\" => 0.6858681167579592)\n"
     ]
    },
    {
     "name": "stdout",
     "output_type": "stream",
     "text": [
      "Warning: state evolution did not converge after 50 iterations\n",
      "alpha = 3.800000000000003, lambda = 1.113814240336791\n",
      "Warning: state evolution did not converge in 50 iterations\n",
      "single overlaps are Dict(\"v\" => 0.5289239862755412, \"mhat\" => 0.6980133098686383, \"m\" => 0.3691959823291047, \"vhat\" => 0.7768165987778741, \"q\" => 0.33086242395739923, \"qhat\" => 0.6954401807573265)\n",
      "Warning: state evolution did not converge after 50 iterations"
     ]
    },
    {
     "name": "stdout",
     "output_type": "stream",
     "text": [
      "\n",
      "alpha = 3.850000000000003, lambda = 1.1132627861357285\n",
      "Warning: state evolution did not converge in 50 iterations\n",
      "single overlaps are Dict(\"v\" => 0.5262084424410785, \"mhat\" => 0.7076333321860928, \"m\" => 0.3723626335490342, \"vhat\" => 0.7871248157070028, \"q\" => 0.33387060678236946, \"qhat\" => 0.7050197614998803)\n"
     ]
    },
    {
     "name": "stdout",
     "output_type": "stream",
     "text": [
      "Warning: state evolution did not converge after 50 iterations\n",
      "alpha = 3.900000000000003, lambda = 1.1127164570494552\n",
      "Warning: state evolution did not converge in 50 iterations\n",
      "single overlaps are Dict(\"v\" => 0.5235189625914388, \"mhat\" => 0.7172606397846364, \"m\" => 0.37549954604772456, \"vhat\" => 0.7974340273760981, \"q\" => 0.3368536865492048, \"qhat\" => 0.7146067566561597)\n",
      "Warning: state evolution did not converge after 50 iterations"
     ]
    },
    {
     "name": "stdout",
     "output_type": "stream",
     "text": [
      "\n",
      "alpha = 3.950000000000003, lambda = 1.1121751883445141\n",
      "Warning: state evolution did not converge in 50 iterations\n",
      "single overlaps are Dict(\"v\" => 0.520855199373475, \"mhat\" => 0.7268951285341242, \"m\" => 0.378607107096249, \"vhat\" => 0.8077442080690714, \"q\" => 0.33981194909262624, \"qhat\" => 0.724201065618829)\n"
     ]
    },
    {
     "name": "stdout",
     "output_type": "stream",
     "text": [
      "Warning: state evolution did not converge after 50 iterations\n",
      "alpha = 4.0000000000000036, lambda = 1.1116389170108216\n",
      "Warning: state evolution did not converge in 50 iterations\n",
      "single overlaps are Dict(\"v\" => 0.5182168108141545, \"mhat\" => 0.7365366961604252, \"m\" => 0.38168569773184946, \"vhat\" => 0.8180553328320784, \"q\" => 0.34274567617132795, \"qhat\" => 0.7338025894794816)\n",
      "Warning: state evolution did not converge after 50 iterations"
     ]
    },
    {
     "name": "stdout",
     "output_type": "stream",
     "text": [
      "\n",
      "alpha = 4.050000000000003, lambda = 1.1111075787125406\n",
      "Warning: state evolution did not converge in 50 iterations\n",
      "single overlaps are Dict(\"v\" => 0.5156034611252622, \"mhat\" => 0.7461852420826821, \"m\" => 0.38473569345842257, \"vhat\" => 0.8283673771335317, \"q\" => 0.34565514659058527, \"qhat\" => 0.7434112307432709)\n"
     ]
    },
    {
     "name": "stdout",
     "output_type": "stream",
     "text": [
      "Warning: state evolution did not converge after 50 iterations\n",
      "alpha = 4.100000000000003, lambda = 1.1105811117934707\n",
      "Warning: state evolution did not converge in 50 iterations\n",
      "single overlaps are Dict(\"v\" => 0.5130148194033455, \"mhat\" => 0.7558406675459282, \"m\" => 0.3877574635587784, \"vhat\" => 0.838680317268239, \"q\" => 0.34854063483732955, \"qhat\" => 0.7530268936406213)\n",
      "Warning: state evolution did not converge after 50 iterations"
     ]
    },
    {
     "name": "stdout",
     "output_type": "stream",
     "text": [
      "\n",
      "alpha = 4.150000000000003, lambda = 1.1100594558065278\n",
      "Warning: state evolution did not converge in 50 iterations\n",
      "single overlaps are Dict(\"v\" => 0.5104505599787549, \"mhat\" => 0.7655028755263216, \"m\" => 0.3907513714777579, \"vhat\" => 0.8489941301893821, \"q\" => 0.3514024116374329, \"qhat\" => 0.762649483977545)\n"
     ]
    },
    {
     "name": "stdout",
     "output_type": "stream",
     "text": [
      "Warning: state evolution did not converge after 50 iterations\n",
      "alpha = 4.200000000000003, lambda = 1.1095425504087457\n",
      "Warning: state evolution did not converge in 50 iterations\n",
      "single overlaps are Dict(\"v\" => 0.5079103626378805, \"mhat\" => 0.7751717706513568, \"m\" => 0.3937177751381785, \"vhat\" => 0.8593087933724788, \"q\" => 0.3542407443960858, \"qhat\" => 0.7722789090152459)\n",
      "Warning: state evolution did not converge after 50 iterations"
     ]
    },
    {
     "name": "stdout",
     "output_type": "stream",
     "text": [
      "\n",
      "alpha = 4.2500000000000036, lambda = 1.1090303351009543\n",
      "Warning: state evolution did not converge in 50 iterations\n",
      "single overlaps are Dict(\"v\" => 0.5053939125903002, \"mhat\" => 0.7848472591558405, \"m\" => 0.39665702709054357, \"vhat\" => 0.8696242847671214, \"q\" => 0.35705589734263865, \"qhat\" => 0.7819150774211769)\n"
     ]
    },
    {
     "name": "stdout",
     "output_type": "stream",
     "text": [
      "Warning: state evolution did not converge after 50 iterations\n",
      "alpha = 4.300000000000003, lambda = 1.108522752058504\n",
      "Warning: state evolution did not converge in 50 iterations\n",
      "single overlaps are Dict(\"v\" => 0.5029008995649787, \"mhat\" => 0.7945292489700988, \"m\" => 0.3995694740377497, \"vhat\" => 0.8799405830936577, \"q\" => 0.35984813055337544, \"qhat\" => 0.7915578994871342)\n",
      "Warning: state evolution did not converge after 50 iterations"
     ]
    },
    {
     "name": "stdout",
     "output_type": "stream",
     "text": [
      "\n",
      "alpha = 4.350000000000003, lambda = 1.1080197435731287\n",
      "Warning: state evolution did not converge in 50 iterations\n",
      "single overlaps are Dict(\"v\" => 0.5004310184533248, \"mhat\" => 0.8042176495806207, \"m\" => 0.40245545743776917, \"vhat\" => 0.8902576675487597, \"q\" => 0.3626177009141867, \"qhat\" => 0.80120728688538)\n"
     ]
    },
    {
     "name": "stdout",
     "output_type": "stream",
     "text": [
      "Warning: state evolution did not converge after 50 iterations\n",
      "alpha = 4.400000000000004, lambda = 1.107521253573327\n"
     ]
    },
    {
     "name": "stdout",
     "output_type": "stream",
     "text": [
      "Warning: state evolution did not converge in 50 iterations\n",
      "single overlaps are Dict(\"v\" => 0.49798396878852863, \"mhat\" => 0.8139123720642409, \"m\" => 0.4053153132866363, \"vhat\" => 0.9005755179608085, \"q\" => 0.3653648616117712, \"qhat\" => 0.8108631527755088)\n",
      "Warning: state evolution did not converge after 50 iterations"
     ]
    },
    {
     "name": "stdout",
     "output_type": "stream",
     "text": [
      "\n",
      "alpha = 4.450000000000004, lambda = 1.1070272251947346\n",
      "Warning: state evolution did not converge in 50 iterations\n",
      "single overlaps are Dict(\"v\" => 0.495559455330727, \"mhat\" => 0.8236133289543892, \"m\" => 0.408149372699764, \"vhat\" => 0.9108941145012642, \"q\" => 0.3680898630639835, \"qhat\" => 0.8205254115700852)\n"
     ]
    },
    {
     "name": "stdout",
     "output_type": "stream",
     "text": [
      "Warning: state evolution did not converge after 50 iterations\n",
      "alpha = 4.5000000000000036, lambda = 1.1065376031770127\n",
      "Warning: state evolution did not converge in 50 iterations\n",
      "single overlaps are Dict(\"v\" => 0.49315718730865343, \"mhat\" => 0.8333204343141323, \"m\" => 0.410957961513183, \"vhat\" => 0.9212134379410954, \"q\" => 0.3707929520880038, \"qhat\" => 0.8301939791185649)\n",
      "Warning: state evolution did not converge after 50 iterations"
     ]
    },
    {
     "name": "stdout",
     "output_type": "stream",
     "text": [
      "\n",
      "alpha = 4.550000000000003, lambda = 1.106052333661234\n",
      "Warning: state evolution did not converge in 50 iterations\n",
      "single overlaps are Dict(\"v\" => 0.4907768783972467, \"mhat\" => 0.8430336036992063, \"m\" => 0.41374140040747803, \"vhat\" => 0.9315334696181449, \"q\" => 0.3734743720109215, \"qhat\" => 0.8398687726674594)\n"
     ]
    },
    {
     "name": "stdout",
     "output_type": "stream",
     "text": [
      "Warning: state evolution did not converge after 50 iterations\n",
      "alpha = 4.600000000000003, lambda = 1.1055713630020036\n",
      "Warning: state evolution did not converge in 50 iterations\n",
      "single overlaps are Dict(\"v\" => 0.4884182469563891, \"mhat\" => 0.8527527540789113, \"m\" => 0.41650000523445463, \"vhat\" => 0.9418541912879244, \"q\" => 0.37613436314844056, \"qhat\" => 0.8495497107342359)\n",
      "Warning: state evolution did not converge after 50 iterations"
     ]
    },
    {
     "name": "stdout",
     "output_type": "stream",
     "text": [
      "\n",
      "alpha = 4.650000000000004, lambda = 1.1050946380637081\n",
      "Warning: state evolution did not converge in 50 iterations\n",
      "single overlaps are Dict(\"v\" => 0.4860810158622563, \"mhat\" => 0.8624778038211972, \"m\" => 0.4192340870400554, \"vhat\" => 0.9521755851440544, \"q\" => 0.3787731627385328, \"qhat\" => 0.859236713110545)\n"
     ]
    },
    {
     "name": "stdout",
     "output_type": "stream",
     "text": [
      "Warning: state evolution did not converge after 50 iterations\n",
      "alpha = 4.700000000000004, lambda = 1.1046221073263776\n",
      "Warning: state evolution did not converge in 50 iterations\n",
      "single overlaps are Dict(\"v\" => 0.4837649121325511, \"mhat\" => 0.8722086727136437, \"m\" => 0.4219439519165648, \"vhat\" => 0.9624976339375382, \"q\" => 0.381391004568533, \"qhat\" => 0.8689297009375019)\n",
      "Warning: state evolution did not converge after 50 iterations"
     ]
    },
    {
     "name": "stdout",
     "output_type": "stream",
     "text": [
      "\n",
      "alpha = 4.7500000000000036, lambda = 1.1041537188307182\n",
      "Warning: state evolution did not converge in 50 iterations\n",
      "single overlaps are Dict(\"v\" => 0.4814696673894267, \"mhat\" => 0.8819452818481462, \"m\" => 0.42462990150710117, \"vhat\" => 0.9728203207221637, \"q\" => 0.3839881197817187, \"qhat\" => 0.8786285965037955)\n"
     ]
    },
    {
     "name": "stdout",
     "output_type": "stream",
     "text": [
      "Warning: state evolution did not converge after 50 iterations\n",
      "alpha = 4.800000000000004, lambda = 1.1036894223250082\n",
      "Warning: state evolution did not converge in 50 iterations\n",
      "single overlaps are Dict(\"v\" => 0.47919501721416774, \"mhat\" => 0.8916875536881494, \"m\" => 0.42729223263925187, \"vhat\" => 0.9831436290985371, \"q\" => 0.38656473611375164, \"qhat\" => 0.8883333234133014)\n",
      "Warning: state evolution did not converge after 50 iterations"
     ]
    },
    {
     "name": "stdout",
     "output_type": "stream",
     "text": [
      "\n",
      "alpha = 4.850000000000004, lambda = 1.1032291678831438\n",
      "Warning: state evolution did not converge in 50 iterations\n",
      "single overlaps are Dict(\"v\" => 0.4769407014332133, \"mhat\" => 0.9014354119834912, \"m\" => 0.42993123768814395, \"vhat\" => 0.9934675430391705, \"q\" => 0.38912107844806937, \"qhat\" => 0.898043806442894)\n"
     ]
    },
    {
     "name": "stdout",
     "output_type": "stream",
     "text": [
      "Warning: state evolution did not converge after 50 iterations\n",
      "alpha = 4.900000000000004, lambda = 1.1027729063596343\n",
      "Warning: state evolution did not converge in 50 iterations\n",
      "single overlaps are Dict(\"v\" => 0.4747064639223244, \"mhat\" => 0.9111887817654124, \"m\" => 0.43254720455754947, \"vhat\" => 1.0037920469324884, \"q\" => 0.3916573686835274, \"qhat\" => 0.9077599715621594)\n",
      "Warning: state evolution did not converge after 50 iterations"
     ]
    },
    {
     "name": "stdout",
     "output_type": "stream",
     "text": [
      "\n",
      "alpha = 4.950000000000004, lambda = 1.102320590262144\n",
      "Warning: state evolution did not converge in 50 iterations\n",
      "single overlaps are Dict(\"v\" => 0.47249205231355024, \"mhat\" => 0.9209475893605801, \"m\" => 0.43514041657019714, \"vhat\" => 1.0141171256814683, \"q\" => 0.394173825439155, \"qhat\" => 0.9174817459910268)\n"
     ]
    },
    {
     "name": "stdout",
     "output_type": "stream",
     "text": [
      "Warning: state evolution did not converge after 50 iterations\n",
      "alpha = 5.0000000000000036, lambda = 1.101872170269274\n"
     ]
    },
    {
     "name": "stdout",
     "output_type": "stream",
     "text": [
      "Warning: state evolution did not converge in 50 iterations\n",
      "single overlaps are Dict(\"v\" => 0.47029721879827635, \"mhat\" => 0.9307117622150187, \"m\" => 0.437711153272566, \"vhat\" => 1.0244427642634946, \"q\" => 0.3966706654158503, \"qhat\" => 0.927209057870987)\n",
      "Warning: state evolution did not converge after 50 iterations"
     ]
    },
    {
     "name": "stdout",
     "output_type": "stream",
     "text": [
      "\n",
      "alpha = 5.050000000000004, lambda = 1.1014276015646731\n",
      "Warning: state evolution did not converge in 50 iterations"
     ]
    },
    {
     "name": "stdout",
     "output_type": "stream",
     "text": [
      "\n",
      "single overlaps are Dict(\"v\" => 0.4681217184657759, \"mhat\" => 0.9404812291482216, \"m\" => 0.4402596891736707, \"vhat\" => 1.0347689485065437, \"q\" => 0.39914810102065523, \"qhat\" => 0.9369418368086239)\n"
     ]
    },
    {
     "name": "stdout",
     "output_type": "stream",
     "text": [
      "Warning: state evolution did not converge after 50 iterations\n",
      "alpha = 5.100000000000004, lambda = 1.1009868368535791\n",
      "Warning: state evolution did not converge in 50 iterations\n",
      "single overlaps are Dict(\"v\" => 0.4659653109808852, \"mhat\" => 0.9502559200245595, \"m\" => 0.442786295285671, \"vhat\" => 1.0450956642127331, \"q\" => 0.4016063430644488, \"qhat\" => 0.9466800132359892)\n",
      "Warning: state evolution did not converge after 50 iterations"
     ]
    },
    {
     "name": "stdout",
     "output_type": "stream",
     "text": [
      "\n",
      "alpha = 5.150000000000004, lambda = 1.1005498290579792\n",
      "Warning: state evolution did not converge in 50 iterations\n",
      "single overlaps are Dict(\"v\" => 0.46382775982794267, \"mhat\" => 0.960035765848728, \"m\" => 0.44529123862831876, \"vhat\" => 1.0554228974794557, \"q\" => 0.40404559977648963, \"qhat\" => 0.9564235186308483)\n"
     ]
    },
    {
     "name": "stdout",
     "output_type": "stream",
     "text": [
      "Warning: state evolution did not converge after 50 iterations\n",
      "alpha = 5.200000000000005, lambda = 1.1001165351298492\n",
      "Warning: state evolution did not converge in 50 iterations\n",
      "single overlaps are Dict(\"v\" => 0.46170883132112, \"mhat\" => 0.9698206989120065, \"m\" => 0.44777478148569433, \"vhat\" => 1.065750635178827, \"q\" => 0.40646607536880225, \"qhat\" => 0.9661722858396368)\n",
      "Warning: state evolution did not converge after 50 iterations"
     ]
    },
    {
     "name": "stdout",
     "output_type": "stream",
     "text": [
      "\n",
      "alpha = 5.250000000000004, lambda = 1.0996869096397806\n",
      "Warning: state evolution did not converge in 50 iterations\n",
      "single overlaps are Dict(\"v\" => 0.45960829610113363, \"mhat\" => 0.9796106524888482, \"m\" => 0.45023718283291925, \"vhat\" => 1.0760788641354537, \"q\" => 0.40886797253620544, \"qhat\" => 0.9759262484869344)\n"
     ]
    },
    {
     "name": "stdout",
     "output_type": "stream",
     "text": [
      "Warning: state evolution did not converge after 50 iterations\n",
      "alpha = 5.300000000000004, lambda = 1.0992609098291841\n",
      "Warning: state evolution did not converge in 50 iterations\n",
      "single overlaps are Dict(\"v\" => 0.4575259278440662, \"mhat\" => 0.989405561038478, \"m\" => 0.45267869732820853, \"vhat\" => 1.08640757176301, \"q\" => 0.41125149054448734, \"qhat\" => 0.9856853414095791)\n",
      "Warning: state evolution did not converge after 50 iterations"
     ]
    },
    {
     "name": "stdout",
     "output_type": "stream",
     "text": [
      "\n",
      "alpha = 5.350000000000004, lambda = 1.0988384922240286\n",
      "Warning: state evolution did not converge in 50 iterations\n",
      "single overlaps are Dict(\"v\" => 0.4554615040116423, \"mhat\" => 0.9992053600351469, \"m\" => 0.4550995760981026, \"vhat\" => 1.0967367456218433, \"q\" => 0.41361682657194626, \"qhat\" => 0.9954495003362982)\n"
     ]
    },
    {
     "name": "stdout",
     "output_type": "stream",
     "text": [
      "Warning: state evolution did not converge after 50 iterations\n",
      "alpha = 5.400000000000004, lambda = 1.0984196135439954\n",
      "Warning: state evolution did not converge in 50 iterations\n",
      "single overlaps are Dict(\"v\" => 0.4534148055633817, \"mhat\" => 1.0090099859880581, \"m\" => 0.45750006660828585, \"vhat\" => 1.1070663735257686, \"q\" => 0.41596417539447755, \"qhat\" => 1.005218661951865)\n",
      "Warning: state evolution did not converge after 50 iterations"
     ]
    },
    {
     "name": "stdout",
     "output_type": "stream",
     "text": [
      "\n",
      "alpha = 5.450000000000005, lambda = 1.098004232563178\n",
      "Warning: state evolution did not converge in 50 iterations\n",
      "single overlaps are Dict(\"v\" => 0.45138561646128245, \"mhat\" => 1.0188193765041968, \"m\" => 0.4598804123260463, \"vhat\" => 1.117396443780205, \"q\" => 0.41829372869270937, \"qhat\" => 1.0149927640479133)\n"
     ]
    },
    {
     "name": "stdout",
     "output_type": "stream",
     "text": [
      "Warning: state evolution did not converge after 50 iterations\n",
      "alpha = 5.500000000000004, lambda = 1.097592309390582\n",
      "Warning: state evolution did not converge in 50 iterations\n",
      "single overlaps are Dict(\"v\" => 0.4493737237875466, \"mhat\" => 1.0286334702375384, \"m\" => 0.4622408529331491, \"vhat\" => 1.1277269450854024, \"q\" => 0.4206056753597583, \"qhat\" => 1.024771745442501)\n",
      "Warning: state evolution did not converge after 50 iterations"
     ]
    },
    {
     "name": "stdout",
     "output_type": "stream",
     "text": [
      "\n",
      "alpha = 5.550000000000004, lambda = 1.0971838018118463\n",
      "Warning: state evolution did not converge in 50 iterations\n",
      "single overlaps are Dict(\"v\" => 0.44737891852227796, \"mhat\" => 1.0384522067078974, \"m\" => 0.4645816251740522, \"vhat\" => 1.1380578660411356, \"q\" => 0.422900202966865, \"qhat\" => 1.034555545634268)\n"
     ]
    },
    {
     "name": "stdout",
     "output_type": "stream",
     "text": [
      "Warning: state evolution did not converge after 50 iterations\n",
      "alpha = 5.600000000000005, lambda = 1.0967786696290958\n",
      "Warning: state evolution did not converge in 50 iterations\n",
      "single overlaps are Dict(\"v\" => 0.44540099448052145, \"mhat\" => 1.0482755264749075, \"m\" => 0.466902961981516, \"vhat\" => 1.1483891957150683, \"q\" => 0.4251774960993692, \"qhat\" => 1.0443441051775026)\n",
      "Warning: state evolution did not converge after 50 iterations"
     ]
    },
    {
     "name": "stdout",
     "output_type": "stream",
     "text": [
      "\n",
      "alpha = 5.650000000000005, lambda = 1.0963774799532613\n",
      "Warning: state evolution did not converge in 50 iterations\n",
      "single overlaps are Dict(\"v\" => 0.44343961304452945, \"mhat\" => 1.0581033980525363, \"m\" => 0.4692049613935184, \"vhat\" => 1.1587210060261175, \"q\" => 0.42743749766256395, \"qhat\" => 1.0541374203957983)\n"
     ]
    },
    {
     "name": "stdout",
     "output_type": "stream",
     "text": [
      "Warning: state evolution did not converge after 50 iterations\n",
      "alpha = 5.700000000000005, lambda = 1.0959790027142977\n",
      "Warning: state evolution did not converge in 50 iterations\n",
      "single overlaps are Dict(\"v\" => 0.4414948414043584, \"mhat\" => 1.067935710925649, \"m\" => 0.4714881073251702, \"vhat\" => 1.1690531249977338, \"q\" => 0.4296808567096512, \"qhat\" => 1.0639353260091309)\n",
      "Warning: state evolution did not converge after 50 iterations"
     ]
    },
    {
     "name": "stdout",
     "output_type": "stream",
     "text": [
      "\n",
      "alpha = 5.750000000000004, lambda = 1.0955837845700012\n",
      "Warning: state evolution did not converge in 50 iterations\n",
      "single overlaps are Dict(\"v\" => 0.43956635076817513, \"mhat\" => 1.0777724344896575, \"m\" => 0.47375249598715086, \"vhat\" => 1.1793856216468874, \"q\" => 0.43190752044927644, \"qhat\" => 1.0737378181170076)\n"
     ]
    },
    {
     "name": "stdout",
     "output_type": "stream",
     "text": [
      "Warning: state evolution did not converge after 50 iterations\n",
      "alpha = 5.800000000000004, lambda = 1.095191787705202\n",
      "Warning: state evolution did not converge in 50 iterations\n",
      "single overlaps are Dict(\"v\" => 0.4376539470550123, \"mhat\" => 1.0876135130354345, \"m\" => 0.475998346850326, \"vhat\" => 1.1897184861059509, \"q\" => 0.4341176640448735, \"qhat\" => 1.083544840833983)\n",
      "Warning: state evolution did not converge after 50 iterations"
     ]
    },
    {
     "name": "stdout",
     "output_type": "stream",
     "text": [
      "\n",
      "alpha = 5.850000000000005, lambda = 1.0948029748026677\n",
      "Warning: state evolution did not converge in 50 iterations\n",
      "single overlaps are Dict(\"v\" => 0.4357574390957478, \"mhat\" => 1.097458891740064, \"m\" => 0.4782258761775079, \"vhat\" => 1.2000517087458846, \"q\" => 0.436311460417496, \"qhat\" => 1.0933563391194892)\n"
     ]
    },
    {
     "name": "stdout",
     "output_type": "stream",
     "text": [
      "Warning: state evolution did not converge after 50 iterations\n",
      "alpha = 5.900000000000005, lambda = 1.094417309023107\n",
      "Warning: state evolution did not converge in 50 iterations\n",
      "single overlaps are Dict(\"v\" => 0.43387663858488956, \"mhat\" => 1.10730851664974, \"m\" => 0.48043529708040944, \"vhat\" => 1.2103852801680286, \"q\" => 0.4384890802828896, \"qhat\" => 1.1031722587620039)\n",
      "Warning: state evolution did not converge after 50 iterations"
     ]
    },
    {
     "name": "stdout",
     "output_type": "stream",
     "text": [
      "\n",
      "alpha = 5.950000000000005, lambda = 1.0940347541882542\n",
      "Warning: state evolution did not converge in 50 iterations\n",
      "single overlaps are Dict(\"v\" => 0.43201135998997925, \"mhat\" => 1.117162334672068, \"m\" => 0.48262681953126046, \"vhat\" => 1.2207191912246524, \"q\" => 0.44065069210719515, \"qhat\" => 1.1129925463819126)\n"
     ]
    },
    {
     "name": "stdout",
     "output_type": "stream",
     "text": [
      "Warning: state evolution did not converge after 50 iterations\n",
      "alpha = 6.000000000000005, lambda = 1.0936552744892825\n",
      "Warning: state evolution did not converge in 50 iterations\n",
      "single overlaps are Dict(\"v\" => 0.4301614205641779, \"mhat\" => 1.1270202935475175, \"m\" => 0.4848006504770569, \"vhat\" => 1.2310534329732574, \"q\" => 0.4427964622511157, \"qhat\" => 1.1228171493915653)\n",
      "Warning: state evolution did not converge after 50 iterations"
     ]
    },
    {
     "name": "stdout",
     "output_type": "stream",
     "text": [
      "\n",
      "alpha = 6.050000000000005, lambda = 1.0932788346552718\n",
      "Warning: state evolution did not converge in 50 iterations\n",
      "single overlaps are Dict(\"v\" => 0.42832664026049455, \"mhat\" => 1.1368823418417178, \"m\" => 0.48695699385254604, \"vhat\" => 1.241387996695288, \"q\" => 0.44492655493073235, \"qhat\" => 1.1326460159973242)\n"
     ]
    },
    {
     "name": "stdout",
     "output_type": "stream",
     "text": [
      "Warning: state evolution did not converge after 50 iterations\n",
      "alpha = 6.100000000000005, lambda = 1.0929054000034435\n"
     ]
    },
    {
     "name": "stdout",
     "output_type": "stream",
     "text": [
      "Warning: state evolution did not converge in 50 iterations\n",
      "single overlaps are Dict(\"v\" => 0.426506841673299, \"mhat\" => 1.1467484289328085, \"m\" => 0.4890960506179497, \"vhat\" => 1.2517228738988833, \"q\" => 0.4470411322246049, \"qhat\" => 1.142479095191141)\n",
      "Warning: state evolution did not converge after 50 iterations"
     ]
    },
    {
     "name": "stdout",
     "output_type": "stream",
     "text": [
      "\n",
      "alpha = 6.150000000000005, lambda = 1.09253493614707\n",
      "Warning: state evolution did not converge in 50 iterations\n",
      "single overlaps are Dict(\"v\" => 0.42470185005194133, \"mhat\" => 1.1566185049837903, \"m\" => 0.49121801887092625, \"vhat\" => 1.2620580562726695, \"q\" => 0.4491403542177117, \"qhat\" => 1.1523163367112736)\n"
     ]
    },
    {
     "name": "stdout",
     "output_type": "stream",
     "text": [
      "Warning: state evolution did not converge after 50 iterations\n",
      "alpha = 6.200000000000005, lambda = 1.092167409390967\n",
      "Warning: state evolution did not converge in 50 iterations\n",
      "single overlaps are Dict(\"v\" => 0.4229114931716988, \"mhat\" => 1.1664925209459185, \"m\" => 0.4933230938068575, \"vhat\" => 1.2723935357380598, \"q\" => 0.45122437886961025, \"qhat\" => 1.162157691065732)\n",
      "Warning: state evolution did not converge after 50 iterations"
     ]
    },
    {
     "name": "stdout",
     "output_type": "stream",
     "text": [
      "\n",
      "alpha = 6.250000000000005, lambda = 1.0918027863942332\n",
      "Warning: state evolution did not converge in 50 iterations"
     ]
    },
    {
     "name": "stdout",
     "output_type": "stream",
     "text": [
      "\n",
      "single overlaps are Dict(\"v\" => 0.42113560135836636, \"mhat\" => 1.1763704285296213, \"m\" => 0.4954114678390212, \"vhat\" => 1.2827293043967507, \"q\" => 0.45329336217578586, \"qhat\" => 1.1720031094893328)\n"
     ]
    },
    {
     "name": "stdout",
     "output_type": "stream",
     "text": [
      "Warning: state evolution did not converge after 50 iterations\n",
      "alpha = 6.300000000000005, lambda = 1.0914410343480094\n",
      "Warning: state evolution did not converge in 50 iterations\n",
      "single overlaps are Dict(\"v\" => 0.41937400740670033, \"mhat\" => 1.1862521801987502, \"m\" => 0.4974833306048851, \"vhat\" => 1.2930653545522937, \"q\" => 0.455347458122155, \"qhat\" => 1.181852543947845)\n",
      "Warning: state evolution did not converge after 50 iterations"
     ]
    },
    {
     "name": "stdout",
     "output_type": "stream",
     "text": [
      "\n",
      "alpha = 6.350000000000005, lambda = 1.0910821207405146\n",
      "Warning: state evolution did not converge in 50 iterations\n",
      "single overlaps are Dict(\"v\" => 0.4176265465840354, \"mhat\" => 1.1961377291466313, \"m\" => 0.49953886906237793, \"vhat\" => 1.3034016786718357, \"q\" => 0.4573868188051852, \"qhat\" => 1.191705947104762)\n"
     ]
    },
    {
     "name": "stdout",
     "output_type": "stream",
     "text": [
      "Warning: state evolution did not converge after 50 iterations\n",
      "alpha = 6.400000000000006, lambda = 1.090726013715878\n",
      "Warning: state evolution did not converge in 50 iterations\n",
      "single overlaps are Dict(\"v\" => 0.41589305651470054, \"mhat\" => 1.206027029298988, \"m\" => 0.5015782674545004, \"vhat\" => 1.3137382694348867, \"q\" => 0.45941159431234097, \"qhat\" => 1.201563272342406)\n",
      "Warning: state evolution did not converge after 50 iterations"
     ]
    },
    {
     "name": "stdout",
     "output_type": "stream",
     "text": [
      "\n",
      "alpha = 6.4500000000000055, lambda = 1.090372681797778\n",
      "Warning: state evolution did not converge in 50 iterations\n",
      "single overlaps are Dict(\"v\" => 0.4141733771937768, \"mhat\" => 1.215920035288687, \"m\" => 0.5036017074130917, \"vhat\" => 1.324075119689318, \"q\" => 0.461421932858115, \"qhat\" => 1.2114244737253759)\n"
     ]
    },
    {
     "name": "stdout",
     "output_type": "stream",
     "text": [
      "Warning: state evolution did not converge after 50 iterations\n",
      "alpha = 6.500000000000005, lambda = 1.0900220938176153\n",
      "Warning: state evolution did not converge in 50 iterations\n",
      "single overlaps are Dict(\"v\" => 0.4124673509591776, \"mhat\" => 1.225816702439905, \"m\" => 0.505609368016902, \"vhat\" => 1.3344122224368395, \"q\" => 0.46341798083766567, \"qhat\" => 1.2212895059828353)\n",
      "Warning: state evolution did not converge after 50 iterations"
     ]
    },
    {
     "name": "stdout",
     "output_type": "stream",
     "text": [
      "\n",
      "alpha = 6.550000000000005, lambda = 1.0896742193189537\n",
      "Warning: state evolution did not converge in 50 iterations\n",
      "single overlaps are Dict(\"v\" => 0.41077482237149476, \"mhat\" => 1.235716986773895, \"m\" => 0.5076014257434854, \"vhat\" => 1.344749570889942, \"q\" => 0.46539988268701227, \"qhat\" => 1.231158324534433)\n"
     ]
    },
    {
     "name": "stdout",
     "output_type": "stream",
     "text": [
      "Warning: state evolution did not converge after 50 iterations\n",
      "alpha = 6.600000000000005, lambda = 1.0893290278804142\n",
      "Warning: state evolution did not converge in 50 iterations\n",
      "single overlaps are Dict(\"v\" => 0.4090956383066032, \"mhat\" => 1.2456208449665445, \"m\" => 0.5095780546595989, \"vhat\" => 1.3550871583672965, \"q\" => 0.4673677811810798, \"qhat\" => 1.2410308854178205)\n",
      "Warning: state evolution did not converge after 50 iterations"
     ]
    },
    {
     "name": "stdout",
     "output_type": "stream",
     "text": [
      "\n",
      "alpha = 6.650000000000006, lambda = 1.088986489896676\n",
      "Warning: state evolution did not converge in 50 iterations\n",
      "single overlaps are Dict(\"v\" => 0.40742964776432533, \"mhat\" => 1.2555282343715164, \"m\" => 0.5115394262881522, \"vhat\" => 1.3654249784077674, \"q\" => 0.46932181714026044, \"qhat\" => 1.2509071453493268)\n"
     ]
    },
    {
     "name": "stdout",
     "output_type": "stream",
     "text": [
      "Warning: state evolution did not converge after 50 iterations\n",
      "alpha = 6.7000000000000055, lambda = 1.08864657589772\n",
      "Warning: state evolution did not converge in 50 iterations\n",
      "single overlaps are Dict(\"v\" => 0.4057767019620884, \"mhat\" => 1.2654391129781304, \"m\" => 0.5134857097980964, \"vhat\" => 1.3757630246648813, \"q\" => 0.47126212972963044, \"qhat\" => 1.2607870616515313)\n",
      "Warning: state evolution did not converge after 50 iterations"
     ]
    },
    {
     "name": "stdout",
     "output_type": "stream",
     "text": [
      "\n",
      "alpha = 6.750000000000005, lambda = 1.0883092569373105\n",
      "Warning: state evolution did not converge in 50 iterations\n",
      "single overlaps are Dict(\"v\" => 0.40413665422207107, \"mhat\" => 1.2753534394173969, \"m\" => 0.5154170719567576, \"vhat\" => 1.3861012909624228, \"q\" => 0.47318885632384017, \"qhat\" => 1.2706705922785402)\n"
     ]
    },
    {
     "name": "stdout",
     "output_type": "stream",
     "text": [
      "Warning: state evolution did not converge after 50 iterations\n",
      "alpha = 6.800000000000006, lambda = 1.0879745043321762\n",
      "Warning: state evolution did not converge in 50 iterations\n",
      "single overlaps are Dict(\"v\" => 0.4025093599838354, \"mhat\" => 1.285271172939185, \"m\" => 0.5173336772254248, \"vhat\" => 1.3964397712517744, \"q\" => 0.4751021326355542, \"qhat\" => 1.2805576957822455)\n",
      "Warning: state evolution did not converge after 50 iterations"
     ]
    },
    {
     "name": "stdout",
     "output_type": "stream",
     "text": [
      "\n",
      "alpha = 6.850000000000006, lambda = 1.0876422901236644\n",
      "Warning: state evolution did not converge in 50 iterations"
     ]
    },
    {
     "name": "stdout",
     "output_type": "stream",
     "text": [
      "\n",
      "single overlaps are Dict(\"v\" => 0.40089467668140594, \"mhat\" => 1.2951922734219738, \"m\" => 0.5192356876937574, \"vhat\" => 1.406778459680174, \"q\" => 0.4770020925491142, \"qhat\" => 1.2904483313446213)\n"
     ]
    },
    {
     "name": "stdout",
     "output_type": "stream",
     "text": [
      "Warning: state evolution did not converge after 50 iterations\n",
      "alpha = 6.900000000000006, lambda = 1.0873125862193933\n",
      "Warning: state evolution did not converge in 50 iterations\n",
      "single overlaps are Dict(\"v\" => 0.3992924638681077, \"mhat\" => 1.3051167013237348, \"m\" => 0.5211232633069712, \"vhat\" => 1.4171173504555825, \"q\" => 0.47888886849243706, \"qhat\" => 1.3003424586899184)\n",
      "Warning: state evolution did not converge after 50 iterations"
     ]
    },
    {
     "name": "stdout",
     "output_type": "stream",
     "text": [
      "\n",
      "alpha = 6.9500000000000055, lambda = 1.0869853653814845\n",
      "Warning: state evolution did not converge in 50 iterations\n",
      "single overlaps are Dict(\"v\" => 0.3977025829973322, \"mhat\" => 1.3150444177156857, \"m\" => 0.5229965616817509, \"vhat\" => 1.4274564379967654, \"q\" => 0.4807625910549271, \"qhat\" => 1.3102400381653108)\n"
     ]
    },
    {
     "name": "stdout",
     "output_type": "stream",
     "text": [
      "Warning: state evolution did not converge after 50 iterations\n",
      "alpha = 7.000000000000005, lambda = 1.0866606004721182\n",
      "Warning: state evolution did not converge in 50 iterations\n",
      "single overlaps are Dict(\"v\" => 0.396124897528454, \"mhat\" => 1.3249753842382443, \"m\" => 0.5248557383090985, \"vhat\" => 1.4377957168139448, \"q\" => 0.4826233893165556, \"qhat\" => 1.3201410306628891)\n",
      "Warning: state evolution did not converge after 50 iterations"
     ]
    },
    {
     "name": "stdout",
     "output_type": "stream",
     "text": [
      "\n",
      "alpha = 7.050000000000006, lambda = 1.0863382648129687\n",
      "Warning: state evolution did not converge in 50 iterations\n",
      "single overlaps are Dict(\"v\" => 0.39455927282657294, \"mhat\" => 1.334909563107054, \"m\" => 0.5267009465087574, \"vhat\" => 1.4481351815620866, \"q\" => 0.48447139072170947, \"qhat\" => 1.330045397643349)\n"
     ]
    },
    {
     "name": "stdout",
     "output_type": "stream",
     "text": [
      "Warning: state evolution did not converge after 50 iterations\n",
      "alpha = 7.100000000000006, lambda = 1.0860183322040242\n",
      "Warning: state evolution did not converge in 50 iterations\n",
      "single overlaps are Dict(\"v\" => 0.39300557612674075, \"mhat\" => 1.3448469171040252, \"m\" => 0.5285323374587386, \"vhat\" => 1.4584748270419126, \"q\" => 0.4863067210917033, \"qhat\" => 1.3399531011289396)\n",
      "Warning: state evolution did not converge after 50 iterations"
     ]
    },
    {
     "name": "stdout",
     "output_type": "stream",
     "text": [
      "\n",
      "alpha = 7.150000000000006, lambda = 1.0857007764926985\n",
      "Warning: state evolution did not converge in 50 iterations\n",
      "single overlaps are Dict(\"v\" => 0.3914636765788874, \"mhat\" => 1.3547874095482557, \"m\" => 0.5303500603245471, \"vhat\" => 1.4688146481292863, \"q\" => 0.4881295048214851, \"qhat\" => 1.3498641036551795)\n"
     ]
    },
    {
     "name": "stdout",
     "output_type": "stream",
     "text": [
      "Warning: state evolution did not converge after 50 iterations\n",
      "alpha = 7.200000000000006, lambda = 1.0853855721328294\n",
      "Warning: state evolution did not converge in 50 iterations\n",
      "single overlaps are Dict(\"v\" => 0.3899334451196861, \"mhat\" => 1.364731004305098, \"m\" => 0.532154262170336, \"vhat\" => 1.4791546398334978, \"q\" => 0.4899398646761497, \"qhat\" => 1.359778368299798)\n",
      "Warning: state evolution did not converge after 50 iterations"
     ]
    },
    {
     "name": "stdout",
     "output_type": "stream",
     "text": [
      "\n",
      "alpha = 7.250000000000006, lambda = 1.0850726939862874\n",
      "Warning: state evolution did not converge in 50 iterations\n",
      "single overlaps are Dict(\"v\" => 0.38841475445650675, \"mhat\" => 1.3746776658010567, \"m\" => 0.5339450880189612, \"vhat\" => 1.4894947974038375, \"q\" => 0.49173792186234644, \"qhat\" => 1.3696958587248043)\n"
     ]
    },
    {
     "name": "stdout",
     "output_type": "stream",
     "text": [
      "Warning: state evolution did not converge after 50 iterations\n",
      "alpha = 7.300000000000006, lambda = 1.0847621168471542\n",
      "Warning: state evolution did not converge in 50 iterations\n",
      "single overlaps are Dict(\"v\" => 0.3869074791624087, \"mhat\" => 1.3846273589271725, \"m\" => 0.535722681021816, \"vhat\" => 1.4998351159714933, \"q\" => 0.4935237963015102, \"qhat\" => 1.3796165389874888)\n",
      "Warning: state evolution did not converge after 50 iterations"
     ]
    },
    {
     "name": "stdout",
     "output_type": "stream",
     "text": [
      "\n",
      "alpha = 7.350000000000006, lambda = 1.0844538162899306\n",
      "Warning: state evolution did not converge in 50 iterations\n",
      "single overlaps are Dict(\"v\" => 0.3854114954546535, \"mhat\" => 1.394580049134297, \"m\" => 0.5374871822680735, \"vhat\" => 1.5101755909630699, \"q\" => 0.4952976062417724, \"qhat\" => 1.3895403737470153)\n"
     ]
    },
    {
     "name": "stdout",
     "output_type": "stream",
     "text": [
      "Warning: state evolution did not converge after 50 iterations\n",
      "alpha = 7.400000000000006, lambda = 1.0839907589496267\n",
      "Warning: state evolution did not converge in 50 iterations\n",
      "single overlaps are Dict(\"v\" => 0.3839535943446659, \"mhat\" => 1.4045286864301123, \"m\" => 0.5392738375150338, \"vhat\" => 1.5204906542451255, \"q\" => 0.49712414538457095, \"qhat\" => 1.3994530328344335)\n",
      "Warning: state evolution did not converge after 50 iterations"
     ]
    },
    {
     "name": "stdout",
     "output_type": "stream",
     "text": [
      "\n",
      "alpha = 7.450000000000006, lambda = 1.0838524770650988\n",
      "Warning: state evolution did not converge in 50 iterations\n",
      "single overlaps are Dict(\"v\" => 0.3824514648453055, \"mhat\" => 1.414494665989554, \"m\" => 0.5409755570235761, \"vhat\" => 1.5308583867159598, \"q\" => 0.4988059837273409, \"qhat\" => 1.4093981440189445)\n"
     ]
    },
    {
     "name": "stdout",
     "output_type": "stream",
     "text": [
      "Warning: state evolution did not converge after 50 iterations\n",
      "alpha = 7.500000000000006, lambda = 1.083551360637067\n"
     ]
    },
    {
     "name": "stdout",
     "output_type": "stream",
     "text": [
      "Warning: state evolution did not converge in 50 iterations\n",
      "single overlaps are Dict(\"v\" => 0.3809885563288999, \"mhat\" => 1.424456167168206, \"m\" => 0.5427014986832128, \"vhat\" => 1.5411993920777198, \"q\" => 0.5005440881298143, \"qhat\" => 1.419331280092619)\n",
      "Warning: state evolution did not converge after 50 iterations"
     ]
    },
    {
     "name": "stdout",
     "output_type": "stream",
     "text": [
      "\n",
      "alpha = 7.550000000000006, lambda = 1.0832524367642948\n",
      "Warning: state evolution did not converge in 50 iterations\n",
      "single overlaps are Dict(\"v\" => 0.3795364604481312, \"mhat\" => 1.4344205326005, \"m\" => 0.5444148917373169, \"vhat\" => 1.55154053890731, \"q\" => 0.5022705823608432, \"qhat\" => 1.4292674350412895)\n"
     ]
    },
    {
     "name": "stdout",
     "output_type": "stream",
     "text": [
      "Warning: state evolution did not converge after 50 iterations\n",
      "alpha = 7.600000000000007, lambda = 1.082955846382343\n",
      "Warning: state evolution did not converge in 50 iterations\n",
      "single overlaps are Dict(\"v\" => 0.37809503444036763, \"mhat\" => 1.4443877374697076, \"m\" => 0.5461158313438538, \"vhat\" => 1.5618818502569076, \"q\" => 0.5039855100529206, \"qhat\" => 1.4392065908038534)\n",
      "Warning: state evolution did not converge after 50 iterations"
     ]
    },
    {
     "name": "stdout",
     "output_type": "stream",
     "text": [
      "\n",
      "alpha = 7.650000000000007, lambda = 1.0826612403895601\n",
      "Warning: state evolution did not converge in 50 iterations\n",
      "single overlaps are Dict(\"v\" => 0.37666421905475334, \"mhat\" => 1.4543577355669843, \"m\" => 0.5478045206935777, \"vhat\" => 1.5722232679120798, \"q\" => 0.5056891159923345, \"qhat\" => 1.4491486852277446)\n"
     ]
    },
    {
     "name": "stdout",
     "output_type": "stream",
     "text": [
      "Warning: state evolution did not converge after 50 iterations\n",
      "alpha = 7.700000000000006, lambda = 1.0823687590844553\n",
      "Warning: state evolution did not converge in 50 iterations\n",
      "single overlaps are Dict(\"v\" => 0.3752438745538661, \"mhat\" => 1.4643305028625897, \"m\" => 0.5494810515215693, \"vhat\" => 1.5825648156179093, \"q\" => 0.507381441321231, \"qhat\" => 1.459093700918458)\n",
      "Warning: state evolution did not converge after 50 iterations"
     ]
    },
    {
     "name": "stdout",
     "output_type": "stream",
     "text": [
      "\n",
      "alpha = 7.750000000000006, lambda = 1.0820783804253125\n",
      "Warning: state evolution did not converge in 50 iterations\n",
      "single overlaps are Dict(\"v\" => 0.3738338902323214, \"mhat\" => 1.4743060086944733, \"m\" => 0.5511455506231415, \"vhat\" => 1.592906488866618, \"q\" => 0.50906259367477, \"qhat\" => 1.469041606453349)\n"
     ]
    },
    {
     "name": "stdout",
     "output_type": "stream",
     "text": [
      "Warning: state evolution did not converge after 50 iterations\n",
      "alpha = 7.800000000000006, lambda = 1.081790082417632\n",
      "Warning: state evolution did not converge in 50 iterations\n",
      "single overlaps are Dict(\"v\" => 0.3724341568052883, \"mhat\" => 1.4842842226679975, \"m\" => 0.5527981429287484, \"vhat\" => 1.603248284035981, \"q\" => 0.5107326790709374, \"qhat\" => 1.4789923705246357)\n",
      "Warning: state evolution did not converge after 50 iterations"
     ]
    },
    {
     "name": "stdout",
     "output_type": "stream",
     "text": [
      "\n",
      "alpha = 7.850000000000007, lambda = 1.0815038438621625\n",
      "Warning: state evolution did not converge in 50 iterations\n",
      "single overlaps are Dict(\"v\" => 0.37104456639142913, \"mhat\" => 1.4942651149133779, \"m\" => 0.5544389516368733, \"vhat\" => 1.613590197604171, \"q\" => 0.5123918021212688, \"qhat\" => 1.4889459624380703)\n"
     ]
    },
    {
     "name": "stdout",
     "output_type": "stream",
     "text": [
      "Warning: state evolution did not converge after 50 iterations\n",
      "alpha = 7.900000000000007, lambda = 1.081219643412189\n",
      "Warning: state evolution did not converge in 50 iterations\n",
      "single overlaps are Dict(\"v\" => 0.36966501263916823, \"mhat\" => 1.504248655953308, \"m\" => 0.5560680984154314, \"vhat\" => 1.6239322260077735, \"q\" => 0.5140400663723339, \"qhat\" => 1.4989023518566196)\n",
      "Warning: state evolution did not converge after 50 iterations"
     ]
    },
    {
     "name": "stdout",
     "output_type": "stream",
     "text": [
      "\n",
      "alpha = 7.950000000000006, lambda = 1.0809374601248776\n",
      "Warning: state evolution did not converge in 50 iterations\n",
      "single overlaps are Dict(\"v\" => 0.36829539060508293, \"mhat\" => 1.514234816732824, \"m\" => 0.5576857032964315, \"vhat\" => 1.6342743657876646, \"q\" => 0.5156775740813964, \"qhat\" => 1.5088615088696173)\n"
     ]
    },
    {
     "name": "stdout",
     "output_type": "stream",
     "text": [
      "Warning: state evolution did not converge after 50 iterations\n",
      "alpha = 8.000000000000007, lambda = 1.0806572733408397\n"
     ]
    },
    {
     "name": "stdout",
     "output_type": "stream",
     "text": [
      "Warning: state evolution did not converge in 50 iterations\n",
      "single overlaps are Dict(\"v\" => 0.36693559675077614, \"mhat\" => 1.524223568605068, \"m\" => 0.5592918847276982, \"vhat\" => 1.6446166135619984, \"q\" => 0.5173044262824437, \"qhat\" => 1.518823403971401)\n",
      "Warning: state evolution did not converge after 50 iterations"
     ]
    },
    {
     "name": "stdout",
     "output_type": "stream",
     "text": [
      "\n",
      "alpha = 8.050000000000008, lambda = 1.0803790756471867\n",
      "Warning: state evolution did not converge in 50 iterations\n",
      "single overlaps are Dict(\"v\" => 0.3655855268862233, \"mhat\" => 1.5342148839098904, \"m\" => 0.5608867566908832, \"vhat\" => 1.6549589682771226, \"q\" => 0.5189207174281313, \"qhat\" => 1.5287880092488069)\n"
     ]
    },
    {
     "name": "stdout",
     "output_type": "stream",
     "text": [
      "Warning: state evolution did not converge after 50 iterations\n",
      "alpha = 8.100000000000007, lambda = 1.0801028285666145\n",
      "Warning: state evolution did not converge in 50 iterations\n",
      "single overlaps are Dict(\"v\" => 0.3642450831241377, \"mhat\" => 1.5442087372677267, \"m\" => 0.5624704398671029, \"vhat\" => 1.6653014234907613, \"q\" => 0.520526556000918, \"qhat\" => 1.5387553008233263)\n",
      "Warning: state evolution did not converge after 50 iterations"
     ]
    },
    {
     "name": "stdout",
     "output_type": "stream",
     "text": [
      "\n",
      "alpha = 8.150000000000006, lambda = 1.0798285238798717\n",
      "Warning: state evolution did not converge in 50 iterations\n",
      "single overlaps are Dict(\"v\" => 0.3629141642110432, \"mhat\" => 1.55420509380058, \"m\" => 0.5640430426291835, \"vhat\" => 1.6756439779276806, \"q\" => 0.5221220293626058, \"qhat\" => 1.5487252357356678)\n"
     ]
    },
    {
     "name": "stdout",
     "output_type": "stream",
     "text": [
      "Warning: state evolution did not converge after 50 iterations\n",
      "alpha = 8.200000000000006, lambda = 1.079556135126373\n",
      "Warning: state evolution did not converge in 50 iterations\n",
      "single overlaps are Dict(\"v\" => 0.3615926730170581, \"mhat\" => 1.5642039321339796, \"m\" => 0.5656046809641186, \"vhat\" => 1.6859866278289626, \"q\" => 0.5237072405286398, \"qhat\" => 1.5586977973064216)\n",
      "Warning: state evolution did not converge after 50 iterations"
     ]
    },
    {
     "name": "stdout",
     "output_type": "stream",
     "text": [
      "\n",
      "alpha = 8.250000000000007, lambda = 1.0792822938667\n",
      "Warning: state evolution did not converge in 50 iterations"
     ]
    },
    {
     "name": "stdout",
     "output_type": "stream",
     "text": [
      "\n",
      "single overlaps are Dict(\"v\" => 0.3602810231817139, \"mhat\" => 1.5742050759451822, \"m\" => 0.5671562154593779, \"vhat\" => 1.6963287865304848, \"q\" => 0.5252836724619814, \"qhat\" => 1.5686726528533792)\n"
     ]
    },
    {
     "name": "stdout",
     "output_type": "stream",
     "text": [
      "Warning: state evolution did not converge after 50 iterations\n",
      "alpha = 8.300000000000008, lambda = 1.0790136794370515\n",
      "Warning: state evolution did not converge in 50 iterations\n",
      "single overlaps are Dict(\"v\" => 0.35897809480537773, \"mhat\" => 1.5842087955663424, \"m\" => 0.5686962552063277, \"vhat\" => 1.7066716157678168, \"q\" => 0.5268486422048786, \"qhat\" => 1.5786503803038912)\n",
      "Warning: state evolution did not converge after 50 iterations"
     ]
    },
    {
     "name": "stdout",
     "output_type": "stream",
     "text": [
      "\n",
      "alpha = 8.350000000000007, lambda = 1.0787469239164018\n",
      "Warning: state evolution did not converge in 50 iterations\n",
      "single overlaps are Dict(\"v\" => 0.3576843074638316, \"mhat\" => 1.594214916661211, \"m\" => 0.5702256584144753, \"vhat\" => 1.7170145314589313, \"q\" => 0.5284036310035519, \"qhat\" => 1.5886306502005039)\n"
     ]
    },
    {
     "name": "stdout",
     "output_type": "stream",
     "text": [
      "Warning: state evolution did not converge after 50 iterations\n",
      "alpha = 8.400000000000007, lambda = 1.0784820083738678\n"
     ]
    },
    {
     "name": "stdout",
     "output_type": "stream",
     "text": [
      "Warning: state evolution did not converge in 50 iterations\n",
      "single overlaps are Dict(\"v\" => 0.35639956818609003, \"mhat\" => 1.6042234136381248, \"m\" => 0.571744531894643, \"vhat\" => 1.7273575303481914, \"q\" => 0.5299487310254736, \"qhat\" => 1.5986134360982547)\n",
      "Warning: state evolution did not converge after 50 iterations"
     ]
    },
    {
     "name": "stdout",
     "output_type": "stream",
     "text": [
      "\n",
      "alpha = 8.450000000000006, lambda = 1.0782189148000259\n",
      "Warning: state evolution did not converge in 50 iterations\n",
      "single overlaps are Dict(\"v\" => 0.3551237849099963, \"mhat\" => 1.6142342611737124, \"m\" => 0.5732529805594002, \"vhat\" => 1.7377006109885473, \"q\" => 0.5314840323949267, \"qhat\" => 1.608598711774737)\n"
     ]
    },
    {
     "name": "stdout",
     "output_type": "stream",
     "text": [
      "Warning: state evolution did not converge after 50 iterations\n",
      "alpha = 8.500000000000007, lambda = 1.0779576246808773\n",
      "Warning: state evolution did not converge in 50 iterations\n",
      "single overlaps are Dict(\"v\" => 0.3538568671917323, \"mhat\" => 1.6242474344286815, \"m\" => 0.5747511086911419, \"vhat\" => 1.7480437694312911, \"q\" => 0.5330096255077972, \"qhat\" => 1.6185864515758475)\n",
      "Warning: state evolution did not converge after 50 iterations"
     ]
    },
    {
     "name": "stdout",
     "output_type": "stream",
     "text": [
      "\n",
      "alpha = 8.550000000000008, lambda = 1.0776981203105103\n",
      "Warning: state evolution did not converge in 50 iterations"
     ]
    },
    {
     "name": "stdout",
     "output_type": "stream",
     "text": [
      "\n",
      "single overlaps are Dict(\"v\" => 0.352598725475178, \"mhat\" => 1.6342629088158853, \"m\" => 0.5762390187398383, \"vhat\" => 1.758387003515036, \"q\" => 0.5345255987902947, \"qhat\" => 1.6285766300495104)\n"
     ]
    },
    {
     "name": "stdout",
     "output_type": "stream",
     "text": [
      "Warning: state evolution did not converge after 50 iterations\n",
      "alpha = 8.600000000000007, lambda = 1.0774403841541984\n"
     ]
    },
    {
     "name": "stdout",
     "output_type": "stream",
     "text": [
      "Warning: state evolution did not converge in 50 iterations\n",
      "single overlaps are Dict(\"v\" => 0.3513492714262224, \"mhat\" => 1.6442806601086217, \"m\" => 0.5777168119493923, \"vhat\" => 1.7687303107236578, \"q\" => 0.536032039830821, \"qhat\" => 1.6385692221222588)\n",
      "Warning: state evolution did not converge after 50 iterations"
     ]
    },
    {
     "name": "stdout",
     "output_type": "stream",
     "text": [
      "\n",
      "alpha = 8.650000000000007, lambda = 1.0771843982985796\n",
      "Warning: state evolution did not converge in 50 iterations\n",
      "single overlaps are Dict(\"v\" => 0.35010841794249536, \"mhat\" => 1.6543006643814253, \"m\" => 0.5791845884077997, \"vhat\" => 1.7790736884871206, \"q\" => 0.5375290354511651, \"qhat\" => 1.6485642029944054)\n"
     ]
    },
    {
     "name": "stdout",
     "output_type": "stream",
     "text": [
      "Warning: state evolution did not converge after 50 iterations\n",
      "alpha = 8.700000000000006, lambda = 1.07693014583216\n",
      "Warning: state evolution did not converge in 50 iterations\n",
      "single overlaps are Dict(\"v\" => 0.3488760789307514, \"mhat\" => 1.6643228980738742, \"m\" => 0.5806424467546778, \"vhat\" => 1.789417134453831, \"q\" => 0.5390166711415222, \"qhat\" => 1.6585615482760372)\n",
      "Warning: state evolution did not converge after 50 iterations"
     ]
    },
    {
     "name": "stdout",
     "output_type": "stream",
     "text": [
      "\n",
      "alpha = 8.750000000000007, lambda = 1.0766776096538069\n",
      "Warning: state evolution did not converge in 50 iterations\n",
      "single overlaps are Dict(\"v\" => 0.3476521694689846, \"mhat\" => 1.6743473379168405, \"m\" => 0.5820904844714087, \"vhat\" => 1.799760646225433, \"q\" => 0.5404950315762225, \"qhat\" => 1.6685612338421718)\n"
     ]
    },
    {
     "name": "stdout",
     "output_type": "stream",
     "text": [
      "Warning: state evolution did not converge after 50 iterations\n",
      "alpha = 8.800000000000008, lambda = 1.0764267731264319\n",
      "Warning: state evolution did not converge in 50 iterations\n",
      "single overlaps are Dict(\"v\" => 0.34643660568835577, \"mhat\" => 1.6843739609688875, \"m\" => 0.5835287977479124, \"vhat\" => 1.8101042215213181, \"q\" => 0.5419642003448533, \"qhat\" => 1.6785632359126397)\n",
      "Warning: state evolution did not converge after 50 iterations"
     ]
    },
    {
     "name": "stdout",
     "output_type": "stream",
     "text": [
      "\n",
      "alpha = 8.850000000000007, lambda = 1.0761776191957908\n",
      "Warning: state evolution did not converge in 50 iterations\n",
      "single overlaps are Dict(\"v\" => 0.34522930488325004, \"mhat\" => 1.6944027445732608, \"m\" => 0.5849574817012979, \"vhat\" => 1.8204478580016938, \"q\" => 0.5434242603366825, \"qhat\" => 1.6885675309696861)\n"
     ]
    },
    {
     "name": "stdout",
     "output_type": "stream",
     "text": [
      "Warning: state evolution did not converge after 50 iterations\n",
      "alpha = 8.900000000000007, lambda = 1.0759301318935435\n",
      "Warning: state evolution did not converge in 50 iterations\n",
      "single overlaps are Dict(\"v\" => 0.34403018528197954, \"mhat\" => 1.7044336664101953, \"m\" => 0.5863766300559432, \"vhat\" => 1.8307915535317163, \"q\" => 0.5448752931256898, \"qhat\" => 1.6985740958701583)\n",
      "Warning: state evolution did not converge after 50 iterations"
     ]
    },
    {
     "name": "stdout",
     "output_type": "stream",
     "text": [
      "\n",
      "alpha = 8.950000000000008, lambda = 1.0756842949160887\n",
      "Warning: state evolution did not converge in 50 iterations"
     ]
    },
    {
     "name": "stdout",
     "output_type": "stream",
     "text": [
      "\n",
      "single overlaps are Dict(\"v\" => 0.34283916623042526, \"mhat\" => 1.714466704436757, \"m\" => 0.5877863354789227, \"vhat\" => 1.8411353059339817, \"q\" => 0.5463173795726306, \"qhat\" => 1.708582907727903)\n"
     ]
    },
    {
     "name": "stdout",
     "output_type": "stream",
     "text": [
      "Warning: state evolution did not converge after 50 iterations\n",
      "alpha = 9.000000000000007, lambda = 1.075440092030745\n",
      "Warning: state evolution did not converge in 50 iterations\n",
      "single overlaps are Dict(\"v\" => 0.3416561681176307, \"mhat\" => 1.7245018368975764, \"m\" => 0.5891866895062413, \"vhat\" => 1.8514791130564714, \"q\" => 0.5477505996679318, \"qhat\" => 1.718593943940841)\n",
      "Warning: state evolution did not converge after 50 iterations"
     ]
    },
    {
     "name": "stdout",
     "output_type": "stream",
     "text": [
      "\n",
      "alpha = 9.050000000000008, lambda = 1.075197507693163\n",
      "Warning: state evolution did not converge in 50 iterations\n",
      "single overlaps are Dict(\"v\" => 0.3404811122795324, \"mhat\" => 1.7345390423383975, \"m\" => 0.5905777824276526, \"vhat\" => 1.8618229728408862, \"q\" => 0.5491750322976662, \"qhat\" => 1.728607182223361)\n"
     ]
    },
    {
     "name": "stdout",
     "output_type": "stream",
     "text": [
      "Warning: state evolution did not converge after 50 iterations\n",
      "alpha = 9.100000000000009, lambda = 1.0749565262567549\n",
      "Warning: state evolution did not converge in 50 iterations\n",
      "single overlaps are Dict(\"v\" => 0.3393139210675391, \"mhat\" => 1.7445782996125154, \"m\" => 0.5919597034508627, \"vhat\" => 1.8721668833983234, \"q\" => 0.5505907555294252, \"qhat\" => 1.7386226006258827)\n",
      "Warning: state evolution did not converge after 50 iterations"
     ]
    },
    {
     "name": "stdout",
     "output_type": "stream",
     "text": [
      "\n",
      "alpha = 9.150000000000007, lambda = 1.0747171324281581\n",
      "Warning: state evolution did not converge in 50 iterations\n",
      "single overlaps are Dict(\"v\" => 0.3381545178208756, \"mhat\" => 1.7546195878049577, \"m\" => 0.5933325406732489, \"vhat\" => 1.882510842653079, \"q\" => 0.5519978465398305, \"qhat\" => 1.7486401773820048)\n"
     ]
    },
    {
     "name": "stdout",
     "output_type": "stream",
     "text": [
      "Warning: state evolution did not converge after 50 iterations\n",
      "alpha = 9.200000000000008, lambda = 1.074479310633753\n",
      "Warning: state evolution did not converge in 50 iterations\n",
      "single overlaps are Dict(\"v\" => 0.33700282688653876, \"mhat\" => 1.7646628862927327, \"m\" => 0.5946963811824096, \"vhat\" => 1.8928548486630101, \"q\" => 0.5533963817834824, \"qhat\" => 1.7586598910391502)\n",
      "Warning: state evolution did not converge after 50 iterations"
     ]
    },
    {
     "name": "stdout",
     "output_type": "stream",
     "text": [
      "\n",
      "alpha = 9.250000000000007, lambda = 1.0742430460886074\n",
      "Warning: state evolution did not converge in 50 iterations\n",
      "single overlaps are Dict(\"v\" => 0.3358587734846597, \"mhat\" => 1.7747081747399607, \"m\" => 0.5960513108613623, \"vhat\" => 1.9031988995977538, \"q\" => 0.5547864366117968, \"qhat\" => 1.7686817204518683)\n"
     ]
    },
    {
     "name": "stdout",
     "output_type": "stream",
     "text": [
      "Warning: state evolution did not converge after 50 iterations\n",
      "alpha = 9.300000000000008, lambda = 1.0740083237940012\n",
      "Warning: state evolution did not converge in 50 iterations\n",
      "single overlaps are Dict(\"v\" => 0.33472228382516034, \"mhat\" => 1.7847554330585422, \"m\" => 0.5973974146227183, \"vhat\" => 1.9135429935910773, \"q\" => 0.5561680856903846, \"qhat\" => 1.7787056447063758)\n",
      "Warning: state evolution did not converge after 50 iterations"
     ]
    },
    {
     "name": "stdout",
     "output_type": "stream",
     "text": [
      "\n",
      "alpha = 9.350000000000009, lambda = 1.0737751293936397\n",
      "Warning: state evolution did not converge in 50 iterations"
     ]
    },
    {
     "name": "stdout",
     "output_type": "stream",
     "text": [
      "\n",
      "single overlaps are Dict(\"v\" => 0.333593284975215, \"mhat\" => 1.7948046414662209, \"m\" => 0.5987347762354797, \"vhat\" => 1.9238871289287873, \"q\" => 0.5575414026590495, \"qhat\" => 1.788731643242866)\n"
     ]
    },
    {
     "name": "stdout",
     "output_type": "stream",
     "text": [
      "Warning: state evolution did not converge after 50 iterations\n",
      "alpha = 9.400000000000007, lambda = 1.073543448092466\n",
      "Warning: state evolution did not converge in 50 iterations\n",
      "single overlaps are Dict(\"v\" => 0.3324717049956854, \"mhat\" => 1.8048557803350016, \"m\" => 0.6000634785592962, \"vhat\" => 1.9342313037859753, \"q\" => 0.5589064605500209, \"qhat\" => 1.798759695554194)\n",
      "Warning: state evolution did not converge after 50 iterations"
     ]
    },
    {
     "name": "stdout",
     "output_type": "stream",
     "text": [
      "\n",
      "alpha = 9.450000000000008, lambda = 1.0733132656488378\n",
      "Warning: state evolution did not converge in 50 iterations\n",
      "single overlaps are Dict(\"v\" => 0.3313574727880868, \"mhat\" => 1.814908830414295, \"m\" => 0.6013836033868631, \"vhat\" => 1.9445755164747829, \"q\" => 0.5602633314776907, \"qhat\" => 1.8087897816381848)\n"
     ]
    },
    {
     "name": "stdout",
     "output_type": "stream",
     "text": [
      "Warning: state evolution did not converge after 50 iterations\n",
      "alpha = 9.500000000000007, lambda = 1.073084567996706\n",
      "Warning: state evolution did not converge in 50 iterations\n",
      "single overlaps are Dict(\"v\" => 0.330250518126544, \"mhat\" => 1.8249637751173788, \"m\" => 0.602695232294688, \"vhat\" => 1.954919765419129, \"q\" => 0.5616120882025626, \"qhat\" => 1.8188218865175412)\n",
      "Warning: state evolution did not converge after 50 iterations"
     ]
    },
    {
     "name": "stdout",
     "output_type": "stream",
     "text": [
      "\n",
      "alpha = 9.550000000000008, lambda = 1.0728573409980322\n",
      "Warning: state evolution did not converge in 50 iterations\n",
      "single overlaps are Dict(\"v\" => 0.32915077171989754, \"mhat\" => 1.8350205881809265, \"m\" => 0.6039984427216523, \"vhat\" => 1.9652640487065778, \"q\" => 0.5629527968281405, \"qhat\" => 1.8288559758456957)\n"
     ]
    },
    {
     "name": "stdout",
     "output_type": "stream",
     "text": [
      "Warning: state evolution did not converge after 50 iterations\n",
      "alpha = 9.600000000000009, lambda = 1.0726315709908874\n",
      "Warning: state evolution did not converge in 50 iterations\n",
      "single overlaps are Dict(\"v\" => 0.32805816503437146, \"mhat\" => 1.84507925849079, \"m\" => 0.6052933158834672, \"vhat\" => 1.9756083650437106, \"q\" => 0.5642855314910806, \"qhat\" => 1.8388920449967034)\n",
      "Warning: state evolution did not converge after 50 iterations"
     ]
    },
    {
     "name": "stdout",
     "output_type": "stream",
     "text": [
      "\n",
      "alpha = 9.650000000000007, lambda = 1.0724072441888035\n",
      "Warning: state evolution did not converge in 50 iterations\n",
      "single overlaps are Dict(\"v\" => 0.32697263045748404, \"mhat\" => 1.8551397652296662, \"m\" => 0.6065799289034234, \"vhat\" => 1.9859527127312884, \"q\" => 0.5656103597228933, \"qhat\" => 1.848930069929355)\n"
     ]
    },
    {
     "name": "stdout",
     "output_type": "stream",
     "text": [
      "Warning: state evolution did not converge after 50 iterations\n",
      "alpha = 9.700000000000008, lambda = 1.0721843473601285\n",
      "Warning: state evolution did not converge in 50 iterations\n",
      "single overlaps are Dict(\"v\" => 0.3258941011422241, \"mhat\" => 1.8652020903138027, \"m\" => 0.6078583586714142, \"vhat\" => 1.9962970903066057, \"q\" => 0.5669273496044857, \"qhat\" => 1.85897003178322)\n",
      "Warning: state evolution did not converge after 50 iterations"
     ]
    },
    {
     "name": "stdout",
     "output_type": "stream",
     "text": [
      "\n",
      "alpha = 9.750000000000009, lambda = 1.0719628670251067\n",
      "Warning: state evolution did not converge in 50 iterations\n",
      "single overlaps are Dict(\"v\" => 0.3248225111119562, \"mhat\" => 1.8752662158738322, \"m\" => 0.6091286812435539, \"vhat\" => 2.006641496252324, \"q\" => 0.5682365686361041, \"qhat\" => 1.8690119118986819)\n"
     ]
    },
    {
     "name": "stdout",
     "output_type": "stream",
     "text": [
      "Warning: state evolution did not converge after 50 iterations\n",
      "alpha = 9.800000000000008, lambda = 1.0717427900762082\n"
     ]
    },
    {
     "name": "stdout",
     "output_type": "stream",
     "text": [
      "Warning: state evolution did not converge in 50 iterations\n",
      "single overlaps are Dict(\"v\" => 0.3237577952014868, \"mhat\" => 1.8853321242761092, \"m\" => 0.6103909717781686, \"vhat\" => 2.0169859288034777, \"q\" => 0.5695380836023798, \"qhat\" => 1.879055691858391)\n",
      "Warning: state evolution did not converge after 50 iterations"
     ]
    },
    {
     "name": "stdout",
     "output_type": "stream",
     "text": [
      "\n",
      "alpha = 9.850000000000009, lambda = 1.0715241034157963\n",
      "Warning: state evolution did not converge in 50 iterations\n",
      "single overlaps are Dict(\"v\" => 0.3226998889215972, \"mhat\" => 1.8953997981055255, \"m\" => 0.6116453043106708, \"vhat\" => 2.027330387491571, \"q\" => 0.5708319601403111, \"qhat\" => 1.8891013534861532)\n"
     ]
    },
    {
     "name": "stdout",
     "output_type": "stream",
     "text": [
      "Warning: state evolution did not converge after 50 iterations\n",
      "alpha = 9.90000000000001, lambda = 1.071306794322454\n",
      "Warning: state evolution did not converge in 50 iterations\n",
      "single overlaps are Dict(\"v\" => 0.32164872878396306, \"mhat\" => 1.905469220204128, \"m\" => 0.6128917524156271, \"vhat\" => 2.037674869558627, \"q\" => 0.5721182639530322, \"qhat\" => 1.8991488788590651)\n",
      "Warning: state evolution did not converge after 50 iterations"
     ]
    },
    {
     "name": "stdout",
     "output_type": "stream",
     "text": [
      "\n",
      "alpha = 9.950000000000008, lambda = 1.071090850096216\n",
      "Warning: state evolution did not converge in 50 iterations\n",
      "single overlaps are Dict(\"v\" => 0.3206042517741533, \"mhat\" => 1.915540373516364, \"m\" => 0.614130388194396, \"vhat\" => 2.0480193752555076, \"q\" => 0.573397058916471, \"qhat\" => 1.9091982501046565)\n"
     ]
    },
    {
     "name": "stdout",
     "output_type": "stream",
     "text": [
      "Warning: state evolution did not converge after 50 iterations\n"
     ]
    }
   ],
   "source": [
    "y_resampling_overlaps    = []\n",
    "\n",
    "m_prev, q_prev, v_prev = nothing, nothing, nothing\n",
    "\n",
    "for (alpha, lambda) in zip(alpha_range, lambda_range)\n",
    "    println(\"alpha = $alpha, lambda = $lambda\")\n",
    "    result = LogisticBootstrapStateEvolution.state_evolution_y_resampling(alpha, lambda; reltol=0.0, verbose = true, max_iteration = 50)\n",
    "    # add the dictionnary result to the list \"overlaps\"\n",
    "    push!(y_resampling_overlaps, result)\n",
    "end"
   ]
  },
  {
   "cell_type": "code",
   "execution_count": 16,
   "metadata": {},
   "outputs": [
    {
     "data": {
      "text/plain": [
       "36784"
      ]
     },
     "metadata": {},
     "output_type": "display_data"
    }
   ],
   "source": [
    "# save the overlaps into a file\n",
    "filename::String = \"../data/logistic/y_resampling_overlaps_$lambda_type.json\"\n",
    "\n",
    "dict_to_save::Dict = Dict(\"alpha\" => alpha_range,\n",
    "                          \"lambda\" => lambda_range,\n",
    "                          \"m\"   => [o[\"m\"][1] for o in y_resampling_overlaps],\n",
    "                          \"q_diag\"   => [o[\"q\"][1, 1] for o in y_resampling_overlaps],\n",
    "                          \"q_off_diag\"   => [o[\"q\"][1, 2] for o in y_resampling_overlaps],\n",
    "                          \"v\"   => [o[\"v\"][1] for o in y_resampling_overlaps],\n",
    "                          \"mhat\"=> [o[\"mhat\"][1] for o in y_resampling_overlaps],\n",
    "                          \"qhat_diag\"=> [o[\"qhat\"][1, 1] for o in y_resampling_overlaps],\n",
    "                          \"qhat_off_diag\"=> [o[\"qhat\"][1, 2] for o in y_resampling_overlaps],\n",
    "                          \"vhat\"=> [o[\"vhat\"][1] for o in y_resampling_overlaps],\n",
    "                          )\n",
    "\n",
    "open(filename, \"w\") do f\n",
    "    write(f, JSON.json(dict_to_save))\n",
    "end"
   ]
  },
  {
   "cell_type": "markdown",
   "metadata": {},
   "source": [
    "---\n",
    "\n",
    "### Compute the \"residual\" bootstrap for logistic"
   ]
  },
  {
   "cell_type": "code",
   "execution_count": 21,
   "metadata": {},
   "outputs": [
    {
     "name": "stdout",
     "output_type": "stream",
     "text": [
      "alpha = 0.5, lambda = 1.1657388411272638\n"
     ]
    },
    {
     "name": "stdout",
     "output_type": "stream",
     "text": [
      "alpha = 0.55, lambda = 1.164646231808562\n",
      "alpha = 0.6000000000000001, lambda = 1.1635641251077804\n"
     ]
    },
    {
     "name": "stdout",
     "output_type": "stream",
     "text": [
      "Warning: state evolution did not converge after 100 iterations\n",
      "alpha = 0.6500000000000001, lambda = 1.162496654741952\n",
      "alpha = 0.7000000000000002, lambda = 1.1614651114168377\n",
      "alpha = 0.7500000000000002, lambda = 1.160422011381984\n",
      "alpha = 0.8000000000000003, lambda = 1.1593903474139693\n"
     ]
    },
    {
     "name": "stdout",
     "output_type": "stream",
     "text": [
      "alpha = 0.8500000000000003, lambda = 1.1583699820020341\n",
      "alpha = 0.9000000000000004, lambda = 1.1573607879366992\n",
      "alpha = 0.9500000000000004, lambda = 1.1563626142997627\n",
      "alpha = 1.0000000000000004, lambda = 1.1553753334808636\n"
     ]
    },
    {
     "name": "stdout",
     "output_type": "stream",
     "text": [
      "alpha = 1.0500000000000005, lambda = 1.154398811848578\n",
      "alpha = 1.1000000000000005, lambda = 1.153432916212457\n",
      "alpha = 1.1500000000000006, lambda = 1.152477514704027\n",
      "alpha = 1.2000000000000006, lambda = 1.1515324760243772\n"
     ]
    },
    {
     "name": "stdout",
     "output_type": "stream",
     "text": [
      "alpha = 1.2500000000000007, lambda = 1.1505976699406315\n",
      "alpha = 1.3000000000000007, lambda = 1.1496729671576607\n",
      "alpha = 1.3500000000000008, lambda = 1.1487582396932328\n",
      "alpha = 1.4000000000000008, lambda = 1.147853360371921\n"
     ]
    },
    {
     "name": "stdout",
     "output_type": "stream",
     "text": [
      "Warning: state evolution did not converge after 100 iterations\n",
      "alpha = 1.4500000000000008, lambda = 1.146958203272857\n"
     ]
    },
    {
     "name": "stdout",
     "output_type": "stream",
     "text": [
      "Warning: state evolution did not converge after 100 iterations\n",
      "alpha = 1.5000000000000009, lambda = 1.1460726436479547\n",
      "alpha = 1.550000000000001, lambda = 1.1451965579757926\n",
      "alpha = 1.600000000000001, lambda = 1.1443298237088535\n"
     ]
    },
    {
     "name": "stdout",
     "output_type": "stream",
     "text": [
      "alpha = 1.650000000000001, lambda = 1.1434723192314824\n",
      "alpha = 1.700000000000001, lambda = 1.1426239251314385\n",
      "alpha = 1.750000000000001, lambda = 1.1417807944818965\n"
     ]
    },
    {
     "name": "stdout",
     "output_type": "stream",
     "text": [
      "alpha = 1.8000000000000012, lambda = 1.1409486716614443\n",
      "alpha = 1.8500000000000012, lambda = 1.140126572993539\n",
      "alpha = 1.9000000000000012, lambda = 1.1393164203827935\n",
      "alpha = 1.9500000000000013, lambda = 1.138511427210524\n"
     ]
    },
    {
     "name": "stdout",
     "output_type": "stream",
     "text": [
      "alpha = 2.0000000000000013, lambda = 1.1377148458985962\n",
      "alpha = 2.0500000000000016, lambda = 1.1369265729711326\n",
      "alpha = 2.1000000000000014, lambda = 1.1361465000728268\n",
      "alpha = 2.1500000000000012, lambda = 1.135374520003139\n"
     ]
    },
    {
     "name": "stdout",
     "output_type": "stream",
     "text": [
      "alpha = 2.2000000000000015, lambda = 1.1346105271186326\n",
      "alpha = 2.2500000000000018, lambda = 1.133854416938867\n",
      "alpha = 2.3000000000000016, lambda = 1.1331060863434046\n"
     ]
    },
    {
     "name": "stdout",
     "output_type": "stream",
     "text": [
      "alpha = 2.3500000000000014, lambda = 1.1323654335538034\n",
      "alpha = 2.4000000000000017, lambda = 1.1316323581058205\n",
      "alpha = 2.450000000000002, lambda = 1.1309067607728716\n",
      "alpha = 2.5000000000000018, lambda = 1.1301885437028982\n"
     ]
    },
    {
     "name": "stdout",
     "output_type": "stream",
     "text": [
      "alpha = 2.5500000000000016, lambda = 1.1294776104378226\n",
      "alpha = 2.600000000000002, lambda = 1.1287731896182882\n",
      "alpha = 2.650000000000002, lambda = 1.1280765901083198\n",
      "alpha = 2.700000000000002, lambda = 1.127386989746107\n"
     ]
    },
    {
     "name": "stdout",
     "output_type": "stream",
     "text": [
      "alpha = 2.7500000000000018, lambda = 1.1267042969371586\n",
      "alpha = 2.800000000000002, lambda = 1.1260284212453988\n",
      "alpha = 2.8500000000000023, lambda = 1.1253592734724216\n",
      "alpha = 2.900000000000002, lambda = 1.1246967661206182\n"
     ]
    },
    {
     "name": "stdout",
     "output_type": "stream",
     "text": [
      "alpha = 2.950000000000002, lambda = 1.1240408134498185\n",
      "alpha = 3.000000000000002, lambda = 1.123391329741058\n",
      "alpha = 3.0500000000000025, lambda = 1.122748230724299\n",
      "alpha = 3.1000000000000023, lambda = 1.1221114331722788\n"
     ]
    },
    {
     "name": "stdout",
     "output_type": "stream",
     "text": [
      "alpha = 3.150000000000002, lambda = 1.1214808557613238\n",
      "alpha = 3.2000000000000024, lambda = 1.1208564183536351\n",
      "alpha = 3.2500000000000027, lambda = 1.1202380409815007\n",
      "alpha = 3.3000000000000025, lambda = 1.1196256448355089\n"
     ]
    },
    {
     "name": "stdout",
     "output_type": "stream",
     "text": [
      "alpha = 3.3500000000000023, lambda = 1.1190191544686492\n",
      "alpha = 3.4000000000000026, lambda = 1.1184184911712547\n",
      "alpha = 3.450000000000003, lambda = 1.1178235822482039\n",
      "alpha = 3.5000000000000027, lambda = 1.1172343527677424\n"
     ]
    },
    {
     "name": "stdout",
     "output_type": "stream",
     "text": [
      "alpha = 3.5500000000000025, lambda = 1.1166507302607283\n",
      "alpha = 3.6000000000000028, lambda = 1.116072642417094\n",
      "alpha = 3.650000000000003, lambda = 1.115500018451136\n",
      "alpha = 3.700000000000003, lambda = 1.1149327900210324\n"
     ]
    },
    {
     "name": "stdout",
     "output_type": "stream",
     "text": [
      "alpha = 3.7500000000000027, lambda = 1.1143708860704227\n",
      "alpha = 3.800000000000003, lambda = 1.113814240336791\n",
      "alpha = 3.850000000000003, lambda = 1.1132627861357285\n"
     ]
    },
    {
     "name": "stdout",
     "output_type": "stream",
     "text": [
      "alpha = 3.900000000000003, lambda = 1.1127164570494552\n",
      "alpha = 3.950000000000003, lambda = 1.1121751883445141\n",
      "alpha = 4.0000000000000036, lambda = 1.1116389170108216\n",
      "alpha = 4.050000000000003, lambda = 1.1111075787125406\n"
     ]
    },
    {
     "name": "stdout",
     "output_type": "stream",
     "text": [
      "alpha = 4.100000000000003, lambda = 1.1105811117934707\n",
      "alpha = 4.150000000000003, lambda = 1.1100594558065278\n",
      "alpha = 4.200000000000003, lambda = 1.1095425504087457\n",
      "alpha = 4.2500000000000036, lambda = 1.1090303351009543\n"
     ]
    },
    {
     "name": "stdout",
     "output_type": "stream",
     "text": [
      "alpha = 4.300000000000003, lambda = 1.108522752058504\n",
      "alpha = 4.350000000000003, lambda = 1.1080197435731287\n",
      "alpha = 4.400000000000004, lambda = 1.107521253573327\n",
      "alpha = 4.450000000000004, lambda = 1.1070272251947346\n"
     ]
    },
    {
     "name": "stdout",
     "output_type": "stream",
     "text": [
      "alpha = 4.5000000000000036, lambda = 1.1065376031770127\n",
      "alpha = 4.550000000000003, lambda = 1.106052333661234\n",
      "alpha = 4.600000000000003, lambda = 1.1055713630020036\n",
      "alpha = 4.650000000000004, lambda = 1.1050946380637081\n"
     ]
    },
    {
     "name": "stdout",
     "output_type": "stream",
     "text": [
      "alpha = 4.700000000000004, lambda = 1.1046221073263776\n",
      "alpha = 4.7500000000000036, lambda = 1.1041537188307182\n",
      "alpha = 4.800000000000004, lambda = 1.1036894223250082\n",
      "alpha = 4.850000000000004, lambda = 1.1032291678831438\n"
     ]
    },
    {
     "name": "stdout",
     "output_type": "stream",
     "text": [
      "alpha = 4.900000000000004, lambda = 1.1027729063596343\n",
      "alpha = 4.950000000000004, lambda = 1.102320590262144\n",
      "alpha = 5.0000000000000036, lambda = 1.101872170269274\n"
     ]
    },
    {
     "name": "stdout",
     "output_type": "stream",
     "text": [
      "alpha = 5.050000000000004, lambda = 1.1014276015646731\n",
      "alpha = 5.100000000000004, lambda = 1.1009868368535791\n",
      "alpha = 5.150000000000004, lambda = 1.1005498290579792\n",
      "alpha = 5.200000000000005, lambda = 1.1001165351298492\n"
     ]
    },
    {
     "name": "stdout",
     "output_type": "stream",
     "text": [
      "alpha = 5.250000000000004, lambda = 1.0996869096397806\n",
      "alpha = 5.300000000000004, lambda = 1.0992609098291841\n",
      "alpha = 5.350000000000004, lambda = 1.0988384922240286\n",
      "alpha = 5.400000000000004, lambda = 1.0984196135439954\n"
     ]
    },
    {
     "name": "stdout",
     "output_type": "stream",
     "text": [
      "alpha = 5.450000000000005, lambda = 1.098004232563178\n",
      "alpha = 5.500000000000004, lambda = 1.097592309390582\n",
      "alpha = 5.550000000000004, lambda = 1.0971838018118463\n",
      "alpha = 5.600000000000005, lambda = 1.0967786696290958\n"
     ]
    },
    {
     "name": "stdout",
     "output_type": "stream",
     "text": [
      "alpha = 5.650000000000005, lambda = 1.0963774799532613\n",
      "alpha = 5.700000000000005, lambda = 1.0959790027142977\n",
      "alpha = 5.750000000000004, lambda = 1.0955837845700012\n",
      "alpha = 5.800000000000004, lambda = 1.095191787705202\n"
     ]
    },
    {
     "name": "stdout",
     "output_type": "stream",
     "text": [
      "alpha = 5.850000000000005, lambda = 1.0948029748026677\n",
      "alpha = 5.900000000000005, lambda = 1.094417309023107\n",
      "alpha = 5.950000000000005, lambda = 1.0940347541882542\n",
      "alpha = 6.000000000000005, lambda = 1.0936552744892825\n"
     ]
    },
    {
     "name": "stdout",
     "output_type": "stream",
     "text": [
      "alpha = 6.050000000000005, lambda = 1.0932788346552718\n",
      "alpha = 6.100000000000005, lambda = 1.0929054000034435\n",
      "alpha = 6.150000000000005, lambda = 1.09253493614707\n",
      "alpha = 6.200000000000005, lambda = 1.092167409390967\n"
     ]
    },
    {
     "name": "stdout",
     "output_type": "stream",
     "text": [
      "alpha = 6.250000000000005, lambda = 1.0918027863942332\n",
      "alpha = 6.300000000000005, lambda = 1.0914410343480094\n",
      "alpha = 6.350000000000005, lambda = 1.0910821207405146\n",
      "alpha = 6.400000000000006, lambda = 1.090726013715878\n"
     ]
    },
    {
     "name": "stdout",
     "output_type": "stream",
     "text": [
      "alpha = 6.4500000000000055, lambda = 1.090372681797778\n",
      "alpha = 6.500000000000005, lambda = 1.0900220938176153\n",
      "alpha = 6.550000000000005, lambda = 1.0896742193189537\n",
      "alpha = 6.600000000000005, lambda = 1.0893290278804142\n"
     ]
    },
    {
     "name": "stdout",
     "output_type": "stream",
     "text": [
      "alpha = 6.650000000000006, lambda = 1.088986489896676\n",
      "alpha = 6.7000000000000055, lambda = 1.08864657589772\n"
     ]
    },
    {
     "name": "stdout",
     "output_type": "stream",
     "text": [
      "alpha = 6.750000000000005, lambda = 1.0883092569373105\n",
      "alpha = 6.800000000000006, lambda = 1.0879745043321762\n",
      "alpha = 6.850000000000006, lambda = 1.0876422901236644\n"
     ]
    },
    {
     "name": "stdout",
     "output_type": "stream",
     "text": [
      "alpha = 6.900000000000006, lambda = 1.0873125862193933\n",
      "alpha = 6.9500000000000055, lambda = 1.0869853653814845\n",
      "alpha = 7.000000000000005, lambda = 1.0866606004721182\n"
     ]
    },
    {
     "name": "stdout",
     "output_type": "stream",
     "text": [
      "alpha = 7.050000000000006, lambda = 1.0863382648129687\n",
      "alpha = 7.100000000000006, lambda = 1.0860183322040242\n",
      "alpha = 7.150000000000006, lambda = 1.0857007764926985\n",
      "alpha = 7.200000000000006, lambda = 1.0853855721328294\n"
     ]
    },
    {
     "name": "stdout",
     "output_type": "stream",
     "text": [
      "alpha = 7.250000000000006, lambda = 1.0850726939862874\n",
      "alpha = 7.300000000000006, lambda = 1.0847621168471542\n",
      "alpha = 7.350000000000006, lambda = 1.0844538162899306\n",
      "alpha = 7.400000000000006, lambda = 1.0839907589496267\n"
     ]
    },
    {
     "name": "stdout",
     "output_type": "stream",
     "text": [
      "alpha = 7.450000000000006, lambda = 1.0838524770650988\n",
      "alpha = 7.500000000000006, lambda = 1.083551360637067\n",
      "alpha = 7.550000000000006, lambda = 1.0832524367642948\n",
      "alpha = 7.600000000000007, lambda = 1.082955846382343\n"
     ]
    },
    {
     "name": "stdout",
     "output_type": "stream",
     "text": [
      "alpha = 7.650000000000007, lambda = 1.0826612403895601\n",
      "alpha = 7.700000000000006, lambda = 1.0823687590844553\n",
      "alpha = 7.750000000000006, lambda = 1.0820783804253125\n",
      "alpha = 7.800000000000006, lambda = 1.081790082417632\n"
     ]
    },
    {
     "name": "stdout",
     "output_type": "stream",
     "text": [
      "alpha = 7.850000000000007, lambda = 1.0815038438621625\n",
      "alpha = 7.900000000000007, lambda = 1.081219643412189\n",
      "alpha = 7.950000000000006, lambda = 1.0809374601248776\n",
      "alpha = 8.000000000000007, lambda = 1.0806572733408397\n"
     ]
    },
    {
     "name": "stdout",
     "output_type": "stream",
     "text": [
      "alpha = 8.050000000000008, lambda = 1.0803790756471867\n",
      "alpha = 8.100000000000007, lambda = 1.0801028285666145\n",
      "alpha = 8.150000000000006, lambda = 1.0798285238798717\n",
      "alpha = 8.200000000000006, lambda = 1.079556135126373\n"
     ]
    },
    {
     "name": "stdout",
     "output_type": "stream",
     "text": [
      "alpha = 8.250000000000007, lambda = 1.0792822938667\n",
      "alpha = 8.300000000000008, lambda = 1.0790136794370515\n",
      "alpha = 8.350000000000007, lambda = 1.0787469239164018\n"
     ]
    },
    {
     "name": "stdout",
     "output_type": "stream",
     "text": [
      "alpha = 8.400000000000007, lambda = 1.0784820083738678\n",
      "alpha = 8.450000000000006, lambda = 1.0782189148000259\n",
      "alpha = 8.500000000000007, lambda = 1.0779576246808773\n"
     ]
    },
    {
     "name": "stdout",
     "output_type": "stream",
     "text": [
      "alpha = 8.550000000000008, lambda = 1.0776981203105103\n",
      "alpha = 8.600000000000007, lambda = 1.0774403841541984\n",
      "alpha = 8.650000000000007, lambda = 1.0771843982985796\n"
     ]
    }
   ],
   "source": [
    "erm_overlaps = []\n",
    "residual_overlaps = []\n",
    "\n",
    "for (alpha, lambda) in zip(alpha_range, lambda_range)\n",
    "    println(\"alpha = $alpha, lambda = $lambda\")\n",
    "    result_erm = LogisticBootstrapStateEvolution.SingleLogisticStateEvolution.state_evolution(alpha, lambda; max_iteration=1000, reltol=1e-4)\n",
    "    push!(erm_overlaps, result_erm)\n",
    "    result_residual = LogisticBootstrapStateEvolution.state_evolution_y_resampling(alpha, lambda; rho = result_erm[\"q\"], reltol=1e-4, max_iteration=250)\n",
    "    push!(residual_overlaps, result_residual)\n",
    "end"
   ]
  },
  {
   "cell_type": "code",
   "execution_count": 19,
   "metadata": {},
   "outputs": [
    {
     "data": {
      "text/plain": [
       "33478"
      ]
     },
     "metadata": {},
     "output_type": "display_data"
    }
   ],
   "source": [
    "to_save = Dict([\n",
    "    \"alpha\" => alpha_range,\n",
    "    \"lambda\" => lambda_range,\n",
    "    \"m\" => [o[\"m\"] for o in erm_overlaps],\n",
    "    \"q\" => [o[\"q\"] for o in erm_overlaps],\n",
    "    \"v\" => [o[\"v\"] for o in erm_overlaps],\n",
    "    \"q_diag_residual\" => [o[\"q\"][1, 1] for o in residual_overlaps],\n",
    "    \"q_off_diag_residual\" => [o[\"q\"][1, 2] for o in residual_overlaps],\n",
    "    \"m_residual\" => [o[\"m\"] for o in residual_overlaps],\n",
    "])\n",
    "\n",
    "filename::String = \"../data/logistic/residual_bootstrap_overlaps_$lambda_type.json\"\n",
    "\n",
    "open(filename, \"w\") do f\n",
    "    write(f, JSON.json(to_save))\n",
    "end"
   ]
  }
 ],
 "metadata": {
  "kernelspec": {
   "display_name": "Julia 1.10.0",
   "language": "julia",
   "name": "julia-1.10"
  },
  "language_info": {
   "file_extension": ".jl",
   "mimetype": "application/julia",
   "name": "julia",
   "version": "1.10.0"
  }
 },
 "nbformat": 4,
 "nbformat_minor": 2
}
